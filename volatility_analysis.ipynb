{
 "cells": [
  {
   "cell_type": "markdown",
   "metadata": {},
   "source": [
    "### Import data"
   ]
  },
  {
   "cell_type": "code",
   "execution_count": 1,
   "metadata": {},
   "outputs": [],
   "source": [
    "import pandas as pd\n",
    "import numpy as np\n",
    "df = pd.read_csv('../Datasets/academic_performance.csv', header=0)"
   ]
  },
  {
   "cell_type": "code",
   "execution_count": 2,
   "metadata": {},
   "outputs": [
    {
     "data": {
      "text/plain": [
       "M    305\n",
       "F    175\n",
       "Name: gender, dtype: int64"
      ]
     },
     "execution_count": 2,
     "metadata": {},
     "output_type": "execute_result"
    }
   ],
   "source": [
    "df['gender'].value_counts()"
   ]
  },
  {
   "cell_type": "markdown",
   "metadata": {},
   "source": [
    "### Correct typos"
   ]
  },
  {
   "cell_type": "code",
   "execution_count": 3,
   "metadata": {},
   "outputs": [],
   "source": [
    "newcols = df.columns.values\n",
    "newcols[0] = \"Gender\"\n",
    "newcols[1] = \"Nationality\"\n",
    "newcols[2] = \"PlaceOfBirth\"\n",
    "newcols[9] = \"RaisedHands\"\n",
    "newcols[10] = \"VisitedResources\"\n",
    "newcols[14] = \"ParentSchoolSatisfaction\"\n",
    "df.columns = newcols\n",
    "\n",
    "# Discard PlaceOfBirth, as it is redundant with Nationality\n",
    "df = df.drop([\"PlaceOfBirth\"], axis = 1)"
   ]
  },
  {
   "cell_type": "code",
   "execution_count": 4,
   "metadata": {},
   "outputs": [],
   "source": [
    "df[\"Nationality\"] = df['Nationality'].str.replace(\"KW\", \"Kuwait\")\n",
    "df[\"Nationality\"] = df['Nationality'].str.replace(\"lebanon\", \"Lebanon\")\n",
    "df[\"Nationality\"] = df['Nationality'].str.replace(\"venzuela\", \"Venezuela\")\n",
    "df[\"Nationality\"] = df['Nationality'].str.replace(\"Tunis\", \"Tunisia\")\n",
    "df[\"Nationality\"] = df['Nationality'].str.replace(\"Lybia\", \"Libya\")\n",
    "df[\"Nationality\"] = df['Nationality'].str.replace(\"lebanon\", \"Lebanon\")"
   ]
  },
  {
   "cell_type": "code",
   "execution_count": 5,
   "metadata": {},
   "outputs": [],
   "source": [
    "df[\"StageID\"] = df[\"StageID\"].str.replace(\"lowerlevel\", \"LowerLevel\")\n",
    "df.Gender = np.where(df.Gender == \"M\", \"Male\", \"Female\")\n",
    "df.Semester = np.where(df.Semester == \"F\", \"First\", \"Second\")\n",
    "df.SectionID = \"section_\" + df.SectionID\n",
    "df[\"Relation\"] = df[\"Relation\"].str.replace(\"Mum\", \"Mother\")"
   ]
  },
  {
   "cell_type": "code",
   "execution_count": 6,
   "metadata": {},
   "outputs": [],
   "source": [
    "# Copy with names for EDA\n",
    "df.to_csv('../Datasets/originalClean.csv', index=False)"
   ]
  },
  {
   "cell_type": "markdown",
   "metadata": {},
   "source": [
    "### Change Gender, StageID, GradeID, Semester, Relation, ParentAnswering, ParentSchool, Class, StudentAbsence to numerical values"
   ]
  },
  {
   "cell_type": "markdown",
   "metadata": {},
   "source": [
    "Codes:\n",
    "\n",
    "- Gender: 0 Female, 1 Male\n",
    "- StageID: 0 Lower, 1 Middle, 2 High\n",
    "- GradeID: 0 - 11\n",
    "- Semester: 0 First, 1 Second\n",
    "- Relation: 0 Mother, 1 Father\n",
    "- ParentAnswering: 0 No, 1 Yes\n",
    "- ParentSchool: 0 Bad, 1 Good\n",
    "- Class: 0 L, 1 M, 2 H\n",
    "- StudentAbsence: 0 Under-7, 1 Above-7"
   ]
  },
  {
   "cell_type": "code",
   "execution_count": 7,
   "metadata": {},
   "outputs": [],
   "source": [
    "df.Gender = np.where(df.Gender == \"Male\", 1, 0)\n",
    "df.StageID = np.where(df.StageID == \"LowerLevel\", 0,\n",
    "                      np.where(df.StageID == \"MiddleSchool\", 1, 2))\n",
    "df.GradeID = df.GradeID.str[2:].astype(np.int64) - 1\n",
    "df.Semester = np.where(df.Semester == \"First\", 0, 1)\n",
    "df.Relation = np.where(df.Relation == \"Father\", 1, 0)\n",
    "df.ParentAnsweringSurvey = np.where(df.ParentAnsweringSurvey == \"No\", 0, 1)\n",
    "df.ParentSchoolSatisfaction = np.where(df.ParentSchoolSatisfaction == \"Bad\", 0, 1)\n",
    "df.Class = np.where(df.Class == \"L\", 0,\n",
    "                    np.where(df.Class == \"M\", 1, 2))\n",
    "df.StudentAbsenceDays = np.where(df.StudentAbsenceDays == \"Under-7\", 0, 1)"
   ]
  },
  {
   "cell_type": "markdown",
   "metadata": {},
   "source": [
    "### Turn Nationality, SectionID, Topic into dummy variables"
   ]
  },
  {
   "cell_type": "code",
   "execution_count": 8,
   "metadata": {},
   "outputs": [],
   "source": [
    "col = [\"Nationality\", \"SectionID\", \"Topic\"]\n",
    "\n",
    "for c in col:\n",
    "    dummies = []\n",
    "    dummies.append(pd.get_dummies(df[c]))\n",
    "    df_dummies = pd.concat(dummies, axis = 1)\n",
    "    df = pd.concat((df, df_dummies), axis = 1)\n",
    "    df = df.drop([c], axis = 1)"
   ]
  },
  {
   "cell_type": "code",
   "execution_count": 9,
   "metadata": {},
   "outputs": [],
   "source": [
    "df.to_csv('../Datasets/academic_onehot.csv', index=False)"
   ]
  },
  {
   "cell_type": "code",
   "execution_count": 10,
   "metadata": {},
   "outputs": [],
   "source": [
    "corr_matrix = df.corr()"
   ]
  },
  {
   "cell_type": "code",
   "execution_count": 11,
   "metadata": {},
   "outputs": [
    {
     "data": {
      "text/plain": [
       "Gender                      1.000000\n",
       "StudentAbsenceDays          0.209011\n",
       "Relation                    0.195142\n",
       "Spanish                     0.158075\n",
       "Kuwait                      0.100790\n",
       "Tunisia                     0.093569\n",
       "Arabic                      0.072642\n",
       "Math                        0.056212\n",
       "section_C                   0.052527\n",
       "Semester                    0.049156\n",
       "Iran                        0.046264\n",
       "Iraq                        0.041827\n",
       "Egypt                       0.040886\n",
       "Palestine                   0.040784\n",
       "Venezuela                   0.034610\n",
       "IT                          0.028631\n",
       "Morocco                     0.021823\n",
       "Syria                       0.019934\n",
       "GradeID                     0.018304\n",
       "StageID                     0.017793\n",
       "section_B                   0.017134\n",
       "Biology                     0.016764\n",
       "Libya                       0.007305\n",
       "SaudiArabia                 0.000301\n",
       "Quran                      -0.020267\n",
       "ParentAnsweringSurvey      -0.022359\n",
       "History                    -0.023818\n",
       "Geology                    -0.024825\n",
       "English                    -0.038517\n",
       "section_A                  -0.042438\n",
       "AnnouncementsView          -0.052139\n",
       "Science                    -0.061891\n",
       "Chemistry                  -0.064546\n",
       "USA                        -0.070613\n",
       "French                     -0.079722\n",
       "ParentSchoolSatisfaction   -0.093478\n",
       "Lebanon                    -0.112457\n",
       "Discussion                 -0.124703\n",
       "Jordan                     -0.147061\n",
       "RaisedHands                -0.149978\n",
       "VisitedResources           -0.210932\n",
       "Class                      -0.263490\n",
       "Name: Gender, dtype: float64"
      ]
     },
     "execution_count": 11,
     "metadata": {},
     "output_type": "execute_result"
    }
   ],
   "source": [
    "corr_matrix[\"Gender\"].sort_values(ascending=False)"
   ]
  },
  {
   "cell_type": "code",
   "execution_count": 12,
   "metadata": {},
   "outputs": [
    {
     "data": {
      "text/plain": [
       "Class                       1.000000\n",
       "VisitedResources            0.677094\n",
       "RaisedHands                 0.646298\n",
       "AnnouncementsView           0.527370\n",
       "ParentAnsweringSurvey       0.435495\n",
       "ParentSchoolSatisfaction    0.375901\n",
       "Discussion                  0.308183\n",
       "Iraq                        0.177312\n",
       "Palestine                   0.132213\n",
       "Biology                     0.127294\n",
       "Semester                    0.126239\n",
       "Lebanon                     0.097483\n",
       "SaudiArabia                 0.086672\n",
       "StageID                     0.083997\n",
       "GradeID                     0.071654\n",
       "Geology                     0.067096\n",
       "Jordan                      0.061718\n",
       "Venezuela                   0.059179\n",
       "English                     0.053453\n",
       "USA                         0.045440\n",
       "Science                     0.039827\n",
       "section_A                   0.023534\n",
       "Quran                       0.017481\n",
       "French                      0.016026\n",
       "Chemistry                   0.015975\n",
       "History                     0.005803\n",
       "Arabic                      0.001325\n",
       "section_B                  -0.001279\n",
       "Morocco                    -0.003830\n",
       "Syria                      -0.005083\n",
       "Math                       -0.022554\n",
       "Tunisia                    -0.024531\n",
       "Egypt                      -0.026310\n",
       "section_C                  -0.045308\n",
       "Spanish                    -0.047400\n",
       "Iran                       -0.054841\n",
       "Libya                      -0.155122\n",
       "IT                         -0.181544\n",
       "Kuwait                     -0.216535\n",
       "Gender                     -0.263490\n",
       "Relation                   -0.401142\n",
       "StudentAbsenceDays         -0.671312\n",
       "Name: Class, dtype: float64"
      ]
     },
     "execution_count": 12,
     "metadata": {},
     "output_type": "execute_result"
    }
   ],
   "source": [
    "corr_matrix[\"Class\"].sort_values(ascending=False)"
   ]
  },
  {
   "cell_type": "markdown",
   "metadata": {},
   "source": [
    "Females are more likely to have absent days and study Spanish, and less likely to be in a high Class, Visit Resources, Raise hands, Discuss."
   ]
  },
  {
   "cell_type": "markdown",
   "metadata": {},
   "source": [
    "## Prepare for ML / Hyper-param tuning"
   ]
  },
  {
   "cell_type": "code",
   "execution_count": 13,
   "metadata": {},
   "outputs": [],
   "source": [
    "import pandas as pd\n",
    "import numpy as np\n",
    "\n",
    "# Get balancing feature to end column\n",
    "df = pd.read_csv('../Datasets/academic_onehot.csv', header=0)\n",
    "\n",
    "# Uncomment the feature to rebalance\n",
    "#rebal_feat = 'label'\n",
    "rebal_feat = 'Gender'\n",
    "\n",
    "# Uncomment the predicting feature\n",
    "pred_feat = 'Class'\n",
    "\n",
    "# Put rebalancing feat last for easier manipulation\n",
    "df = df[[c for c in df if c not in [rebal_feat]] + [rebal_feat]]"
   ]
  },
  {
   "cell_type": "code",
   "execution_count": 14,
   "metadata": {},
   "outputs": [],
   "source": [
    "from sklearn.model_selection import train_test_split\n",
    "from imblearn.over_sampling import SMOTE\n",
    "\n",
    "# Split data in train / tet\n",
    "train, test = train_test_split(df, test_size=0.10, random_state=42)\n",
    "\n",
    "# Generate balanced set by undersampling males to match the number of females\n",
    "num_minority = train[rebal_feat].value_counts()[0]\n",
    "train_majority_sample = train[train[rebal_feat] == 1].sample(num_minority)\n",
    "train_under = train[train[rebal_feat] == 0]\n",
    "train_under = pd.concat([train_under, train_majority_sample])\n",
    "    \n",
    "# Unbalanced train set\n",
    "X = train.drop([pred_feat], axis=1).values\n",
    "y = train[pred_feat].values\n",
    "\n",
    "# Balanced train set using SMOTE\n",
    "X_pre = train.drop([rebal_feat], axis=1).values\n",
    "y_pre = train[rebal_feat].values\n",
    "X_sm, y_sm = SMOTE().fit_sample(X_pre, y_pre)\n",
    "y_sm = y_sm.reshape((y_sm.shape[0], 1))\n",
    "X_sm = np.append(X_sm, y_sm, axis=1)\n",
    "smDF = pd.DataFrame(X_sm, columns=df.columns.tolist())\n",
    "X_smote = smDF.drop([pred_feat], axis=1).values\n",
    "y_smote = smDF[pred_feat].values.astype(int)\n",
    "    \n",
    "# Balanced train set using undersampling\n",
    "X_under = train_under.drop([pred_feat], axis=1).values\n",
    "y_under = train_under[pred_feat].values\n",
    "\n",
    "# Test sets\n",
    "X_test = test.drop([pred_feat], axis=1).values\n",
    "y_test = test[pred_feat].values"
   ]
  },
  {
   "cell_type": "code",
   "execution_count": 15,
   "metadata": {},
   "outputs": [
    {
     "name": "stdout",
     "output_type": "stream",
     "text": [
      "Model Performance\n",
      "Accuracy = 0.71%.\n"
     ]
    },
    {
     "data": {
      "text/plain": [
       "0.7083333333333334"
      ]
     },
     "execution_count": 15,
     "metadata": {},
     "output_type": "execute_result"
    }
   ],
   "source": [
    "from sklearn.ensemble import RandomForestClassifier\n",
    "from sklearn.metrics import accuracy_score\n",
    "\n",
    "rf = RandomForestClassifier(random_state=42)\n",
    "\n",
    "def evaluate(model, test_features, test_labels):\n",
    "    predictions = model.predict(test_features)\n",
    "    accuracy = accuracy_score(test_labels, predictions)\n",
    "    \n",
    "    print('Model Performance')\n",
    "    print('Accuracy = {:0.2f}%.'.format(accuracy))\n",
    "    \n",
    "    return accuracy\n",
    "\n",
    "bbase_model = RandomForestClassifier(n_estimators = 10, random_state = 42)\n",
    "bbase_model.fit(X, y)\n",
    "evaluate(bbase_model, X_test, y_test)"
   ]
  },
  {
   "cell_type": "code",
   "execution_count": 16,
   "metadata": {},
   "outputs": [
    {
     "name": "stdout",
     "output_type": "stream",
     "text": [
      "Model Performance\n",
      "Accuracy = 0.69%.\n"
     ]
    },
    {
     "data": {
      "text/plain": [
       "0.6875"
      ]
     },
     "execution_count": 16,
     "metadata": {},
     "output_type": "execute_result"
    }
   ],
   "source": [
    "sbase_model = RandomForestClassifier(n_estimators = 10, random_state = 42)\n",
    "sbase_model.fit(X_smote, y_smote)\n",
    "evaluate(sbase_model, X_test, y_test)"
   ]
  },
  {
   "cell_type": "code",
   "execution_count": 17,
   "metadata": {},
   "outputs": [
    {
     "name": "stdout",
     "output_type": "stream",
     "text": [
      "Model Performance\n",
      "Accuracy = 0.71%.\n"
     ]
    },
    {
     "data": {
      "text/plain": [
       "0.7083333333333334"
      ]
     },
     "execution_count": 17,
     "metadata": {},
     "output_type": "execute_result"
    }
   ],
   "source": [
    "ubase_model = RandomForestClassifier(n_estimators = 10, random_state = 42)\n",
    "ubase_model.fit(X_under, y_under)\n",
    "evaluate(ubase_model, X_test, y_test)"
   ]
  },
  {
   "cell_type": "code",
   "execution_count": 19,
   "metadata": {},
   "outputs": [],
   "source": [
    "from sklearn.model_selection import GridSearchCV\n",
    "\n",
    "# Create the parameter grid based on the results of random search \n",
    "param_grid = {\n",
    "    'n_estimators': range(20, 520, 20)\n",
    "}\n",
    "\n",
    "# Instantiate the grid search model\n",
    "bgrid_search = sgrid_search = ugrid_search = GridSearchCV(estimator = rf, param_grid=param_grid,\n",
    "                                                          cv=3, n_jobs=-1, verbose=1)"
   ]
  },
  {
   "cell_type": "code",
   "execution_count": 20,
   "metadata": {},
   "outputs": [
    {
     "name": "stdout",
     "output_type": "stream",
     "text": [
      "Fitting 3 folds for each of 25 candidates, totalling 75 fits\n"
     ]
    },
    {
     "name": "stderr",
     "output_type": "stream",
     "text": [
      "[Parallel(n_jobs=-1)]: Done  75 out of  75 | elapsed:    9.0s finished\n"
     ]
    },
    {
     "data": {
      "text/plain": [
       "{'n_estimators': 340}"
      ]
     },
     "execution_count": 20,
     "metadata": {},
     "output_type": "execute_result"
    }
   ],
   "source": [
    "bgrid_search.fit(X, y)\n",
    "bgrid_search.best_params_"
   ]
  },
  {
   "cell_type": "code",
   "execution_count": 21,
   "metadata": {},
   "outputs": [
    {
     "name": "stdout",
     "output_type": "stream",
     "text": [
      "Model Performance\n",
      "Accuracy = 0.77%.\n"
     ]
    }
   ],
   "source": [
    "bgrid_accuracy = evaluate(bgrid_search, X_test, y_test)"
   ]
  },
  {
   "cell_type": "code",
   "execution_count": 22,
   "metadata": {},
   "outputs": [
    {
     "name": "stdout",
     "output_type": "stream",
     "text": [
      "Fitting 3 folds for each of 25 candidates, totalling 75 fits\n"
     ]
    },
    {
     "name": "stderr",
     "output_type": "stream",
     "text": [
      "[Parallel(n_jobs=-1)]: Done  75 out of  75 | elapsed:    9.8s finished\n"
     ]
    },
    {
     "data": {
      "text/plain": [
       "{'n_estimators': 280}"
      ]
     },
     "execution_count": 22,
     "metadata": {},
     "output_type": "execute_result"
    }
   ],
   "source": [
    "sgrid_search.fit(X_smote, y_smote)\n",
    "sgrid_search.best_params_"
   ]
  },
  {
   "cell_type": "code",
   "execution_count": 23,
   "metadata": {},
   "outputs": [
    {
     "name": "stdout",
     "output_type": "stream",
     "text": [
      "Model Performance\n",
      "Accuracy = 0.79%.\n"
     ]
    }
   ],
   "source": [
    "sgrid_accuracy = evaluate(sgrid_search, X_test, y_test)"
   ]
  },
  {
   "cell_type": "code",
   "execution_count": 24,
   "metadata": {},
   "outputs": [
    {
     "name": "stdout",
     "output_type": "stream",
     "text": [
      "Fitting 3 folds for each of 25 candidates, totalling 75 fits\n"
     ]
    },
    {
     "name": "stderr",
     "output_type": "stream",
     "text": [
      "[Parallel(n_jobs=-1)]: Done  75 out of  75 | elapsed:    9.3s finished\n"
     ]
    },
    {
     "data": {
      "text/plain": [
       "{'n_estimators': 240}"
      ]
     },
     "execution_count": 24,
     "metadata": {},
     "output_type": "execute_result"
    }
   ],
   "source": [
    "ugrid_search.fit(X_under, y_under)\n",
    "ugrid_search.best_params_"
   ]
  },
  {
   "cell_type": "code",
   "execution_count": 25,
   "metadata": {},
   "outputs": [
    {
     "name": "stdout",
     "output_type": "stream",
     "text": [
      "Model Performance\n",
      "Accuracy = 0.77%.\n"
     ]
    }
   ],
   "source": [
    "ugrid_accuracy = evaluate(ugrid_search, X_test, y_test)"
   ]
  },
  {
   "cell_type": "markdown",
   "metadata": {},
   "source": [
    "### Our num_estimators will be 340 for base, 280 for smote and 240 for under"
   ]
  },
  {
   "cell_type": "code",
   "execution_count": 26,
   "metadata": {},
   "outputs": [],
   "source": [
    "est_nums = {'Gender': {'base': 340, 'smote': 280, 'under': 240}}\n",
    "\n",
    "n_rows = df.shape[0]"
   ]
  },
  {
   "cell_type": "code",
   "execution_count": 27,
   "metadata": {},
   "outputs": [],
   "source": [
    "# Split data in 480 train-test sets (leave one out)\n",
    "\n",
    "Xs = []\n",
    "ys = []\n",
    "Xs_smote = []\n",
    "ys_smote = []\n",
    "Xs_under = []\n",
    "ys_under = []\n",
    "rXs = []\n",
    "rys = []\n",
    "\n",
    "for i in range(n_rows):\n",
    "    train_df = df.drop(df.index[i])\n",
    "    test_df = df.iloc[[i]]\n",
    "\n",
    "    # Generate balanced set by undersampling males to match the number of females\n",
    "    num_minority = train_df[rebal_feat].value_counts()[0]\n",
    "    train_majority_sample = train_df[train_df[rebal_feat] == 1].sample(num_minority)\n",
    "    train_bal_df = train_df[train_df[rebal_feat] == 0]\n",
    "    train_bal_df = pd.concat([train_bal_df, train_majority_sample])\n",
    "\n",
    "    # Unbalanced train set\n",
    "    X = train_df.drop([pred_feat], axis=1).values\n",
    "    y = train_df[pred_feat].values\n",
    "    \n",
    "    # Balanced train set using SMOTE\n",
    "    X_pre = train_df.drop([rebal_feat], axis=1).values\n",
    "    y_pre = train_df[rebal_feat].values\n",
    "    X_sm, y_sm = SMOTE().fit_sample(X_pre, y_pre)\n",
    "    y_sm = y_sm.reshape((y_sm.shape[0], 1))\n",
    "    X_sm = np.append(X_sm, y_sm, axis=1)\n",
    "    smDF = pd.DataFrame(X_sm, columns=df.columns.tolist())\n",
    "    X_smote = smDF.drop([pred_feat], axis=1).values\n",
    "    y_smote = smDF[pred_feat].values.astype(int)\n",
    "\n",
    "    # Balanced train set using undersampling\n",
    "    X_under = train_bal_df.drop([pred_feat], axis=1).values\n",
    "    y_under = train_bal_df[pred_feat].values\n",
    "\n",
    "    # Reserved test set\n",
    "    rX = test_df.drop([pred_feat], axis=1).values\n",
    "    ry = test_df[pred_feat].values\n",
    "\n",
    "    # Build arrays with all different\n",
    "    Xs.append(X)\n",
    "    ys.append(y)\n",
    "    Xs_smote.append(X_smote)\n",
    "    ys_smote.append(y_smote)\n",
    "    Xs_under.append(X_under)\n",
    "    ys_under.append(y_under)\n",
    "    rXs.append(rX)\n",
    "    rys.append(ry)"
   ]
  },
  {
   "cell_type": "markdown",
   "metadata": {},
   "source": [
    "## Get predictions"
   ]
  },
  {
   "cell_type": "code",
   "execution_count": 28,
   "metadata": {},
   "outputs": [],
   "source": [
    "from sklearn.ensemble import RandomForestClassifier as rf\n",
    "\n",
    "rf_preds = pd.DataFrame(np.zeros((n_rows, 7)))\n",
    "rf_preds.columns = ['base', 'smote', 'under', 'real', 'base_p', 'smote_p', 'under_p']\n",
    "\n",
    "for i in range(n_rows):\n",
    "    X = Xs[i]\n",
    "    y = ys[i]\n",
    "    X_smote = Xs_smote[i]\n",
    "    y_smote = ys_smote[i]\n",
    "    X_under = Xs_under[i]\n",
    "    y_under = ys_under[i]\n",
    "    rX = rXs[i]\n",
    "    \n",
    "    rf_base = rf(n_estimators=est_nums[rebal_feat]['base'])\n",
    "    rf_base.fit(X, y)\n",
    "    rf_smote = rf(n_estimators=est_nums[rebal_feat]['smote'])\n",
    "    rf_smote.fit(X_smote, y_smote)\n",
    "    rf_under = rf(n_estimators=est_nums[rebal_feat]['under'])\n",
    "    rf_under.fit(X_under, y_under)\n",
    "    \n",
    "    rf_preds.base.iloc[i] = rf_base.predict(rX)\n",
    "    rf_preds.smote.iloc[i] = rf_smote.predict(rX)\n",
    "    rf_preds.under.iloc[i] = rf_under.predict(rX)\n",
    "    rf_preds.real.iloc[i] = df[pred_feat].iloc[i]\n",
    "    rf_preds.base_p.iloc[i] = np.max(rf_base.predict_proba(rX))\n",
    "    rf_preds.smote_p.iloc[i] = np.max(rf_smote.predict_proba(rX))\n",
    "    rf_preds.under_p.iloc[i] = np.max(rf_under.predict_proba(rX))"
   ]
  },
  {
   "cell_type": "code",
   "execution_count": 29,
   "metadata": {},
   "outputs": [
    {
     "name": "stderr",
     "output_type": "stream",
     "text": [
      "/home/vladox/anaconda3/lib/python3.6/site-packages/pandas/core/indexing.py:189: SettingWithCopyWarning: \n",
      "A value is trying to be set on a copy of a slice from a DataFrame\n",
      "\n",
      "See the caveats in the documentation: http://pandas.pydata.org/pandas-docs/stable/indexing.html#indexing-view-versus-copy\n",
      "  self._setitem_with_indexer(indexer, value)\n"
     ]
    }
   ],
   "source": [
    "prefix = 'cat_'\n",
    "strat = ['smote', 'under']\n",
    "\n",
    "# Both columns initialised as 0, same predictions, both right\n",
    "for s in strat:\n",
    "    rf_preds[prefix + s] = 0\n",
    "\n",
    "for i in range(n_rows):\n",
    "    for s in strat:\n",
    "\n",
    "        # If base and strat are different\n",
    "        if rf_preds.base.iloc[i] != rf_preds[s].iloc[i]:\n",
    "        \n",
    "            # If one of them is right\n",
    "            if (rf_preds.base.iloc[i] == rf_preds.real.iloc[i] or\n",
    "                rf_preds[s].iloc[i] == rf_preds.real.iloc[i]):\n",
    "                rf_preds[prefix + s].iloc[i] = 1\n",
    "        \n",
    "            # Both wrong\n",
    "            else:\n",
    "                rf_preds[prefix + s].iloc[i] = 3\n",
    "    \n",
    "        # Same predictions, both wrong\n",
    "        elif rf_preds.base.iloc[i] != rf_preds.real.iloc[i]:\n",
    "            rf_preds[prefix + s].iloc[i] = 2"
   ]
  },
  {
   "cell_type": "code",
   "execution_count": 30,
   "metadata": {},
   "outputs": [],
   "source": [
    "rf_preds['abs_smote'] = abs(rf_preds['base'] - rf_preds['smote'])\n",
    "rf_preds['abs_under'] = abs(rf_preds['base'] - rf_preds['under'])"
   ]
  },
  {
   "cell_type": "code",
   "execution_count": 33,
   "metadata": {},
   "outputs": [
    {
     "data": {
      "text/plain": [
       "0    364\n",
       "2     71\n",
       "1     44\n",
       "3      1\n",
       "Name: cat_under, dtype: int64"
      ]
     },
     "execution_count": 33,
     "metadata": {},
     "output_type": "execute_result"
    }
   ],
   "source": [
    "rf_preds.cat_under.value_counts()"
   ]
  },
  {
   "cell_type": "code",
   "execution_count": 34,
   "metadata": {},
   "outputs": [],
   "source": [
    "rf_preds.to_csv('../Datasets/academic_rf_predictions_'\n",
    "                + rebal_feat + '.csv', index=False)"
   ]
  },
  {
   "cell_type": "markdown",
   "metadata": {},
   "source": [
    "# Volatility Analysis"
   ]
  },
  {
   "cell_type": "code",
   "execution_count": 35,
   "metadata": {},
   "outputs": [],
   "source": [
    "import pandas as pd\n",
    "import numpy as np\n",
    "\n",
    "# TODO: change originalClean to better name!\n",
    "df = pd.read_csv('../Datasets/originalClean.csv', header=0)\n",
    "dfplus = pd.read_csv('../Datasets/academic_onehot.csv', header=0)\n",
    "dfml = dfplus\n",
    "rf_preds = pd.read_csv('../Datasets/academic_rf_predictions_Gender.csv', header=0)"
   ]
  },
  {
   "cell_type": "code",
   "execution_count": 36,
   "metadata": {},
   "outputs": [],
   "source": [
    "cols = ['base', 'smote', 'under', 'cat_smote', 'cat_under', 'abs_smote', 'abs_under']\n",
    "\n",
    "for d in [df, dfplus]:\n",
    "    for c in cols:\n",
    "        d[c] = rf_preds[c]\n",
    "    \n",
    "df.to_csv('../Datasets/academic_interp_all_Gender.csv', index=False)\n",
    "dfplus.to_csv('../Datasets/academic_onehot_all_Gender.csv', index=False)"
   ]
  },
  {
   "cell_type": "markdown",
   "metadata": {},
   "source": [
    "## Volatility Counts"
   ]
  },
  {
   "cell_type": "code",
   "execution_count": 37,
   "metadata": {},
   "outputs": [
    {
     "data": {
      "text/plain": [
       "0    377\n",
       "2     78\n",
       "1     25\n",
       "Name: cat_smote, dtype: int64"
      ]
     },
     "execution_count": 37,
     "metadata": {},
     "output_type": "execute_result"
    }
   ],
   "source": [
    "df.cat_smote.value_counts()"
   ]
  },
  {
   "cell_type": "code",
   "execution_count": 38,
   "metadata": {},
   "outputs": [
    {
     "data": {
      "text/plain": [
       "0    364\n",
       "2     71\n",
       "1     44\n",
       "3      1\n",
       "Name: cat_under, dtype: int64"
      ]
     },
     "execution_count": 38,
     "metadata": {},
     "output_type": "execute_result"
    }
   ],
   "source": [
    "df.cat_under.value_counts()"
   ]
  },
  {
   "cell_type": "code",
   "execution_count": 39,
   "metadata": {},
   "outputs": [
    {
     "data": {
      "text/plain": [
       "0.0    455\n",
       "1.0     25\n",
       "Name: abs_smote, dtype: int64"
      ]
     },
     "execution_count": 39,
     "metadata": {},
     "output_type": "execute_result"
    }
   ],
   "source": [
    "df.abs_smote.value_counts()"
   ]
  },
  {
   "cell_type": "code",
   "execution_count": 40,
   "metadata": {},
   "outputs": [
    {
     "data": {
      "text/plain": [
       "0.0    435\n",
       "1.0     45\n",
       "Name: abs_under, dtype: int64"
      ]
     },
     "execution_count": 40,
     "metadata": {},
     "output_type": "execute_result"
    }
   ],
   "source": [
    "df.abs_under.value_counts()"
   ]
  },
  {
   "cell_type": "markdown",
   "metadata": {},
   "source": [
    "## Kappa Agreements"
   ]
  },
  {
   "cell_type": "code",
   "execution_count": 41,
   "metadata": {},
   "outputs": [
    {
     "name": "stdout",
     "output_type": "stream",
     "text": [
      "0.9271181293653201\n"
     ]
    }
   ],
   "source": [
    "agree = len(df[df.base == df.smote])\n",
    "total = len(df)\n",
    "p0 = agree / total\n",
    "\n",
    "p_0 = ((len(df[df.base == 0.0]) / total) \n",
    "       * (len(df[df.smote == 0.0]) / total))\n",
    "p_1 = ((len(df[df.base == 1.0]) / total) \n",
    "       * (len(df[df.smote == 1.0]) / total))\n",
    "    \n",
    "p_e = p_0 + p_1\n",
    "\n",
    "kappa_smote = (p0 - p_e) / (1 - p_e)\n",
    "\n",
    "print(kappa_smote)"
   ]
  },
  {
   "cell_type": "code",
   "execution_count": 42,
   "metadata": {},
   "outputs": [
    {
     "name": "stdout",
     "output_type": "stream",
     "text": [
      "0.8691606900562124\n"
     ]
    }
   ],
   "source": [
    "agree = len(df[df.base == df.under])\n",
    "total = len(df)\n",
    "p0 = agree / total\n",
    "\n",
    "p_0 = ((len(df[df.base == 0.0]) / total) \n",
    "       * (len(df[df.under == 0.0]) / total))\n",
    "p_1 = ((len(df[df.base == 1.0]) / total) \n",
    "       * (len(df[df.under == 1.0]) / total))\n",
    "    \n",
    "p_e = p_0 + p_1\n",
    "\n",
    "kappa_under = (p0 - p_e) / (1 - p_e)\n",
    "\n",
    "print(kappa_under)"
   ]
  },
  {
   "cell_type": "code",
   "execution_count": 43,
   "metadata": {},
   "outputs": [
    {
     "name": "stdout",
     "output_type": "stream",
     "text": [
      "0.8531139835487661\n"
     ]
    }
   ],
   "source": [
    "agree = len(df[df.smote == df.under])\n",
    "total = len(df)\n",
    "p0 = agree / total\n",
    "\n",
    "p_0 = ((len(df[df.smote == 0.0]) / total) \n",
    "       * (len(df[df.under == 0.0]) / total))\n",
    "p_1 = ((len(df[df.smote == 1.0]) / total) \n",
    "       * (len(df[df.under == 1.0]) / total))\n",
    "    \n",
    "p_e = p_0 + p_1\n",
    "\n",
    "kappa_smote_under = (p0 - p_e) / (1 - p_e)\n",
    "\n",
    "print(kappa_smote_under)"
   ]
  },
  {
   "cell_type": "markdown",
   "metadata": {},
   "source": [
    "## Accuracies"
   ]
  },
  {
   "cell_type": "code",
   "execution_count": 44,
   "metadata": {},
   "outputs": [
    {
     "data": {
      "text/plain": [
       "0.8104166666666667"
      ]
     },
     "execution_count": 44,
     "metadata": {},
     "output_type": "execute_result"
    }
   ],
   "source": [
    "from sklearn.metrics import accuracy_score\n",
    "\n",
    "accuracy_score(dfml[\"Class\"], df[\"base\"])"
   ]
  },
  {
   "cell_type": "code",
   "execution_count": 45,
   "metadata": {},
   "outputs": [
    {
     "data": {
      "text/plain": [
       "0.8125"
      ]
     },
     "execution_count": 45,
     "metadata": {},
     "output_type": "execute_result"
    }
   ],
   "source": [
    "accuracy_score(dfml[\"Class\"], df[\"smote\"])"
   ]
  },
  {
   "cell_type": "code",
   "execution_count": 46,
   "metadata": {},
   "outputs": [
    {
     "data": {
      "text/plain": [
       "0.7979166666666667"
      ]
     },
     "execution_count": 46,
     "metadata": {},
     "output_type": "execute_result"
    }
   ],
   "source": [
    "accuracy_score(dfml[\"Class\"], df[\"under\"])"
   ]
  },
  {
   "cell_type": "markdown",
   "metadata": {},
   "source": [
    "## Contingency tables for volatility vs class, gender"
   ]
  },
  {
   "cell_type": "code",
   "execution_count": 47,
   "metadata": {},
   "outputs": [
    {
     "data": {
      "text/html": [
       "<div>\n",
       "<style scoped>\n",
       "    .dataframe tbody tr th:only-of-type {\n",
       "        vertical-align: middle;\n",
       "    }\n",
       "\n",
       "    .dataframe tbody tr th {\n",
       "        vertical-align: top;\n",
       "    }\n",
       "\n",
       "    .dataframe thead th {\n",
       "        text-align: right;\n",
       "    }\n",
       "</style>\n",
       "<table border=\"1\" class=\"dataframe\">\n",
       "  <thead>\n",
       "    <tr style=\"text-align: right;\">\n",
       "      <th>cat_smote</th>\n",
       "      <th>0</th>\n",
       "      <th>1</th>\n",
       "      <th>2</th>\n",
       "    </tr>\n",
       "    <tr>\n",
       "      <th>Class</th>\n",
       "      <th></th>\n",
       "      <th></th>\n",
       "      <th></th>\n",
       "    </tr>\n",
       "  </thead>\n",
       "  <tbody>\n",
       "    <tr>\n",
       "      <th>0</th>\n",
       "      <td>0.87</td>\n",
       "      <td>0.02</td>\n",
       "      <td>0.12</td>\n",
       "    </tr>\n",
       "    <tr>\n",
       "      <th>1</th>\n",
       "      <td>0.78</td>\n",
       "      <td>0.07</td>\n",
       "      <td>0.15</td>\n",
       "    </tr>\n",
       "    <tr>\n",
       "      <th>2</th>\n",
       "      <td>0.72</td>\n",
       "      <td>0.06</td>\n",
       "      <td>0.22</td>\n",
       "    </tr>\n",
       "  </tbody>\n",
       "</table>\n",
       "</div>"
      ],
      "text/plain": [
       "cat_smote     0     1     2\n",
       "Class                      \n",
       "0          0.87  0.02  0.12\n",
       "1          0.78  0.07  0.15\n",
       "2          0.72  0.06  0.22"
      ]
     },
     "execution_count": 47,
     "metadata": {},
     "output_type": "execute_result"
    }
   ],
   "source": [
    "smote_class = pd.crosstab(dfml['Class'],\n",
    "                          df['cat_smote'],\n",
    "                          rownames=['Class'],\n",
    "                          colnames=['cat_smote'],\n",
    "                          normalize='index').round(2)\n",
    "smote_class"
   ]
  },
  {
   "cell_type": "code",
   "execution_count": 8,
   "metadata": {},
   "outputs": [
    {
     "data": {
      "text/html": [
       "<div>\n",
       "<style scoped>\n",
       "    .dataframe tbody tr th:only-of-type {\n",
       "        vertical-align: middle;\n",
       "    }\n",
       "\n",
       "    .dataframe tbody tr th {\n",
       "        vertical-align: top;\n",
       "    }\n",
       "\n",
       "    .dataframe thead th {\n",
       "        text-align: right;\n",
       "    }\n",
       "</style>\n",
       "<table border=\"1\" class=\"dataframe\">\n",
       "  <thead>\n",
       "    <tr style=\"text-align: right;\">\n",
       "      <th>cat_under</th>\n",
       "      <th>0</th>\n",
       "      <th>1</th>\n",
       "      <th>2</th>\n",
       "      <th>3</th>\n",
       "    </tr>\n",
       "    <tr>\n",
       "      <th>Class</th>\n",
       "      <th></th>\n",
       "      <th></th>\n",
       "      <th></th>\n",
       "      <th></th>\n",
       "    </tr>\n",
       "  </thead>\n",
       "  <tbody>\n",
       "    <tr>\n",
       "      <th>High</th>\n",
       "      <td>0.69</td>\n",
       "      <td>0.13</td>\n",
       "      <td>0.18</td>\n",
       "      <td>0.00</td>\n",
       "    </tr>\n",
       "    <tr>\n",
       "      <th>Low</th>\n",
       "      <td>0.83</td>\n",
       "      <td>0.06</td>\n",
       "      <td>0.10</td>\n",
       "      <td>0.01</td>\n",
       "    </tr>\n",
       "    <tr>\n",
       "      <th>Mid</th>\n",
       "      <td>0.76</td>\n",
       "      <td>0.09</td>\n",
       "      <td>0.15</td>\n",
       "      <td>0.00</td>\n",
       "    </tr>\n",
       "  </tbody>\n",
       "</table>\n",
       "</div>"
      ],
      "text/plain": [
       "cat_under     0     1     2     3\n",
       "Class                            \n",
       "High       0.69  0.13  0.18  0.00\n",
       "Low        0.83  0.06  0.10  0.01\n",
       "Mid        0.76  0.09  0.15  0.00"
      ]
     },
     "execution_count": 8,
     "metadata": {},
     "output_type": "execute_result"
    }
   ],
   "source": [
    "under_class = pd.crosstab(df['Class'],\n",
    "                          df['cat_under'],\n",
    "                          rownames=['Class'],\n",
    "                          colnames=['cat_under'],\n",
    "                          normalize='index').round(2)\n",
    "under_class"
   ]
  },
  {
   "cell_type": "code",
   "execution_count": 49,
   "metadata": {},
   "outputs": [
    {
     "data": {
      "text/html": [
       "<div>\n",
       "<style scoped>\n",
       "    .dataframe tbody tr th:only-of-type {\n",
       "        vertical-align: middle;\n",
       "    }\n",
       "\n",
       "    .dataframe tbody tr th {\n",
       "        vertical-align: top;\n",
       "    }\n",
       "\n",
       "    .dataframe thead th {\n",
       "        text-align: right;\n",
       "    }\n",
       "</style>\n",
       "<table border=\"1\" class=\"dataframe\">\n",
       "  <thead>\n",
       "    <tr style=\"text-align: right;\">\n",
       "      <th>cat_smote</th>\n",
       "      <th>0</th>\n",
       "      <th>1</th>\n",
       "      <th>2</th>\n",
       "    </tr>\n",
       "    <tr>\n",
       "      <th>Gender</th>\n",
       "      <th></th>\n",
       "      <th></th>\n",
       "      <th></th>\n",
       "    </tr>\n",
       "  </thead>\n",
       "  <tbody>\n",
       "    <tr>\n",
       "      <th>Female</th>\n",
       "      <td>0.77</td>\n",
       "      <td>0.07</td>\n",
       "      <td>0.15</td>\n",
       "    </tr>\n",
       "    <tr>\n",
       "      <th>Male</th>\n",
       "      <td>0.79</td>\n",
       "      <td>0.04</td>\n",
       "      <td>0.17</td>\n",
       "    </tr>\n",
       "  </tbody>\n",
       "</table>\n",
       "</div>"
      ],
      "text/plain": [
       "cat_smote     0     1     2\n",
       "Gender                     \n",
       "Female     0.77  0.07  0.15\n",
       "Male       0.79  0.04  0.17"
      ]
     },
     "execution_count": 49,
     "metadata": {},
     "output_type": "execute_result"
    }
   ],
   "source": [
    "smote_gender = pd.crosstab(df['Gender'],\n",
    "                           df['cat_smote'],\n",
    "                           rownames=['Gender'],\n",
    "                           colnames=['cat_smote'],\n",
    "                           normalize='index').round(2)\n",
    "smote_gender"
   ]
  },
  {
   "cell_type": "code",
   "execution_count": 50,
   "metadata": {},
   "outputs": [
    {
     "data": {
      "text/html": [
       "<div>\n",
       "<style scoped>\n",
       "    .dataframe tbody tr th:only-of-type {\n",
       "        vertical-align: middle;\n",
       "    }\n",
       "\n",
       "    .dataframe tbody tr th {\n",
       "        vertical-align: top;\n",
       "    }\n",
       "\n",
       "    .dataframe thead th {\n",
       "        text-align: right;\n",
       "    }\n",
       "</style>\n",
       "<table border=\"1\" class=\"dataframe\">\n",
       "  <thead>\n",
       "    <tr style=\"text-align: right;\">\n",
       "      <th>cat_under</th>\n",
       "      <th>0</th>\n",
       "      <th>1</th>\n",
       "      <th>2</th>\n",
       "      <th>3</th>\n",
       "    </tr>\n",
       "    <tr>\n",
       "      <th>Gender</th>\n",
       "      <th></th>\n",
       "      <th></th>\n",
       "      <th></th>\n",
       "      <th></th>\n",
       "    </tr>\n",
       "  </thead>\n",
       "  <tbody>\n",
       "    <tr>\n",
       "      <th>Female</th>\n",
       "      <td>0.78</td>\n",
       "      <td>0.03</td>\n",
       "      <td>0.18</td>\n",
       "      <td>0.0</td>\n",
       "    </tr>\n",
       "    <tr>\n",
       "      <th>Male</th>\n",
       "      <td>0.74</td>\n",
       "      <td>0.12</td>\n",
       "      <td>0.13</td>\n",
       "      <td>0.0</td>\n",
       "    </tr>\n",
       "  </tbody>\n",
       "</table>\n",
       "</div>"
      ],
      "text/plain": [
       "cat_under     0     1     2    3\n",
       "Gender                          \n",
       "Female     0.78  0.03  0.18  0.0\n",
       "Male       0.74  0.12  0.13  0.0"
      ]
     },
     "execution_count": 50,
     "metadata": {},
     "output_type": "execute_result"
    }
   ],
   "source": [
    "under_gender = pd.crosstab(df['Gender'],\n",
    "                           df['cat_under'],\n",
    "                           rownames=['Gender'],\n",
    "                           colnames=['cat_under'],\n",
    "                           normalize='index').round(2)\n",
    "under_gender"
   ]
  },
  {
   "cell_type": "markdown",
   "metadata": {},
   "source": [
    "## Decision tree for categorical volatility"
   ]
  },
  {
   "cell_type": "code",
   "execution_count": 11,
   "metadata": {},
   "outputs": [
    {
     "name": "stdout",
     "output_type": "stream",
     "text": [
      "SMOTE Accuracies \n",
      "\n",
      "DT: 0.78\n",
      "RF: 0.78\n",
      "KNN: 0.75\n",
      "SVM: 0.78\n",
      "\n",
      "Undersampling Accuracies \n",
      "\n",
      "DT: 0.75\n",
      "RF: 0.77\n",
      "KNN: 0.74\n",
      "SVM: 0.76\n"
     ]
    }
   ],
   "source": [
    "import pandas as pd\n",
    "import numpy as np\n",
    "from sklearn.tree import DecisionTreeClassifier as dt\n",
    "from sklearn.ensemble import RandomForestClassifier as rf\n",
    "from sklearn.neighbors import KNeighborsClassifier as knn\n",
    "from sklearn.svm import SVC as svm\n",
    "from sklearn.model_selection import LeaveOneOut\n",
    "from sklearn.metrics import accuracy_score\n",
    "\n",
    "df = pd.read_csv('../Datasets/academic_interp_all_Gender.csv', header=0)\n",
    "dfml = pd.read_csv('../Datasets/academic_onehot.csv', header=0)\n",
    "X = dfml.values\n",
    "y_smote = df['cat_smote'].values\n",
    "y_under = df['cat_under'].values\n",
    "\n",
    "model_names = ['DT', 'RF', 'KNN', 'SVM']\n",
    "\n",
    "smote_dt_preds = np.zeros(480)\n",
    "under_dt_preds = np.zeros(480)\n",
    "smote_rf_preds = np.zeros(480)\n",
    "under_rf_preds = np.zeros(480)\n",
    "smote_knn_preds = np.zeros(480)\n",
    "under_knn_preds = np.zeros(480)\n",
    "smote_svm_preds = np.zeros(480)\n",
    "under_svm_preds = np.zeros(480)\n",
    "\n",
    "smote_dt = under_dt = dt(max_depth=4, min_samples_split=10)\n",
    "smote_rf = under_rf = rf()\n",
    "smote_knn = under_knn = knn()\n",
    "smote_svm = under_svm = svm()\n",
    "\n",
    "smote_models = [smote_dt, smote_rf, smote_knn, smote_svm]\n",
    "under_models = [under_dt, under_rf, under_knn, under_svm]\n",
    "models = smote_models + under_models\n",
    "\n",
    "smote_preds = [smote_dt_preds, smote_rf_preds, smote_knn_preds, smote_svm_preds]\n",
    "under_preds = [under_dt_preds, under_rf_preds, under_knn_preds, under_svm_preds]\n",
    "preds = smote_preds + under_preds\n",
    "\n",
    "loo =LeaveOneOut()\n",
    "for train, test in loo.split(X):\n",
    "    \n",
    "    for m in smote_models:\n",
    "        m.fit(X[train], y_smote[train])\n",
    "    \n",
    "    for m in under_models:\n",
    "        m.fit(X[train], y_under[train])\n",
    "        \n",
    "    for m, p in zip(models, preds):\n",
    "        p[test] = m.predict(X[test])\n",
    "\n",
    "smote_accuracies = [accuracy_score(df.cat_smote, p) for p in smote_preds]\n",
    "under_accuracies = [accuracy_score(df.cat_under, p) for p in under_preds]\n",
    "\n",
    "print('SMOTE Accuracies \\n')\n",
    "for n, a in zip(model_names, smote_accuracies):\n",
    "    print(n + \": \" + str(a.round(2)))\n",
    "    \n",
    "print('\\nUndersampling Accuracies \\n')\n",
    "for n, a in zip(model_names, under_accuracies):\n",
    "    print(n + \": \" + str(a.round(2)))"
   ]
  },
  {
   "cell_type": "code",
   "execution_count": 52,
   "metadata": {},
   "outputs": [
    {
     "data": {
      "text/plain": [
       "DecisionTreeClassifier(class_weight=None, criterion='gini', max_depth=5,\n",
       "            max_features=None, max_leaf_nodes=None,\n",
       "            min_impurity_decrease=0.0, min_impurity_split=None,\n",
       "            min_samples_leaf=1, min_samples_split=10,\n",
       "            min_weight_fraction_leaf=0.0, presort=False, random_state=None,\n",
       "            splitter='best')"
      ]
     },
     "execution_count": 52,
     "metadata": {},
     "output_type": "execute_result"
    }
   ],
   "source": [
    "import pandas as pd\n",
    "import numpy as np\n",
    "from sklearn.tree import DecisionTreeClassifier as dt\n",
    "\n",
    "df = pd.read_csv('../Datasets/academic_interp_all_Gender.csv', header=0)\n",
    "dfml = pd.read_csv('../Datasets/academic_onehot.csv', header=0)\n",
    "X = dfml.values\n",
    "y_smote = df['cat_smote'].values\n",
    "y_under = df['cat_under'].values\n",
    "\n",
    "vola_smote_dt = dt(max_depth=5, min_samples_split=10)\n",
    "vola_smote_dt.fit(X, y_smote)\n",
    "\n",
    "vola_under_dt = dt(max_depth=5, min_samples_split=10)\n",
    "vola_under_dt.fit(X, y_under)"
   ]
  },
  {
   "cell_type": "code",
   "execution_count": 53,
   "metadata": {
    "scrolled": true
   },
   "outputs": [
    {
     "name": "stdout",
     "output_type": "stream",
     "text": [
      "SMOTE feature ranking:\n",
      "1. RaisedHands (0.181682)\n",
      "2. Class (0.156625)\n",
      "3. SaudiArabia (0.138803)\n",
      "4. AnnouncementsView (0.129510)\n",
      "5. English (0.088482)\n",
      "6. GradeID (0.075644)\n",
      "7. Kuwait (0.067328)\n",
      "8. VisitedResources (0.065034)\n",
      "9. Science (0.055668)\n",
      "10. IT (0.021011)\n"
     ]
    }
   ],
   "source": [
    "# SMOTE feature importances\n",
    "\n",
    "names = dfml.columns.tolist()\n",
    "importances = vola_smote_dt.feature_importances_\n",
    "indices = np.argsort(importances)[::-1]\n",
    "\n",
    "# Print the feature ranking\n",
    "print(\"SMOTE feature ranking:\")\n",
    "\n",
    "for f in range(10):\n",
    "    print(\"%d. %s (%f)\" % (f + 1, names[indices[f]], importances[indices[f]]))"
   ]
  },
  {
   "cell_type": "code",
   "execution_count": 54,
   "metadata": {},
   "outputs": [
    {
     "name": "stdout",
     "output_type": "stream",
     "text": [
      "Undersampling feature ranking:\n",
      "1. Class (0.219669)\n",
      "2. RaisedHands (0.195546)\n",
      "3. SaudiArabia (0.112933)\n",
      "4. VisitedResources (0.111794)\n",
      "5. Kuwait (0.072018)\n",
      "6. Iraq (0.063614)\n",
      "7. Math (0.055936)\n",
      "8. English (0.049585)\n",
      "9. Science (0.048964)\n",
      "10. Discussion (0.042894)\n"
     ]
    }
   ],
   "source": [
    "# Undersampling feature importances\n",
    "\n",
    "names = dfml.columns.tolist()\n",
    "importances = vola_under_dt.feature_importances_\n",
    "indices = np.argsort(importances)[::-1]\n",
    "\n",
    "# Print the feature ranking\n",
    "print(\"Undersampling feature ranking:\")\n",
    "\n",
    "for f in range(10):\n",
    "    print(\"%d. %s (%f)\" % (f + 1, names[indices[f]], importances[indices[f]]))"
   ]
  },
  {
   "cell_type": "markdown",
   "metadata": {},
   "source": [
    "### SMOTE decision tree"
   ]
  },
  {
   "cell_type": "code",
   "execution_count": 55,
   "metadata": {
    "scrolled": false
   },
   "outputs": [
    {
     "data": {
      "image/svg+xml": [
       "<svg height=\"671pt\" viewBox=\"0.00 0.00 1880.00 671.00\" width=\"1880pt\" xmlns=\"http://www.w3.org/2000/svg\" xmlns:xlink=\"http://www.w3.org/1999/xlink\">\n",
       "<g class=\"graph\" id=\"graph0\" transform=\"scale(1 1) rotate(0) translate(4 667)\">\n",
       "<title>Tree</title>\n",
       "<polygon fill=\"#ffffff\" points=\"-4,4 -4,-667 1876,-667 1876,4 -4,4\" stroke=\"transparent\"/>\n",
       "<!-- 0 -->\n",
       "<g class=\"node\" id=\"node1\">\n",
       "<title>0</title>\n",
       "<polygon fill=\"#e58139\" fill-opacity=\"0.745098\" points=\"1258.5,-663 1091.5,-663 1091.5,-580 1258.5,-580 1258.5,-663\" stroke=\"#000000\"/>\n",
       "<text fill=\"#000000\" font-family=\"Times,serif\" font-size=\"14.00\" text-anchor=\"middle\" x=\"1175\" y=\"-647.8\">SaudiArabia &lt;= 0.5</text>\n",
       "<text fill=\"#000000\" font-family=\"Times,serif\" font-size=\"14.00\" text-anchor=\"middle\" x=\"1175\" y=\"-632.8\">gini = 0.354</text>\n",
       "<text fill=\"#000000\" font-family=\"Times,serif\" font-size=\"14.00\" text-anchor=\"middle\" x=\"1175\" y=\"-617.8\">samples = 480</text>\n",
       "<text fill=\"#000000\" font-family=\"Times,serif\" font-size=\"14.00\" text-anchor=\"middle\" x=\"1175\" y=\"-602.8\">value = [377, 25, 78]</text>\n",
       "<text fill=\"#000000\" font-family=\"Times,serif\" font-size=\"14.00\" text-anchor=\"middle\" x=\"1175\" y=\"-587.8\">class = 0</text>\n",
       "</g>\n",
       "<!-- 1 -->\n",
       "<g class=\"node\" id=\"node2\">\n",
       "<title>1</title>\n",
       "<polygon fill=\"#e58139\" fill-opacity=\"0.764706\" points=\"1175.5,-544 1008.5,-544 1008.5,-461 1175.5,-461 1175.5,-544\" stroke=\"#000000\"/>\n",
       "<text fill=\"#000000\" font-family=\"Times,serif\" font-size=\"14.00\" text-anchor=\"middle\" x=\"1092\" y=\"-528.8\">Kuwait &lt;= 0.5</text>\n",
       "<text fill=\"#000000\" font-family=\"Times,serif\" font-size=\"14.00\" text-anchor=\"middle\" x=\"1092\" y=\"-513.8\">gini = 0.335</text>\n",
       "<text fill=\"#000000\" font-family=\"Times,serif\" font-size=\"14.00\" text-anchor=\"middle\" x=\"1092\" y=\"-498.8\">samples = 469</text>\n",
       "<text fill=\"#000000\" font-family=\"Times,serif\" font-size=\"14.00\" text-anchor=\"middle\" x=\"1092\" y=\"-483.8\">value = [375, 23, 71]</text>\n",
       "<text fill=\"#000000\" font-family=\"Times,serif\" font-size=\"14.00\" text-anchor=\"middle\" x=\"1092\" y=\"-468.8\">class = 0</text>\n",
       "</g>\n",
       "<!-- 0&#45;&gt;1 -->\n",
       "<g class=\"edge\" id=\"edge1\">\n",
       "<title>0-&gt;1</title>\n",
       "<path d=\"M1145.9706,-579.8796C1139.8145,-571.0534 1133.2549,-561.6485 1126.9064,-552.5466\" fill=\"none\" stroke=\"#000000\"/>\n",
       "<polygon fill=\"#000000\" points=\"1129.7448,-550.4978 1121.1533,-544.2981 1124.0033,-554.5024 1129.7448,-550.4978\" stroke=\"#000000\"/>\n",
       "<text fill=\"#000000\" font-family=\"Times,serif\" font-size=\"14.00\" text-anchor=\"middle\" x=\"1116.7669\" y=\"-565.2103\">True</text>\n",
       "</g>\n",
       "<!-- 28 -->\n",
       "<g class=\"node\" id=\"node29\">\n",
       "<title>28</title>\n",
       "<polygon fill=\"#8139e5\" fill-opacity=\"0.556863\" points=\"1324.5,-544 1193.5,-544 1193.5,-461 1324.5,-461 1324.5,-544\" stroke=\"#000000\"/>\n",
       "<text fill=\"#000000\" font-family=\"Times,serif\" font-size=\"14.00\" text-anchor=\"middle\" x=\"1259\" y=\"-528.8\">Science &lt;= 0.5</text>\n",
       "<text fill=\"#000000\" font-family=\"Times,serif\" font-size=\"14.00\" text-anchor=\"middle\" x=\"1259\" y=\"-513.8\">gini = 0.529</text>\n",
       "<text fill=\"#000000\" font-family=\"Times,serif\" font-size=\"14.00\" text-anchor=\"middle\" x=\"1259\" y=\"-498.8\">samples = 11</text>\n",
       "<text fill=\"#000000\" font-family=\"Times,serif\" font-size=\"14.00\" text-anchor=\"middle\" x=\"1259\" y=\"-483.8\">value = [2, 2, 7]</text>\n",
       "<text fill=\"#000000\" font-family=\"Times,serif\" font-size=\"14.00\" text-anchor=\"middle\" x=\"1259\" y=\"-468.8\">class = 2</text>\n",
       "</g>\n",
       "<!-- 0&#45;&gt;28 -->\n",
       "<g class=\"edge\" id=\"edge28\">\n",
       "<title>0-&gt;28</title>\n",
       "<path d=\"M1204.3791,-579.8796C1210.6094,-571.0534 1217.2481,-561.6485 1223.673,-552.5466\" fill=\"none\" stroke=\"#000000\"/>\n",
       "<polygon fill=\"#000000\" points=\"1226.588,-554.4862 1229.4955,-544.2981 1220.8692,-550.4494 1226.588,-554.4862\" stroke=\"#000000\"/>\n",
       "<text fill=\"#000000\" font-family=\"Times,serif\" font-size=\"14.00\" text-anchor=\"middle\" x=\"1233.7432\" y=\"-565.2346\">False</text>\n",
       "</g>\n",
       "<!-- 2 -->\n",
       "<g class=\"node\" id=\"node3\">\n",
       "<title>2</title>\n",
       "<polygon fill=\"#e58139\" fill-opacity=\"0.827451\" points=\"914.5,-425 747.5,-425 747.5,-342 914.5,-342 914.5,-425\" stroke=\"#000000\"/>\n",
       "<text fill=\"#000000\" font-family=\"Times,serif\" font-size=\"14.00\" text-anchor=\"middle\" x=\"831\" y=\"-409.8\">English &lt;= 0.5</text>\n",
       "<text fill=\"#000000\" font-family=\"Times,serif\" font-size=\"14.00\" text-anchor=\"middle\" x=\"831\" y=\"-394.8\">gini = 0.273</text>\n",
       "<text fill=\"#000000\" font-family=\"Times,serif\" font-size=\"14.00\" text-anchor=\"middle\" x=\"831\" y=\"-379.8\">samples = 290</text>\n",
       "<text fill=\"#000000\" font-family=\"Times,serif\" font-size=\"14.00\" text-anchor=\"middle\" x=\"831\" y=\"-364.8\">value = [245, 15, 30]</text>\n",
       "<text fill=\"#000000\" font-family=\"Times,serif\" font-size=\"14.00\" text-anchor=\"middle\" x=\"831\" y=\"-349.8\">class = 0</text>\n",
       "</g>\n",
       "<!-- 1&#45;&gt;2 -->\n",
       "<g class=\"edge\" id=\"edge2\">\n",
       "<title>1-&gt;2</title>\n",
       "<path d=\"M1008.341,-464.3566C981.4149,-452.08 951.4212,-438.4047 923.8735,-425.8446\" fill=\"none\" stroke=\"#000000\"/>\n",
       "<polygon fill=\"#000000\" points=\"925.1839,-422.5955 914.633,-421.6315 922.2799,-428.9647 925.1839,-422.5955\" stroke=\"#000000\"/>\n",
       "</g>\n",
       "<!-- 15 -->\n",
       "<g class=\"node\" id=\"node16\">\n",
       "<title>15</title>\n",
       "<polygon fill=\"#e58139\" fill-opacity=\"0.643137\" points=\"1172,-425 1014,-425 1014,-342 1172,-342 1172,-425\" stroke=\"#000000\"/>\n",
       "<text fill=\"#000000\" font-family=\"Times,serif\" font-size=\"14.00\" text-anchor=\"middle\" x=\"1093\" y=\"-409.8\">Class &lt;= 1.5</text>\n",
       "<text fill=\"#000000\" font-family=\"Times,serif\" font-size=\"14.00\" text-anchor=\"middle\" x=\"1093\" y=\"-394.8\">gini = 0.418</text>\n",
       "<text fill=\"#000000\" font-family=\"Times,serif\" font-size=\"14.00\" text-anchor=\"middle\" x=\"1093\" y=\"-379.8\">samples = 179</text>\n",
       "<text fill=\"#000000\" font-family=\"Times,serif\" font-size=\"14.00\" text-anchor=\"middle\" x=\"1093\" y=\"-364.8\">value = [130, 8, 41]</text>\n",
       "<text fill=\"#000000\" font-family=\"Times,serif\" font-size=\"14.00\" text-anchor=\"middle\" x=\"1093\" y=\"-349.8\">class = 0</text>\n",
       "</g>\n",
       "<!-- 1&#45;&gt;15 -->\n",
       "<g class=\"edge\" id=\"edge15\">\n",
       "<title>1-&gt;15</title>\n",
       "<path d=\"M1092.3498,-460.8796C1092.4186,-452.6838 1092.4917,-443.9891 1092.563,-435.5013\" fill=\"none\" stroke=\"#000000\"/>\n",
       "<polygon fill=\"#000000\" points=\"1096.0645,-435.3272 1092.6488,-425.2981 1089.0648,-435.2683 1096.0645,-435.3272\" stroke=\"#000000\"/>\n",
       "</g>\n",
       "<!-- 3 -->\n",
       "<g class=\"node\" id=\"node4\">\n",
       "<title>3</title>\n",
       "<polygon fill=\"#e58139\" fill-opacity=\"0.854902\" points=\"554.5,-306 387.5,-306 387.5,-223 554.5,-223 554.5,-306\" stroke=\"#000000\"/>\n",
       "<text fill=\"#000000\" font-family=\"Times,serif\" font-size=\"14.00\" text-anchor=\"middle\" x=\"471\" y=\"-290.8\">IT &lt;= 0.5</text>\n",
       "<text fill=\"#000000\" font-family=\"Times,serif\" font-size=\"14.00\" text-anchor=\"middle\" x=\"471\" y=\"-275.8\">gini = 0.241</text>\n",
       "<text fill=\"#000000\" font-family=\"Times,serif\" font-size=\"14.00\" text-anchor=\"middle\" x=\"471\" y=\"-260.8\">samples = 261</text>\n",
       "<text fill=\"#000000\" font-family=\"Times,serif\" font-size=\"14.00\" text-anchor=\"middle\" x=\"471\" y=\"-245.8\">value = [226, 13, 22]</text>\n",
       "<text fill=\"#000000\" font-family=\"Times,serif\" font-size=\"14.00\" text-anchor=\"middle\" x=\"471\" y=\"-230.8\">class = 0</text>\n",
       "</g>\n",
       "<!-- 2&#45;&gt;3 -->\n",
       "<g class=\"edge\" id=\"edge3\">\n",
       "<title>2-&gt;3</title>\n",
       "<path d=\"M747.0503,-355.75C692.3514,-337.6689 620.917,-314.0559 564.4202,-295.3806\" fill=\"none\" stroke=\"#000000\"/>\n",
       "<polygon fill=\"#000000\" points=\"565.3643,-292.0064 554.7711,-292.191 563.1673,-298.6527 565.3643,-292.0064\" stroke=\"#000000\"/>\n",
       "</g>\n",
       "<!-- 10 -->\n",
       "<g class=\"node\" id=\"node11\">\n",
       "<title>10</title>\n",
       "<polygon fill=\"#e58139\" fill-opacity=\"0.525490\" points=\"934,-306 728,-306 728,-223 934,-223 934,-306\" stroke=\"#000000\"/>\n",
       "<text fill=\"#000000\" font-family=\"Times,serif\" font-size=\"14.00\" text-anchor=\"middle\" x=\"831\" y=\"-290.8\">VisitedResources &lt;= 34.5</text>\n",
       "<text fill=\"#000000\" font-family=\"Times,serif\" font-size=\"14.00\" text-anchor=\"middle\" x=\"831\" y=\"-275.8\">gini = 0.49</text>\n",
       "<text fill=\"#000000\" font-family=\"Times,serif\" font-size=\"14.00\" text-anchor=\"middle\" x=\"831\" y=\"-260.8\">samples = 29</text>\n",
       "<text fill=\"#000000\" font-family=\"Times,serif\" font-size=\"14.00\" text-anchor=\"middle\" x=\"831\" y=\"-245.8\">value = [19, 2, 8]</text>\n",
       "<text fill=\"#000000\" font-family=\"Times,serif\" font-size=\"14.00\" text-anchor=\"middle\" x=\"831\" y=\"-230.8\">class = 0</text>\n",
       "</g>\n",
       "<!-- 2&#45;&gt;10 -->\n",
       "<g class=\"edge\" id=\"edge10\">\n",
       "<title>2-&gt;10</title>\n",
       "<path d=\"M831,-341.8796C831,-333.6838 831,-324.9891 831,-316.5013\" fill=\"none\" stroke=\"#000000\"/>\n",
       "<polygon fill=\"#000000\" points=\"834.5001,-316.298 831,-306.2981 827.5001,-316.2981 834.5001,-316.298\" stroke=\"#000000\"/>\n",
       "</g>\n",
       "<!-- 4 -->\n",
       "<g class=\"node\" id=\"node5\">\n",
       "<title>4</title>\n",
       "<polygon fill=\"#e58139\" fill-opacity=\"0.866667\" points=\"325.5,-187 158.5,-187 158.5,-104 325.5,-104 325.5,-187\" stroke=\"#000000\"/>\n",
       "<text fill=\"#000000\" font-family=\"Times,serif\" font-size=\"14.00\" text-anchor=\"middle\" x=\"242\" y=\"-171.8\">Discussion &lt;= 28.5</text>\n",
       "<text fill=\"#000000\" font-family=\"Times,serif\" font-size=\"14.00\" text-anchor=\"middle\" x=\"242\" y=\"-156.8\">gini = 0.225</text>\n",
       "<text fill=\"#000000\" font-family=\"Times,serif\" font-size=\"14.00\" text-anchor=\"middle\" x=\"242\" y=\"-141.8\">samples = 250</text>\n",
       "<text fill=\"#000000\" font-family=\"Times,serif\" font-size=\"14.00\" text-anchor=\"middle\" x=\"242\" y=\"-126.8\">value = [219, 12, 19]</text>\n",
       "<text fill=\"#000000\" font-family=\"Times,serif\" font-size=\"14.00\" text-anchor=\"middle\" x=\"242\" y=\"-111.8\">class = 0</text>\n",
       "</g>\n",
       "<!-- 3&#45;&gt;4 -->\n",
       "<g class=\"edge\" id=\"edge4\">\n",
       "<title>3-&gt;4</title>\n",
       "<path d=\"M390.9069,-222.8796C371.5571,-212.8244 350.7621,-202.0183 331.0301,-191.7645\" fill=\"none\" stroke=\"#000000\"/>\n",
       "<polygon fill=\"#000000\" points=\"332.5352,-188.6024 322.0479,-187.0969 329.3074,-194.8138 332.5352,-188.6024\" stroke=\"#000000\"/>\n",
       "</g>\n",
       "<!-- 7 -->\n",
       "<g class=\"node\" id=\"node8\">\n",
       "<title>7</title>\n",
       "<polygon fill=\"#e58139\" fill-opacity=\"0.501961\" points=\"587,-187 355,-187 355,-104 587,-104 587,-187\" stroke=\"#000000\"/>\n",
       "<text fill=\"#000000\" font-family=\"Times,serif\" font-size=\"14.00\" text-anchor=\"middle\" x=\"471\" y=\"-171.8\">AnnouncementsView &lt;= 10.5</text>\n",
       "<text fill=\"#000000\" font-family=\"Times,serif\" font-size=\"14.00\" text-anchor=\"middle\" x=\"471\" y=\"-156.8\">gini = 0.512</text>\n",
       "<text fill=\"#000000\" font-family=\"Times,serif\" font-size=\"14.00\" text-anchor=\"middle\" x=\"471\" y=\"-141.8\">samples = 11</text>\n",
       "<text fill=\"#000000\" font-family=\"Times,serif\" font-size=\"14.00\" text-anchor=\"middle\" x=\"471\" y=\"-126.8\">value = [7, 1, 3]</text>\n",
       "<text fill=\"#000000\" font-family=\"Times,serif\" font-size=\"14.00\" text-anchor=\"middle\" x=\"471\" y=\"-111.8\">class = 0</text>\n",
       "</g>\n",
       "<!-- 3&#45;&gt;7 -->\n",
       "<g class=\"edge\" id=\"edge7\">\n",
       "<title>3-&gt;7</title>\n",
       "<path d=\"M471,-222.8796C471,-214.6838 471,-205.9891 471,-197.5013\" fill=\"none\" stroke=\"#000000\"/>\n",
       "<polygon fill=\"#000000\" points=\"474.5001,-197.298 471,-187.2981 467.5001,-197.2981 474.5001,-197.298\" stroke=\"#000000\"/>\n",
       "</g>\n",
       "<!-- 5 -->\n",
       "<g class=\"node\" id=\"node6\">\n",
       "<title>5</title>\n",
       "<polygon fill=\"#e58139\" fill-opacity=\"0.937255\" points=\"140,-68 0,-68 0,0 140,0 140,-68\" stroke=\"#000000\"/>\n",
       "<text fill=\"#000000\" font-family=\"Times,serif\" font-size=\"14.00\" text-anchor=\"middle\" x=\"70\" y=\"-52.8\">gini = 0.115</text>\n",
       "<text fill=\"#000000\" font-family=\"Times,serif\" font-size=\"14.00\" text-anchor=\"middle\" x=\"70\" y=\"-37.8\">samples = 99</text>\n",
       "<text fill=\"#000000\" font-family=\"Times,serif\" font-size=\"14.00\" text-anchor=\"middle\" x=\"70\" y=\"-22.8\">value = [93, 2, 4]</text>\n",
       "<text fill=\"#000000\" font-family=\"Times,serif\" font-size=\"14.00\" text-anchor=\"middle\" x=\"70\" y=\"-7.8\">class = 0</text>\n",
       "</g>\n",
       "<!-- 4&#45;&gt;5 -->\n",
       "<g class=\"edge\" id=\"edge5\">\n",
       "<title>4-&gt;5</title>\n",
       "<path d=\"M177.9535,-103.9815C162.7037,-94.0957 146.4669,-83.5701 131.3417,-73.7651\" fill=\"none\" stroke=\"#000000\"/>\n",
       "<polygon fill=\"#000000\" points=\"132.8755,-70.5884 122.5805,-68.0856 129.0678,-76.4622 132.8755,-70.5884\" stroke=\"#000000\"/>\n",
       "</g>\n",
       "<!-- 6 -->\n",
       "<g class=\"node\" id=\"node7\">\n",
       "<title>6</title>\n",
       "<polygon fill=\"#e58139\" fill-opacity=\"0.815686\" points=\"325.5,-68 158.5,-68 158.5,0 325.5,0 325.5,-68\" stroke=\"#000000\"/>\n",
       "<text fill=\"#000000\" font-family=\"Times,serif\" font-size=\"14.00\" text-anchor=\"middle\" x=\"242\" y=\"-52.8\">gini = 0.289</text>\n",
       "<text fill=\"#000000\" font-family=\"Times,serif\" font-size=\"14.00\" text-anchor=\"middle\" x=\"242\" y=\"-37.8\">samples = 151</text>\n",
       "<text fill=\"#000000\" font-family=\"Times,serif\" font-size=\"14.00\" text-anchor=\"middle\" x=\"242\" y=\"-22.8\">value = [126, 10, 15]</text>\n",
       "<text fill=\"#000000\" font-family=\"Times,serif\" font-size=\"14.00\" text-anchor=\"middle\" x=\"242\" y=\"-7.8\">class = 0</text>\n",
       "</g>\n",
       "<!-- 4&#45;&gt;6 -->\n",
       "<g class=\"edge\" id=\"edge6\">\n",
       "<title>4-&gt;6</title>\n",
       "<path d=\"M242,-103.9815C242,-95.618 242,-86.7965 242,-78.3409\" fill=\"none\" stroke=\"#000000\"/>\n",
       "<polygon fill=\"#000000\" points=\"245.5001,-78.2636 242,-68.2637 238.5001,-78.2637 245.5001,-78.2636\" stroke=\"#000000\"/>\n",
       "</g>\n",
       "<!-- 8 -->\n",
       "<g class=\"node\" id=\"node9\">\n",
       "<title>8</title>\n",
       "<polygon fill=\"#8139e5\" points=\"474.5,-68 343.5,-68 343.5,0 474.5,0 474.5,-68\" stroke=\"#000000\"/>\n",
       "<text fill=\"#000000\" font-family=\"Times,serif\" font-size=\"14.00\" text-anchor=\"middle\" x=\"409\" y=\"-52.8\">gini = 0.0</text>\n",
       "<text fill=\"#000000\" font-family=\"Times,serif\" font-size=\"14.00\" text-anchor=\"middle\" x=\"409\" y=\"-37.8\">samples = 3</text>\n",
       "<text fill=\"#000000\" font-family=\"Times,serif\" font-size=\"14.00\" text-anchor=\"middle\" x=\"409\" y=\"-22.8\">value = [0, 0, 3]</text>\n",
       "<text fill=\"#000000\" font-family=\"Times,serif\" font-size=\"14.00\" text-anchor=\"middle\" x=\"409\" y=\"-7.8\">class = 2</text>\n",
       "</g>\n",
       "<!-- 7&#45;&gt;8 -->\n",
       "<g class=\"edge\" id=\"edge8\">\n",
       "<title>7-&gt;8</title>\n",
       "<path d=\"M447.9135,-103.9815C443.0585,-95.2504 437.926,-86.0202 433.0371,-77.2281\" fill=\"none\" stroke=\"#000000\"/>\n",
       "<polygon fill=\"#000000\" points=\"435.9712,-75.3025 428.0524,-68.2637 429.8533,-78.7043 435.9712,-75.3025\" stroke=\"#000000\"/>\n",
       "</g>\n",
       "<!-- 9 -->\n",
       "<g class=\"node\" id=\"node10\">\n",
       "<title>9</title>\n",
       "<polygon fill=\"#e58139\" fill-opacity=\"0.858824\" points=\"623.5,-68 492.5,-68 492.5,0 623.5,0 623.5,-68\" stroke=\"#000000\"/>\n",
       "<text fill=\"#000000\" font-family=\"Times,serif\" font-size=\"14.00\" text-anchor=\"middle\" x=\"558\" y=\"-52.8\">gini = 0.219</text>\n",
       "<text fill=\"#000000\" font-family=\"Times,serif\" font-size=\"14.00\" text-anchor=\"middle\" x=\"558\" y=\"-37.8\">samples = 8</text>\n",
       "<text fill=\"#000000\" font-family=\"Times,serif\" font-size=\"14.00\" text-anchor=\"middle\" x=\"558\" y=\"-22.8\">value = [7, 1, 0]</text>\n",
       "<text fill=\"#000000\" font-family=\"Times,serif\" font-size=\"14.00\" text-anchor=\"middle\" x=\"558\" y=\"-7.8\">class = 0</text>\n",
       "</g>\n",
       "<!-- 7&#45;&gt;9 -->\n",
       "<g class=\"edge\" id=\"edge9\">\n",
       "<title>7-&gt;9</title>\n",
       "<path d=\"M503.3956,-103.9815C510.4234,-94.9747 517.8655,-85.4367 524.9193,-76.3965\" fill=\"none\" stroke=\"#000000\"/>\n",
       "<polygon fill=\"#000000\" points=\"527.8728,-78.3008 531.2651,-68.2637 522.354,-73.9946 527.8728,-78.3008\" stroke=\"#000000\"/>\n",
       "</g>\n",
       "<!-- 11 -->\n",
       "<g class=\"node\" id=\"node12\">\n",
       "<title>11</title>\n",
       "<polygon fill=\"#8139e5\" fill-opacity=\"0.501961\" points=\"760.5,-179.5 629.5,-179.5 629.5,-111.5 760.5,-111.5 760.5,-179.5\" stroke=\"#000000\"/>\n",
       "<text fill=\"#000000\" font-family=\"Times,serif\" font-size=\"14.00\" text-anchor=\"middle\" x=\"695\" y=\"-164.3\">gini = 0.531</text>\n",
       "<text fill=\"#000000\" font-family=\"Times,serif\" font-size=\"14.00\" text-anchor=\"middle\" x=\"695\" y=\"-149.3\">samples = 8</text>\n",
       "<text fill=\"#000000\" font-family=\"Times,serif\" font-size=\"14.00\" text-anchor=\"middle\" x=\"695\" y=\"-134.3\">value = [2, 1, 5]</text>\n",
       "<text fill=\"#000000\" font-family=\"Times,serif\" font-size=\"14.00\" text-anchor=\"middle\" x=\"695\" y=\"-119.3\">class = 2</text>\n",
       "</g>\n",
       "<!-- 10&#45;&gt;11 -->\n",
       "<g class=\"edge\" id=\"edge11\">\n",
       "<title>10-&gt;11</title>\n",
       "<path d=\"M783.4338,-222.8796C769.9872,-211.1138 755.3653,-198.3197 741.9549,-186.5855\" fill=\"none\" stroke=\"#000000\"/>\n",
       "<polygon fill=\"#000000\" points=\"744.0476,-183.766 734.2171,-179.8149 739.4381,-189.034 744.0476,-183.766\" stroke=\"#000000\"/>\n",
       "</g>\n",
       "<!-- 12 -->\n",
       "<g class=\"node\" id=\"node13\">\n",
       "<title>12</title>\n",
       "<polygon fill=\"#e58139\" fill-opacity=\"0.776471\" points=\"919,-187 779,-187 779,-104 919,-104 919,-187\" stroke=\"#000000\"/>\n",
       "<text fill=\"#000000\" font-family=\"Times,serif\" font-size=\"14.00\" text-anchor=\"middle\" x=\"849\" y=\"-171.8\">GradeID &lt;= 4.0</text>\n",
       "<text fill=\"#000000\" font-family=\"Times,serif\" font-size=\"14.00\" text-anchor=\"middle\" x=\"849\" y=\"-156.8\">gini = 0.322</text>\n",
       "<text fill=\"#000000\" font-family=\"Times,serif\" font-size=\"14.00\" text-anchor=\"middle\" x=\"849\" y=\"-141.8\">samples = 21</text>\n",
       "<text fill=\"#000000\" font-family=\"Times,serif\" font-size=\"14.00\" text-anchor=\"middle\" x=\"849\" y=\"-126.8\">value = [17, 1, 3]</text>\n",
       "<text fill=\"#000000\" font-family=\"Times,serif\" font-size=\"14.00\" text-anchor=\"middle\" x=\"849\" y=\"-111.8\">class = 0</text>\n",
       "</g>\n",
       "<!-- 10&#45;&gt;12 -->\n",
       "<g class=\"edge\" id=\"edge12\">\n",
       "<title>10-&gt;12</title>\n",
       "<path d=\"M837.2955,-222.8796C838.5488,-214.5938 839.8793,-205.798 841.1766,-197.2216\" fill=\"none\" stroke=\"#000000\"/>\n",
       "<polygon fill=\"#000000\" points=\"844.6426,-197.7091 842.6776,-187.2981 837.7213,-196.6621 844.6426,-197.7091\" stroke=\"#000000\"/>\n",
       "</g>\n",
       "<!-- 13 -->\n",
       "<g class=\"node\" id=\"node14\">\n",
       "<title>13</title>\n",
       "<polygon fill=\"#8139e5\" points=\"772.5,-68 641.5,-68 641.5,0 772.5,0 772.5,-68\" stroke=\"#000000\"/>\n",
       "<text fill=\"#000000\" font-family=\"Times,serif\" font-size=\"14.00\" text-anchor=\"middle\" x=\"707\" y=\"-52.8\">gini = 0.0</text>\n",
       "<text fill=\"#000000\" font-family=\"Times,serif\" font-size=\"14.00\" text-anchor=\"middle\" x=\"707\" y=\"-37.8\">samples = 1</text>\n",
       "<text fill=\"#000000\" font-family=\"Times,serif\" font-size=\"14.00\" text-anchor=\"middle\" x=\"707\" y=\"-22.8\">value = [0, 0, 1]</text>\n",
       "<text fill=\"#000000\" font-family=\"Times,serif\" font-size=\"14.00\" text-anchor=\"middle\" x=\"707\" y=\"-7.8\">class = 2</text>\n",
       "</g>\n",
       "<!-- 12&#45;&gt;13 -->\n",
       "<g class=\"edge\" id=\"edge13\">\n",
       "<title>12-&gt;13</title>\n",
       "<path d=\"M796.1244,-103.9815C783.8345,-94.3313 770.7681,-84.0714 758.5368,-74.4673\" fill=\"none\" stroke=\"#000000\"/>\n",
       "<polygon fill=\"#000000\" points=\"760.6629,-71.6867 750.6362,-68.2637 756.3398,-77.1923 760.6629,-71.6867\" stroke=\"#000000\"/>\n",
       "</g>\n",
       "<!-- 14 -->\n",
       "<g class=\"node\" id=\"node15\">\n",
       "<title>14</title>\n",
       "<polygon fill=\"#e58139\" fill-opacity=\"0.831373\" points=\"931,-68 791,-68 791,0 931,0 931,-68\" stroke=\"#000000\"/>\n",
       "<text fill=\"#000000\" font-family=\"Times,serif\" font-size=\"14.00\" text-anchor=\"middle\" x=\"861\" y=\"-52.8\">gini = 0.265</text>\n",
       "<text fill=\"#000000\" font-family=\"Times,serif\" font-size=\"14.00\" text-anchor=\"middle\" x=\"861\" y=\"-37.8\">samples = 20</text>\n",
       "<text fill=\"#000000\" font-family=\"Times,serif\" font-size=\"14.00\" text-anchor=\"middle\" x=\"861\" y=\"-22.8\">value = [17, 1, 2]</text>\n",
       "<text fill=\"#000000\" font-family=\"Times,serif\" font-size=\"14.00\" text-anchor=\"middle\" x=\"861\" y=\"-7.8\">class = 0</text>\n",
       "</g>\n",
       "<!-- 12&#45;&gt;14 -->\n",
       "<g class=\"edge\" id=\"edge14\">\n",
       "<title>12-&gt;14</title>\n",
       "<path d=\"M853.4684,-103.9815C854.3685,-95.618 855.3179,-86.7965 856.2279,-78.3409\" fill=\"none\" stroke=\"#000000\"/>\n",
       "<polygon fill=\"#000000\" points=\"859.7222,-78.5808 857.3124,-68.2637 852.7624,-77.8317 859.7222,-78.5808\" stroke=\"#000000\"/>\n",
       "</g>\n",
       "<!-- 16 -->\n",
       "<g class=\"node\" id=\"node17\">\n",
       "<title>16</title>\n",
       "<polygon fill=\"#e58139\" fill-opacity=\"0.768627\" points=\"1181,-306 1005,-306 1005,-223 1181,-223 1181,-306\" stroke=\"#000000\"/>\n",
       "<text fill=\"#000000\" font-family=\"Times,serif\" font-size=\"14.00\" text-anchor=\"middle\" x=\"1093\" y=\"-290.8\">RaisedHands &lt;= 78.5</text>\n",
       "<text fill=\"#000000\" font-family=\"Times,serif\" font-size=\"14.00\" text-anchor=\"middle\" x=\"1093\" y=\"-275.8\">gini = 0.326</text>\n",
       "<text fill=\"#000000\" font-family=\"Times,serif\" font-size=\"14.00\" text-anchor=\"middle\" x=\"1093\" y=\"-260.8\">samples = 143</text>\n",
       "<text fill=\"#000000\" font-family=\"Times,serif\" font-size=\"14.00\" text-anchor=\"middle\" x=\"1093\" y=\"-245.8\">value = [115, 5, 23]</text>\n",
       "<text fill=\"#000000\" font-family=\"Times,serif\" font-size=\"14.00\" text-anchor=\"middle\" x=\"1093\" y=\"-230.8\">class = 0</text>\n",
       "</g>\n",
       "<!-- 15&#45;&gt;16 -->\n",
       "<g class=\"edge\" id=\"edge16\">\n",
       "<title>15-&gt;16</title>\n",
       "<path d=\"M1093,-341.8796C1093,-333.6838 1093,-324.9891 1093,-316.5013\" fill=\"none\" stroke=\"#000000\"/>\n",
       "<polygon fill=\"#000000\" points=\"1096.5001,-316.298 1093,-306.2981 1089.5001,-316.2981 1096.5001,-316.298\" stroke=\"#000000\"/>\n",
       "</g>\n",
       "<!-- 21 -->\n",
       "<g class=\"node\" id=\"node22\">\n",
       "<title>21</title>\n",
       "<polygon fill=\"#8139e5\" fill-opacity=\"0.141176\" points=\"1451,-306 1275,-306 1275,-223 1451,-223 1451,-306\" stroke=\"#000000\"/>\n",
       "<text fill=\"#000000\" font-family=\"Times,serif\" font-size=\"14.00\" text-anchor=\"middle\" x=\"1363\" y=\"-290.8\">RaisedHands &lt;= 66.0</text>\n",
       "<text fill=\"#000000\" font-family=\"Times,serif\" font-size=\"14.00\" text-anchor=\"middle\" x=\"1363\" y=\"-275.8\">gini = 0.569</text>\n",
       "<text fill=\"#000000\" font-family=\"Times,serif\" font-size=\"14.00\" text-anchor=\"middle\" x=\"1363\" y=\"-260.8\">samples = 36</text>\n",
       "<text fill=\"#000000\" font-family=\"Times,serif\" font-size=\"14.00\" text-anchor=\"middle\" x=\"1363\" y=\"-245.8\">value = [15, 3, 18]</text>\n",
       "<text fill=\"#000000\" font-family=\"Times,serif\" font-size=\"14.00\" text-anchor=\"middle\" x=\"1363\" y=\"-230.8\">class = 2</text>\n",
       "</g>\n",
       "<!-- 15&#45;&gt;21 -->\n",
       "<g class=\"edge\" id=\"edge21\">\n",
       "<title>15-&gt;21</title>\n",
       "<path d=\"M1172.4541,-346.7297C1176.0147,-345.1239 1179.5426,-343.5411 1183,-342 1209.6865,-330.1046 1238.7238,-317.469 1265.5318,-305.9284\" fill=\"none\" stroke=\"#000000\"/>\n",
       "<polygon fill=\"#000000\" points=\"1267.109,-309.0601 1274.9136,-301.895 1264.3442,-302.6292 1267.109,-309.0601\" stroke=\"#000000\"/>\n",
       "</g>\n",
       "<!-- 17 -->\n",
       "<g class=\"node\" id=\"node18\">\n",
       "<title>17</title>\n",
       "<polygon fill=\"#e58139\" fill-opacity=\"0.803922\" points=\"1125,-187 967,-187 967,-104 1125,-104 1125,-187\" stroke=\"#000000\"/>\n",
       "<text fill=\"#000000\" font-family=\"Times,serif\" font-size=\"14.00\" text-anchor=\"middle\" x=\"1046\" y=\"-171.8\">GradeID &lt;= 2.0</text>\n",
       "<text fill=\"#000000\" font-family=\"Times,serif\" font-size=\"14.00\" text-anchor=\"middle\" x=\"1046\" y=\"-156.8\">gini = 0.293</text>\n",
       "<text fill=\"#000000\" font-family=\"Times,serif\" font-size=\"14.00\" text-anchor=\"middle\" x=\"1046\" y=\"-141.8\">samples = 135</text>\n",
       "<text fill=\"#000000\" font-family=\"Times,serif\" font-size=\"14.00\" text-anchor=\"middle\" x=\"1046\" y=\"-126.8\">value = [112, 5, 18]</text>\n",
       "<text fill=\"#000000\" font-family=\"Times,serif\" font-size=\"14.00\" text-anchor=\"middle\" x=\"1046\" y=\"-111.8\">class = 0</text>\n",
       "</g>\n",
       "<!-- 16&#45;&gt;17 -->\n",
       "<g class=\"edge\" id=\"edge17\">\n",
       "<title>16-&gt;17</title>\n",
       "<path d=\"M1076.5617,-222.8796C1073.218,-214.4136 1069.664,-205.4153 1066.2071,-196.6626\" fill=\"none\" stroke=\"#000000\"/>\n",
       "<polygon fill=\"#000000\" points=\"1069.4373,-195.3132 1062.5085,-187.2981 1062.9267,-197.8847 1069.4373,-195.3132\" stroke=\"#000000\"/>\n",
       "</g>\n",
       "<!-- 20 -->\n",
       "<g class=\"node\" id=\"node21\">\n",
       "<title>20</title>\n",
       "<polygon fill=\"#8139e5\" fill-opacity=\"0.400000\" points=\"1274.5,-179.5 1143.5,-179.5 1143.5,-111.5 1274.5,-111.5 1274.5,-179.5\" stroke=\"#000000\"/>\n",
       "<text fill=\"#000000\" font-family=\"Times,serif\" font-size=\"14.00\" text-anchor=\"middle\" x=\"1209\" y=\"-164.3\">gini = 0.469</text>\n",
       "<text fill=\"#000000\" font-family=\"Times,serif\" font-size=\"14.00\" text-anchor=\"middle\" x=\"1209\" y=\"-149.3\">samples = 8</text>\n",
       "<text fill=\"#000000\" font-family=\"Times,serif\" font-size=\"14.00\" text-anchor=\"middle\" x=\"1209\" y=\"-134.3\">value = [3, 0, 5]</text>\n",
       "<text fill=\"#000000\" font-family=\"Times,serif\" font-size=\"14.00\" text-anchor=\"middle\" x=\"1209\" y=\"-119.3\">class = 2</text>\n",
       "</g>\n",
       "<!-- 16&#45;&gt;20 -->\n",
       "<g class=\"edge\" id=\"edge20\">\n",
       "<title>16-&gt;20</title>\n",
       "<path d=\"M1133.5712,-222.8796C1144.826,-211.3337 1157.0461,-198.7976 1168.3078,-187.2446\" fill=\"none\" stroke=\"#000000\"/>\n",
       "<polygon fill=\"#000000\" points=\"1171.0762,-189.4188 1175.5501,-179.8149 1166.0636,-184.5326 1171.0762,-189.4188\" stroke=\"#000000\"/>\n",
       "</g>\n",
       "<!-- 18 -->\n",
       "<g class=\"node\" id=\"node19\">\n",
       "<title>18</title>\n",
       "<polygon fill=\"#e58139\" fill-opacity=\"0.572549\" points=\"1098.5,-68 949.5,-68 949.5,0 1098.5,0 1098.5,-68\" stroke=\"#000000\"/>\n",
       "<text fill=\"#000000\" font-family=\"Times,serif\" font-size=\"14.00\" text-anchor=\"middle\" x=\"1024\" y=\"-52.8\">gini = 0.44</text>\n",
       "<text fill=\"#000000\" font-family=\"Times,serif\" font-size=\"14.00\" text-anchor=\"middle\" x=\"1024\" y=\"-37.8\">samples = 39</text>\n",
       "<text fill=\"#000000\" font-family=\"Times,serif\" font-size=\"14.00\" text-anchor=\"middle\" x=\"1024\" y=\"-22.8\">value = [27, 1, 11]</text>\n",
       "<text fill=\"#000000\" font-family=\"Times,serif\" font-size=\"14.00\" text-anchor=\"middle\" x=\"1024\" y=\"-7.8\">class = 0</text>\n",
       "</g>\n",
       "<!-- 17&#45;&gt;18 -->\n",
       "<g class=\"edge\" id=\"edge18\">\n",
       "<title>17-&gt;18</title>\n",
       "<path d=\"M1037.808,-103.9815C1036.1578,-95.618 1034.4173,-86.7965 1032.7489,-78.3409\" fill=\"none\" stroke=\"#000000\"/>\n",
       "<polygon fill=\"#000000\" points=\"1036.1302,-77.397 1030.7605,-68.2637 1029.2626,-78.7521 1036.1302,-77.397\" stroke=\"#000000\"/>\n",
       "</g>\n",
       "<!-- 19 -->\n",
       "<g class=\"node\" id=\"node20\">\n",
       "<title>19</title>\n",
       "<polygon fill=\"#e58139\" fill-opacity=\"0.874510\" points=\"1257,-68 1117,-68 1117,0 1257,0 1257,-68\" stroke=\"#000000\"/>\n",
       "<text fill=\"#000000\" font-family=\"Times,serif\" font-size=\"14.00\" text-anchor=\"middle\" x=\"1187\" y=\"-52.8\">gini = 0.209</text>\n",
       "<text fill=\"#000000\" font-family=\"Times,serif\" font-size=\"14.00\" text-anchor=\"middle\" x=\"1187\" y=\"-37.8\">samples = 96</text>\n",
       "<text fill=\"#000000\" font-family=\"Times,serif\" font-size=\"14.00\" text-anchor=\"middle\" x=\"1187\" y=\"-22.8\">value = [85, 4, 7]</text>\n",
       "<text fill=\"#000000\" font-family=\"Times,serif\" font-size=\"14.00\" text-anchor=\"middle\" x=\"1187\" y=\"-7.8\">class = 0</text>\n",
       "</g>\n",
       "<!-- 17&#45;&gt;19 -->\n",
       "<g class=\"edge\" id=\"edge19\">\n",
       "<title>17-&gt;19</title>\n",
       "<path d=\"M1098.5032,-103.9815C1110.7066,-94.3313 1123.681,-84.0714 1135.8261,-74.4673\" fill=\"none\" stroke=\"#000000\"/>\n",
       "<polygon fill=\"#000000\" points=\"1137.9982,-77.2118 1143.671,-68.2637 1133.6562,-71.7211 1137.9982,-77.2118\" stroke=\"#000000\"/>\n",
       "</g>\n",
       "<!-- 22 -->\n",
       "<g class=\"node\" id=\"node23\">\n",
       "<title>22</title>\n",
       "<polygon fill=\"#8139e5\" fill-opacity=\"0.768627\" points=\"1433,-187 1293,-187 1293,-104 1433,-104 1433,-187\" stroke=\"#000000\"/>\n",
       "<text fill=\"#000000\" font-family=\"Times,serif\" font-size=\"14.00\" text-anchor=\"middle\" x=\"1363\" y=\"-171.8\">English &lt;= 0.5</text>\n",
       "<text fill=\"#000000\" font-family=\"Times,serif\" font-size=\"14.00\" text-anchor=\"middle\" x=\"1363\" y=\"-156.8\">gini = 0.338</text>\n",
       "<text fill=\"#000000\" font-family=\"Times,serif\" font-size=\"14.00\" text-anchor=\"middle\" x=\"1363\" y=\"-141.8\">samples = 15</text>\n",
       "<text fill=\"#000000\" font-family=\"Times,serif\" font-size=\"14.00\" text-anchor=\"middle\" x=\"1363\" y=\"-126.8\">value = [1, 2, 12]</text>\n",
       "<text fill=\"#000000\" font-family=\"Times,serif\" font-size=\"14.00\" text-anchor=\"middle\" x=\"1363\" y=\"-111.8\">class = 2</text>\n",
       "</g>\n",
       "<!-- 21&#45;&gt;22 -->\n",
       "<g class=\"edge\" id=\"edge22\">\n",
       "<title>21-&gt;22</title>\n",
       "<path d=\"M1363,-222.8796C1363,-214.6838 1363,-205.9891 1363,-197.5013\" fill=\"none\" stroke=\"#000000\"/>\n",
       "<polygon fill=\"#000000\" points=\"1366.5001,-197.298 1363,-187.2981 1359.5001,-197.2981 1366.5001,-197.298\" stroke=\"#000000\"/>\n",
       "</g>\n",
       "<!-- 25 -->\n",
       "<g class=\"node\" id=\"node26\">\n",
       "<title>25</title>\n",
       "<polygon fill=\"#e58139\" fill-opacity=\"0.533333\" points=\"1764,-187 1532,-187 1532,-104 1764,-104 1764,-187\" stroke=\"#000000\"/>\n",
       "<text fill=\"#000000\" font-family=\"Times,serif\" font-size=\"14.00\" text-anchor=\"middle\" x=\"1648\" y=\"-171.8\">AnnouncementsView &lt;= 41.5</text>\n",
       "<text fill=\"#000000\" font-family=\"Times,serif\" font-size=\"14.00\" text-anchor=\"middle\" x=\"1648\" y=\"-156.8\">gini = 0.472</text>\n",
       "<text fill=\"#000000\" font-family=\"Times,serif\" font-size=\"14.00\" text-anchor=\"middle\" x=\"1648\" y=\"-141.8\">samples = 21</text>\n",
       "<text fill=\"#000000\" font-family=\"Times,serif\" font-size=\"14.00\" text-anchor=\"middle\" x=\"1648\" y=\"-126.8\">value = [14, 1, 6]</text>\n",
       "<text fill=\"#000000\" font-family=\"Times,serif\" font-size=\"14.00\" text-anchor=\"middle\" x=\"1648\" y=\"-111.8\">class = 0</text>\n",
       "</g>\n",
       "<!-- 21&#45;&gt;25 -->\n",
       "<g class=\"edge\" id=\"edge25\">\n",
       "<title>21-&gt;25</title>\n",
       "<path d=\"M1451.224,-227.6626C1479.0305,-216.0522 1510.0788,-203.0882 1539.146,-190.9513\" fill=\"none\" stroke=\"#000000\"/>\n",
       "<polygon fill=\"#000000\" points=\"1540.6279,-194.1255 1548.5072,-187.0426 1537.9308,-187.6659 1540.6279,-194.1255\" stroke=\"#000000\"/>\n",
       "</g>\n",
       "<!-- 23 -->\n",
       "<g class=\"node\" id=\"node24\">\n",
       "<title>23</title>\n",
       "<polygon fill=\"#8139e5\" fill-opacity=\"0.917647\" points=\"1415,-68 1275,-68 1275,0 1415,0 1415,-68\" stroke=\"#000000\"/>\n",
       "<text fill=\"#000000\" font-family=\"Times,serif\" font-size=\"14.00\" text-anchor=\"middle\" x=\"1345\" y=\"-52.8\">gini = 0.142</text>\n",
       "<text fill=\"#000000\" font-family=\"Times,serif\" font-size=\"14.00\" text-anchor=\"middle\" x=\"1345\" y=\"-37.8\">samples = 13</text>\n",
       "<text fill=\"#000000\" font-family=\"Times,serif\" font-size=\"14.00\" text-anchor=\"middle\" x=\"1345\" y=\"-22.8\">value = [0, 1, 12]</text>\n",
       "<text fill=\"#000000\" font-family=\"Times,serif\" font-size=\"14.00\" text-anchor=\"middle\" x=\"1345\" y=\"-7.8\">class = 2</text>\n",
       "</g>\n",
       "<!-- 22&#45;&gt;23 -->\n",
       "<g class=\"edge\" id=\"edge23\">\n",
       "<title>22-&gt;23</title>\n",
       "<path d=\"M1356.2975,-103.9815C1354.9473,-95.618 1353.5232,-86.7965 1352.1582,-78.3409\" fill=\"none\" stroke=\"#000000\"/>\n",
       "<polygon fill=\"#000000\" points=\"1355.5804,-77.578 1350.5314,-68.2637 1348.6699,-78.6937 1355.5804,-77.578\" stroke=\"#000000\"/>\n",
       "</g>\n",
       "<!-- 24 -->\n",
       "<g class=\"node\" id=\"node25\">\n",
       "<title>24</title>\n",
       "<polygon fill=\"transparent\" points=\"1564.5,-68 1433.5,-68 1433.5,0 1564.5,0 1564.5,-68\" stroke=\"#000000\"/>\n",
       "<text fill=\"#000000\" font-family=\"Times,serif\" font-size=\"14.00\" text-anchor=\"middle\" x=\"1499\" y=\"-52.8\">gini = 0.5</text>\n",
       "<text fill=\"#000000\" font-family=\"Times,serif\" font-size=\"14.00\" text-anchor=\"middle\" x=\"1499\" y=\"-37.8\">samples = 2</text>\n",
       "<text fill=\"#000000\" font-family=\"Times,serif\" font-size=\"14.00\" text-anchor=\"middle\" x=\"1499\" y=\"-22.8\">value = [1, 1, 0]</text>\n",
       "<text fill=\"#000000\" font-family=\"Times,serif\" font-size=\"14.00\" text-anchor=\"middle\" x=\"1499\" y=\"-7.8\">class = 0</text>\n",
       "</g>\n",
       "<!-- 22&#45;&gt;24 -->\n",
       "<g class=\"edge\" id=\"edge24\">\n",
       "<title>22-&gt;24</title>\n",
       "<path d=\"M1413.6414,-103.9815C1425.2999,-94.4232 1437.688,-84.2668 1449.3059,-74.7419\" fill=\"none\" stroke=\"#000000\"/>\n",
       "<polygon fill=\"#000000\" points=\"1451.6933,-77.3105 1457.2075,-68.2637 1447.2552,-71.8972 1451.6933,-77.3105\" stroke=\"#000000\"/>\n",
       "</g>\n",
       "<!-- 26 -->\n",
       "<g class=\"node\" id=\"node27\">\n",
       "<title>26</title>\n",
       "<polygon fill=\"#8139e5\" fill-opacity=\"0.400000\" points=\"1713.5,-68 1582.5,-68 1582.5,0 1713.5,0 1713.5,-68\" stroke=\"#000000\"/>\n",
       "<text fill=\"#000000\" font-family=\"Times,serif\" font-size=\"14.00\" text-anchor=\"middle\" x=\"1648\" y=\"-52.8\">gini = 0.571</text>\n",
       "<text fill=\"#000000\" font-family=\"Times,serif\" font-size=\"14.00\" text-anchor=\"middle\" x=\"1648\" y=\"-37.8\">samples = 7</text>\n",
       "<text fill=\"#000000\" font-family=\"Times,serif\" font-size=\"14.00\" text-anchor=\"middle\" x=\"1648\" y=\"-22.8\">value = [2, 1, 4]</text>\n",
       "<text fill=\"#000000\" font-family=\"Times,serif\" font-size=\"14.00\" text-anchor=\"middle\" x=\"1648\" y=\"-7.8\">class = 2</text>\n",
       "</g>\n",
       "<!-- 25&#45;&gt;26 -->\n",
       "<g class=\"edge\" id=\"edge26\">\n",
       "<title>25-&gt;26</title>\n",
       "<path d=\"M1648,-103.9815C1648,-95.618 1648,-86.7965 1648,-78.3409\" fill=\"none\" stroke=\"#000000\"/>\n",
       "<polygon fill=\"#000000\" points=\"1651.5001,-78.2636 1648,-68.2637 1644.5001,-78.2637 1651.5001,-78.2636\" stroke=\"#000000\"/>\n",
       "</g>\n",
       "<!-- 27 -->\n",
       "<g class=\"node\" id=\"node28\">\n",
       "<title>27</title>\n",
       "<polygon fill=\"#e58139\" fill-opacity=\"0.831373\" points=\"1872,-68 1732,-68 1732,0 1872,0 1872,-68\" stroke=\"#000000\"/>\n",
       "<text fill=\"#000000\" font-family=\"Times,serif\" font-size=\"14.00\" text-anchor=\"middle\" x=\"1802\" y=\"-52.8\">gini = 0.245</text>\n",
       "<text fill=\"#000000\" font-family=\"Times,serif\" font-size=\"14.00\" text-anchor=\"middle\" x=\"1802\" y=\"-37.8\">samples = 14</text>\n",
       "<text fill=\"#000000\" font-family=\"Times,serif\" font-size=\"14.00\" text-anchor=\"middle\" x=\"1802\" y=\"-22.8\">value = [12, 0, 2]</text>\n",
       "<text fill=\"#000000\" font-family=\"Times,serif\" font-size=\"14.00\" text-anchor=\"middle\" x=\"1802\" y=\"-7.8\">class = 0</text>\n",
       "</g>\n",
       "<!-- 25&#45;&gt;27 -->\n",
       "<g class=\"edge\" id=\"edge27\">\n",
       "<title>25-&gt;27</title>\n",
       "<path d=\"M1705.3439,-103.9815C1718.7994,-94.2394 1733.1131,-83.8759 1746.4867,-74.193\" fill=\"none\" stroke=\"#000000\"/>\n",
       "<polygon fill=\"#000000\" points=\"1748.6289,-76.9632 1754.6762,-68.2637 1744.5237,-71.2933 1748.6289,-76.9632\" stroke=\"#000000\"/>\n",
       "</g>\n",
       "<!-- 29 -->\n",
       "<g class=\"node\" id=\"node30\">\n",
       "<title>29</title>\n",
       "<polygon fill=\"#8139e5\" fill-opacity=\"0.858824\" points=\"1323.5,-417.5 1192.5,-417.5 1192.5,-349.5 1323.5,-349.5 1323.5,-417.5\" stroke=\"#000000\"/>\n",
       "<text fill=\"#000000\" font-family=\"Times,serif\" font-size=\"14.00\" text-anchor=\"middle\" x=\"1258\" y=\"-402.3\">gini = 0.219</text>\n",
       "<text fill=\"#000000\" font-family=\"Times,serif\" font-size=\"14.00\" text-anchor=\"middle\" x=\"1258\" y=\"-387.3\">samples = 8</text>\n",
       "<text fill=\"#000000\" font-family=\"Times,serif\" font-size=\"14.00\" text-anchor=\"middle\" x=\"1258\" y=\"-372.3\">value = [1, 0, 7]</text>\n",
       "<text fill=\"#000000\" font-family=\"Times,serif\" font-size=\"14.00\" text-anchor=\"middle\" x=\"1258\" y=\"-357.3\">class = 2</text>\n",
       "</g>\n",
       "<!-- 28&#45;&gt;29 -->\n",
       "<g class=\"edge\" id=\"edge29\">\n",
       "<title>28-&gt;29</title>\n",
       "<path d=\"M1258.6502,-460.8796C1258.5606,-450.2134 1258.4639,-438.7021 1258.3731,-427.9015\" fill=\"none\" stroke=\"#000000\"/>\n",
       "<polygon fill=\"#000000\" points=\"1261.8724,-427.7851 1258.2884,-417.8149 1254.8726,-427.844 1261.8724,-427.7851\" stroke=\"#000000\"/>\n",
       "</g>\n",
       "<!-- 30 -->\n",
       "<g class=\"node\" id=\"node31\">\n",
       "<title>30</title>\n",
       "<polygon fill=\"#39e581\" fill-opacity=\"0.498039\" points=\"1472.5,-417.5 1341.5,-417.5 1341.5,-349.5 1472.5,-349.5 1472.5,-417.5\" stroke=\"#000000\"/>\n",
       "<text fill=\"#000000\" font-family=\"Times,serif\" font-size=\"14.00\" text-anchor=\"middle\" x=\"1407\" y=\"-402.3\">gini = 0.444</text>\n",
       "<text fill=\"#000000\" font-family=\"Times,serif\" font-size=\"14.00\" text-anchor=\"middle\" x=\"1407\" y=\"-387.3\">samples = 3</text>\n",
       "<text fill=\"#000000\" font-family=\"Times,serif\" font-size=\"14.00\" text-anchor=\"middle\" x=\"1407\" y=\"-372.3\">value = [1, 2, 0]</text>\n",
       "<text fill=\"#000000\" font-family=\"Times,serif\" font-size=\"14.00\" text-anchor=\"middle\" x=\"1407\" y=\"-357.3\">class = 1</text>\n",
       "</g>\n",
       "<!-- 28&#45;&gt;30 -->\n",
       "<g class=\"edge\" id=\"edge30\">\n",
       "<title>28-&gt;30</title>\n",
       "<path d=\"M1310.7632,-460.8796C1325.5331,-449.0038 1341.6059,-436.0804 1356.3108,-424.2568\" fill=\"none\" stroke=\"#000000\"/>\n",
       "<polygon fill=\"#000000\" points=\"1358.7225,-426.8088 1364.3226,-417.8149 1354.3361,-421.3535 1358.7225,-426.8088\" stroke=\"#000000\"/>\n",
       "</g>\n",
       "</g>\n",
       "</svg>"
      ],
      "text/plain": [
       "<IPython.core.display.SVG object>"
      ]
     },
     "metadata": {},
     "output_type": "display_data"
    }
   ],
   "source": [
    "from sklearn.tree import export_graphviz\n",
    "from IPython.display import SVG\n",
    "from graphviz import Source\n",
    "from IPython.display import display\n",
    "\n",
    "labels = dfml.columns.tolist()\n",
    "\n",
    "graph = Source(export_graphviz(vola_smote_dt,\n",
    "                               out_file=None,\n",
    "                               feature_names=labels,\n",
    "                               class_names=['0', '1', '2', '3'],\n",
    "                               filled = True))\n",
    "display(SVG(graph.pipe(format='svg')))"
   ]
  },
  {
   "cell_type": "markdown",
   "metadata": {},
   "source": [
    "### Undersampling decision tree"
   ]
  },
  {
   "cell_type": "code",
   "execution_count": 56,
   "metadata": {
    "scrolled": false
   },
   "outputs": [
    {
     "data": {
      "image/svg+xml": [
       "<svg height=\"671pt\" viewBox=\"0.00 0.00 2089.50 671.00\" width=\"2090pt\" xmlns=\"http://www.w3.org/2000/svg\" xmlns:xlink=\"http://www.w3.org/1999/xlink\">\n",
       "<g class=\"graph\" id=\"graph0\" transform=\"scale(1 1) rotate(0) translate(4 667)\">\n",
       "<title>Tree</title>\n",
       "<polygon fill=\"#ffffff\" points=\"-4,4 -4,-667 2085.5,-667 2085.5,4 -4,4\" stroke=\"transparent\"/>\n",
       "<!-- 0 -->\n",
       "<g class=\"node\" id=\"node1\">\n",
       "<title>0</title>\n",
       "<polygon fill=\"#e58139\" fill-opacity=\"0.717647\" points=\"1455.5,-663 1270.5,-663 1270.5,-580 1455.5,-580 1455.5,-663\" stroke=\"#000000\"/>\n",
       "<text fill=\"#000000\" font-family=\"Times,serif\" font-size=\"14.00\" text-anchor=\"middle\" x=\"1363\" y=\"-647.8\">SaudiArabia &lt;= 0.5</text>\n",
       "<text fill=\"#000000\" font-family=\"Times,serif\" font-size=\"14.00\" text-anchor=\"middle\" x=\"1363\" y=\"-632.8\">gini = 0.395</text>\n",
       "<text fill=\"#000000\" font-family=\"Times,serif\" font-size=\"14.00\" text-anchor=\"middle\" x=\"1363\" y=\"-617.8\">samples = 480</text>\n",
       "<text fill=\"#000000\" font-family=\"Times,serif\" font-size=\"14.00\" text-anchor=\"middle\" x=\"1363\" y=\"-602.8\">value = [364, 44, 71, 1]</text>\n",
       "<text fill=\"#000000\" font-family=\"Times,serif\" font-size=\"14.00\" text-anchor=\"middle\" x=\"1363\" y=\"-587.8\">class = 0</text>\n",
       "</g>\n",
       "<!-- 1 -->\n",
       "<g class=\"node\" id=\"node2\">\n",
       "<title>1</title>\n",
       "<polygon fill=\"#e58139\" fill-opacity=\"0.733333\" points=\"1363.5,-544 1178.5,-544 1178.5,-461 1363.5,-461 1363.5,-544\" stroke=\"#000000\"/>\n",
       "<text fill=\"#000000\" font-family=\"Times,serif\" font-size=\"14.00\" text-anchor=\"middle\" x=\"1271\" y=\"-528.8\">Kuwait &lt;= 0.5</text>\n",
       "<text fill=\"#000000\" font-family=\"Times,serif\" font-size=\"14.00\" text-anchor=\"middle\" x=\"1271\" y=\"-513.8\">gini = 0.38</text>\n",
       "<text fill=\"#000000\" font-family=\"Times,serif\" font-size=\"14.00\" text-anchor=\"middle\" x=\"1271\" y=\"-498.8\">samples = 469</text>\n",
       "<text fill=\"#000000\" font-family=\"Times,serif\" font-size=\"14.00\" text-anchor=\"middle\" x=\"1271\" y=\"-483.8\">value = [361, 42, 65, 1]</text>\n",
       "<text fill=\"#000000\" font-family=\"Times,serif\" font-size=\"14.00\" text-anchor=\"middle\" x=\"1271\" y=\"-468.8\">class = 0</text>\n",
       "</g>\n",
       "<!-- 0&#45;&gt;1 -->\n",
       "<g class=\"edge\" id=\"edge1\">\n",
       "<title>0-&gt;1</title>\n",
       "<path d=\"M1330.8229,-579.8796C1323.9296,-570.9633 1316.5798,-561.4565 1309.4761,-552.268\" fill=\"none\" stroke=\"#000000\"/>\n",
       "<polygon fill=\"#000000\" points=\"1312.1999,-550.0687 1303.3145,-544.2981 1306.6619,-554.3502 1312.1999,-550.0687\" stroke=\"#000000\"/>\n",
       "<text fill=\"#000000\" font-family=\"Times,serif\" font-size=\"14.00\" text-anchor=\"middle\" x=\"1300.1413\" y=\"-565.3959\">True</text>\n",
       "</g>\n",
       "<!-- 28 -->\n",
       "<g class=\"node\" id=\"node29\">\n",
       "<title>28</title>\n",
       "<polygon fill=\"#399de5\" fill-opacity=\"0.376471\" points=\"1530.5,-544 1381.5,-544 1381.5,-461 1530.5,-461 1530.5,-544\" stroke=\"#000000\"/>\n",
       "<text fill=\"#000000\" font-family=\"Times,serif\" font-size=\"14.00\" text-anchor=\"middle\" x=\"1456\" y=\"-528.8\">Science &lt;= 0.5</text>\n",
       "<text fill=\"#000000\" font-family=\"Times,serif\" font-size=\"14.00\" text-anchor=\"middle\" x=\"1456\" y=\"-513.8\">gini = 0.595</text>\n",
       "<text fill=\"#000000\" font-family=\"Times,serif\" font-size=\"14.00\" text-anchor=\"middle\" x=\"1456\" y=\"-498.8\">samples = 11</text>\n",
       "<text fill=\"#000000\" font-family=\"Times,serif\" font-size=\"14.00\" text-anchor=\"middle\" x=\"1456\" y=\"-483.8\">value = [3, 2, 6, 0]</text>\n",
       "<text fill=\"#000000\" font-family=\"Times,serif\" font-size=\"14.00\" text-anchor=\"middle\" x=\"1456\" y=\"-468.8\">class = 2</text>\n",
       "</g>\n",
       "<!-- 0&#45;&gt;28 -->\n",
       "<g class=\"edge\" id=\"edge28\">\n",
       "<title>0-&gt;28</title>\n",
       "<path d=\"M1395.5269,-579.8796C1402.4951,-570.9633 1409.9247,-561.4565 1417.1056,-552.268\" fill=\"none\" stroke=\"#000000\"/>\n",
       "<polygon fill=\"#000000\" points=\"1419.9343,-554.3326 1423.3343,-544.2981 1414.4188,-550.0221 1419.9343,-554.3326\" stroke=\"#000000\"/>\n",
       "<text fill=\"#000000\" font-family=\"Times,serif\" font-size=\"14.00\" text-anchor=\"middle\" x=\"1426.3775\" y=\"-565.4122\">False</text>\n",
       "</g>\n",
       "<!-- 2 -->\n",
       "<g class=\"node\" id=\"node3\">\n",
       "<title>2</title>\n",
       "<polygon fill=\"#e58139\" fill-opacity=\"0.796078\" points=\"983.5,-425 798.5,-425 798.5,-342 983.5,-342 983.5,-425\" stroke=\"#000000\"/>\n",
       "<text fill=\"#000000\" font-family=\"Times,serif\" font-size=\"14.00\" text-anchor=\"middle\" x=\"891\" y=\"-409.8\">English &lt;= 0.5</text>\n",
       "<text fill=\"#000000\" font-family=\"Times,serif\" font-size=\"14.00\" text-anchor=\"middle\" x=\"891\" y=\"-394.8\">gini = 0.315</text>\n",
       "<text fill=\"#000000\" font-family=\"Times,serif\" font-size=\"14.00\" text-anchor=\"middle\" x=\"891\" y=\"-379.8\">samples = 290</text>\n",
       "<text fill=\"#000000\" font-family=\"Times,serif\" font-size=\"14.00\" text-anchor=\"middle\" x=\"891\" y=\"-364.8\">value = [237, 24, 29, 0]</text>\n",
       "<text fill=\"#000000\" font-family=\"Times,serif\" font-size=\"14.00\" text-anchor=\"middle\" x=\"891\" y=\"-349.8\">class = 0</text>\n",
       "</g>\n",
       "<!-- 1&#45;&gt;2 -->\n",
       "<g class=\"edge\" id=\"edge2\">\n",
       "<title>1-&gt;2</title>\n",
       "<path d=\"M1178.0415,-473.3893C1122.1682,-455.8922 1050.9904,-433.6023 993.4926,-415.5964\" fill=\"none\" stroke=\"#000000\"/>\n",
       "<polygon fill=\"#000000\" points=\"994.2456,-412.1646 983.6566,-412.5161 992.1536,-418.8447 994.2456,-412.1646\" stroke=\"#000000\"/>\n",
       "</g>\n",
       "<!-- 15 -->\n",
       "<g class=\"node\" id=\"node16\">\n",
       "<title>15</title>\n",
       "<polygon fill=\"#e58139\" fill-opacity=\"0.615686\" points=\"1363.5,-425 1178.5,-425 1178.5,-342 1363.5,-342 1363.5,-425\" stroke=\"#000000\"/>\n",
       "<text fill=\"#000000\" font-family=\"Times,serif\" font-size=\"14.00\" text-anchor=\"middle\" x=\"1271\" y=\"-409.8\">Class &lt;= 1.5</text>\n",
       "<text fill=\"#000000\" font-family=\"Times,serif\" font-size=\"14.00\" text-anchor=\"middle\" x=\"1271\" y=\"-394.8\">gini = 0.47</text>\n",
       "<text fill=\"#000000\" font-family=\"Times,serif\" font-size=\"14.00\" text-anchor=\"middle\" x=\"1271\" y=\"-379.8\">samples = 179</text>\n",
       "<text fill=\"#000000\" font-family=\"Times,serif\" font-size=\"14.00\" text-anchor=\"middle\" x=\"1271\" y=\"-364.8\">value = [124, 18, 36, 1]</text>\n",
       "<text fill=\"#000000\" font-family=\"Times,serif\" font-size=\"14.00\" text-anchor=\"middle\" x=\"1271\" y=\"-349.8\">class = 0</text>\n",
       "</g>\n",
       "<!-- 1&#45;&gt;15 -->\n",
       "<g class=\"edge\" id=\"edge15\">\n",
       "<title>1-&gt;15</title>\n",
       "<path d=\"M1271,-460.8796C1271,-452.6838 1271,-443.9891 1271,-435.5013\" fill=\"none\" stroke=\"#000000\"/>\n",
       "<polygon fill=\"#000000\" points=\"1274.5001,-435.298 1271,-425.2981 1267.5001,-435.2981 1274.5001,-435.298\" stroke=\"#000000\"/>\n",
       "</g>\n",
       "<!-- 3 -->\n",
       "<g class=\"node\" id=\"node4\">\n",
       "<title>3</title>\n",
       "<polygon fill=\"#e58139\" fill-opacity=\"0.823529\" points=\"650.5,-306 465.5,-306 465.5,-223 650.5,-223 650.5,-306\" stroke=\"#000000\"/>\n",
       "<text fill=\"#000000\" font-family=\"Times,serif\" font-size=\"14.00\" text-anchor=\"middle\" x=\"558\" y=\"-290.8\">section_C &lt;= 0.5</text>\n",
       "<text fill=\"#000000\" font-family=\"Times,serif\" font-size=\"14.00\" text-anchor=\"middle\" x=\"558\" y=\"-275.8\">gini = 0.283</text>\n",
       "<text fill=\"#000000\" font-family=\"Times,serif\" font-size=\"14.00\" text-anchor=\"middle\" x=\"558\" y=\"-260.8\">samples = 261</text>\n",
       "<text fill=\"#000000\" font-family=\"Times,serif\" font-size=\"14.00\" text-anchor=\"middle\" x=\"558\" y=\"-245.8\">value = [219, 20, 22, 0]</text>\n",
       "<text fill=\"#000000\" font-family=\"Times,serif\" font-size=\"14.00\" text-anchor=\"middle\" x=\"558\" y=\"-230.8\">class = 0</text>\n",
       "</g>\n",
       "<!-- 2&#45;&gt;3 -->\n",
       "<g class=\"edge\" id=\"edge3\">\n",
       "<title>2-&gt;3</title>\n",
       "<path d=\"M798.2409,-350.3519C755.301,-335.007 704.161,-316.7317 660.1231,-300.9944\" fill=\"none\" stroke=\"#000000\"/>\n",
       "<polygon fill=\"#000000\" points=\"661.1446,-297.6428 650.55,-297.5734 658.7889,-304.2345 661.1446,-297.6428\" stroke=\"#000000\"/>\n",
       "</g>\n",
       "<!-- 10 -->\n",
       "<g class=\"node\" id=\"node11\">\n",
       "<title>10</title>\n",
       "<polygon fill=\"#e58139\" fill-opacity=\"0.501961\" points=\"970,-306 812,-306 812,-223 970,-223 970,-306\" stroke=\"#000000\"/>\n",
       "<text fill=\"#000000\" font-family=\"Times,serif\" font-size=\"14.00\" text-anchor=\"middle\" x=\"891\" y=\"-290.8\">Iraq &lt;= 0.5</text>\n",
       "<text fill=\"#000000\" font-family=\"Times,serif\" font-size=\"14.00\" text-anchor=\"middle\" x=\"891\" y=\"-275.8\">gini = 0.537</text>\n",
       "<text fill=\"#000000\" font-family=\"Times,serif\" font-size=\"14.00\" text-anchor=\"middle\" x=\"891\" y=\"-260.8\">samples = 29</text>\n",
       "<text fill=\"#000000\" font-family=\"Times,serif\" font-size=\"14.00\" text-anchor=\"middle\" x=\"891\" y=\"-245.8\">value = [18, 4, 7, 0]</text>\n",
       "<text fill=\"#000000\" font-family=\"Times,serif\" font-size=\"14.00\" text-anchor=\"middle\" x=\"891\" y=\"-230.8\">class = 0</text>\n",
       "</g>\n",
       "<!-- 2&#45;&gt;10 -->\n",
       "<g class=\"edge\" id=\"edge10\">\n",
       "<title>2-&gt;10</title>\n",
       "<path d=\"M891,-341.8796C891,-333.6838 891,-324.9891 891,-316.5013\" fill=\"none\" stroke=\"#000000\"/>\n",
       "<polygon fill=\"#000000\" points=\"894.5001,-316.298 891,-306.2981 887.5001,-316.2981 894.5001,-316.298\" stroke=\"#000000\"/>\n",
       "</g>\n",
       "<!-- 4 -->\n",
       "<g class=\"node\" id=\"node5\">\n",
       "<title>4</title>\n",
       "<polygon fill=\"#e58139\" fill-opacity=\"0.835294\" points=\"371,-187 165,-187 165,-104 371,-104 371,-187\" stroke=\"#000000\"/>\n",
       "<text fill=\"#000000\" font-family=\"Times,serif\" font-size=\"14.00\" text-anchor=\"middle\" x=\"268\" y=\"-171.8\">VisitedResources &lt;= 13.5</text>\n",
       "<text fill=\"#000000\" font-family=\"Times,serif\" font-size=\"14.00\" text-anchor=\"middle\" x=\"268\" y=\"-156.8\">gini = 0.268</text>\n",
       "<text fill=\"#000000\" font-family=\"Times,serif\" font-size=\"14.00\" text-anchor=\"middle\" x=\"268\" y=\"-141.8\">samples = 251</text>\n",
       "<text fill=\"#000000\" font-family=\"Times,serif\" font-size=\"14.00\" text-anchor=\"middle\" x=\"268\" y=\"-126.8\">value = [213, 19, 19, 0]</text>\n",
       "<text fill=\"#000000\" font-family=\"Times,serif\" font-size=\"14.00\" text-anchor=\"middle\" x=\"268\" y=\"-111.8\">class = 0</text>\n",
       "</g>\n",
       "<!-- 3&#45;&gt;4 -->\n",
       "<g class=\"edge\" id=\"edge4\">\n",
       "<title>3-&gt;4</title>\n",
       "<path d=\"M465.4449,-226.5205C437.8933,-215.2148 407.4221,-202.7112 378.8305,-190.9787\" fill=\"none\" stroke=\"#000000\"/>\n",
       "<polygon fill=\"#000000\" points=\"379.7933,-187.5906 369.2132,-187.0323 377.1359,-194.0666 379.7933,-187.5906\" stroke=\"#000000\"/>\n",
       "</g>\n",
       "<!-- 7 -->\n",
       "<g class=\"node\" id=\"node8\">\n",
       "<title>7</title>\n",
       "<polygon fill=\"#e58139\" fill-opacity=\"0.427451\" points=\"632.5,-187 483.5,-187 483.5,-104 632.5,-104 632.5,-187\" stroke=\"#000000\"/>\n",
       "<text fill=\"#000000\" font-family=\"Times,serif\" font-size=\"14.00\" text-anchor=\"middle\" x=\"558\" y=\"-171.8\">Class &lt;= 1.5</text>\n",
       "<text fill=\"#000000\" font-family=\"Times,serif\" font-size=\"14.00\" text-anchor=\"middle\" x=\"558\" y=\"-156.8\">gini = 0.54</text>\n",
       "<text fill=\"#000000\" font-family=\"Times,serif\" font-size=\"14.00\" text-anchor=\"middle\" x=\"558\" y=\"-141.8\">samples = 10</text>\n",
       "<text fill=\"#000000\" font-family=\"Times,serif\" font-size=\"14.00\" text-anchor=\"middle\" x=\"558\" y=\"-126.8\">value = [6, 1, 3, 0]</text>\n",
       "<text fill=\"#000000\" font-family=\"Times,serif\" font-size=\"14.00\" text-anchor=\"middle\" x=\"558\" y=\"-111.8\">class = 0</text>\n",
       "</g>\n",
       "<!-- 3&#45;&gt;7 -->\n",
       "<g class=\"edge\" id=\"edge7\">\n",
       "<title>3-&gt;7</title>\n",
       "<path d=\"M558,-222.8796C558,-214.6838 558,-205.9891 558,-197.5013\" fill=\"none\" stroke=\"#000000\"/>\n",
       "<polygon fill=\"#000000\" points=\"561.5001,-197.298 558,-187.2981 554.5001,-197.2981 561.5001,-197.298\" stroke=\"#000000\"/>\n",
       "</g>\n",
       "<!-- 5 -->\n",
       "<g class=\"node\" id=\"node6\">\n",
       "<title>5</title>\n",
       "<polygon fill=\"#e58139\" points=\"158,-68 0,-68 0,0 158,0 158,-68\" stroke=\"#000000\"/>\n",
       "<text fill=\"#000000\" font-family=\"Times,serif\" font-size=\"14.00\" text-anchor=\"middle\" x=\"79\" y=\"-52.8\">gini = 0.0</text>\n",
       "<text fill=\"#000000\" font-family=\"Times,serif\" font-size=\"14.00\" text-anchor=\"middle\" x=\"79\" y=\"-37.8\">samples = 33</text>\n",
       "<text fill=\"#000000\" font-family=\"Times,serif\" font-size=\"14.00\" text-anchor=\"middle\" x=\"79\" y=\"-22.8\">value = [33, 0, 0, 0]</text>\n",
       "<text fill=\"#000000\" font-family=\"Times,serif\" font-size=\"14.00\" text-anchor=\"middle\" x=\"79\" y=\"-7.8\">class = 0</text>\n",
       "</g>\n",
       "<!-- 4&#45;&gt;5 -->\n",
       "<g class=\"edge\" id=\"edge5\">\n",
       "<title>4-&gt;5</title>\n",
       "<path d=\"M197.6234,-103.9815C180.5531,-93.911 162.3574,-83.1764 145.4739,-73.2161\" fill=\"none\" stroke=\"#000000\"/>\n",
       "<polygon fill=\"#000000\" points=\"147.1688,-70.1523 136.7774,-68.0856 143.6119,-76.1813 147.1688,-70.1523\" stroke=\"#000000\"/>\n",
       "</g>\n",
       "<!-- 6 -->\n",
       "<g class=\"node\" id=\"node7\">\n",
       "<title>6</title>\n",
       "<polygon fill=\"#e58139\" fill-opacity=\"0.807843\" points=\"360.5,-68 175.5,-68 175.5,0 360.5,0 360.5,-68\" stroke=\"#000000\"/>\n",
       "<text fill=\"#000000\" font-family=\"Times,serif\" font-size=\"14.00\" text-anchor=\"middle\" x=\"268\" y=\"-52.8\">gini = 0.303</text>\n",
       "<text fill=\"#000000\" font-family=\"Times,serif\" font-size=\"14.00\" text-anchor=\"middle\" x=\"268\" y=\"-37.8\">samples = 218</text>\n",
       "<text fill=\"#000000\" font-family=\"Times,serif\" font-size=\"14.00\" text-anchor=\"middle\" x=\"268\" y=\"-22.8\">value = [180, 19, 19, 0]</text>\n",
       "<text fill=\"#000000\" font-family=\"Times,serif\" font-size=\"14.00\" text-anchor=\"middle\" x=\"268\" y=\"-7.8\">class = 0</text>\n",
       "</g>\n",
       "<!-- 4&#45;&gt;6 -->\n",
       "<g class=\"edge\" id=\"edge6\">\n",
       "<title>4-&gt;6</title>\n",
       "<path d=\"M268,-103.9815C268,-95.618 268,-86.7965 268,-78.3409\" fill=\"none\" stroke=\"#000000\"/>\n",
       "<polygon fill=\"#000000\" points=\"271.5001,-78.2636 268,-68.2637 264.5001,-78.2637 271.5001,-78.2636\" stroke=\"#000000\"/>\n",
       "</g>\n",
       "<!-- 8 -->\n",
       "<g class=\"node\" id=\"node9\">\n",
       "<title>8</title>\n",
       "<polygon fill=\"#e58139\" fill-opacity=\"0.713725\" points=\"527.5,-68 378.5,-68 378.5,0 527.5,0 527.5,-68\" stroke=\"#000000\"/>\n",
       "<text fill=\"#000000\" font-family=\"Times,serif\" font-size=\"14.00\" text-anchor=\"middle\" x=\"453\" y=\"-52.8\">gini = 0.406</text>\n",
       "<text fill=\"#000000\" font-family=\"Times,serif\" font-size=\"14.00\" text-anchor=\"middle\" x=\"453\" y=\"-37.8\">samples = 8</text>\n",
       "<text fill=\"#000000\" font-family=\"Times,serif\" font-size=\"14.00\" text-anchor=\"middle\" x=\"453\" y=\"-22.8\">value = [6, 1, 1, 0]</text>\n",
       "<text fill=\"#000000\" font-family=\"Times,serif\" font-size=\"14.00\" text-anchor=\"middle\" x=\"453\" y=\"-7.8\">class = 0</text>\n",
       "</g>\n",
       "<!-- 7&#45;&gt;8 -->\n",
       "<g class=\"edge\" id=\"edge8\">\n",
       "<title>7-&gt;8</title>\n",
       "<path d=\"M518.9019,-103.9815C510.1604,-94.6989 500.8878,-84.8522 492.1444,-75.5677\" fill=\"none\" stroke=\"#000000\"/>\n",
       "<polygon fill=\"#000000\" points=\"494.67,-73.1443 485.2662,-68.2637 489.5739,-77.9433 494.67,-73.1443\" stroke=\"#000000\"/>\n",
       "</g>\n",
       "<!-- 9 -->\n",
       "<g class=\"node\" id=\"node10\">\n",
       "<title>9</title>\n",
       "<polygon fill=\"#399de5\" points=\"694.5,-68 545.5,-68 545.5,0 694.5,0 694.5,-68\" stroke=\"#000000\"/>\n",
       "<text fill=\"#000000\" font-family=\"Times,serif\" font-size=\"14.00\" text-anchor=\"middle\" x=\"620\" y=\"-52.8\">gini = 0.0</text>\n",
       "<text fill=\"#000000\" font-family=\"Times,serif\" font-size=\"14.00\" text-anchor=\"middle\" x=\"620\" y=\"-37.8\">samples = 2</text>\n",
       "<text fill=\"#000000\" font-family=\"Times,serif\" font-size=\"14.00\" text-anchor=\"middle\" x=\"620\" y=\"-22.8\">value = [0, 0, 2, 0]</text>\n",
       "<text fill=\"#000000\" font-family=\"Times,serif\" font-size=\"14.00\" text-anchor=\"middle\" x=\"620\" y=\"-7.8\">class = 2</text>\n",
       "</g>\n",
       "<!-- 7&#45;&gt;9 -->\n",
       "<g class=\"edge\" id=\"edge9\">\n",
       "<title>7-&gt;9</title>\n",
       "<path d=\"M581.0865,-103.9815C585.9415,-95.2504 591.074,-86.0202 595.9629,-77.2281\" fill=\"none\" stroke=\"#000000\"/>\n",
       "<polygon fill=\"#000000\" points=\"599.1467,-78.7043 600.9476,-68.2637 593.0288,-75.3025 599.1467,-78.7043\" stroke=\"#000000\"/>\n",
       "</g>\n",
       "<!-- 11 -->\n",
       "<g class=\"node\" id=\"node12\">\n",
       "<title>11</title>\n",
       "<polygon fill=\"#e58139\" fill-opacity=\"0.549020\" points=\"884,-187 726,-187 726,-104 884,-104 884,-187\" stroke=\"#000000\"/>\n",
       "<text fill=\"#000000\" font-family=\"Times,serif\" font-size=\"14.00\" text-anchor=\"middle\" x=\"805\" y=\"-171.8\">Discussion &lt;= 36.5</text>\n",
       "<text fill=\"#000000\" font-family=\"Times,serif\" font-size=\"14.00\" text-anchor=\"middle\" x=\"805\" y=\"-156.8\">gini = 0.483</text>\n",
       "<text fill=\"#000000\" font-family=\"Times,serif\" font-size=\"14.00\" text-anchor=\"middle\" x=\"805\" y=\"-141.8\">samples = 27</text>\n",
       "<text fill=\"#000000\" font-family=\"Times,serif\" font-size=\"14.00\" text-anchor=\"middle\" x=\"805\" y=\"-126.8\">value = [18, 2, 7, 0]</text>\n",
       "<text fill=\"#000000\" font-family=\"Times,serif\" font-size=\"14.00\" text-anchor=\"middle\" x=\"805\" y=\"-111.8\">class = 0</text>\n",
       "</g>\n",
       "<!-- 10&#45;&gt;11 -->\n",
       "<g class=\"edge\" id=\"edge11\">\n",
       "<title>10-&gt;11</title>\n",
       "<path d=\"M860.9214,-222.8796C854.5428,-214.0534 847.746,-204.6485 841.1681,-195.5466\" fill=\"none\" stroke=\"#000000\"/>\n",
       "<polygon fill=\"#000000\" points=\"843.9012,-193.353 835.207,-187.2981 838.2277,-197.4532 843.9012,-193.353\" stroke=\"#000000\"/>\n",
       "</g>\n",
       "<!-- 14 -->\n",
       "<g class=\"node\" id=\"node15\">\n",
       "<title>14</title>\n",
       "<polygon fill=\"#47e539\" points=\"1050.5,-179.5 901.5,-179.5 901.5,-111.5 1050.5,-111.5 1050.5,-179.5\" stroke=\"#000000\"/>\n",
       "<text fill=\"#000000\" font-family=\"Times,serif\" font-size=\"14.00\" text-anchor=\"middle\" x=\"976\" y=\"-164.3\">gini = 0.0</text>\n",
       "<text fill=\"#000000\" font-family=\"Times,serif\" font-size=\"14.00\" text-anchor=\"middle\" x=\"976\" y=\"-149.3\">samples = 2</text>\n",
       "<text fill=\"#000000\" font-family=\"Times,serif\" font-size=\"14.00\" text-anchor=\"middle\" x=\"976\" y=\"-134.3\">value = [0, 2, 0, 0]</text>\n",
       "<text fill=\"#000000\" font-family=\"Times,serif\" font-size=\"14.00\" text-anchor=\"middle\" x=\"976\" y=\"-119.3\">class = 1</text>\n",
       "</g>\n",
       "<!-- 10&#45;&gt;14 -->\n",
       "<g class=\"edge\" id=\"edge14\">\n",
       "<title>10-&gt;14</title>\n",
       "<path d=\"M920.7289,-222.8796C928.7403,-211.6636 937.4192,-199.5131 945.4734,-188.2372\" fill=\"none\" stroke=\"#000000\"/>\n",
       "<polygon fill=\"#000000\" points=\"948.525,-189.9866 951.4893,-179.8149 942.8288,-185.9179 948.525,-189.9866\" stroke=\"#000000\"/>\n",
       "</g>\n",
       "<!-- 12 -->\n",
       "<g class=\"node\" id=\"node13\">\n",
       "<title>12</title>\n",
       "<polygon fill=\"#e58139\" fill-opacity=\"0.200000\" points=\"861.5,-68 712.5,-68 712.5,0 861.5,0 861.5,-68\" stroke=\"#000000\"/>\n",
       "<text fill=\"#000000\" font-family=\"Times,serif\" font-size=\"14.00\" text-anchor=\"middle\" x=\"787\" y=\"-52.8\">gini = 0.594</text>\n",
       "<text fill=\"#000000\" font-family=\"Times,serif\" font-size=\"14.00\" text-anchor=\"middle\" x=\"787\" y=\"-37.8\">samples = 16</text>\n",
       "<text fill=\"#000000\" font-family=\"Times,serif\" font-size=\"14.00\" text-anchor=\"middle\" x=\"787\" y=\"-22.8\">value = [8, 2, 6, 0]</text>\n",
       "<text fill=\"#000000\" font-family=\"Times,serif\" font-size=\"14.00\" text-anchor=\"middle\" x=\"787\" y=\"-7.8\">class = 0</text>\n",
       "</g>\n",
       "<!-- 11&#45;&gt;12 -->\n",
       "<g class=\"edge\" id=\"edge12\">\n",
       "<title>11-&gt;12</title>\n",
       "<path d=\"M798.2975,-103.9815C796.9473,-95.618 795.5232,-86.7965 794.1582,-78.3409\" fill=\"none\" stroke=\"#000000\"/>\n",
       "<polygon fill=\"#000000\" points=\"797.5804,-77.578 792.5314,-68.2637 790.6699,-78.6937 797.5804,-77.578\" stroke=\"#000000\"/>\n",
       "</g>\n",
       "<!-- 13 -->\n",
       "<g class=\"node\" id=\"node14\">\n",
       "<title>13</title>\n",
       "<polygon fill=\"#e58139\" fill-opacity=\"0.901961\" points=\"1037,-68 879,-68 879,0 1037,0 1037,-68\" stroke=\"#000000\"/>\n",
       "<text fill=\"#000000\" font-family=\"Times,serif\" font-size=\"14.00\" text-anchor=\"middle\" x=\"958\" y=\"-52.8\">gini = 0.165</text>\n",
       "<text fill=\"#000000\" font-family=\"Times,serif\" font-size=\"14.00\" text-anchor=\"middle\" x=\"958\" y=\"-37.8\">samples = 11</text>\n",
       "<text fill=\"#000000\" font-family=\"Times,serif\" font-size=\"14.00\" text-anchor=\"middle\" x=\"958\" y=\"-22.8\">value = [10, 0, 1, 0]</text>\n",
       "<text fill=\"#000000\" font-family=\"Times,serif\" font-size=\"14.00\" text-anchor=\"middle\" x=\"958\" y=\"-7.8\">class = 0</text>\n",
       "</g>\n",
       "<!-- 11&#45;&gt;13 -->\n",
       "<g class=\"edge\" id=\"edge13\">\n",
       "<title>11-&gt;13</title>\n",
       "<path d=\"M861.9716,-103.9815C875.3396,-94.2394 889.5604,-83.8759 902.8472,-74.193\" fill=\"none\" stroke=\"#000000\"/>\n",
       "<polygon fill=\"#000000\" points=\"904.9632,-76.9819 910.9835,-68.2637 900.8405,-71.3247 904.9632,-76.9819\" stroke=\"#000000\"/>\n",
       "</g>\n",
       "<!-- 16 -->\n",
       "<g class=\"node\" id=\"node17\">\n",
       "<title>16</title>\n",
       "<polygon fill=\"#e58139\" fill-opacity=\"0.729412\" points=\"1363.5,-306 1178.5,-306 1178.5,-223 1363.5,-223 1363.5,-306\" stroke=\"#000000\"/>\n",
       "<text fill=\"#000000\" font-family=\"Times,serif\" font-size=\"14.00\" text-anchor=\"middle\" x=\"1271\" y=\"-290.8\">RaisedHands &lt;= 78.5</text>\n",
       "<text fill=\"#000000\" font-family=\"Times,serif\" font-size=\"14.00\" text-anchor=\"middle\" x=\"1271\" y=\"-275.8\">gini = 0.381</text>\n",
       "<text fill=\"#000000\" font-family=\"Times,serif\" font-size=\"14.00\" text-anchor=\"middle\" x=\"1271\" y=\"-260.8\">samples = 143</text>\n",
       "<text fill=\"#000000\" font-family=\"Times,serif\" font-size=\"14.00\" text-anchor=\"middle\" x=\"1271\" y=\"-245.8\">value = [110, 11, 21, 1]</text>\n",
       "<text fill=\"#000000\" font-family=\"Times,serif\" font-size=\"14.00\" text-anchor=\"middle\" x=\"1271\" y=\"-230.8\">class = 0</text>\n",
       "</g>\n",
       "<!-- 15&#45;&gt;16 -->\n",
       "<g class=\"edge\" id=\"edge16\">\n",
       "<title>15-&gt;16</title>\n",
       "<path d=\"M1271,-341.8796C1271,-333.6838 1271,-324.9891 1271,-316.5013\" fill=\"none\" stroke=\"#000000\"/>\n",
       "<polygon fill=\"#000000\" points=\"1274.5001,-316.298 1271,-306.2981 1267.5001,-316.2981 1274.5001,-316.298\" stroke=\"#000000\"/>\n",
       "</g>\n",
       "<!-- 21 -->\n",
       "<g class=\"node\" id=\"node22\">\n",
       "<title>21</title>\n",
       "<polygon fill=\"#399de5\" fill-opacity=\"0.047059\" points=\"1718,-306 1512,-306 1512,-223 1718,-223 1718,-306\" stroke=\"#000000\"/>\n",
       "<text fill=\"#000000\" font-family=\"Times,serif\" font-size=\"14.00\" text-anchor=\"middle\" x=\"1615\" y=\"-290.8\">VisitedResources &lt;= 77.5</text>\n",
       "<text fill=\"#000000\" font-family=\"Times,serif\" font-size=\"14.00\" text-anchor=\"middle\" x=\"1615\" y=\"-275.8\">gini = 0.637</text>\n",
       "<text fill=\"#000000\" font-family=\"Times,serif\" font-size=\"14.00\" text-anchor=\"middle\" x=\"1615\" y=\"-260.8\">samples = 36</text>\n",
       "<text fill=\"#000000\" font-family=\"Times,serif\" font-size=\"14.00\" text-anchor=\"middle\" x=\"1615\" y=\"-245.8\">value = [14, 7, 15, 0]</text>\n",
       "<text fill=\"#000000\" font-family=\"Times,serif\" font-size=\"14.00\" text-anchor=\"middle\" x=\"1615\" y=\"-230.8\">class = 2</text>\n",
       "</g>\n",
       "<!-- 15&#45;&gt;21 -->\n",
       "<g class=\"edge\" id=\"edge21\">\n",
       "<title>15-&gt;21</title>\n",
       "<path d=\"M1363.722,-345.4241C1366.8459,-344.2534 1369.945,-343.1088 1373,-342 1414.8462,-326.8118 1461.304,-311.5555 1502.2358,-298.6448\" fill=\"none\" stroke=\"#000000\"/>\n",
       "<polygon fill=\"#000000\" points=\"1503.4778,-301.9234 1511.9684,-295.5862 1501.3791,-295.2454 1503.4778,-301.9234\" stroke=\"#000000\"/>\n",
       "</g>\n",
       "<!-- 17 -->\n",
       "<g class=\"node\" id=\"node18\">\n",
       "<title>17</title>\n",
       "<polygon fill=\"#e58139\" fill-opacity=\"0.764706\" points=\"1271.5,-187 1086.5,-187 1086.5,-104 1271.5,-104 1271.5,-187\" stroke=\"#000000\"/>\n",
       "<text fill=\"#000000\" font-family=\"Times,serif\" font-size=\"14.00\" text-anchor=\"middle\" x=\"1179\" y=\"-171.8\">RaisedHands &lt;= 35.5</text>\n",
       "<text fill=\"#000000\" font-family=\"Times,serif\" font-size=\"14.00\" text-anchor=\"middle\" x=\"1179\" y=\"-156.8\">gini = 0.351</text>\n",
       "<text fill=\"#000000\" font-family=\"Times,serif\" font-size=\"14.00\" text-anchor=\"middle\" x=\"1179\" y=\"-141.8\">samples = 135</text>\n",
       "<text fill=\"#000000\" font-family=\"Times,serif\" font-size=\"14.00\" text-anchor=\"middle\" x=\"1179\" y=\"-126.8\">value = [107, 11, 16, 1]</text>\n",
       "<text fill=\"#000000\" font-family=\"Times,serif\" font-size=\"14.00\" text-anchor=\"middle\" x=\"1179\" y=\"-111.8\">class = 0</text>\n",
       "</g>\n",
       "<!-- 16&#45;&gt;17 -->\n",
       "<g class=\"edge\" id=\"edge17\">\n",
       "<title>16-&gt;17</title>\n",
       "<path d=\"M1238.8229,-222.8796C1231.9296,-213.9633 1224.5798,-204.4565 1217.4761,-195.268\" fill=\"none\" stroke=\"#000000\"/>\n",
       "<polygon fill=\"#000000\" points=\"1220.1999,-193.0687 1211.3145,-187.2981 1214.6619,-197.3502 1220.1999,-193.0687\" stroke=\"#000000\"/>\n",
       "</g>\n",
       "<!-- 20 -->\n",
       "<g class=\"node\" id=\"node21\">\n",
       "<title>20</title>\n",
       "<polygon fill=\"#399de5\" fill-opacity=\"0.400000\" points=\"1438.5,-179.5 1289.5,-179.5 1289.5,-111.5 1438.5,-111.5 1438.5,-179.5\" stroke=\"#000000\"/>\n",
       "<text fill=\"#000000\" font-family=\"Times,serif\" font-size=\"14.00\" text-anchor=\"middle\" x=\"1364\" y=\"-164.3\">gini = 0.469</text>\n",
       "<text fill=\"#000000\" font-family=\"Times,serif\" font-size=\"14.00\" text-anchor=\"middle\" x=\"1364\" y=\"-149.3\">samples = 8</text>\n",
       "<text fill=\"#000000\" font-family=\"Times,serif\" font-size=\"14.00\" text-anchor=\"middle\" x=\"1364\" y=\"-134.3\">value = [3, 0, 5, 0]</text>\n",
       "<text fill=\"#000000\" font-family=\"Times,serif\" font-size=\"14.00\" text-anchor=\"middle\" x=\"1364\" y=\"-119.3\">class = 2</text>\n",
       "</g>\n",
       "<!-- 16&#45;&gt;20 -->\n",
       "<g class=\"edge\" id=\"edge20\">\n",
       "<title>16-&gt;20</title>\n",
       "<path d=\"M1303.5269,-222.8796C1312.3783,-211.5536 1321.9743,-199.2748 1330.8593,-187.9058\" fill=\"none\" stroke=\"#000000\"/>\n",
       "<polygon fill=\"#000000\" points=\"1333.7824,-189.8494 1337.1824,-179.8149 1328.2669,-185.539 1333.7824,-189.8494\" stroke=\"#000000\"/>\n",
       "</g>\n",
       "<!-- 18 -->\n",
       "<g class=\"node\" id=\"node19\">\n",
       "<title>18</title>\n",
       "<polygon fill=\"#e58139\" fill-opacity=\"0.831373\" points=\"1221.5,-68 1054.5,-68 1054.5,0 1221.5,0 1221.5,-68\" stroke=\"#000000\"/>\n",
       "<text fill=\"#000000\" font-family=\"Times,serif\" font-size=\"14.00\" text-anchor=\"middle\" x=\"1138\" y=\"-52.8\">gini = 0.259</text>\n",
       "<text fill=\"#000000\" font-family=\"Times,serif\" font-size=\"14.00\" text-anchor=\"middle\" x=\"1138\" y=\"-37.8\">samples = 95</text>\n",
       "<text fill=\"#000000\" font-family=\"Times,serif\" font-size=\"14.00\" text-anchor=\"middle\" x=\"1138\" y=\"-22.8\">value = [81, 3, 11, 0]</text>\n",
       "<text fill=\"#000000\" font-family=\"Times,serif\" font-size=\"14.00\" text-anchor=\"middle\" x=\"1138\" y=\"-7.8\">class = 0</text>\n",
       "</g>\n",
       "<!-- 17&#45;&gt;18 -->\n",
       "<g class=\"edge\" id=\"edge18\">\n",
       "<title>17-&gt;18</title>\n",
       "<path d=\"M1163.7331,-103.9815C1160.5902,-95.4342 1157.2713,-86.4086 1154.0999,-77.7839\" fill=\"none\" stroke=\"#000000\"/>\n",
       "<polygon fill=\"#000000\" points=\"1157.3354,-76.4413 1150.5992,-68.2637 1150.7655,-78.8572 1157.3354,-76.4413\" stroke=\"#000000\"/>\n",
       "</g>\n",
       "<!-- 19 -->\n",
       "<g class=\"node\" id=\"node20\">\n",
       "<title>19</title>\n",
       "<polygon fill=\"#e58139\" fill-opacity=\"0.560784\" points=\"1397,-68 1239,-68 1239,0 1397,0 1397,-68\" stroke=\"#000000\"/>\n",
       "<text fill=\"#000000\" font-family=\"Times,serif\" font-size=\"14.00\" text-anchor=\"middle\" x=\"1318\" y=\"-52.8\">gini = 0.521</text>\n",
       "<text fill=\"#000000\" font-family=\"Times,serif\" font-size=\"14.00\" text-anchor=\"middle\" x=\"1318\" y=\"-37.8\">samples = 40</text>\n",
       "<text fill=\"#000000\" font-family=\"Times,serif\" font-size=\"14.00\" text-anchor=\"middle\" x=\"1318\" y=\"-22.8\">value = [26, 8, 5, 1]</text>\n",
       "<text fill=\"#000000\" font-family=\"Times,serif\" font-size=\"14.00\" text-anchor=\"middle\" x=\"1318\" y=\"-7.8\">class = 0</text>\n",
       "</g>\n",
       "<!-- 17&#45;&gt;19 -->\n",
       "<g class=\"edge\" id=\"edge19\">\n",
       "<title>17-&gt;19</title>\n",
       "<path d=\"M1230.7585,-103.9815C1242.6742,-94.4232 1255.3356,-84.2668 1267.2097,-74.7419\" fill=\"none\" stroke=\"#000000\"/>\n",
       "<polygon fill=\"#000000\" points=\"1269.6752,-77.2511 1275.2856,-68.2637 1265.2951,-71.7907 1269.6752,-77.2511\" stroke=\"#000000\"/>\n",
       "</g>\n",
       "<!-- 22 -->\n",
       "<g class=\"node\" id=\"node23\">\n",
       "<title>22</title>\n",
       "<polygon fill=\"#399de5\" fill-opacity=\"0.572549\" points=\"1703,-187 1527,-187 1527,-104 1703,-104 1703,-187\" stroke=\"#000000\"/>\n",
       "<text fill=\"#000000\" font-family=\"Times,serif\" font-size=\"14.00\" text-anchor=\"middle\" x=\"1615\" y=\"-171.8\">RaisedHands &lt;= 88.5</text>\n",
       "<text fill=\"#000000\" font-family=\"Times,serif\" font-size=\"14.00\" text-anchor=\"middle\" x=\"1615\" y=\"-156.8\">gini = 0.519</text>\n",
       "<text fill=\"#000000\" font-family=\"Times,serif\" font-size=\"14.00\" text-anchor=\"middle\" x=\"1615\" y=\"-141.8\">samples = 17</text>\n",
       "<text fill=\"#000000\" font-family=\"Times,serif\" font-size=\"14.00\" text-anchor=\"middle\" x=\"1615\" y=\"-126.8\">value = [3, 3, 11, 0]</text>\n",
       "<text fill=\"#000000\" font-family=\"Times,serif\" font-size=\"14.00\" text-anchor=\"middle\" x=\"1615\" y=\"-111.8\">class = 2</text>\n",
       "</g>\n",
       "<!-- 21&#45;&gt;22 -->\n",
       "<g class=\"edge\" id=\"edge22\">\n",
       "<title>21-&gt;22</title>\n",
       "<path d=\"M1615,-222.8796C1615,-214.6838 1615,-205.9891 1615,-197.5013\" fill=\"none\" stroke=\"#000000\"/>\n",
       "<polygon fill=\"#000000\" points=\"1618.5001,-197.298 1615,-187.2981 1611.5001,-197.2981 1618.5001,-197.298\" stroke=\"#000000\"/>\n",
       "</g>\n",
       "<!-- 25 -->\n",
       "<g class=\"node\" id=\"node26\">\n",
       "<title>25</title>\n",
       "<polygon fill=\"#e58139\" fill-opacity=\"0.466667\" points=\"1915,-187 1757,-187 1757,-104 1915,-104 1915,-187\" stroke=\"#000000\"/>\n",
       "<text fill=\"#000000\" font-family=\"Times,serif\" font-size=\"14.00\" text-anchor=\"middle\" x=\"1836\" y=\"-171.8\">Math &lt;= 0.5</text>\n",
       "<text fill=\"#000000\" font-family=\"Times,serif\" font-size=\"14.00\" text-anchor=\"middle\" x=\"1836\" y=\"-156.8\">gini = 0.576</text>\n",
       "<text fill=\"#000000\" font-family=\"Times,serif\" font-size=\"14.00\" text-anchor=\"middle\" x=\"1836\" y=\"-141.8\">samples = 19</text>\n",
       "<text fill=\"#000000\" font-family=\"Times,serif\" font-size=\"14.00\" text-anchor=\"middle\" x=\"1836\" y=\"-126.8\">value = [11, 4, 4, 0]</text>\n",
       "<text fill=\"#000000\" font-family=\"Times,serif\" font-size=\"14.00\" text-anchor=\"middle\" x=\"1836\" y=\"-111.8\">class = 0</text>\n",
       "</g>\n",
       "<!-- 21&#45;&gt;25 -->\n",
       "<g class=\"edge\" id=\"edge25\">\n",
       "<title>21-&gt;25</title>\n",
       "<path d=\"M1692.2951,-222.8796C1710.8848,-212.8697 1730.8567,-202.1156 1749.8227,-191.9031\" fill=\"none\" stroke=\"#000000\"/>\n",
       "<polygon fill=\"#000000\" points=\"1751.6032,-194.9196 1758.7486,-187.0969 1748.2845,-188.7563 1751.6032,-194.9196\" stroke=\"#000000\"/>\n",
       "</g>\n",
       "<!-- 23 -->\n",
       "<g class=\"node\" id=\"node24\">\n",
       "<title>23</title>\n",
       "<polygon fill=\"#399de5\" fill-opacity=\"0.666667\" points=\"1573,-68 1415,-68 1415,0 1573,0 1573,-68\" stroke=\"#000000\"/>\n",
       "<text fill=\"#000000\" font-family=\"Times,serif\" font-size=\"14.00\" text-anchor=\"middle\" x=\"1494\" y=\"-52.8\">gini = 0.418</text>\n",
       "<text fill=\"#000000\" font-family=\"Times,serif\" font-size=\"14.00\" text-anchor=\"middle\" x=\"1494\" y=\"-37.8\">samples = 15</text>\n",
       "<text fill=\"#000000\" font-family=\"Times,serif\" font-size=\"14.00\" text-anchor=\"middle\" x=\"1494\" y=\"-22.8\">value = [1, 3, 11, 0]</text>\n",
       "<text fill=\"#000000\" font-family=\"Times,serif\" font-size=\"14.00\" text-anchor=\"middle\" x=\"1494\" y=\"-7.8\">class = 2</text>\n",
       "</g>\n",
       "<!-- 22&#45;&gt;23 -->\n",
       "<g class=\"edge\" id=\"edge23\">\n",
       "<title>22-&gt;23</title>\n",
       "<path d=\"M1569.9441,-103.9815C1559.7709,-94.607 1548.9733,-84.6572 1538.8102,-75.2921\" fill=\"none\" stroke=\"#000000\"/>\n",
       "<polygon fill=\"#000000\" points=\"1540.9087,-72.4663 1531.183,-68.2637 1536.1651,-77.6141 1540.9087,-72.4663\" stroke=\"#000000\"/>\n",
       "</g>\n",
       "<!-- 24 -->\n",
       "<g class=\"node\" id=\"node25\">\n",
       "<title>24</title>\n",
       "<polygon fill=\"#e58139\" points=\"1739.5,-68 1590.5,-68 1590.5,0 1739.5,0 1739.5,-68\" stroke=\"#000000\"/>\n",
       "<text fill=\"#000000\" font-family=\"Times,serif\" font-size=\"14.00\" text-anchor=\"middle\" x=\"1665\" y=\"-52.8\">gini = 0.0</text>\n",
       "<text fill=\"#000000\" font-family=\"Times,serif\" font-size=\"14.00\" text-anchor=\"middle\" x=\"1665\" y=\"-37.8\">samples = 2</text>\n",
       "<text fill=\"#000000\" font-family=\"Times,serif\" font-size=\"14.00\" text-anchor=\"middle\" x=\"1665\" y=\"-22.8\">value = [2, 0, 0, 0]</text>\n",
       "<text fill=\"#000000\" font-family=\"Times,serif\" font-size=\"14.00\" text-anchor=\"middle\" x=\"1665\" y=\"-7.8\">class = 0</text>\n",
       "</g>\n",
       "<!-- 22&#45;&gt;24 -->\n",
       "<g class=\"edge\" id=\"edge24\">\n",
       "<title>22-&gt;24</title>\n",
       "<path d=\"M1633.6182,-103.9815C1637.4922,-95.3423 1641.5855,-86.2144 1645.4906,-77.5059\" fill=\"none\" stroke=\"#000000\"/>\n",
       "<polygon fill=\"#000000\" points=\"1648.7369,-78.8204 1649.6351,-68.2637 1642.3497,-75.9561 1648.7369,-78.8204\" stroke=\"#000000\"/>\n",
       "</g>\n",
       "<!-- 26 -->\n",
       "<g class=\"node\" id=\"node27\">\n",
       "<title>26</title>\n",
       "<polygon fill=\"#e58139\" fill-opacity=\"0.537255\" points=\"1915,-68 1757,-68 1757,0 1915,0 1915,-68\" stroke=\"#000000\"/>\n",
       "<text fill=\"#000000\" font-family=\"Times,serif\" font-size=\"14.00\" text-anchor=\"middle\" x=\"1836\" y=\"-52.8\">gini = 0.512</text>\n",
       "<text fill=\"#000000\" font-family=\"Times,serif\" font-size=\"14.00\" text-anchor=\"middle\" x=\"1836\" y=\"-37.8\">samples = 17</text>\n",
       "<text fill=\"#000000\" font-family=\"Times,serif\" font-size=\"14.00\" text-anchor=\"middle\" x=\"1836\" y=\"-22.8\">value = [11, 4, 2, 0]</text>\n",
       "<text fill=\"#000000\" font-family=\"Times,serif\" font-size=\"14.00\" text-anchor=\"middle\" x=\"1836\" y=\"-7.8\">class = 0</text>\n",
       "</g>\n",
       "<!-- 25&#45;&gt;26 -->\n",
       "<g class=\"edge\" id=\"edge26\">\n",
       "<title>25-&gt;26</title>\n",
       "<path d=\"M1836,-103.9815C1836,-95.618 1836,-86.7965 1836,-78.3409\" fill=\"none\" stroke=\"#000000\"/>\n",
       "<polygon fill=\"#000000\" points=\"1839.5001,-78.2636 1836,-68.2637 1832.5001,-78.2637 1839.5001,-78.2636\" stroke=\"#000000\"/>\n",
       "</g>\n",
       "<!-- 27 -->\n",
       "<g class=\"node\" id=\"node28\">\n",
       "<title>27</title>\n",
       "<polygon fill=\"#399de5\" points=\"2081.5,-68 1932.5,-68 1932.5,0 2081.5,0 2081.5,-68\" stroke=\"#000000\"/>\n",
       "<text fill=\"#000000\" font-family=\"Times,serif\" font-size=\"14.00\" text-anchor=\"middle\" x=\"2007\" y=\"-52.8\">gini = 0.0</text>\n",
       "<text fill=\"#000000\" font-family=\"Times,serif\" font-size=\"14.00\" text-anchor=\"middle\" x=\"2007\" y=\"-37.8\">samples = 2</text>\n",
       "<text fill=\"#000000\" font-family=\"Times,serif\" font-size=\"14.00\" text-anchor=\"middle\" x=\"2007\" y=\"-22.8\">value = [0, 0, 2, 0]</text>\n",
       "<text fill=\"#000000\" font-family=\"Times,serif\" font-size=\"14.00\" text-anchor=\"middle\" x=\"2007\" y=\"-7.8\">class = 2</text>\n",
       "</g>\n",
       "<!-- 25&#45;&gt;27 -->\n",
       "<g class=\"edge\" id=\"edge27\">\n",
       "<title>25-&gt;27</title>\n",
       "<path d=\"M1899.6741,-103.9815C1914.8352,-94.0957 1930.9776,-83.5701 1946.0149,-73.7651\" fill=\"none\" stroke=\"#000000\"/>\n",
       "<polygon fill=\"#000000\" points=\"1948.2603,-76.4794 1954.7252,-68.0856 1944.4369,-70.6158 1948.2603,-76.4794\" stroke=\"#000000\"/>\n",
       "</g>\n",
       "<!-- 29 -->\n",
       "<g class=\"node\" id=\"node30\">\n",
       "<title>29</title>\n",
       "<polygon fill=\"#399de5\" fill-opacity=\"0.713725\" points=\"1530.5,-417.5 1381.5,-417.5 1381.5,-349.5 1530.5,-349.5 1530.5,-417.5\" stroke=\"#000000\"/>\n",
       "<text fill=\"#000000\" font-family=\"Times,serif\" font-size=\"14.00\" text-anchor=\"middle\" x=\"1456\" y=\"-402.3\">gini = 0.406</text>\n",
       "<text fill=\"#000000\" font-family=\"Times,serif\" font-size=\"14.00\" text-anchor=\"middle\" x=\"1456\" y=\"-387.3\">samples = 8</text>\n",
       "<text fill=\"#000000\" font-family=\"Times,serif\" font-size=\"14.00\" text-anchor=\"middle\" x=\"1456\" y=\"-372.3\">value = [1, 1, 6, 0]</text>\n",
       "<text fill=\"#000000\" font-family=\"Times,serif\" font-size=\"14.00\" text-anchor=\"middle\" x=\"1456\" y=\"-357.3\">class = 2</text>\n",
       "</g>\n",
       "<!-- 28&#45;&gt;29 -->\n",
       "<g class=\"edge\" id=\"edge29\">\n",
       "<title>28-&gt;29</title>\n",
       "<path d=\"M1456,-460.8796C1456,-450.2134 1456,-438.7021 1456,-427.9015\" fill=\"none\" stroke=\"#000000\"/>\n",
       "<polygon fill=\"#000000\" points=\"1459.5001,-427.8149 1456,-417.8149 1452.5001,-427.815 1459.5001,-427.8149\" stroke=\"#000000\"/>\n",
       "</g>\n",
       "<!-- 30 -->\n",
       "<g class=\"node\" id=\"node31\">\n",
       "<title>30</title>\n",
       "<polygon fill=\"#e58139\" fill-opacity=\"0.498039\" points=\"1697.5,-417.5 1548.5,-417.5 1548.5,-349.5 1697.5,-349.5 1697.5,-417.5\" stroke=\"#000000\"/>\n",
       "<text fill=\"#000000\" font-family=\"Times,serif\" font-size=\"14.00\" text-anchor=\"middle\" x=\"1623\" y=\"-402.3\">gini = 0.444</text>\n",
       "<text fill=\"#000000\" font-family=\"Times,serif\" font-size=\"14.00\" text-anchor=\"middle\" x=\"1623\" y=\"-387.3\">samples = 3</text>\n",
       "<text fill=\"#000000\" font-family=\"Times,serif\" font-size=\"14.00\" text-anchor=\"middle\" x=\"1623\" y=\"-372.3\">value = [2, 1, 0, 0]</text>\n",
       "<text fill=\"#000000\" font-family=\"Times,serif\" font-size=\"14.00\" text-anchor=\"middle\" x=\"1623\" y=\"-357.3\">class = 0</text>\n",
       "</g>\n",
       "<!-- 28&#45;&gt;30 -->\n",
       "<g class=\"edge\" id=\"edge30\">\n",
       "<title>28-&gt;30</title>\n",
       "<path d=\"M1514.4085,-460.8796C1531.464,-448.7263 1550.0591,-435.4759 1566.9641,-423.4297\" fill=\"none\" stroke=\"#000000\"/>\n",
       "<polygon fill=\"#000000\" points=\"1569.0002,-426.2766 1575.1131,-417.623 1564.938,-420.5759 1569.0002,-426.2766\" stroke=\"#000000\"/>\n",
       "</g>\n",
       "</g>\n",
       "</svg>"
      ],
      "text/plain": [
       "<IPython.core.display.SVG object>"
      ]
     },
     "metadata": {},
     "output_type": "display_data"
    }
   ],
   "source": [
    "from sklearn.tree import export_graphviz\n",
    "from IPython.display import SVG\n",
    "from graphviz import Source\n",
    "from IPython.display import display\n",
    "\n",
    "labels = dfml.columns.tolist()\n",
    "\n",
    "graph = Source(export_graphviz(vola_under_dt,\n",
    "                               out_file=None,\n",
    "                               feature_names=labels,\n",
    "                               class_names=['0', '1', '2', '3'],\n",
    "                               filled = True))\n",
    "display(SVG(graph.pipe(format='svg')))"
   ]
  },
  {
   "cell_type": "code",
   "execution_count": 57,
   "metadata": {},
   "outputs": [],
   "source": [
    "export_graphviz(vola_smote_dt,\n",
    "                impurity=False,\n",
    "                filled=True,\n",
    "                feature_names=labels,\n",
    "                class_names=['0', '1', '2', '3'],\n",
    "                out_file='../MRes/images/smoteDT.dot')"
   ]
  },
  {
   "cell_type": "code",
   "execution_count": 58,
   "metadata": {},
   "outputs": [],
   "source": [
    "export_graphviz(vola_under_dt,\n",
    "                impurity=False,\n",
    "                filled=True,\n",
    "                feature_names=labels,\n",
    "                class_names=['0', '1', '2', '3'],\n",
    "                out_file='../MRes/images/underDT.dot')"
   ]
  },
  {
   "cell_type": "code",
   "execution_count": 59,
   "metadata": {},
   "outputs": [],
   "source": [
    "from sklearn.neighbors import LocalOutlierFactor\n",
    "\n",
    "X = dfml.values\n",
    "lof = LocalOutlierFactor()\n",
    "y_pred = lof.fit_predict(X)\n",
    "X_scores = lof.negative_outlier_factor_"
   ]
  },
  {
   "cell_type": "code",
   "execution_count": 60,
   "metadata": {},
   "outputs": [],
   "source": [
    "df['lof_pred'] = y_pred"
   ]
  },
  {
   "cell_type": "code",
   "execution_count": 61,
   "metadata": {},
   "outputs": [
    {
     "data": {
      "text/plain": [
       " 1    431\n",
       "-1     49\n",
       "Name: lof_pred, dtype: int64"
      ]
     },
     "execution_count": 61,
     "metadata": {},
     "output_type": "execute_result"
    }
   ],
   "source": [
    "df['lof_pred'].value_counts()"
   ]
  },
  {
   "cell_type": "code",
   "execution_count": 62,
   "metadata": {},
   "outputs": [],
   "source": [
    "df.to_csv('../Datasets/academic_interp_all_Gender.csv', index=False)"
   ]
  },
  {
   "cell_type": "markdown",
   "metadata": {},
   "source": [
    "# Plots"
   ]
  },
  {
   "cell_type": "code",
   "execution_count": 1,
   "metadata": {},
   "outputs": [],
   "source": [
    "import pandas as pd\n",
    "import numpy as np\n",
    "import matplotlib.pyplot as plt\n",
    "import seaborn as sns\n",
    "\n",
    "%matplotlib inline\n",
    "\n",
    "sns.set_style(\"whitegrid\")\n",
    "\n",
    "\n",
    "df = pd.read_csv('../Datasets/academic_interp_all_Gender.csv', header=0)\n",
    "df = df.replace({'Class': {'L': 'Low', 'M': 'Mid', 'H': 'High'}})\n",
    "\n",
    "dfplus = pd.read_csv('../Datasets/academic_onehot_all_Gender.csv', header=0)\n",
    "dfplus = dfplus.replace({'Class': {0: 'Low', 1: 'Mid', 2: 'High'},\n",
    "                 'Relation': {0: 'Mother', 1: 'Father'},\n",
    "                 'Gender': {0: 'Female', 1: 'Male'}})\n",
    "\n",
    "zero = df.loc[df.cat_under == 0]\n",
    "one = df.loc[df.cat_under == 1]\n",
    "two = df.loc[df.cat_under == 2]\n",
    "\n",
    "\n",
    "# Blue, purple, red colors\n",
    "ncl2 = [\"#336184\", \"#e1485d\"]\n",
    "ncl3 = [\"#336184\", \"#8a5571\", \"#e1485d\"]\n",
    "ncl4 = [\"#336184\", \"#8a5571\", \"#e1485d\", \"#3D998E\"] \n",
    "\n",
    "# All blue colors\n",
    "#ncl4 = [\"#003a65\", \"#557c98\", \"#aabdcc\", \"#ffffff\"]\n",
    "#ncl3 = [\"#003a65\", \"#557c98\", \"#aabdcc\"]\n",
    "#ncl2 = [\"#003a65\", \"#557c98\"]\n",
    "\n",
    "nclTrue = [\"#003A65\", \"#D91A35\"]\n",
    "\n",
    "sns.set_palette(sns.color_palette(ncl4))\n",
    "\n",
    "c1 = sns.color_palette(ncl4)[0]\n",
    "c2 = sns.color_palette(ncl4)[1]\n",
    "c3 = sns.color_palette(ncl4)[2]\n",
    "c4 = sns.color_palette(ncl4)[3]\n",
    "\n",
    "rc1 = sns.color_palette(nclTrue)[0]\n",
    "rc2 = sns.color_palette(nclTrue)[1]"
   ]
  },
  {
   "cell_type": "code",
   "execution_count": 64,
   "metadata": {},
   "outputs": [
    {
     "data": {
      "image/png": "[encoded data removed]",
      "text/plain": [
       "<Figure size 1080x1080 with 9 Axes>"
      ]
     },
     "metadata": {},
     "output_type": "display_data"
    }
   ],
   "source": [
    "f, axes = plt.subplots(3, 3, figsize=(15, 15))\n",
    "sns.set_palette(sns.color_palette(ncl2))\n",
    "sns.countplot(x=\"Gender\", data=df, order=['Female', 'Male'], ax=axes[0, 0])\n",
    "sns.set_palette(sns.color_palette(ncl3))\n",
    "sns.countplot(x=\"StageID\", data=df, ax=axes[0, 1])\n",
    "axes[0, 1].set_ylabel('')\n",
    "sns.countplot(x=\"SectionID\", data=df, ax=axes[0, 2])\n",
    "axes[0, 2].set_ylabel('')\n",
    "sns.set_palette(sns.color_palette(ncl2))\n",
    "sns.countplot(x=\"Semester\", data=df, ax=axes[1, 0])\n",
    "sns.countplot(x=\"Relation\", data=df, order=['Mother', 'Father'], ax=axes[1, 1])\n",
    "axes[1, 1].set_ylabel('')\n",
    "sns.countplot(x=\"ParentAnsweringSurvey\", data=df, order=['No', 'Yes'], ax=axes[1, 2])\n",
    "axes[1, 2].set_ylabel('')\n",
    "sns.countplot(x=\"ParentSchoolSatisfaction\", data=df, order=['Bad', 'Good'], ax=axes[2, 0])\n",
    "sns.countplot(x=\"StudentAbsenceDays\", data=df, ax=axes[2, 1])\n",
    "axes[2, 1].set_ylabel('')\n",
    "sns.set_palette(sns.color_palette(ncl3))\n",
    "sns.countplot(x=\"Class\", data=df, order=['Low', 'Mid', 'High'], ax=axes[2, 2])\n",
    "axes[2, 2].set_ylabel('')\n",
    "\n",
    "plt.savefig('../MRes/images/histograms.pdf',\n",
    "            bbox_inches=\"tight\", pad_inches=0)\n",
    "plt.show()"
   ]
  },
  {
   "cell_type": "code",
   "execution_count": 65,
   "metadata": {},
   "outputs": [
    {
     "data": {
      "image/png": "[encoded data removed]",
      "text/plain": [
       "<Figure size 432x288 with 1 Axes>"
      ]
     },
     "metadata": {},
     "output_type": "display_data"
    }
   ],
   "source": [
    "sns.set_palette(sns.color_palette(ncl2))\n",
    "sns.countplot(x='Gender', data=df, order=['Female', 'Male'])\n",
    "plt.savefig('../MRes/images/genderCount.pdf', bbox_inches='tight', pad_inches=0)\n",
    "plt.show()"
   ]
  },
  {
   "cell_type": "code",
   "execution_count": 66,
   "metadata": {},
   "outputs": [
    {
     "data": {
      "image/png": "[encoded data removed]",
      "text/plain": [
       "<Figure size 432x288 with 1 Axes>"
      ]
     },
     "metadata": {},
     "output_type": "display_data"
    }
   ],
   "source": [
    "sns.set_palette(sns.color_palette(ncl3))\n",
    "sns.countplot(x='Class', data=df, order=['Low', 'Mid', 'High'])\n",
    "plt.savefig('../MRes/images/classCount.pdf', bbox_inches='tight', pad_inches=0)\n",
    "plt.show()"
   ]
  },
  {
   "cell_type": "code",
   "execution_count": 67,
   "metadata": {},
   "outputs": [
    {
     "data": {
      "image/png": "[encoded data removed]",
      "text/plain": [
       "<Figure size 1080x720 with 6 Axes>"
      ]
     },
     "metadata": {},
     "output_type": "display_data"
    }
   ],
   "source": [
    "f, axes = plt.subplots(2, 3, figsize=(15, 10))\n",
    "sns.set_palette(sns.color_palette(ncl2))\n",
    "sns.countplot(x=\"Gender\", data=df, order=['Female', 'Male'], ax=axes[0, 0])\n",
    "sns.set_palette(sns.color_palette(ncl3))\n",
    "sns.countplot(x=\"StageID\", data=df, ax=axes[0, 1])\n",
    "axes[0, 1].set_ylabel('')\n",
    "sns.set_palette(sns.color_palette(ncl2))\n",
    "sns.countplot(x=\"Relation\", data=df, order=['Mother', 'Father'], ax=axes[0, 2])\n",
    "axes[0, 2].set_ylabel('')\n",
    "sns.countplot(x=\"ParentSchoolSatisfaction\", data=df, order=['Bad', 'Good'], ax=axes[1, 0])\n",
    "sns.countplot(x=\"StudentAbsenceDays\", data=df, ax=axes[1, 1])\n",
    "axes[1, 1].set_ylabel('')\n",
    "sns.set_palette(sns.color_palette(ncl3))\n",
    "sns.countplot(x=\"Class\", data=df, order=['Low', 'Mid', 'High'], ax=axes[1, 2])\n",
    "axes[1, 2].set_ylabel('')\n",
    "\n",
    "plt.savefig('../MRes/images/presCounts.pdf',\n",
    "            bbox_inches=\"tight\", pad_inches=0)\n",
    "plt.show()"
   ]
  },
  {
   "cell_type": "code",
   "execution_count": 68,
   "metadata": {},
   "outputs": [
    {
     "data": {
      "image/png": "[encoded data removed]",
      "text/plain": [
       "<Figure size 720x720 with 16 Axes>"
      ]
     },
     "metadata": {},
     "output_type": "display_data"
    }
   ],
   "source": [
    "f, axes = plt.subplots(4, 4, figsize=(10, 10), sharex=True, sharey=True)\n",
    "\n",
    "sns.distplot(df[\"AnnouncementsView\"], ax=axes[0, 0], color=c4, axlabel='')\n",
    "axes[0, 0].set_ylabel('AnnouncementsView')\n",
    "sns.distplot(zero[\"AnnouncementsView\"], ax=axes[0, 1], color=c1, axlabel='')\n",
    "sns.distplot(one[\"AnnouncementsView\"], ax=axes[0, 2], color=c2, axlabel='')\n",
    "sns.distplot(two[\"AnnouncementsView\"], ax=axes[0, 3], color=c3, axlabel='')\n",
    "\n",
    "sns.distplot(df[\"Discussion\"], ax=axes[1, 0], color=c4, axlabel='')\n",
    "axes[1, 0].set_ylabel('Discussion')\n",
    "sns.distplot(zero[\"Discussion\"], ax=axes[1, 1], color=c1, axlabel='')\n",
    "sns.distplot(one[\"Discussion\"], ax=axes[1, 2], color=c2, axlabel='')\n",
    "sns.distplot(two[\"Discussion\"], ax=axes[1, 3], color=c3, axlabel='')\n",
    "\n",
    "sns.distplot(df[\"RaisedHands\"], ax=axes[2, 0], color=c4, axlabel='')\n",
    "axes[2, 0].set_ylabel('RaisedHands')\n",
    "sns.distplot(zero[\"RaisedHands\"], ax=axes[2, 1], color=c1, axlabel='')\n",
    "sns.distplot(one[\"RaisedHands\"], ax=axes[2, 2], color=c2, axlabel='')\n",
    "sns.distplot(two[\"RaisedHands\"], ax=axes[2, 3], color=c3, axlabel='')\n",
    "\n",
    "sns.distplot(df[\"VisitedResources\"], ax=axes[3, 0], color=c4, axlabel='dataset')\n",
    "axes[3, 0].set_ylabel('VisitedResources')\n",
    "sns.distplot(zero[\"VisitedResources\"], ax=axes[3, 1], color=c1, axlabel='cat_under = 0')\n",
    "sns.distplot(one[\"VisitedResources\"], ax=axes[3, 2], color=c2, axlabel='cat_under = 1')\n",
    "sns.distplot(two[\"VisitedResources\"], ax=axes[3, 3], color=c3, axlabel='cat_under = 2')\n",
    "\n",
    "plt.xlim(0,100)\n",
    "#plt.savefig('../MRes/images/catHist.pdf',\n",
    "#            bbox_inches=\"tight\", pad_inches=0)\n",
    "plt.show()"
   ]
  },
  {
   "cell_type": "code",
   "execution_count": 69,
   "metadata": {},
   "outputs": [
    {
     "data": {
      "image/png": "[encoded data removed]",
      "text/plain": [
       "<Figure size 864x180 with 4 Axes>"
      ]
     },
     "metadata": {},
     "output_type": "display_data"
    }
   ],
   "source": [
    "f, axes = plt.subplots(ncols=4, figsize=(12, 2.5), sharex=True, sharey=True)\n",
    "\n",
    "sns.distplot(df[\"RaisedHands\"], ax=axes[0], color=rc1, axlabel='dataset', kde_kws={\"color\": c3})\n",
    "axes[0].set_ylabel('density')\n",
    "sns.distplot(zero[\"RaisedHands\"], ax=axes[1], color=rc1, axlabel='cat_under = 0', kde_kws={\"color\": c3})\n",
    "sns.distplot(one[\"RaisedHands\"], ax=axes[2], color=rc1, axlabel='cat_under = 1', kde_kws={\"color\": c3})\n",
    "sns.distplot(two[\"RaisedHands\"], ax=axes[3], color=rc1, axlabel='cat_under = 2', kde_kws={\"color\": c3})\n",
    "\n",
    "plt.xlim(0,100)\n",
    "plt.savefig('../MRes/images/raisedHist.pdf',\n",
    "            bbox_inches=\"tight\", pad_inches=0)\n",
    "plt.show()"
   ]
  },
  {
   "cell_type": "code",
   "execution_count": 79,
   "metadata": {},
   "outputs": [
    {
     "data": {
      "image/png": "[encoded data removed]",
      "text/plain": [
       "<Figure size 720x360 with 2 Axes>"
      ]
     },
     "metadata": {},
     "output_type": "display_data"
    }
   ],
   "source": [
    "sns.set_palette(sns.color_palette(ncl3))\n",
    "sns.catplot(data=dfplus[dfplus.cat_under < 3], x=\"cat_under\", col=\"SaudiArabia\", kind=\"count\",\n",
    "            sharey=False)\n",
    "#plt.savefig('../MRes/images/saudiCat.pdf',\n",
    "#            bbox_inches=\"tight\", pad_inches=0)\n",
    "plt.show()"
   ]
  },
  {
   "cell_type": "markdown",
   "metadata": {},
   "source": [
    "as expected, volatility is very different in saudi as compared to the rest"
   ]
  },
  {
   "cell_type": "code",
   "execution_count": 71,
   "metadata": {},
   "outputs": [
    {
     "data": {
      "image/png": "[encoded data removed]",
      "text/plain": [
       "<Figure size 720x360 with 2 Axes>"
      ]
     },
     "metadata": {},
     "output_type": "display_data"
    }
   ],
   "source": [
    "sns.catplot(data=dfplus, x=\"Class\", col=\"SaudiArabia\", kind=\"count\",\n",
    "            sharey=False, order=['Low', 'Mid', 'High'])\n",
    "plt.savefig('../MRes/images/saudiClass.pdf',\n",
    "            bbox_inches=\"tight\", pad_inches=0)\n",
    "plt.show()"
   ]
  },
  {
   "cell_type": "markdown",
   "metadata": {},
   "source": [
    "Saudi also has very different distribution of classes, with most of their student being class 2!"
   ]
  },
  {
   "cell_type": "code",
   "execution_count": 72,
   "metadata": {},
   "outputs": [
    {
     "data": {
      "image/png": "[encoded data removed]",
      "text/plain": [
       "<Figure size 720x360 with 2 Axes>"
      ]
     },
     "metadata": {},
     "output_type": "display_data"
    }
   ],
   "source": [
    "sns.set_palette(sns.color_palette(ncl2))\n",
    "sns.catplot(data=dfplus, x=\"Relation\", col=\"SaudiArabia\", kind=\"count\",\n",
    "            sharey=False, order=['Mother', 'Father'])\n",
    "plt.savefig('../MRes/images/saudiRelation.pdf',\n",
    "            bbox_inches=\"tight\", pad_inches=0)\n",
    "plt.show()"
   ]
  },
  {
   "cell_type": "code",
   "execution_count": 73,
   "metadata": {},
   "outputs": [
    {
     "data": {
      "image/png": "[encoded data removed]",
      "text/plain": [
       "<Figure size 720x360 with 2 Axes>"
      ]
     },
     "metadata": {},
     "output_type": "display_data"
    }
   ],
   "source": [
    "sns.catplot(data=dfplus, x=\"Gender\", col=\"SaudiArabia\", kind=\"count\",\n",
    "            sharey=False, order=['Female', 'Male'])\n",
    "plt.savefig('../MRes/images/saudiGender.pdf',\n",
    "            bbox_inches=\"tight\", pad_inches=0)\n",
    "plt.show()"
   ]
  },
  {
   "cell_type": "code",
   "execution_count": 74,
   "metadata": {},
   "outputs": [],
   "source": [
    "df3 = df[['Class',\n",
    "          'AnnouncementsView',\n",
    "          'Discussion',\n",
    "          'RaisedHands',\n",
    "          'VisitedResources']]\n",
    "\n",
    "df3 = pd.melt(df3,\n",
    "              id_vars=['Class'],\n",
    "              value_vars=['AnnouncementsView', 'Discussion', 'RaisedHands', 'VisitedResources'])\n",
    "\n",
    "df3 = df3.rename(index=str, columns={\"value\": \"count\"})"
   ]
  },
  {
   "cell_type": "code",
   "execution_count": 75,
   "metadata": {},
   "outputs": [
    {
     "data": {
      "image/png": "[encoded data removed]",
      "text/plain": [
       "<Figure size 779.125x360 with 1 Axes>"
      ]
     },
     "metadata": {},
     "output_type": "display_data"
    }
   ],
   "source": [
    "sns.set_palette(sns.color_palette(ncl3))\n",
    "ax = sns.catplot(x=\"variable\", y=\"count\", hue=\"Class\",\n",
    "            kind=\"violin\", data=df3, aspect=2, hue_order=['Low', 'Mid', 'High'])\n",
    "ax.set(xlabel='')\n",
    "\n",
    "plt.savefig('../MRes/images/classViolin.pdf',\n",
    "            bbox_inches=\"tight\", pad_inches=0)\n",
    "plt.show()"
   ]
  },
  {
   "cell_type": "markdown",
   "metadata": {},
   "source": [
    "Violin plots show how classes have very different distributions along numerical variables, mention right/left skewed"
   ]
  },
  {
   "cell_type": "code",
   "execution_count": 76,
   "metadata": {},
   "outputs": [
    {
     "data": {
      "image/png": "[encoded data removed]",
      "text/plain": [
       "<Figure size 1080x360 with 3 Axes>"
      ]
     },
     "metadata": {},
     "output_type": "display_data"
    }
   ],
   "source": [
    "sns.catplot(data=df, x=\"Class\", col=\"cat_smote\", kind=\"count\", sharey=False, order=['Low', 'Mid', 'High'])\n",
    "plt.savefig('../MRes/images/catClass.pdf',\n",
    "            bbox_inches=\"tight\", pad_inches=0)\n",
    "plt.show()"
   ]
  },
  {
   "cell_type": "markdown",
   "metadata": {},
   "source": [
    "The ratio between Class 0 & Class 2 changes when moving away from vola 0 to vola 2. Class 2 is much more likely in vola=2"
   ]
  },
  {
   "cell_type": "code",
   "execution_count": 77,
   "metadata": {},
   "outputs": [
    {
     "data": {
      "image/png": "[encoded data removed]",
      "text/plain": [
       "<Figure size 1080x360 with 3 Axes>"
      ]
     },
     "metadata": {},
     "output_type": "display_data"
    }
   ],
   "source": [
    "sns.catplot(data=df[df.cat_under < 3], x=\"cat_under\", col=\"cat_smote\", kind=\"count\", sharey=False)\n",
    "#plt.savefig('../MRes/images/catUnder.pdf',\n",
    "#            bbox_inches=\"tight\", pad_inches=0)\n",
    "plt.show()"
   ]
  },
  {
   "cell_type": "markdown",
   "metadata": {},
   "source": [
    "small discrepancies in under vs smote volatilities"
   ]
  },
  {
   "cell_type": "code",
   "execution_count": 78,
   "metadata": {},
   "outputs": [
    {
     "data": {
      "image/png": "[encoded data removed]",
      "text/plain": [
       "<Figure size 1080x360 with 3 Axes>"
      ]
     },
     "metadata": {},
     "output_type": "display_data"
    }
   ],
   "source": [
    "sns.set_palette(sns.color_palette(ncl2))\n",
    "sns.catplot(data=df, x=\"lof_pred\", col=\"cat_smote\", kind=\"count\", sharey=False)\n",
    "#plt.savefig('../MRes/images/catLOF.pdf',\n",
    "#            bbox_inches=\"tight\", pad_inches=0)\n",
    "plt.show()"
   ]
  },
  {
   "cell_type": "markdown",
   "metadata": {},
   "source": [
    "very small discrepancies with lof_pred per volatility. If anything, a little bit more outliers on the 2 category"
   ]
  },
  {
   "cell_type": "markdown",
   "metadata": {},
   "source": [
    "## Contingency tables / Chi-sq test for check correlation between lof and cat. volatility"
   ]
  },
  {
   "cell_type": "code",
   "execution_count": 80,
   "metadata": {},
   "outputs": [
    {
     "data": {
      "text/html": [
       "<div>\n",
       "<style scoped>\n",
       "    .dataframe tbody tr th:only-of-type {\n",
       "        vertical-align: middle;\n",
       "    }\n",
       "\n",
       "    .dataframe tbody tr th {\n",
       "        vertical-align: top;\n",
       "    }\n",
       "\n",
       "    .dataframe thead th {\n",
       "        text-align: right;\n",
       "    }\n",
       "</style>\n",
       "<table border=\"1\" class=\"dataframe\">\n",
       "  <thead>\n",
       "    <tr style=\"text-align: right;\">\n",
       "      <th>lof_pred</th>\n",
       "      <th>-1</th>\n",
       "      <th>1</th>\n",
       "    </tr>\n",
       "    <tr>\n",
       "      <th>cat_smote</th>\n",
       "      <th></th>\n",
       "      <th></th>\n",
       "    </tr>\n",
       "  </thead>\n",
       "  <tbody>\n",
       "    <tr>\n",
       "      <th>0</th>\n",
       "      <td>0.09</td>\n",
       "      <td>0.91</td>\n",
       "    </tr>\n",
       "    <tr>\n",
       "      <th>1</th>\n",
       "      <td>0.16</td>\n",
       "      <td>0.84</td>\n",
       "    </tr>\n",
       "    <tr>\n",
       "      <th>2</th>\n",
       "      <td>0.15</td>\n",
       "      <td>0.85</td>\n",
       "    </tr>\n",
       "  </tbody>\n",
       "</table>\n",
       "</div>"
      ],
      "text/plain": [
       "lof_pred     -1     1\n",
       "cat_smote            \n",
       "0          0.09  0.91\n",
       "1          0.16  0.84\n",
       "2          0.15  0.85"
      ]
     },
     "execution_count": 80,
     "metadata": {},
     "output_type": "execute_result"
    }
   ],
   "source": [
    "pd.crosstab(df['cat_smote'],\n",
    "            df['lof_pred'],\n",
    "            rownames=['cat_smote'],\n",
    "            colnames=['lof_pred'],\n",
    "            normalize='index').round(2)"
   ]
  },
  {
   "cell_type": "code",
   "execution_count": 81,
   "metadata": {},
   "outputs": [
    {
     "data": {
      "text/html": [
       "<div>\n",
       "<style scoped>\n",
       "    .dataframe tbody tr th:only-of-type {\n",
       "        vertical-align: middle;\n",
       "    }\n",
       "\n",
       "    .dataframe tbody tr th {\n",
       "        vertical-align: top;\n",
       "    }\n",
       "\n",
       "    .dataframe thead th {\n",
       "        text-align: right;\n",
       "    }\n",
       "</style>\n",
       "<table border=\"1\" class=\"dataframe\">\n",
       "  <thead>\n",
       "    <tr style=\"text-align: right;\">\n",
       "      <th>Class</th>\n",
       "      <th>High</th>\n",
       "      <th>Low</th>\n",
       "      <th>Mid</th>\n",
       "    </tr>\n",
       "    <tr>\n",
       "      <th>cat_smote</th>\n",
       "      <th></th>\n",
       "      <th></th>\n",
       "      <th></th>\n",
       "    </tr>\n",
       "  </thead>\n",
       "  <tbody>\n",
       "    <tr>\n",
       "      <th>0</th>\n",
       "      <td>0.27</td>\n",
       "      <td>0.29</td>\n",
       "      <td>0.44</td>\n",
       "    </tr>\n",
       "    <tr>\n",
       "      <th>1</th>\n",
       "      <td>0.36</td>\n",
       "      <td>0.08</td>\n",
       "      <td>0.56</td>\n",
       "    </tr>\n",
       "    <tr>\n",
       "      <th>2</th>\n",
       "      <td>0.40</td>\n",
       "      <td>0.19</td>\n",
       "      <td>0.41</td>\n",
       "    </tr>\n",
       "  </tbody>\n",
       "</table>\n",
       "</div>"
      ],
      "text/plain": [
       "Class      High   Low   Mid\n",
       "cat_smote                  \n",
       "0          0.27  0.29  0.44\n",
       "1          0.36  0.08  0.56\n",
       "2          0.40  0.19  0.41"
      ]
     },
     "execution_count": 81,
     "metadata": {},
     "output_type": "execute_result"
    }
   ],
   "source": [
    "pd.crosstab(df['cat_smote'],\n",
    "            df['Class'],\n",
    "            rownames=['cat_smote'],\n",
    "            colnames=['Class'],\n",
    "            normalize='index').round(2)"
   ]
  },
  {
   "cell_type": "markdown",
   "metadata": {},
   "source": [
    "## Confusion matrices for Class"
   ]
  },
  {
   "cell_type": "code",
   "execution_count": 82,
   "metadata": {},
   "outputs": [
    {
     "data": {
      "text/html": [
       "<div>\n",
       "<style scoped>\n",
       "    .dataframe tbody tr th:only-of-type {\n",
       "        vertical-align: middle;\n",
       "    }\n",
       "\n",
       "    .dataframe tbody tr th {\n",
       "        vertical-align: top;\n",
       "    }\n",
       "\n",
       "    .dataframe thead th {\n",
       "        text-align: right;\n",
       "    }\n",
       "</style>\n",
       "<table border=\"1\" class=\"dataframe\">\n",
       "  <thead>\n",
       "    <tr style=\"text-align: right;\">\n",
       "      <th>base</th>\n",
       "      <th>0.0</th>\n",
       "      <th>1.0</th>\n",
       "      <th>2.0</th>\n",
       "    </tr>\n",
       "    <tr>\n",
       "      <th>Class</th>\n",
       "      <th></th>\n",
       "      <th></th>\n",
       "      <th></th>\n",
       "    </tr>\n",
       "  </thead>\n",
       "  <tbody>\n",
       "    <tr>\n",
       "      <th>High</th>\n",
       "      <td>0</td>\n",
       "      <td>34</td>\n",
       "      <td>108</td>\n",
       "    </tr>\n",
       "    <tr>\n",
       "      <th>Low</th>\n",
       "      <td>111</td>\n",
       "      <td>15</td>\n",
       "      <td>1</td>\n",
       "    </tr>\n",
       "    <tr>\n",
       "      <th>Mid</th>\n",
       "      <td>16</td>\n",
       "      <td>170</td>\n",
       "      <td>25</td>\n",
       "    </tr>\n",
       "  </tbody>\n",
       "</table>\n",
       "</div>"
      ],
      "text/plain": [
       "base   0.0  1.0  2.0\n",
       "Class               \n",
       "High     0   34  108\n",
       "Low    111   15    1\n",
       "Mid     16  170   25"
      ]
     },
     "execution_count": 82,
     "metadata": {},
     "output_type": "execute_result"
    }
   ],
   "source": [
    "pd.crosstab(df.Class, df.base)"
   ]
  },
  {
   "cell_type": "code",
   "execution_count": 83,
   "metadata": {},
   "outputs": [
    {
     "data": {
      "text/html": [
       "<div>\n",
       "<style scoped>\n",
       "    .dataframe tbody tr th:only-of-type {\n",
       "        vertical-align: middle;\n",
       "    }\n",
       "\n",
       "    .dataframe tbody tr th {\n",
       "        vertical-align: top;\n",
       "    }\n",
       "\n",
       "    .dataframe thead th {\n",
       "        text-align: right;\n",
       "    }\n",
       "</style>\n",
       "<table border=\"1\" class=\"dataframe\">\n",
       "  <thead>\n",
       "    <tr style=\"text-align: right;\">\n",
       "      <th>base</th>\n",
       "      <th>0.0</th>\n",
       "      <th>1.0</th>\n",
       "      <th>2.0</th>\n",
       "    </tr>\n",
       "    <tr>\n",
       "      <th>Class</th>\n",
       "      <th></th>\n",
       "      <th></th>\n",
       "      <th></th>\n",
       "    </tr>\n",
       "  </thead>\n",
       "  <tbody>\n",
       "    <tr>\n",
       "      <th>High</th>\n",
       "      <td>0.00</td>\n",
       "      <td>0.83</td>\n",
       "      <td>0.17</td>\n",
       "    </tr>\n",
       "    <tr>\n",
       "      <th>Low</th>\n",
       "      <td>0.00</td>\n",
       "      <td>1.00</td>\n",
       "      <td>0.00</td>\n",
       "    </tr>\n",
       "    <tr>\n",
       "      <th>Mid</th>\n",
       "      <td>0.25</td>\n",
       "      <td>0.50</td>\n",
       "      <td>0.25</td>\n",
       "    </tr>\n",
       "  </tbody>\n",
       "</table>\n",
       "</div>"
      ],
      "text/plain": [
       "base    0.0   1.0   2.0\n",
       "Class                  \n",
       "High   0.00  0.83  0.17\n",
       "Low    0.00  1.00  0.00\n",
       "Mid    0.25  0.50  0.25"
      ]
     },
     "execution_count": 83,
     "metadata": {},
     "output_type": "execute_result"
    }
   ],
   "source": [
    "pd.crosstab(dfplus.loc[dfplus.SaudiArabia == 1].Class, dfplus.loc[dfplus.SaudiArabia == 1].base, normalize='index').round(2)"
   ]
  },
  {
   "cell_type": "code",
   "execution_count": 84,
   "metadata": {},
   "outputs": [
    {
     "data": {
      "text/html": [
       "<div>\n",
       "<style scoped>\n",
       "    .dataframe tbody tr th:only-of-type {\n",
       "        vertical-align: middle;\n",
       "    }\n",
       "\n",
       "    .dataframe tbody tr th {\n",
       "        vertical-align: top;\n",
       "    }\n",
       "\n",
       "    .dataframe thead th {\n",
       "        text-align: right;\n",
       "    }\n",
       "</style>\n",
       "<table border=\"1\" class=\"dataframe\">\n",
       "  <thead>\n",
       "    <tr style=\"text-align: right;\">\n",
       "      <th>smote</th>\n",
       "      <th>0.0</th>\n",
       "      <th>1.0</th>\n",
       "      <th>2.0</th>\n",
       "    </tr>\n",
       "    <tr>\n",
       "      <th>Class</th>\n",
       "      <th></th>\n",
       "      <th></th>\n",
       "      <th></th>\n",
       "    </tr>\n",
       "  </thead>\n",
       "  <tbody>\n",
       "    <tr>\n",
       "      <th>High</th>\n",
       "      <td>0.00</td>\n",
       "      <td>0.83</td>\n",
       "      <td>0.17</td>\n",
       "    </tr>\n",
       "    <tr>\n",
       "      <th>Low</th>\n",
       "      <td>0.00</td>\n",
       "      <td>1.00</td>\n",
       "      <td>0.00</td>\n",
       "    </tr>\n",
       "    <tr>\n",
       "      <th>Mid</th>\n",
       "      <td>0.25</td>\n",
       "      <td>0.50</td>\n",
       "      <td>0.25</td>\n",
       "    </tr>\n",
       "  </tbody>\n",
       "</table>\n",
       "</div>"
      ],
      "text/plain": [
       "smote   0.0   1.0   2.0\n",
       "Class                  \n",
       "High   0.00  0.83  0.17\n",
       "Low    0.00  1.00  0.00\n",
       "Mid    0.25  0.50  0.25"
      ]
     },
     "execution_count": 84,
     "metadata": {},
     "output_type": "execute_result"
    }
   ],
   "source": [
    "pd.crosstab(dfplus.loc[dfplus.SaudiArabia == 1].Class, dfplus.loc[dfplus.SaudiArabia == 1].smote, normalize='index').round(2)"
   ]
  },
  {
   "cell_type": "code",
   "execution_count": 85,
   "metadata": {},
   "outputs": [
    {
     "data": {
      "text/html": [
       "<div>\n",
       "<style scoped>\n",
       "    .dataframe tbody tr th:only-of-type {\n",
       "        vertical-align: middle;\n",
       "    }\n",
       "\n",
       "    .dataframe tbody tr th {\n",
       "        vertical-align: top;\n",
       "    }\n",
       "\n",
       "    .dataframe thead th {\n",
       "        text-align: right;\n",
       "    }\n",
       "</style>\n",
       "<table border=\"1\" class=\"dataframe\">\n",
       "  <thead>\n",
       "    <tr style=\"text-align: right;\">\n",
       "      <th>under</th>\n",
       "      <th>0.0</th>\n",
       "      <th>1.0</th>\n",
       "      <th>2.0</th>\n",
       "    </tr>\n",
       "    <tr>\n",
       "      <th>Class</th>\n",
       "      <th></th>\n",
       "      <th></th>\n",
       "      <th></th>\n",
       "    </tr>\n",
       "  </thead>\n",
       "  <tbody>\n",
       "    <tr>\n",
       "      <th>High</th>\n",
       "      <td>0.00</td>\n",
       "      <td>0.83</td>\n",
       "      <td>0.17</td>\n",
       "    </tr>\n",
       "    <tr>\n",
       "      <th>Low</th>\n",
       "      <td>1.00</td>\n",
       "      <td>0.00</td>\n",
       "      <td>0.00</td>\n",
       "    </tr>\n",
       "    <tr>\n",
       "      <th>Mid</th>\n",
       "      <td>0.25</td>\n",
       "      <td>0.75</td>\n",
       "      <td>0.00</td>\n",
       "    </tr>\n",
       "  </tbody>\n",
       "</table>\n",
       "</div>"
      ],
      "text/plain": [
       "under   0.0   1.0   2.0\n",
       "Class                  \n",
       "High   0.00  0.83  0.17\n",
       "Low    1.00  0.00  0.00\n",
       "Mid    0.25  0.75  0.00"
      ]
     },
     "execution_count": 85,
     "metadata": {},
     "output_type": "execute_result"
    }
   ],
   "source": [
    "pd.crosstab(dfplus.loc[dfplus.SaudiArabia == 1].Class, dfplus.loc[dfplus.SaudiArabia == 1].under, normalize='index').round(2)"
   ]
  },
  {
   "cell_type": "code",
   "execution_count": 87,
   "metadata": {},
   "outputs": [
    {
     "data": {
      "text/html": [
       "<div>\n",
       "<style scoped>\n",
       "    .dataframe tbody tr th:only-of-type {\n",
       "        vertical-align: middle;\n",
       "    }\n",
       "\n",
       "    .dataframe tbody tr th {\n",
       "        vertical-align: top;\n",
       "    }\n",
       "\n",
       "    .dataframe thead th {\n",
       "        text-align: right;\n",
       "    }\n",
       "</style>\n",
       "<table border=\"1\" class=\"dataframe\">\n",
       "  <thead>\n",
       "    <tr style=\"text-align: right;\">\n",
       "      <th>base</th>\n",
       "      <th>0.0</th>\n",
       "      <th>1.0</th>\n",
       "      <th>2.0</th>\n",
       "    </tr>\n",
       "    <tr>\n",
       "      <th>Class</th>\n",
       "      <th></th>\n",
       "      <th></th>\n",
       "      <th></th>\n",
       "    </tr>\n",
       "  </thead>\n",
       "  <tbody>\n",
       "    <tr>\n",
       "      <th>High</th>\n",
       "      <td>0</td>\n",
       "      <td>22</td>\n",
       "      <td>45</td>\n",
       "    </tr>\n",
       "    <tr>\n",
       "      <th>Low</th>\n",
       "      <td>90</td>\n",
       "      <td>12</td>\n",
       "      <td>1</td>\n",
       "    </tr>\n",
       "    <tr>\n",
       "      <th>Mid</th>\n",
       "      <td>10</td>\n",
       "      <td>115</td>\n",
       "      <td>10</td>\n",
       "    </tr>\n",
       "  </tbody>\n",
       "</table>\n",
       "</div>"
      ],
      "text/plain": [
       "base   0.0  1.0  2.0\n",
       "Class               \n",
       "High     0   22   45\n",
       "Low     90   12    1\n",
       "Mid     10  115   10"
      ]
     },
     "execution_count": 87,
     "metadata": {},
     "output_type": "execute_result"
    }
   ],
   "source": [
    "pd.crosstab(df.loc[df.Gender == 'Male'].Class, df.loc[df.Gender == 'Male'].base)"
   ]
  },
  {
   "cell_type": "code",
   "execution_count": 8,
   "metadata": {},
   "outputs": [
    {
     "data": {
      "text/html": [
       "<div>\n",
       "<style scoped>\n",
       "    .dataframe tbody tr th:only-of-type {\n",
       "        vertical-align: middle;\n",
       "    }\n",
       "\n",
       "    .dataframe tbody tr th {\n",
       "        vertical-align: top;\n",
       "    }\n",
       "\n",
       "    .dataframe thead th {\n",
       "        text-align: right;\n",
       "    }\n",
       "</style>\n",
       "<table border=\"1\" class=\"dataframe\">\n",
       "  <thead>\n",
       "    <tr style=\"text-align: right;\">\n",
       "      <th>base</th>\n",
       "      <th>0.0</th>\n",
       "      <th>1.0</th>\n",
       "      <th>2.0</th>\n",
       "    </tr>\n",
       "    <tr>\n",
       "      <th>Class</th>\n",
       "      <th></th>\n",
       "      <th></th>\n",
       "      <th></th>\n",
       "    </tr>\n",
       "  </thead>\n",
       "  <tbody>\n",
       "    <tr>\n",
       "      <th>High</th>\n",
       "      <td>0.00</td>\n",
       "      <td>0.16</td>\n",
       "      <td>0.84</td>\n",
       "    </tr>\n",
       "    <tr>\n",
       "      <th>Low</th>\n",
       "      <td>0.88</td>\n",
       "      <td>0.12</td>\n",
       "      <td>0.00</td>\n",
       "    </tr>\n",
       "    <tr>\n",
       "      <th>Mid</th>\n",
       "      <td>0.08</td>\n",
       "      <td>0.72</td>\n",
       "      <td>0.20</td>\n",
       "    </tr>\n",
       "  </tbody>\n",
       "</table>\n",
       "</div>"
      ],
      "text/plain": [
       "base    0.0   1.0   2.0\n",
       "Class                  \n",
       "High   0.00  0.16  0.84\n",
       "Low    0.88  0.12  0.00\n",
       "Mid    0.08  0.72  0.20"
      ]
     },
     "execution_count": 8,
     "metadata": {},
     "output_type": "execute_result"
    }
   ],
   "source": [
    "pd.crosstab(df.loc[df.Gender == 'Female'].Class, df.loc[df.Gender == 'Female'].base, normalize='index').round(2)"
   ]
  },
  {
   "cell_type": "code",
   "execution_count": 9,
   "metadata": {},
   "outputs": [
    {
     "data": {
      "text/html": [
       "<div>\n",
       "<style scoped>\n",
       "    .dataframe tbody tr th:only-of-type {\n",
       "        vertical-align: middle;\n",
       "    }\n",
       "\n",
       "    .dataframe tbody tr th {\n",
       "        vertical-align: top;\n",
       "    }\n",
       "\n",
       "    .dataframe thead th {\n",
       "        text-align: right;\n",
       "    }\n",
       "</style>\n",
       "<table border=\"1\" class=\"dataframe\">\n",
       "  <thead>\n",
       "    <tr style=\"text-align: right;\">\n",
       "      <th>smote</th>\n",
       "      <th>0.0</th>\n",
       "      <th>1.0</th>\n",
       "      <th>2.0</th>\n",
       "    </tr>\n",
       "    <tr>\n",
       "      <th>Class</th>\n",
       "      <th></th>\n",
       "      <th></th>\n",
       "      <th></th>\n",
       "    </tr>\n",
       "  </thead>\n",
       "  <tbody>\n",
       "    <tr>\n",
       "      <th>High</th>\n",
       "      <td>0.00</td>\n",
       "      <td>0.16</td>\n",
       "      <td>0.84</td>\n",
       "    </tr>\n",
       "    <tr>\n",
       "      <th>Low</th>\n",
       "      <td>0.83</td>\n",
       "      <td>0.17</td>\n",
       "      <td>0.00</td>\n",
       "    </tr>\n",
       "    <tr>\n",
       "      <th>Mid</th>\n",
       "      <td>0.07</td>\n",
       "      <td>0.80</td>\n",
       "      <td>0.13</td>\n",
       "    </tr>\n",
       "  </tbody>\n",
       "</table>\n",
       "</div>"
      ],
      "text/plain": [
       "smote   0.0   1.0   2.0\n",
       "Class                  \n",
       "High   0.00  0.16  0.84\n",
       "Low    0.83  0.17  0.00\n",
       "Mid    0.07  0.80  0.13"
      ]
     },
     "execution_count": 9,
     "metadata": {},
     "output_type": "execute_result"
    }
   ],
   "source": [
    "pd.crosstab(df.loc[df.Gender == 'Female'].Class, df.loc[df.Gender == 'Female'].smote, normalize='index').round(2)"
   ]
  },
  {
   "cell_type": "code",
   "execution_count": 10,
   "metadata": {},
   "outputs": [
    {
     "data": {
      "text/html": [
       "<div>\n",
       "<style scoped>\n",
       "    .dataframe tbody tr th:only-of-type {\n",
       "        vertical-align: middle;\n",
       "    }\n",
       "\n",
       "    .dataframe tbody tr th {\n",
       "        vertical-align: top;\n",
       "    }\n",
       "\n",
       "    .dataframe thead th {\n",
       "        text-align: right;\n",
       "    }\n",
       "</style>\n",
       "<table border=\"1\" class=\"dataframe\">\n",
       "  <thead>\n",
       "    <tr style=\"text-align: right;\">\n",
       "      <th>under</th>\n",
       "      <th>0.0</th>\n",
       "      <th>1.0</th>\n",
       "      <th>2.0</th>\n",
       "    </tr>\n",
       "    <tr>\n",
       "      <th>Class</th>\n",
       "      <th></th>\n",
       "      <th></th>\n",
       "      <th></th>\n",
       "    </tr>\n",
       "  </thead>\n",
       "  <tbody>\n",
       "    <tr>\n",
       "      <th>High</th>\n",
       "      <td>0.00</td>\n",
       "      <td>0.17</td>\n",
       "      <td>0.83</td>\n",
       "    </tr>\n",
       "    <tr>\n",
       "      <th>Low</th>\n",
       "      <td>0.88</td>\n",
       "      <td>0.12</td>\n",
       "      <td>0.00</td>\n",
       "    </tr>\n",
       "    <tr>\n",
       "      <th>Mid</th>\n",
       "      <td>0.08</td>\n",
       "      <td>0.76</td>\n",
       "      <td>0.16</td>\n",
       "    </tr>\n",
       "  </tbody>\n",
       "</table>\n",
       "</div>"
      ],
      "text/plain": [
       "under   0.0   1.0   2.0\n",
       "Class                  \n",
       "High   0.00  0.17  0.83\n",
       "Low    0.88  0.12  0.00\n",
       "Mid    0.08  0.76  0.16"
      ]
     },
     "execution_count": 10,
     "metadata": {},
     "output_type": "execute_result"
    }
   ],
   "source": [
    "pd.crosstab(df.loc[df.Gender == 'Female'].Class, df.loc[df.Gender == 'Female'].under, normalize='index').round(2)"
   ]
  },
  {
   "cell_type": "code",
   "execution_count": 92,
   "metadata": {},
   "outputs": [
    {
     "data": {
      "text/html": [
       "<div>\n",
       "<style scoped>\n",
       "    .dataframe tbody tr th:only-of-type {\n",
       "        vertical-align: middle;\n",
       "    }\n",
       "\n",
       "    .dataframe tbody tr th {\n",
       "        vertical-align: top;\n",
       "    }\n",
       "\n",
       "    .dataframe thead th {\n",
       "        text-align: right;\n",
       "    }\n",
       "</style>\n",
       "<table border=\"1\" class=\"dataframe\">\n",
       "  <thead>\n",
       "    <tr style=\"text-align: right;\">\n",
       "      <th>cat_under</th>\n",
       "      <th>0</th>\n",
       "      <th>1</th>\n",
       "      <th>2</th>\n",
       "      <th>3</th>\n",
       "    </tr>\n",
       "    <tr>\n",
       "      <th>lof_pred</th>\n",
       "      <th></th>\n",
       "      <th></th>\n",
       "      <th></th>\n",
       "      <th></th>\n",
       "    </tr>\n",
       "  </thead>\n",
       "  <tbody>\n",
       "    <tr>\n",
       "      <th>-1</th>\n",
       "      <td>33</td>\n",
       "      <td>6</td>\n",
       "      <td>10</td>\n",
       "      <td>0</td>\n",
       "    </tr>\n",
       "    <tr>\n",
       "      <th>1</th>\n",
       "      <td>331</td>\n",
       "      <td>38</td>\n",
       "      <td>61</td>\n",
       "      <td>1</td>\n",
       "    </tr>\n",
       "  </tbody>\n",
       "</table>\n",
       "</div>"
      ],
      "text/plain": [
       "cat_under    0   1   2  3\n",
       "lof_pred                 \n",
       "-1          33   6  10  0\n",
       " 1         331  38  61  1"
      ]
     },
     "execution_count": 92,
     "metadata": {},
     "output_type": "execute_result"
    }
   ],
   "source": [
    "pd.crosstab(df['lof_pred'],\n",
    "            df['cat_under'],\n",
    "            rownames=['lof_pred'],\n",
    "            colnames=['cat_under'])"
   ]
  },
  {
   "cell_type": "code",
   "execution_count": 93,
   "metadata": {
    "scrolled": true
   },
   "outputs": [
    {
     "data": {
      "text/html": [
       "<div>\n",
       "<style scoped>\n",
       "    .dataframe tbody tr th:only-of-type {\n",
       "        vertical-align: middle;\n",
       "    }\n",
       "\n",
       "    .dataframe tbody tr th {\n",
       "        vertical-align: top;\n",
       "    }\n",
       "\n",
       "    .dataframe thead th {\n",
       "        text-align: right;\n",
       "    }\n",
       "</style>\n",
       "<table border=\"1\" class=\"dataframe\">\n",
       "  <thead>\n",
       "    <tr style=\"text-align: right;\">\n",
       "      <th>cat_under</th>\n",
       "      <th>0</th>\n",
       "      <th>1</th>\n",
       "      <th>2</th>\n",
       "      <th>3</th>\n",
       "    </tr>\n",
       "    <tr>\n",
       "      <th>cat_smote</th>\n",
       "      <th></th>\n",
       "      <th></th>\n",
       "      <th></th>\n",
       "      <th></th>\n",
       "    </tr>\n",
       "  </thead>\n",
       "  <tbody>\n",
       "    <tr>\n",
       "      <th>0</th>\n",
       "      <td>0.94</td>\n",
       "      <td>0.06</td>\n",
       "      <td>0.00</td>\n",
       "      <td>0.00</td>\n",
       "    </tr>\n",
       "    <tr>\n",
       "      <th>1</th>\n",
       "      <td>0.32</td>\n",
       "      <td>0.40</td>\n",
       "      <td>0.28</td>\n",
       "      <td>0.00</td>\n",
       "    </tr>\n",
       "    <tr>\n",
       "      <th>2</th>\n",
       "      <td>0.00</td>\n",
       "      <td>0.17</td>\n",
       "      <td>0.82</td>\n",
       "      <td>0.01</td>\n",
       "    </tr>\n",
       "  </tbody>\n",
       "</table>\n",
       "</div>"
      ],
      "text/plain": [
       "cat_under     0     1     2     3\n",
       "cat_smote                        \n",
       "0          0.94  0.06  0.00  0.00\n",
       "1          0.32  0.40  0.28  0.00\n",
       "2          0.00  0.17  0.82  0.01"
      ]
     },
     "execution_count": 93,
     "metadata": {},
     "output_type": "execute_result"
    }
   ],
   "source": [
    "pd.crosstab(df['cat_smote'],\n",
    "            df['cat_under'],\n",
    "            colnames=['cat_under'],\n",
    "            rownames=['cat_smote'],\n",
    "            normalize='index').round(2)"
   ]
  },
  {
   "cell_type": "code",
   "execution_count": 94,
   "metadata": {},
   "outputs": [
    {
     "data": {
      "text/plain": [
       "(421.1311693499462,\n",
       " 7.987267856704601e-88,\n",
       " 6,\n",
       " array([[2.85891667e+02, 3.45583333e+01, 5.57645833e+01, 7.85416667e-01],\n",
       "        [1.89583333e+01, 2.29166667e+00, 3.69791667e+00, 5.20833333e-02],\n",
       "        [5.91500000e+01, 7.15000000e+00, 1.15375000e+01, 1.62500000e-01]]))"
      ]
     },
     "execution_count": 94,
     "metadata": {},
     "output_type": "execute_result"
    }
   ],
   "source": [
    "from scipy.stats import chi2_contingency\n",
    "\n",
    "chi2_contingency(pd.crosstab(df['cat_smote'], df['cat_under']))"
   ]
  },
  {
   "cell_type": "code",
   "execution_count": 95,
   "metadata": {},
   "outputs": [
    {
     "data": {
      "text/plain": [
       "(4.065625344219058,\n",
       " 0.13096663641026668,\n",
       " 2,\n",
       " array([[ 38.48541667,   2.55208333,   7.9625    ],\n",
       "        [338.51458333,  22.44791667,  70.0375    ]]))"
      ]
     },
     "execution_count": 95,
     "metadata": {},
     "output_type": "execute_result"
    }
   ],
   "source": [
    "chi2_contingency(pd.crosstab(df['lof_pred'], df['cat_smote']))"
   ]
  },
  {
   "cell_type": "code",
   "execution_count": 96,
   "metadata": {},
   "outputs": [
    {
     "data": {
      "text/plain": [
       "(5.241451521867625,\n",
       " 0.07275004452277517,\n",
       " 2,\n",
       " array([[104.09701493,   6.90298507],\n",
       "        [105.03482587,   6.96517413],\n",
       "        [167.8681592 ,  11.1318408 ]]))"
      ]
     },
     "execution_count": 96,
     "metadata": {},
     "output_type": "execute_result"
    }
   ],
   "source": [
    "dfsel = df.loc[df.cat_smote != 2]\n",
    "chi2_contingency(pd.crosstab(dfsel['Class'], dfsel['cat_smote']))"
   ]
  },
  {
   "cell_type": "code",
   "execution_count": 97,
   "metadata": {},
   "outputs": [
    {
     "data": {
      "text/plain": [
       "(2.3598291615943436,\n",
       " 0.5011562123945796,\n",
       " 3,\n",
       " array([[3.71583333e+01, 4.49166667e+00, 7.24791667e+00, 1.02083333e-01],\n",
       "        [3.26841667e+02, 3.95083333e+01, 6.37520833e+01, 8.97916667e-01]]))"
      ]
     },
     "execution_count": 97,
     "metadata": {},
     "output_type": "execute_result"
    }
   ],
   "source": [
    "chi2_contingency(pd.crosstab(df['lof_pred'], df['cat_under']))"
   ]
  },
  {
   "cell_type": "code",
   "execution_count": 98,
   "metadata": {},
   "outputs": [
    {
     "data": {
      "text/plain": [
       "(11.38012482332818,\n",
       " 0.07731508252117068,\n",
       " 6,\n",
       " array([[107.68333333,  13.01666667,  21.00416667,   0.29583333],\n",
       "        [ 96.30833333,  11.64166667,  18.78541667,   0.26458333],\n",
       "        [160.00833333,  19.34166667,  31.21041667,   0.43958333]]))"
      ]
     },
     "execution_count": 98,
     "metadata": {},
     "output_type": "execute_result"
    }
   ],
   "source": [
    "chi2_contingency(pd.crosstab(df['Class'], df['cat_under']))"
   ]
  },
  {
   "cell_type": "code",
   "execution_count": null,
   "metadata": {},
   "outputs": [],
   "source": []
  }
 ],
 "metadata": {
  "kernelspec": {
   "display_name": "Python 3",
   "language": "python",
   "name": "python3"
  },
  "language_info": {
   "codemirror_mode": {
    "name": "ipython",
    "version": 3
   },
   "file_extension": ".py",
   "mimetype": "text/x-python",
   "name": "python",
   "nbconvert_exporter": "python",
   "pygments_lexer": "ipython3",
   "version": "3.6.5"
  }
 },
 "nbformat": 4,
 "nbformat_minor": 2
}
