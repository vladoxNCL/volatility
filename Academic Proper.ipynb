{
 "cells": [
  {
   "cell_type": "markdown",
   "metadata": {},
   "source": [
    "### Import data"
   ]
  },
  {
   "cell_type": "code",
   "execution_count": 29,
   "metadata": {},
   "outputs": [],
   "source": [
    "import pandas as pd\n",
    "import numpy as np\n",
    "df = pd.read_csv('../Datasets/academic_performance.csv', header=0)"
   ]
  },
  {
   "cell_type": "code",
   "execution_count": 30,
   "metadata": {},
   "outputs": [
    {
     "data": {
      "text/plain": [
       "M    305\n",
       "F    175\n",
       "Name: gender, dtype: int64"
      ]
     },
     "execution_count": 30,
     "metadata": {},
     "output_type": "execute_result"
    }
   ],
   "source": [
    "df['gender'].value_counts()"
   ]
  },
  {
   "cell_type": "markdown",
   "metadata": {},
   "source": [
    "### Correct typos"
   ]
  },
  {
   "cell_type": "code",
   "execution_count": 32,
   "metadata": {},
   "outputs": [],
   "source": [
    "newcols = df.columns.values\n",
    "newcols[0] = \"Gender\"\n",
    "newcols[1] = \"Nationality\"\n",
    "newcols[2] = \"PlaceOfBirth\"\n",
    "newcols[9] = \"RaisedHands\"\n",
    "newcols[10] = \"VisitedResources\"\n",
    "newcols[14] = \"ParentSchoolSatisfaction\"\n",
    "df.columns = newcols\n",
    "\n",
    "# Discard PlaceOfBirth, as it is redundant with Nationality\n",
    "df = df.drop([\"PlaceOfBirth\"], axis = 1)"
   ]
  },
  {
   "cell_type": "code",
   "execution_count": 33,
   "metadata": {},
   "outputs": [],
   "source": [
    "df[\"Nationality\"] = df['Nationality'].str.replace(\"KW\", \"Kuwait\")\n",
    "df[\"Nationality\"] = df['Nationality'].str.replace(\"lebanon\", \"Lebanon\")\n",
    "df[\"Nationality\"] = df['Nationality'].str.replace(\"venzuela\", \"Venezuela\")\n",
    "df[\"Nationality\"] = df['Nationality'].str.replace(\"Tunis\", \"Tunisia\")\n",
    "df[\"Nationality\"] = df['Nationality'].str.replace(\"Lybia\", \"Libya\")\n",
    "df[\"Nationality\"] = df['Nationality'].str.replace(\"lebanon\", \"Lebanon\")"
   ]
  },
  {
   "cell_type": "code",
   "execution_count": 34,
   "metadata": {},
   "outputs": [],
   "source": [
    "df[\"StageID\"] = df[\"StageID\"].str.replace(\"lowerlevel\", \"LowerLevel\")\n",
    "df.Gender = np.where(df.Gender == \"M\", \"Male\", \"Female\")\n",
    "df.Semester = np.where(df.Semester == \"F\", \"First\", \"Second\")\n",
    "df.SectionID = \"section_\" + df.SectionID\n",
    "df[\"Relation\"] = df[\"Relation\"].str.replace(\"Mum\", \"Mother\")"
   ]
  },
  {
   "cell_type": "code",
   "execution_count": 35,
   "metadata": {},
   "outputs": [],
   "source": [
    "# Copy with names for EDA\n",
    "df.to_csv('../Datasets/originalClean.csv', index=False)"
   ]
  },
  {
   "cell_type": "markdown",
   "metadata": {},
   "source": [
    "### Change Gender, StageID, GradeID, Semester, Relation, ParentAnswering, ParentSchool, Class, StudentAbsence to numerical values"
   ]
  },
  {
   "cell_type": "markdown",
   "metadata": {},
   "source": [
    "Codes:\n",
    "\n",
    "- Gender: 0 Female, 1 Male\n",
    "- StageID: 0 Lower, 1 Middle, 2 High\n",
    "- GradeID: 0 - 11\n",
    "- Semester: 0 First, 1 Second\n",
    "- Relation: 0 Mother, 1 Father\n",
    "- ParentAnswering: 0 No, 1 Yes\n",
    "- ParentSchool: 0 Bad, 1 Good\n",
    "- Class: 0 L, 1 M, 2 H\n",
    "- StudentAbsence: 0 Under-7, 1 Above-7"
   ]
  },
  {
   "cell_type": "code",
   "execution_count": 431,
   "metadata": {},
   "outputs": [],
   "source": [
    "df.Gender = np.where(df.Gender == \"Male\", 1, 0)\n",
    "df.StageID = np.where(df.StageID == \"LowerLevel\", 0,\n",
    "                      np.where(df.StageID == \"MiddleSchool\", 1, 2))\n",
    "df.GradeID = df.GradeID.str[2:].astype(np.int64) - 1\n",
    "df.Semester = np.where(df.Semester == \"First\", 0, 1)\n",
    "df.Relation = np.where(df.Relation == \"Father\", 1, 0)\n",
    "df.ParentAnsweringSurvey = np.where(df.ParentAnsweringSurvey == \"No\", 0, 1)\n",
    "df.ParentSchoolSatisfaction = np.where(df.ParentSchoolSatisfaction == \"Bad\", 0, 1)\n",
    "df.Class = np.where(df.Class == \"L\", 0,\n",
    "                    np.where(df.Class == \"M\", 1, 2))\n",
    "df.StudentAbsenceDays = np.where(df.StudentAbsenceDays == \"Under-7\", 0, 1)"
   ]
  },
  {
   "cell_type": "markdown",
   "metadata": {},
   "source": [
    "### Turn Nationality, SectionID, Topic into dummy variables"
   ]
  },
  {
   "cell_type": "code",
   "execution_count": 15,
   "metadata": {},
   "outputs": [],
   "source": [
    "col = [\"Nationality\", \"SectionID\", \"Topic\"]\n",
    "\n",
    "for c in col:\n",
    "    dummies = []\n",
    "    dummies.append(pd.get_dummies(df[c]))\n",
    "    df_dummies = pd.concat(dummies, axis = 1)\n",
    "    df = pd.concat((df, df_dummies), axis = 1)\n",
    "    df = df.drop([c], axis = 1)"
   ]
  },
  {
   "cell_type": "code",
   "execution_count": 17,
   "metadata": {},
   "outputs": [],
   "source": [
    "df.to_csv('../Datasets/academic_onehot.csv', index=False)"
   ]
  },
  {
   "cell_type": "code",
   "execution_count": 18,
   "metadata": {},
   "outputs": [],
   "source": [
    "corr_matrix = df.corr()"
   ]
  },
  {
   "cell_type": "code",
   "execution_count": 19,
   "metadata": {},
   "outputs": [
    {
     "data": {
      "text/plain": [
       "Gender                      1.000000\n",
       "StudentAbsenceDays          0.209011\n",
       "Relation                    0.195142\n",
       "Spanish                     0.158075\n",
       "Kuwait                      0.100790\n",
       "Tunisia                     0.093569\n",
       "Arabic                      0.072642\n",
       "Math                        0.056212\n",
       "section_C                   0.052527\n",
       "Semester                    0.049156\n",
       "Iran                        0.046264\n",
       "Iraq                        0.041827\n",
       "Egypt                       0.040886\n",
       "Palestine                   0.040784\n",
       "Venezuela                   0.034610\n",
       "IT                          0.028631\n",
       "Morocco                     0.021823\n",
       "Syria                       0.019934\n",
       "GradeID                     0.018304\n",
       "StageID                     0.017793\n",
       "section_B                   0.017134\n",
       "Biology                     0.016764\n",
       "Libya                       0.007305\n",
       "SaudiArabia                 0.000301\n",
       "Quran                      -0.020267\n",
       "ParentAnsweringSurvey      -0.022359\n",
       "History                    -0.023818\n",
       "Geology                    -0.024825\n",
       "English                    -0.038517\n",
       "section_A                  -0.042438\n",
       "AnnouncementsView          -0.052139\n",
       "Science                    -0.061891\n",
       "Chemistry                  -0.064546\n",
       "USA                        -0.070613\n",
       "French                     -0.079722\n",
       "ParentSchoolSatisfaction   -0.093478\n",
       "Lebanon                    -0.112457\n",
       "Discussion                 -0.124703\n",
       "Jordan                     -0.147061\n",
       "RaisedHands                -0.149978\n",
       "VisitedResources           -0.210932\n",
       "Class                      -0.263490\n",
       "Name: Gender, dtype: float64"
      ]
     },
     "execution_count": 19,
     "metadata": {},
     "output_type": "execute_result"
    }
   ],
   "source": [
    "corr_matrix[\"Gender\"].sort_values(ascending=False)"
   ]
  },
  {
   "cell_type": "code",
   "execution_count": 20,
   "metadata": {},
   "outputs": [
    {
     "data": {
      "text/plain": [
       "Class                       1.000000\n",
       "VisitedResources            0.677094\n",
       "RaisedHands                 0.646298\n",
       "AnnouncementsView           0.527370\n",
       "ParentAnsweringSurvey       0.435495\n",
       "ParentSchoolSatisfaction    0.375901\n",
       "Discussion                  0.308183\n",
       "Iraq                        0.177312\n",
       "Palestine                   0.132213\n",
       "Biology                     0.127294\n",
       "Semester                    0.126239\n",
       "Lebanon                     0.097483\n",
       "SaudiArabia                 0.086672\n",
       "StageID                     0.083997\n",
       "GradeID                     0.071654\n",
       "Geology                     0.067096\n",
       "Jordan                      0.061718\n",
       "Venezuela                   0.059179\n",
       "English                     0.053453\n",
       "USA                         0.045440\n",
       "Science                     0.039827\n",
       "section_A                   0.023534\n",
       "Quran                       0.017481\n",
       "French                      0.016026\n",
       "Chemistry                   0.015975\n",
       "History                     0.005803\n",
       "Arabic                      0.001325\n",
       "section_B                  -0.001279\n",
       "Morocco                    -0.003830\n",
       "Syria                      -0.005083\n",
       "Math                       -0.022554\n",
       "Tunisia                    -0.024531\n",
       "Egypt                      -0.026310\n",
       "section_C                  -0.045308\n",
       "Spanish                    -0.047400\n",
       "Iran                       -0.054841\n",
       "Libya                      -0.155122\n",
       "IT                         -0.181544\n",
       "Kuwait                     -0.216535\n",
       "Gender                     -0.263490\n",
       "Relation                   -0.401142\n",
       "StudentAbsenceDays         -0.671312\n",
       "Name: Class, dtype: float64"
      ]
     },
     "execution_count": 20,
     "metadata": {},
     "output_type": "execute_result"
    }
   ],
   "source": [
    "corr_matrix[\"Class\"].sort_values(ascending=False)"
   ]
  },
  {
   "cell_type": "markdown",
   "metadata": {},
   "source": [
    "Females are more likely to have absent days and study Spanish, and less likely to be in a high Class, Visit Resources, Raise hands, Discuss."
   ]
  },
  {
   "cell_type": "markdown",
   "metadata": {},
   "source": [
    "## Prepare for ML / Hyper-param tuning"
   ]
  },
  {
   "cell_type": "code",
   "execution_count": 33,
   "metadata": {},
   "outputs": [],
   "source": [
    "from sklearn.model_selection import train_test_split\n",
    "from imblearn.over_sampling import SMOTE\n",
    "\n",
    "# Split data in train / tet\n",
    "train, test = train_test_split(df, test_size=0.10, random_state=42)\n",
    "\n",
    "# Generate balanced set by undersampling males to match the number of females\n",
    "num_fem = train.Gender.value_counts()[0]\n",
    "train_male_sample = train[train.Gender == 1].sample(num_fem)\n",
    "train_under = train[train.Gender == 0]\n",
    "train_under = pd.concat([train_under, train_male_sample])\n",
    "    \n",
    "# Unbalanced train set\n",
    "X = train.drop([\"Class\"], axis=1).values\n",
    "y = train[\"Class\"].values\n",
    "\n",
    "# Balanced train set using SMOTE\n",
    "X_smote, y_smote = SMOTE().fit_sample(X, y)\n",
    "    \n",
    "# Balanced train set using undersampling\n",
    "X_under = train_under.drop([\"Class\"], axis=1).values\n",
    "y_under = train_under[\"Class\"].values"
   ]
  },
  {
   "cell_type": "code",
   "execution_count": 68,
   "metadata": {},
   "outputs": [],
   "source": [
    "from sklearn.ensemble import RandomForestClassifier\n",
    "rf = RandomForestClassifier(random_state=42)"
   ]
  },
  {
   "cell_type": "code",
   "execution_count": 48,
   "metadata": {},
   "outputs": [
    {
     "name": "stdout",
     "output_type": "stream",
     "text": [
      "Model Performance\n",
      "Accuracy = 0.75%.\n"
     ]
    }
   ],
   "source": [
    "from sklearn.metrics import accuracy_score\n",
    "\n",
    "def evaluate(model, test_features, test_labels):\n",
    "    predictions = model.predict(test_features)\n",
    "    accuracy = accuracy_score(test_labels, predictions)\n",
    "    print('Model Performance')\n",
    "    print('Accuracy = {:0.2f}%.'.format(accuracy))\n",
    "    \n",
    "    return accuracy\n",
    "\n",
    "bbase_model = RandomForestClassifier(n_estimators = 10, random_state = 42)\n",
    "bbase_model.fit(X, y)\n",
    "bbase_accuracy = evaluate(bbase_model, X_test, y_test)"
   ]
  },
  {
   "cell_type": "code",
   "execution_count": 49,
   "metadata": {},
   "outputs": [
    {
     "name": "stdout",
     "output_type": "stream",
     "text": [
      "Model Performance\n",
      "Accuracy = 0.77%.\n"
     ]
    }
   ],
   "source": [
    "sbase_model = RandomForestClassifier(n_estimators = 10, random_state = 42)\n",
    "sbase_model.fit(X_smote, y_smote)\n",
    "sbase_accuracy = evaluate(sbase_model, X_test, y_test)"
   ]
  },
  {
   "cell_type": "code",
   "execution_count": 50,
   "metadata": {},
   "outputs": [
    {
     "name": "stdout",
     "output_type": "stream",
     "text": [
      "Model Performance\n",
      "Accuracy = 0.67%.\n"
     ]
    }
   ],
   "source": [
    "ubase_model = RandomForestClassifier(n_estimators = 10, random_state = 42)\n",
    "ubase_model.fit(X_under, y_under)\n",
    "ubase_accuracy = evaluate(ubase_model, X_test, y_test)"
   ]
  },
  {
   "cell_type": "code",
   "execution_count": 74,
   "metadata": {},
   "outputs": [],
   "source": [
    "from sklearn.model_selection import GridSearchCV\n",
    "\n",
    "# Create the parameter grid based on the results of random search \n",
    "param_grid = {\n",
    "    'n_estimators': range(20, 520, 20)\n",
    "}\n",
    "# Create a based model\n",
    "rf_base = RandomForestClassifier()\n",
    "rf_smote = RandomForestClassifier()\n",
    "rf_under = RandomForestClassifier()\n",
    "\n",
    "# Instantiate the grid search model\n",
    "bgrid_search = GridSearchCV(estimator = rf_base, param_grid=param_grid, \n",
    "                          cv=3, n_jobs=-1, verbose=1)\n",
    "sgrid_search = GridSearchCV(estimator=rf_smote, param_grid=param_grid, \n",
    "                          cv=3, n_jobs=-1, verbose=1)\n",
    "ugrid_search = GridSearchCV(estimator = rf_under, param_grid=param_grid, \n",
    "                          cv=3, n_jobs=-1, verbose=1)"
   ]
  },
  {
   "cell_type": "code",
   "execution_count": 75,
   "metadata": {},
   "outputs": [
    {
     "name": "stdout",
     "output_type": "stream",
     "text": [
      "Fitting 3 folds for each of 25 candidates, totalling 75 fits\n"
     ]
    },
    {
     "name": "stderr",
     "output_type": "stream",
     "text": [
      "[Parallel(n_jobs=-1)]: Done  75 out of  75 | elapsed:   10.3s finished\n"
     ]
    },
    {
     "data": {
      "text/plain": [
       "{'n_estimators': 280}"
      ]
     },
     "execution_count": 75,
     "metadata": {},
     "output_type": "execute_result"
    }
   ],
   "source": [
    "bgrid_search.fit(X, y)\n",
    "bgrid_search.best_params_"
   ]
  },
  {
   "cell_type": "code",
   "execution_count": 76,
   "metadata": {},
   "outputs": [
    {
     "name": "stdout",
     "output_type": "stream",
     "text": [
      "Model Performance\n",
      "Accuracy = 0.81%.\n"
     ]
    }
   ],
   "source": [
    "bgrid_accuracy = evaluate(bgrid_search, X_test, y_test)"
   ]
  },
  {
   "cell_type": "code",
   "execution_count": 77,
   "metadata": {},
   "outputs": [
    {
     "name": "stdout",
     "output_type": "stream",
     "text": [
      "Fitting 3 folds for each of 25 candidates, totalling 75 fits\n"
     ]
    },
    {
     "name": "stderr",
     "output_type": "stream",
     "text": [
      "[Parallel(n_jobs=-1)]: Done  75 out of  75 | elapsed:   10.8s finished\n"
     ]
    },
    {
     "data": {
      "text/plain": [
       "{'n_estimators': 240}"
      ]
     },
     "execution_count": 77,
     "metadata": {},
     "output_type": "execute_result"
    }
   ],
   "source": [
    "sgrid_search.fit(X_smote, y_smote)\n",
    "sgrid_search.best_params_"
   ]
  },
  {
   "cell_type": "code",
   "execution_count": 78,
   "metadata": {},
   "outputs": [
    {
     "name": "stdout",
     "output_type": "stream",
     "text": [
      "Model Performance\n",
      "Accuracy = 0.79%.\n"
     ]
    }
   ],
   "source": [
    "sgrid_accuracy = evaluate(sgrid_search, X_test, y_test)"
   ]
  },
  {
   "cell_type": "code",
   "execution_count": 79,
   "metadata": {},
   "outputs": [
    {
     "name": "stdout",
     "output_type": "stream",
     "text": [
      "Fitting 3 folds for each of 25 candidates, totalling 75 fits\n"
     ]
    },
    {
     "name": "stderr",
     "output_type": "stream",
     "text": [
      "[Parallel(n_jobs=-1)]: Done  75 out of  75 | elapsed:    9.4s finished\n"
     ]
    },
    {
     "data": {
      "text/plain": [
       "{'n_estimators': 80}"
      ]
     },
     "execution_count": 79,
     "metadata": {},
     "output_type": "execute_result"
    }
   ],
   "source": [
    "ugrid_search.fit(X_under, y_under)\n",
    "ugrid_search.best_params_"
   ]
  },
  {
   "cell_type": "code",
   "execution_count": 80,
   "metadata": {},
   "outputs": [
    {
     "name": "stdout",
     "output_type": "stream",
     "text": [
      "Model Performance\n",
      "Accuracy = 0.75%.\n"
     ]
    }
   ],
   "source": [
    "ugrid_accuracy = evaluate(ugrid_search, X_test, y_test)"
   ]
  },
  {
   "cell_type": "markdown",
   "metadata": {},
   "source": [
    "### Our num_estimators will be 280 for base, 240 for smote and 80 for under"
   ]
  },
  {
   "cell_type": "code",
   "execution_count": 81,
   "metadata": {},
   "outputs": [],
   "source": [
    "from imblearn.over_sampling import SMOTE\n",
    "\n",
    "# Split data in 480 train-test sets (leave one out)\n",
    "\n",
    "Xs = []\n",
    "ys = []\n",
    "bXs = []\n",
    "bys = []\n",
    "bXs_under = []\n",
    "bys_under = []\n",
    "rXs = []\n",
    "rys = []\n",
    "\n",
    "for i in range(480):\n",
    "    train_df = df.drop(df.index[i])\n",
    "    test_df = df.iloc[[i]]\n",
    "    \n",
    "    # Generate balanced set by undersampling males to match the number of females\n",
    "    num_fem = train_df.Gender.value_counts()[0]\n",
    "    train_male_sample = train_df[train_df.Gender == 1].sample(num_fem)\n",
    "    train_bal_df = train_df[train_df.Gender == 0]\n",
    "    train_bal_df = pd.concat([train_bal_df, train_male_sample])\n",
    "    \n",
    "    # Unbalanced train set\n",
    "    X = train_df.drop([\"Class\"], axis=1).values\n",
    "    y = train_df[\"Class\"].values\n",
    "\n",
    "    # Balanced train set using SMOTE\n",
    "    bX, by = SMOTE().fit_sample(X, y)\n",
    "    \n",
    "    # Balanced train set using undersampling\n",
    "    bX_under = train_bal_df.drop([\"Class\"], axis=1).values\n",
    "    by_under = train_bal_df[\"Class\"].values\n",
    "\n",
    "    # Reserved test set\n",
    "    rX = test_df.drop([\"Class\"], axis=1).values\n",
    "    ry = test_df[\"Class\"].values\n",
    "    \n",
    "    # Build arrays with all different\n",
    "    Xs.append(X)\n",
    "    ys.append(y)\n",
    "    bXs.append(bX)\n",
    "    bys.append(by)\n",
    "    bXs_under.append(bX_under)\n",
    "    bys_under.append(by_under)\n",
    "    rXs.append(rX)\n",
    "    rys.append(ry)"
   ]
  },
  {
   "cell_type": "markdown",
   "metadata": {},
   "source": [
    "## Import ML stuff"
   ]
  },
  {
   "cell_type": "code",
   "execution_count": 82,
   "metadata": {},
   "outputs": [],
   "source": [
    "# Classifiers\n",
    "from sklearn.ensemble import RandomForestClassifier as rf"
   ]
  },
  {
   "cell_type": "markdown",
   "metadata": {},
   "source": [
    "# Get predictions"
   ]
  },
  {
   "cell_type": "code",
   "execution_count": 83,
   "metadata": {},
   "outputs": [],
   "source": [
    "new_rf_preds = pd.DataFrame(np.zeros((480, 4)))\n",
    "new_rf_preds.columns = [\"base\", \"smote\", \"under\", \"real\"]\n",
    "\n",
    "for i in range(480):\n",
    "    X = Xs[i]\n",
    "    y = ys[i]\n",
    "    bX = bXs[i]\n",
    "    by = bys[i]\n",
    "    bX_under = bXs_under[i]\n",
    "    by_under = bys_under[i]\n",
    "    rX = rXs[i]\n",
    "    \n",
    "    rf_base = rf(n_estimators=280)\n",
    "    rf_base.fit(X, y)\n",
    "    rf_smote = rf(n_estimators=240)\n",
    "    rf_smote.fit(X_smote, y_smote)\n",
    "    rf_under = rf(n_estimators=80)\n",
    "    rf_under.fit(X_under, y_under)\n",
    "    \n",
    "    new_rf_preds.iloc[i, 0] = rf_base.predict(rX)\n",
    "    new_rf_preds.iloc[i, 1] = rf_smote.predict(rX)\n",
    "    new_rf_preds.iloc[i, 2] = rf_under.predict(rX)\n",
    "    new_rf_preds.iloc[i, 3] = df[\"Class\"][i]"
   ]
  },
  {
   "cell_type": "code",
   "execution_count": 84,
   "metadata": {},
   "outputs": [
    {
     "data": {
      "text/html": [
       "<div>\n",
       "<style scoped>\n",
       "    .dataframe tbody tr th:only-of-type {\n",
       "        vertical-align: middle;\n",
       "    }\n",
       "\n",
       "    .dataframe tbody tr th {\n",
       "        vertical-align: top;\n",
       "    }\n",
       "\n",
       "    .dataframe thead th {\n",
       "        text-align: right;\n",
       "    }\n",
       "</style>\n",
       "<table border=\"1\" class=\"dataframe\">\n",
       "  <thead>\n",
       "    <tr style=\"text-align: right;\">\n",
       "      <th></th>\n",
       "      <th>base</th>\n",
       "      <th>smote</th>\n",
       "      <th>under</th>\n",
       "      <th>real</th>\n",
       "    </tr>\n",
       "  </thead>\n",
       "  <tbody>\n",
       "    <tr>\n",
       "      <th>0</th>\n",
       "      <td>1.0</td>\n",
       "      <td>1.0</td>\n",
       "      <td>1.0</td>\n",
       "      <td>1.0</td>\n",
       "    </tr>\n",
       "    <tr>\n",
       "      <th>1</th>\n",
       "      <td>1.0</td>\n",
       "      <td>1.0</td>\n",
       "      <td>1.0</td>\n",
       "      <td>1.0</td>\n",
       "    </tr>\n",
       "    <tr>\n",
       "      <th>2</th>\n",
       "      <td>0.0</td>\n",
       "      <td>0.0</td>\n",
       "      <td>0.0</td>\n",
       "      <td>0.0</td>\n",
       "    </tr>\n",
       "    <tr>\n",
       "      <th>3</th>\n",
       "      <td>0.0</td>\n",
       "      <td>0.0</td>\n",
       "      <td>0.0</td>\n",
       "      <td>0.0</td>\n",
       "    </tr>\n",
       "    <tr>\n",
       "      <th>4</th>\n",
       "      <td>0.0</td>\n",
       "      <td>1.0</td>\n",
       "      <td>1.0</td>\n",
       "      <td>1.0</td>\n",
       "    </tr>\n",
       "  </tbody>\n",
       "</table>\n",
       "</div>"
      ],
      "text/plain": [
       "   base  smote  under  real\n",
       "0   1.0    1.0    1.0   1.0\n",
       "1   1.0    1.0    1.0   1.0\n",
       "2   0.0    0.0    0.0   0.0\n",
       "3   0.0    0.0    0.0   0.0\n",
       "4   0.0    1.0    1.0   1.0"
      ]
     },
     "execution_count": 84,
     "metadata": {},
     "output_type": "execute_result"
    }
   ],
   "source": [
    "new_rf_preds.head()"
   ]
  },
  {
   "cell_type": "markdown",
   "metadata": {},
   "source": [
    "Categorical Volatility codes:\n",
    "\n",
    "0. same predictions, none wrong\n",
    "1. different predictions, one wrong\n",
    "2. same predictions, both wrong\n",
    "3. different predictions, both wrong"
   ]
  },
  {
   "cell_type": "code",
   "execution_count": 56,
   "metadata": {},
   "outputs": [],
   "source": [
    "new_rf_preds = pd.read_csv('../Datasets/new_rf_predictions.csv', header=0)"
   ]
  },
  {
   "cell_type": "code",
   "execution_count": 57,
   "metadata": {},
   "outputs": [
    {
     "data": {
      "text/html": [
       "<div>\n",
       "<style scoped>\n",
       "    .dataframe tbody tr th:only-of-type {\n",
       "        vertical-align: middle;\n",
       "    }\n",
       "\n",
       "    .dataframe tbody tr th {\n",
       "        vertical-align: top;\n",
       "    }\n",
       "\n",
       "    .dataframe thead th {\n",
       "        text-align: right;\n",
       "    }\n",
       "</style>\n",
       "<table border=\"1\" class=\"dataframe\">\n",
       "  <thead>\n",
       "    <tr style=\"text-align: right;\">\n",
       "      <th></th>\n",
       "      <th>base</th>\n",
       "      <th>smote</th>\n",
       "      <th>under</th>\n",
       "      <th>real</th>\n",
       "      <th>cat_vola_smote</th>\n",
       "      <th>cat_vola_under</th>\n",
       "      <th>abs_vola_smote</th>\n",
       "      <th>abs_vola_under</th>\n",
       "    </tr>\n",
       "  </thead>\n",
       "  <tbody>\n",
       "    <tr>\n",
       "      <th>0</th>\n",
       "      <td>1.0</td>\n",
       "      <td>1.0</td>\n",
       "      <td>1.0</td>\n",
       "      <td>1.0</td>\n",
       "      <td>0</td>\n",
       "      <td>0</td>\n",
       "      <td>0.0</td>\n",
       "      <td>0.0</td>\n",
       "    </tr>\n",
       "    <tr>\n",
       "      <th>1</th>\n",
       "      <td>1.0</td>\n",
       "      <td>1.0</td>\n",
       "      <td>1.0</td>\n",
       "      <td>1.0</td>\n",
       "      <td>0</td>\n",
       "      <td>0</td>\n",
       "      <td>0.0</td>\n",
       "      <td>0.0</td>\n",
       "    </tr>\n",
       "    <tr>\n",
       "      <th>2</th>\n",
       "      <td>0.0</td>\n",
       "      <td>0.0</td>\n",
       "      <td>0.0</td>\n",
       "      <td>0.0</td>\n",
       "      <td>0</td>\n",
       "      <td>0</td>\n",
       "      <td>0.0</td>\n",
       "      <td>0.0</td>\n",
       "    </tr>\n",
       "    <tr>\n",
       "      <th>3</th>\n",
       "      <td>0.0</td>\n",
       "      <td>0.0</td>\n",
       "      <td>0.0</td>\n",
       "      <td>0.0</td>\n",
       "      <td>0</td>\n",
       "      <td>0</td>\n",
       "      <td>0.0</td>\n",
       "      <td>0.0</td>\n",
       "    </tr>\n",
       "    <tr>\n",
       "      <th>4</th>\n",
       "      <td>0.0</td>\n",
       "      <td>1.0</td>\n",
       "      <td>1.0</td>\n",
       "      <td>1.0</td>\n",
       "      <td>1</td>\n",
       "      <td>1</td>\n",
       "      <td>1.0</td>\n",
       "      <td>1.0</td>\n",
       "    </tr>\n",
       "  </tbody>\n",
       "</table>\n",
       "</div>"
      ],
      "text/plain": [
       "   base  smote  under  real  cat_vola_smote  cat_vola_under  abs_vola_smote  \\\n",
       "0   1.0    1.0    1.0   1.0               0               0             0.0   \n",
       "1   1.0    1.0    1.0   1.0               0               0             0.0   \n",
       "2   0.0    0.0    0.0   0.0               0               0             0.0   \n",
       "3   0.0    0.0    0.0   0.0               0               0             0.0   \n",
       "4   0.0    1.0    1.0   1.0               1               1             1.0   \n",
       "\n",
       "   abs_vola_under  \n",
       "0             0.0  \n",
       "1             0.0  \n",
       "2             0.0  \n",
       "3             0.0  \n",
       "4             1.0  "
      ]
     },
     "execution_count": 57,
     "metadata": {},
     "output_type": "execute_result"
    }
   ],
   "source": [
    "new_rf_preds.head()"
   ]
  },
  {
   "cell_type": "code",
   "execution_count": 86,
   "metadata": {},
   "outputs": [],
   "source": [
    "# Both columns initialised as 0, same predictions, both right\n",
    "new_rf_preds[\"cat_vola_smote\"] = 0\n",
    "new_rf_preds[\"cat_vola_under\"] = 0\n",
    "\n",
    "for i in range(480):\n",
    "    \n",
    "    # Get smote categorical volatility\n",
    "    \n",
    "    # If base and smote are different\n",
    "    if new_rf_preds.iloc[i, 0] != new_rf_preds.iloc[i, 1]:\n",
    "        \n",
    "        # If one of them is right\n",
    "        if new_rf_preds.iloc[i, 0] == new_rf_preds.iloc[i, 3] or \\\n",
    "        new_rf_preds.iloc[i, 1] == new_rf_preds.iloc[i, 3]:\n",
    "            new_rf_preds.iloc[i, 4] = 1\n",
    "        \n",
    "        # Both wrong\n",
    "        else:\n",
    "            new_rf_preds.iloc[i, 4] = 3\n",
    "    \n",
    "    # Same predictions, both wrong\n",
    "    elif new_rf_preds.iloc[i, 0] != new_rf_preds.iloc[i, 3]:\n",
    "        new_rf_preds.iloc[i, 4] = 2\n",
    "    \n",
    "    # Get undersampling categorical volatility\n",
    "    \n",
    "    # If base and under are different\n",
    "    if new_rf_preds.iloc[i, 0] != new_rf_preds.iloc[i, 2]:\n",
    "        \n",
    "        # If one of them is right\n",
    "        if new_rf_preds.iloc[i, 0] == new_rf_preds.iloc[i, 3] or \\\n",
    "        new_rf_preds.iloc[i, 2] == new_rf_preds.iloc[i, 3]:\n",
    "            new_rf_preds.iloc[i, 5] = 1\n",
    "        \n",
    "        # Both wrong\n",
    "        else:\n",
    "            new_rf_preds.iloc[i, 5] = 3\n",
    "    \n",
    "    # Same predictions, both wrong\n",
    "    elif new_rf_preds.iloc[i, 0] != new_rf_preds.iloc[i, 3]:\n",
    "        new_rf_preds.iloc[i, 5] = 2"
   ]
  },
  {
   "cell_type": "markdown",
   "metadata": {},
   "source": [
    "Ordered Volatility measures the improvement in bal classif. as opposed to base classif."
   ]
  },
  {
   "cell_type": "code",
   "execution_count": 87,
   "metadata": {},
   "outputs": [],
   "source": [
    "new_rf_preds['abs_vola_smote'] = abs(new_rf_preds['base'] - new_rf_preds['smote'])\n",
    "\n",
    "new_rf_preds['abs_vola_under'] = abs(new_rf_preds['base'] - new_rf_preds['under'])"
   ]
  },
  {
   "cell_type": "code",
   "execution_count": 88,
   "metadata": {},
   "outputs": [],
   "source": [
    "new_rf_preds.to_csv('../Datasets/new_rf_predictions.csv', index=False)"
   ]
  },
  {
   "cell_type": "code",
   "execution_count": 89,
   "metadata": {},
   "outputs": [
    {
     "data": {
      "text/plain": [
       "0    389\n",
       "1     82\n",
       "2      9\n",
       "Name: cat_vola_smote, dtype: int64"
      ]
     },
     "execution_count": 89,
     "metadata": {},
     "output_type": "execute_result"
    }
   ],
   "source": [
    "new_rf_preds.cat_vola_smote.value_counts()"
   ]
  },
  {
   "cell_type": "code",
   "execution_count": 90,
   "metadata": {},
   "outputs": [
    {
     "data": {
      "text/plain": [
       "0    375\n",
       "1     81\n",
       "2     24\n",
       "Name: cat_vola_under, dtype: int64"
      ]
     },
     "execution_count": 90,
     "metadata": {},
     "output_type": "execute_result"
    }
   ],
   "source": [
    "new_rf_preds.cat_vola_under.value_counts()"
   ]
  },
  {
   "cell_type": "markdown",
   "metadata": {},
   "source": [
    "# Can begin from here (predictions already on df)"
   ]
  },
  {
   "cell_type": "code",
   "execution_count": 95,
   "metadata": {},
   "outputs": [],
   "source": [
    "import pandas as pd\n",
    "import numpy as np\n",
    "df = pd.read_csv('../Datasets/academic_onehot.csv', header=0)\n",
    "rf_preds = pd.read_csv('../Datasets/new_rf_predictions.csv', header=0)"
   ]
  },
  {
   "cell_type": "code",
   "execution_count": 96,
   "metadata": {},
   "outputs": [
    {
     "data": {
      "text/html": [
       "<div>\n",
       "<style scoped>\n",
       "    .dataframe tbody tr th:only-of-type {\n",
       "        vertical-align: middle;\n",
       "    }\n",
       "\n",
       "    .dataframe tbody tr th {\n",
       "        vertical-align: top;\n",
       "    }\n",
       "\n",
       "    .dataframe thead th {\n",
       "        text-align: right;\n",
       "    }\n",
       "</style>\n",
       "<table border=\"1\" class=\"dataframe\">\n",
       "  <thead>\n",
       "    <tr style=\"text-align: right;\">\n",
       "      <th></th>\n",
       "      <th>Gender</th>\n",
       "      <th>StageID</th>\n",
       "      <th>GradeID</th>\n",
       "      <th>Semester</th>\n",
       "      <th>Relation</th>\n",
       "      <th>RaisedHands</th>\n",
       "      <th>VisitedResources</th>\n",
       "      <th>AnnouncementsView</th>\n",
       "      <th>Discussion</th>\n",
       "      <th>ParentAnsweringSurvey</th>\n",
       "      <th>...</th>\n",
       "      <th>Chemistry</th>\n",
       "      <th>English</th>\n",
       "      <th>French</th>\n",
       "      <th>Geology</th>\n",
       "      <th>History</th>\n",
       "      <th>IT</th>\n",
       "      <th>Math</th>\n",
       "      <th>Quran</th>\n",
       "      <th>Science</th>\n",
       "      <th>Spanish</th>\n",
       "    </tr>\n",
       "  </thead>\n",
       "  <tbody>\n",
       "    <tr>\n",
       "      <th>0</th>\n",
       "      <td>1</td>\n",
       "      <td>0</td>\n",
       "      <td>3</td>\n",
       "      <td>0</td>\n",
       "      <td>1</td>\n",
       "      <td>15</td>\n",
       "      <td>16</td>\n",
       "      <td>2</td>\n",
       "      <td>20</td>\n",
       "      <td>1</td>\n",
       "      <td>...</td>\n",
       "      <td>0</td>\n",
       "      <td>0</td>\n",
       "      <td>0</td>\n",
       "      <td>0</td>\n",
       "      <td>0</td>\n",
       "      <td>1</td>\n",
       "      <td>0</td>\n",
       "      <td>0</td>\n",
       "      <td>0</td>\n",
       "      <td>0</td>\n",
       "    </tr>\n",
       "    <tr>\n",
       "      <th>1</th>\n",
       "      <td>1</td>\n",
       "      <td>0</td>\n",
       "      <td>3</td>\n",
       "      <td>0</td>\n",
       "      <td>1</td>\n",
       "      <td>20</td>\n",
       "      <td>20</td>\n",
       "      <td>3</td>\n",
       "      <td>25</td>\n",
       "      <td>1</td>\n",
       "      <td>...</td>\n",
       "      <td>0</td>\n",
       "      <td>0</td>\n",
       "      <td>0</td>\n",
       "      <td>0</td>\n",
       "      <td>0</td>\n",
       "      <td>1</td>\n",
       "      <td>0</td>\n",
       "      <td>0</td>\n",
       "      <td>0</td>\n",
       "      <td>0</td>\n",
       "    </tr>\n",
       "    <tr>\n",
       "      <th>2</th>\n",
       "      <td>1</td>\n",
       "      <td>0</td>\n",
       "      <td>3</td>\n",
       "      <td>0</td>\n",
       "      <td>1</td>\n",
       "      <td>10</td>\n",
       "      <td>7</td>\n",
       "      <td>0</td>\n",
       "      <td>30</td>\n",
       "      <td>0</td>\n",
       "      <td>...</td>\n",
       "      <td>0</td>\n",
       "      <td>0</td>\n",
       "      <td>0</td>\n",
       "      <td>0</td>\n",
       "      <td>0</td>\n",
       "      <td>1</td>\n",
       "      <td>0</td>\n",
       "      <td>0</td>\n",
       "      <td>0</td>\n",
       "      <td>0</td>\n",
       "    </tr>\n",
       "    <tr>\n",
       "      <th>3</th>\n",
       "      <td>1</td>\n",
       "      <td>0</td>\n",
       "      <td>3</td>\n",
       "      <td>0</td>\n",
       "      <td>1</td>\n",
       "      <td>30</td>\n",
       "      <td>25</td>\n",
       "      <td>5</td>\n",
       "      <td>35</td>\n",
       "      <td>0</td>\n",
       "      <td>...</td>\n",
       "      <td>0</td>\n",
       "      <td>0</td>\n",
       "      <td>0</td>\n",
       "      <td>0</td>\n",
       "      <td>0</td>\n",
       "      <td>1</td>\n",
       "      <td>0</td>\n",
       "      <td>0</td>\n",
       "      <td>0</td>\n",
       "      <td>0</td>\n",
       "    </tr>\n",
       "    <tr>\n",
       "      <th>4</th>\n",
       "      <td>1</td>\n",
       "      <td>0</td>\n",
       "      <td>3</td>\n",
       "      <td>0</td>\n",
       "      <td>1</td>\n",
       "      <td>40</td>\n",
       "      <td>50</td>\n",
       "      <td>12</td>\n",
       "      <td>50</td>\n",
       "      <td>0</td>\n",
       "      <td>...</td>\n",
       "      <td>0</td>\n",
       "      <td>0</td>\n",
       "      <td>0</td>\n",
       "      <td>0</td>\n",
       "      <td>0</td>\n",
       "      <td>1</td>\n",
       "      <td>0</td>\n",
       "      <td>0</td>\n",
       "      <td>0</td>\n",
       "      <td>0</td>\n",
       "    </tr>\n",
       "  </tbody>\n",
       "</table>\n",
       "<p>5 rows × 42 columns</p>\n",
       "</div>"
      ],
      "text/plain": [
       "   Gender  StageID  GradeID  Semester  Relation  RaisedHands  \\\n",
       "0       1        0        3         0         1           15   \n",
       "1       1        0        3         0         1           20   \n",
       "2       1        0        3         0         1           10   \n",
       "3       1        0        3         0         1           30   \n",
       "4       1        0        3         0         1           40   \n",
       "\n",
       "   VisitedResources  AnnouncementsView  Discussion  ParentAnsweringSurvey  \\\n",
       "0                16                  2          20                      1   \n",
       "1                20                  3          25                      1   \n",
       "2                 7                  0          30                      0   \n",
       "3                25                  5          35                      0   \n",
       "4                50                 12          50                      0   \n",
       "\n",
       "    ...     Chemistry  English  French  Geology  History  IT  Math  Quran  \\\n",
       "0   ...             0        0       0        0        0   1     0      0   \n",
       "1   ...             0        0       0        0        0   1     0      0   \n",
       "2   ...             0        0       0        0        0   1     0      0   \n",
       "3   ...             0        0       0        0        0   1     0      0   \n",
       "4   ...             0        0       0        0        0   1     0      0   \n",
       "\n",
       "   Science  Spanish  \n",
       "0        0        0  \n",
       "1        0        0  \n",
       "2        0        0  \n",
       "3        0        0  \n",
       "4        0        0  \n",
       "\n",
       "[5 rows x 42 columns]"
      ]
     },
     "execution_count": 96,
     "metadata": {},
     "output_type": "execute_result"
    }
   ],
   "source": [
    "df.head()"
   ]
  },
  {
   "cell_type": "code",
   "execution_count": 97,
   "metadata": {},
   "outputs": [
    {
     "data": {
      "text/html": [
       "<div>\n",
       "<style scoped>\n",
       "    .dataframe tbody tr th:only-of-type {\n",
       "        vertical-align: middle;\n",
       "    }\n",
       "\n",
       "    .dataframe tbody tr th {\n",
       "        vertical-align: top;\n",
       "    }\n",
       "\n",
       "    .dataframe thead th {\n",
       "        text-align: right;\n",
       "    }\n",
       "</style>\n",
       "<table border=\"1\" class=\"dataframe\">\n",
       "  <thead>\n",
       "    <tr style=\"text-align: right;\">\n",
       "      <th></th>\n",
       "      <th>base</th>\n",
       "      <th>smote</th>\n",
       "      <th>under</th>\n",
       "      <th>real</th>\n",
       "      <th>cat_vola_smote</th>\n",
       "      <th>cat_vola_under</th>\n",
       "      <th>abs_vola_smote</th>\n",
       "      <th>abs_vola_under</th>\n",
       "    </tr>\n",
       "  </thead>\n",
       "  <tbody>\n",
       "    <tr>\n",
       "      <th>0</th>\n",
       "      <td>1.0</td>\n",
       "      <td>1.0</td>\n",
       "      <td>1.0</td>\n",
       "      <td>1.0</td>\n",
       "      <td>0</td>\n",
       "      <td>0</td>\n",
       "      <td>0.0</td>\n",
       "      <td>0.0</td>\n",
       "    </tr>\n",
       "    <tr>\n",
       "      <th>1</th>\n",
       "      <td>1.0</td>\n",
       "      <td>1.0</td>\n",
       "      <td>1.0</td>\n",
       "      <td>1.0</td>\n",
       "      <td>0</td>\n",
       "      <td>0</td>\n",
       "      <td>0.0</td>\n",
       "      <td>0.0</td>\n",
       "    </tr>\n",
       "    <tr>\n",
       "      <th>2</th>\n",
       "      <td>0.0</td>\n",
       "      <td>0.0</td>\n",
       "      <td>0.0</td>\n",
       "      <td>0.0</td>\n",
       "      <td>0</td>\n",
       "      <td>0</td>\n",
       "      <td>0.0</td>\n",
       "      <td>0.0</td>\n",
       "    </tr>\n",
       "    <tr>\n",
       "      <th>3</th>\n",
       "      <td>0.0</td>\n",
       "      <td>0.0</td>\n",
       "      <td>0.0</td>\n",
       "      <td>0.0</td>\n",
       "      <td>0</td>\n",
       "      <td>0</td>\n",
       "      <td>0.0</td>\n",
       "      <td>0.0</td>\n",
       "    </tr>\n",
       "    <tr>\n",
       "      <th>4</th>\n",
       "      <td>0.0</td>\n",
       "      <td>1.0</td>\n",
       "      <td>1.0</td>\n",
       "      <td>1.0</td>\n",
       "      <td>1</td>\n",
       "      <td>1</td>\n",
       "      <td>1.0</td>\n",
       "      <td>1.0</td>\n",
       "    </tr>\n",
       "  </tbody>\n",
       "</table>\n",
       "</div>"
      ],
      "text/plain": [
       "   base  smote  under  real  cat_vola_smote  cat_vola_under  abs_vola_smote  \\\n",
       "0   1.0    1.0    1.0   1.0               0               0             0.0   \n",
       "1   1.0    1.0    1.0   1.0               0               0             0.0   \n",
       "2   0.0    0.0    0.0   0.0               0               0             0.0   \n",
       "3   0.0    0.0    0.0   0.0               0               0             0.0   \n",
       "4   0.0    1.0    1.0   1.0               1               1             1.0   \n",
       "\n",
       "   abs_vola_under  \n",
       "0             0.0  \n",
       "1             0.0  \n",
       "2             0.0  \n",
       "3             0.0  \n",
       "4             1.0  "
      ]
     },
     "execution_count": 97,
     "metadata": {},
     "output_type": "execute_result"
    }
   ],
   "source": [
    "rf_preds.head()"
   ]
  },
  {
   "cell_type": "markdown",
   "metadata": {},
   "source": [
    "## Kappa Agreements"
   ]
  },
  {
   "cell_type": "code",
   "execution_count": 99,
   "metadata": {},
   "outputs": [
    {
     "name": "stdout",
     "output_type": "stream",
     "text": [
      "0.7358566539158448\n"
     ]
    }
   ],
   "source": [
    "agree = len(rf_preds[rf_preds['base'] == rf_preds['smote']])\n",
    "total = len(rf_preds)\n",
    "p0 = agree / total\n",
    "\n",
    "p_0 = ((len(rf_preds[rf_preds['base'] == 0.0]) / total) \n",
    "       * (len(rf_preds[rf_preds['smote'] == 0.0]) / total))\n",
    "p_1 = ((len(rf_preds[rf_preds['base'] == 1.0]) / total) \n",
    "       * (len(rf_preds[rf_preds['smote'] == 1.0]) / total))\n",
    "p_2 = ((len(rf_preds[rf_preds['base'] == 2.0]) / total) \n",
    "       * (len(rf_preds[rf_preds['smote'] == 2.0]) / total))\n",
    "    \n",
    "p_e = p_0 + p_1 + p_2\n",
    "\n",
    "kappa_smote = (p0 - p_e) / (1 - p_e)\n",
    "\n",
    "print(kappa_smote)"
   ]
  },
  {
   "cell_type": "code",
   "execution_count": 100,
   "metadata": {},
   "outputs": [
    {
     "name": "stdout",
     "output_type": "stream",
     "text": [
      "0.736451448906965\n"
     ]
    }
   ],
   "source": [
    "agree = len(rf_preds[rf_preds['base'] == rf_preds['under']])\n",
    "total = len(rf_preds)\n",
    "p0 = agree / total\n",
    "\n",
    "p_0 = ((len(rf_preds[rf_preds['base'] == 0.0]) / total) \n",
    "       * (len(rf_preds[rf_preds['under'] == 0.0]) / total))\n",
    "p_1 = ((len(rf_preds[rf_preds['base'] == 1.0]) / total) \n",
    "       * (len(rf_preds[rf_preds['under'] == 1.0]) / total))\n",
    "p_2 = ((len(rf_preds[rf_preds['base'] == 2.0]) / total) \n",
    "       * (len(rf_preds[rf_preds['under'] == 2.0]) / total))\n",
    "    \n",
    "p_e = p_0 + p_1 + p_2\n",
    "\n",
    "kappa_under = (p0 - p_e) / (1 - p_e)\n",
    "\n",
    "print(kappa_under)"
   ]
  },
  {
   "cell_type": "code",
   "execution_count": 101,
   "metadata": {},
   "outputs": [
    {
     "name": "stdout",
     "output_type": "stream",
     "text": [
      "0.8993948818498358\n"
     ]
    }
   ],
   "source": [
    "agree = len(rf_preds[rf_preds['smote'] == rf_preds['under']])\n",
    "total = len(rf_preds)\n",
    "p0 = agree / total\n",
    "\n",
    "p_0 = ((len(rf_preds[rf_preds['smote'] == 0.0]) / total) \n",
    "       * (len(rf_preds[rf_preds['under'] == 0.0]) / total))\n",
    "p_1 = ((len(rf_preds[rf_preds['smote'] == 1.0]) / total) \n",
    "       * (len(rf_preds[rf_preds['under'] == 1.0]) / total))\n",
    "p_2 = ((len(rf_preds[rf_preds['smote'] == 2.0]) / total) \n",
    "       * (len(rf_preds[rf_preds['under'] == 2.0]) / total))\n",
    "    \n",
    "p_e = p_0 + p_1 + p_2\n",
    "\n",
    "kappa_underSMOTE = (p0 - p_e) / (1 - p_e)\n",
    "\n",
    "print(kappa_underSMOTE)"
   ]
  },
  {
   "cell_type": "code",
   "execution_count": 102,
   "metadata": {},
   "outputs": [
    {
     "data": {
      "text/plain": [
       "0    389\n",
       "1     82\n",
       "2      9\n",
       "Name: cat_vola_smote, dtype: int64"
      ]
     },
     "execution_count": 102,
     "metadata": {},
     "output_type": "execute_result"
    }
   ],
   "source": [
    "rf_preds['cat_vola_smote'].value_counts()"
   ]
  },
  {
   "cell_type": "code",
   "execution_count": 103,
   "metadata": {},
   "outputs": [
    {
     "data": {
      "text/plain": [
       "0    375\n",
       "1     81\n",
       "2     24\n",
       "Name: cat_vola_under, dtype: int64"
      ]
     },
     "execution_count": 103,
     "metadata": {},
     "output_type": "execute_result"
    }
   ],
   "source": [
    "rf_preds['cat_vola_under'].value_counts()"
   ]
  },
  {
   "cell_type": "code",
   "execution_count": 104,
   "metadata": {},
   "outputs": [
    {
     "data": {
      "text/plain": [
       "0.0    398\n",
       "1.0     82\n",
       "Name: abs_vola_smote, dtype: int64"
      ]
     },
     "execution_count": 104,
     "metadata": {},
     "output_type": "execute_result"
    }
   ],
   "source": [
    "rf_preds['abs_vola_smote'].value_counts()"
   ]
  },
  {
   "cell_type": "code",
   "execution_count": 105,
   "metadata": {},
   "outputs": [
    {
     "data": {
      "text/plain": [
       "0.0    399\n",
       "1.0     81\n",
       "Name: abs_vola_under, dtype: int64"
      ]
     },
     "execution_count": 105,
     "metadata": {},
     "output_type": "execute_result"
    }
   ],
   "source": [
    "rf_preds['abs_vola_under'].value_counts()"
   ]
  },
  {
   "cell_type": "code",
   "execution_count": 115,
   "metadata": {},
   "outputs": [],
   "source": [
    "df['base'] = rf_preds['base']\n",
    "df['smote'] = rf_preds['smote']\n",
    "df['under'] = rf_preds['under']\n",
    "df['cat_smote'] = rf_preds['cat_vola_smote']\n",
    "df['cat_under'] = rf_preds['cat_vola_under']"
   ]
  },
  {
   "cell_type": "code",
   "execution_count": 117,
   "metadata": {},
   "outputs": [],
   "source": [
    "df.to_csv('../Datasets/academic_vol_onehot_new.csv', index=False)"
   ]
  },
  {
   "cell_type": "code",
   "execution_count": 118,
   "metadata": {},
   "outputs": [],
   "source": [
    "import pandas as pd\n",
    "import numpy as np\n",
    "\n",
    "df = pd.read_csv('../Datasets/academic_vol_onehot_new.csv', header=0)\n",
    "df_clean = df[df.columns[:-5]]"
   ]
  },
  {
   "cell_type": "markdown",
   "metadata": {},
   "source": [
    "### Accuracies"
   ]
  },
  {
   "cell_type": "code",
   "execution_count": 121,
   "metadata": {},
   "outputs": [
    {
     "data": {
      "text/plain": [
       "0.8125"
      ]
     },
     "execution_count": 121,
     "metadata": {},
     "output_type": "execute_result"
    }
   ],
   "source": [
    "from sklearn.metrics import accuracy_score\n",
    "\n",
    "accuracy_score(df[\"Class\"], df[\"base\"])"
   ]
  },
  {
   "cell_type": "code",
   "execution_count": 122,
   "metadata": {},
   "outputs": [
    {
     "data": {
      "text/plain": [
       "0.91875"
      ]
     },
     "execution_count": 122,
     "metadata": {},
     "output_type": "execute_result"
    }
   ],
   "source": [
    "accuracy_score(df[\"Class\"], df[\"under\"])"
   ]
  },
  {
   "cell_type": "code",
   "execution_count": 123,
   "metadata": {},
   "outputs": [
    {
     "data": {
      "text/plain": [
       "0.9791666666666666"
      ]
     },
     "execution_count": 123,
     "metadata": {},
     "output_type": "execute_result"
    }
   ],
   "source": [
    "accuracy_score(df[\"Class\"], df[\"smote\"])"
   ]
  },
  {
   "cell_type": "markdown",
   "metadata": {},
   "source": [
    "### Normalised contingency tables for volatility vs class, gender"
   ]
  },
  {
   "cell_type": "code",
   "execution_count": 44,
   "metadata": {},
   "outputs": [
    {
     "data": {
      "text/html": [
       "<div>\n",
       "<style scoped>\n",
       "    .dataframe tbody tr th:only-of-type {\n",
       "        vertical-align: middle;\n",
       "    }\n",
       "\n",
       "    .dataframe tbody tr th {\n",
       "        vertical-align: top;\n",
       "    }\n",
       "\n",
       "    .dataframe thead th {\n",
       "        text-align: right;\n",
       "    }\n",
       "</style>\n",
       "<table border=\"1\" class=\"dataframe\">\n",
       "  <thead>\n",
       "    <tr style=\"text-align: right;\">\n",
       "      <th>cat_smote</th>\n",
       "      <th>0</th>\n",
       "      <th>1</th>\n",
       "      <th>2</th>\n",
       "    </tr>\n",
       "    <tr>\n",
       "      <th>Class</th>\n",
       "      <th></th>\n",
       "      <th></th>\n",
       "      <th></th>\n",
       "    </tr>\n",
       "  </thead>\n",
       "  <tbody>\n",
       "    <tr>\n",
       "      <th>High</th>\n",
       "      <td>0.77</td>\n",
       "      <td>0.20</td>\n",
       "      <td>0.02</td>\n",
       "    </tr>\n",
       "    <tr>\n",
       "      <th>Low</th>\n",
       "      <td>0.87</td>\n",
       "      <td>0.12</td>\n",
       "      <td>0.02</td>\n",
       "    </tr>\n",
       "    <tr>\n",
       "      <th>Mid</th>\n",
       "      <td>0.80</td>\n",
       "      <td>0.18</td>\n",
       "      <td>0.02</td>\n",
       "    </tr>\n",
       "  </tbody>\n",
       "</table>\n",
       "</div>"
      ],
      "text/plain": [
       "cat_smote     0     1     2\n",
       "Class                      \n",
       "High       0.77  0.20  0.02\n",
       "Low        0.87  0.12  0.02\n",
       "Mid        0.80  0.18  0.02"
      ]
     },
     "execution_count": 44,
     "metadata": {},
     "output_type": "execute_result"
    }
   ],
   "source": [
    "smote_class = pd.crosstab(df['Class'],\n",
    "                          df['cat_smote'],\n",
    "                          rownames=['Class'],\n",
    "                          colnames=['cat_smote'],\n",
    "                          normalize='index').round(2)\n",
    "smote_class"
   ]
  },
  {
   "cell_type": "code",
   "execution_count": 45,
   "metadata": {},
   "outputs": [
    {
     "data": {
      "text/html": [
       "<div>\n",
       "<style scoped>\n",
       "    .dataframe tbody tr th:only-of-type {\n",
       "        vertical-align: middle;\n",
       "    }\n",
       "\n",
       "    .dataframe tbody tr th {\n",
       "        vertical-align: top;\n",
       "    }\n",
       "\n",
       "    .dataframe thead th {\n",
       "        text-align: right;\n",
       "    }\n",
       "</style>\n",
       "<table border=\"1\" class=\"dataframe\">\n",
       "  <thead>\n",
       "    <tr style=\"text-align: right;\">\n",
       "      <th>cat_under</th>\n",
       "      <th>0</th>\n",
       "      <th>1</th>\n",
       "      <th>2</th>\n",
       "    </tr>\n",
       "    <tr>\n",
       "      <th>Class</th>\n",
       "      <th></th>\n",
       "      <th></th>\n",
       "      <th></th>\n",
       "    </tr>\n",
       "  </thead>\n",
       "  <tbody>\n",
       "    <tr>\n",
       "      <th>High</th>\n",
       "      <td>0.75</td>\n",
       "      <td>0.19</td>\n",
       "      <td>0.06</td>\n",
       "    </tr>\n",
       "    <tr>\n",
       "      <th>Low</th>\n",
       "      <td>0.81</td>\n",
       "      <td>0.13</td>\n",
       "      <td>0.06</td>\n",
       "    </tr>\n",
       "    <tr>\n",
       "      <th>Mid</th>\n",
       "      <td>0.79</td>\n",
       "      <td>0.18</td>\n",
       "      <td>0.03</td>\n",
       "    </tr>\n",
       "  </tbody>\n",
       "</table>\n",
       "</div>"
      ],
      "text/plain": [
       "cat_under     0     1     2\n",
       "Class                      \n",
       "High       0.75  0.19  0.06\n",
       "Low        0.81  0.13  0.06\n",
       "Mid        0.79  0.18  0.03"
      ]
     },
     "execution_count": 45,
     "metadata": {},
     "output_type": "execute_result"
    }
   ],
   "source": [
    "under_class = pd.crosstab(df['Class'],\n",
    "                          df['cat_under'],\n",
    "                          rownames=['Class'],\n",
    "                          colnames=['cat_under'],\n",
    "                          normalize='index').round(2)\n",
    "under_class"
   ]
  },
  {
   "cell_type": "code",
   "execution_count": 46,
   "metadata": {},
   "outputs": [
    {
     "data": {
      "text/html": [
       "<div>\n",
       "<style scoped>\n",
       "    .dataframe tbody tr th:only-of-type {\n",
       "        vertical-align: middle;\n",
       "    }\n",
       "\n",
       "    .dataframe tbody tr th {\n",
       "        vertical-align: top;\n",
       "    }\n",
       "\n",
       "    .dataframe thead th {\n",
       "        text-align: right;\n",
       "    }\n",
       "</style>\n",
       "<table border=\"1\" class=\"dataframe\">\n",
       "  <thead>\n",
       "    <tr style=\"text-align: right;\">\n",
       "      <th>cat_smote</th>\n",
       "      <th>0</th>\n",
       "      <th>1</th>\n",
       "      <th>2</th>\n",
       "    </tr>\n",
       "    <tr>\n",
       "      <th>Gender</th>\n",
       "      <th></th>\n",
       "      <th></th>\n",
       "      <th></th>\n",
       "    </tr>\n",
       "  </thead>\n",
       "  <tbody>\n",
       "    <tr>\n",
       "      <th>Female</th>\n",
       "      <td>0.80</td>\n",
       "      <td>0.17</td>\n",
       "      <td>0.03</td>\n",
       "    </tr>\n",
       "    <tr>\n",
       "      <th>Male</th>\n",
       "      <td>0.82</td>\n",
       "      <td>0.17</td>\n",
       "      <td>0.01</td>\n",
       "    </tr>\n",
       "  </tbody>\n",
       "</table>\n",
       "</div>"
      ],
      "text/plain": [
       "cat_smote     0     1     2\n",
       "Gender                     \n",
       "Female     0.80  0.17  0.03\n",
       "Male       0.82  0.17  0.01"
      ]
     },
     "execution_count": 46,
     "metadata": {},
     "output_type": "execute_result"
    }
   ],
   "source": [
    "smote_gender = pd.crosstab(df['Gender'],\n",
    "                           df['cat_smote'],\n",
    "                           rownames=['Gender'],\n",
    "                           colnames=['cat_smote'],\n",
    "                           normalize='index').round(2)\n",
    "smote_gender"
   ]
  },
  {
   "cell_type": "code",
   "execution_count": 47,
   "metadata": {},
   "outputs": [
    {
     "data": {
      "text/html": [
       "<div>\n",
       "<style scoped>\n",
       "    .dataframe tbody tr th:only-of-type {\n",
       "        vertical-align: middle;\n",
       "    }\n",
       "\n",
       "    .dataframe tbody tr th {\n",
       "        vertical-align: top;\n",
       "    }\n",
       "\n",
       "    .dataframe thead th {\n",
       "        text-align: right;\n",
       "    }\n",
       "</style>\n",
       "<table border=\"1\" class=\"dataframe\">\n",
       "  <thead>\n",
       "    <tr style=\"text-align: right;\">\n",
       "      <th>cat_under</th>\n",
       "      <th>0</th>\n",
       "      <th>1</th>\n",
       "      <th>2</th>\n",
       "    </tr>\n",
       "    <tr>\n",
       "      <th>Gender</th>\n",
       "      <th></th>\n",
       "      <th></th>\n",
       "      <th></th>\n",
       "    </tr>\n",
       "  </thead>\n",
       "  <tbody>\n",
       "    <tr>\n",
       "      <th>Female</th>\n",
       "      <td>0.80</td>\n",
       "      <td>0.18</td>\n",
       "      <td>0.02</td>\n",
       "    </tr>\n",
       "    <tr>\n",
       "      <th>Male</th>\n",
       "      <td>0.77</td>\n",
       "      <td>0.16</td>\n",
       "      <td>0.07</td>\n",
       "    </tr>\n",
       "  </tbody>\n",
       "</table>\n",
       "</div>"
      ],
      "text/plain": [
       "cat_under     0     1     2\n",
       "Gender                     \n",
       "Female     0.80  0.18  0.02\n",
       "Male       0.77  0.16  0.07"
      ]
     },
     "execution_count": 47,
     "metadata": {},
     "output_type": "execute_result"
    }
   ],
   "source": [
    "under_gender = pd.crosstab(df['Gender'],\n",
    "                           df['cat_under'],\n",
    "                           rownames=['Gender'],\n",
    "                           colnames=['cat_under'],\n",
    "                           normalize='index').round(2)\n",
    "under_gender"
   ]
  },
  {
   "cell_type": "markdown",
   "metadata": {},
   "source": [
    "## Decision tree for categorical volatility"
   ]
  },
  {
   "cell_type": "code",
   "execution_count": 134,
   "metadata": {},
   "outputs": [
    {
     "data": {
      "text/plain": [
       "DecisionTreeClassifier(class_weight=None, criterion='gini', max_depth=5,\n",
       "            max_features=None, max_leaf_nodes=None,\n",
       "            min_impurity_decrease=0.0, min_impurity_split=None,\n",
       "            min_samples_leaf=1, min_samples_split=10,\n",
       "            min_weight_fraction_leaf=0.0, presort=False, random_state=None,\n",
       "            splitter='best')"
      ]
     },
     "execution_count": 134,
     "metadata": {},
     "output_type": "execute_result"
    }
   ],
   "source": [
    "from sklearn.tree import DecisionTreeClassifier as dt\n",
    "\n",
    "X = df_clean.values\n",
    "y_smote = df['cat_smote'].values\n",
    "y_under = df['cat_under'].values\n",
    "\n",
    "vola_smote_dt = dt(max_depth=5, min_samples_split=10)\n",
    "vola_smote_dt.fit(X, y_smote)\n",
    "\n",
    "vola_under_dt = dt(max_depth=5, min_samples_split=10)\n",
    "vola_under_dt.fit(X, y_under)"
   ]
  },
  {
   "cell_type": "code",
   "execution_count": 127,
   "metadata": {},
   "outputs": [
    {
     "name": "stdout",
     "output_type": "stream",
     "text": [
      "SMOTE Volatility DT Accuracy: 0.79375\n",
      "Undersampling Volatility DT Accuracy: 0.7375\n",
      "SMOTE Volatility RF Accuracy: 0.79375\n",
      "Undersampling Volatility RF Accuracy: 0.7791666666666667\n",
      "SMOTE Volatility KNN Accuracy: 0.7958333333333333\n",
      "Undersampling Volatility KNN Accuracy: 0.775\n",
      "SMOTE Volatility SVM Accuracy: 0.8083333333333333\n",
      "Undersampling Volatility SVM Accuracy: 0.78125\n"
     ]
    }
   ],
   "source": [
    "# Accuracy score (using LOO)\n",
    "from sklearn.ensemble import RandomForestClassifier as rf\n",
    "from sklearn.neighbors import KNeighborsClassifier as knn\n",
    "from sklearn.svm import SVC as svm\n",
    "from sklearn.model_selection import LeaveOneOut\n",
    "from sklearn.metrics import accuracy_score\n",
    "\n",
    "X = df_clean.values\n",
    "y_smote = df['cat_smote'].values\n",
    "y_under = df['cat_under'].values\n",
    "\n",
    "smote_dt_preds = np.zeros(480)\n",
    "under_dt_preds = np.zeros(480)\n",
    "smote_rf_preds = np.zeros(480)\n",
    "under_rf_preds = np.zeros(480)\n",
    "smote_knn_preds = np.zeros(480)\n",
    "under_knn_preds = np.zeros(480)\n",
    "smote_svm_preds = np.zeros(480)\n",
    "under_svm_preds = np.zeros(480)\n",
    "\n",
    "smote_dt = dt(max_depth=5, min_samples_split=10)\n",
    "under_dt = dt(max_depth=5, min_samples_split=10)\n",
    "smote_rf = rf()\n",
    "under_rf = rf()\n",
    "smote_knn = knn()\n",
    "under_knn = knn()\n",
    "smote_svm = svm()\n",
    "under_svm = svm()\n",
    "\n",
    "loo =LeaveOneOut()\n",
    "for train, test in loo.split(X):\n",
    "    smote_dt.fit(X[train], y_smote[train])\n",
    "    under_dt.fit(X[train], y_under[train])\n",
    "    smote_rf.fit(X[train], y_smote[train])\n",
    "    under_rf.fit(X[train], y_under[train])\n",
    "    smote_knn.fit(X[train], y_smote[train])\n",
    "    under_knn.fit(X[train], y_under[train])\n",
    "    smote_svm.fit(X[train], y_smote[train])\n",
    "    under_svm.fit(X[train], y_under[train])\n",
    "    smote_dt_preds[test] = smote_dt.predict(X[test])\n",
    "    under_dt_preds[test] = under_dt.predict(X[test])\n",
    "    smote_rf_preds[test] = smote_rf.predict(X[test])\n",
    "    under_rf_preds[test] = under_rf.predict(X[test])\n",
    "    smote_knn_preds[test] = smote_knn.predict(X[test])\n",
    "    under_knn_preds[test] = under_knn.predict(X[test])\n",
    "    smote_svm_preds[test] = smote_svm.predict(X[test])\n",
    "    under_svm_preds[test] = under_svm.predict(X[test])\n",
    "\n",
    "smote_acc = accuracy_score(df['cat_smote'], smote_dt_preds)\n",
    "under_acc = accuracy_score(df['cat_under'], under_dt_preds)\n",
    "smote_acc_rf = accuracy_score(df['cat_smote'], smote_rf_preds)\n",
    "under_acc_rf = accuracy_score(df['cat_under'], under_rf_preds)\n",
    "smote_acc_knn = accuracy_score(df['cat_smote'], smote_knn_preds)\n",
    "under_acc_knn = accuracy_score(df['cat_under'], under_knn_preds)\n",
    "smote_acc_svm = accuracy_score(df['cat_smote'], smote_svm_preds)\n",
    "under_acc_svm = accuracy_score(df['cat_under'], under_svm_preds)\n",
    "\n",
    "print('SMOTE Volatility DT Accuracy: ' + str(smote_acc))\n",
    "print('Undersampling Volatility DT Accuracy: ' + str(under_acc))\n",
    "print('SMOTE Volatility RF Accuracy: ' + str(smote_acc_rf))\n",
    "print('Undersampling Volatility RF Accuracy: ' + str(under_acc_rf))\n",
    "print('SMOTE Volatility KNN Accuracy: ' + str(smote_acc_knn))\n",
    "print('Undersampling Volatility KNN Accuracy: ' + str(under_acc_knn))\n",
    "print('SMOTE Volatility SVM Accuracy: ' + str(smote_acc_svm))\n",
    "print('Undersampling Volatility SVM Accuracy: ' + str(under_acc_svm))"
   ]
  },
  {
   "cell_type": "code",
   "execution_count": 135,
   "metadata": {
    "scrolled": true
   },
   "outputs": [
    {
     "name": "stdout",
     "output_type": "stream",
     "text": [
      "SMOTE feature ranking:\n",
      "1. Class (0.217240)\n",
      "2. RaisedHands (0.150109)\n",
      "3. SaudiArabia (0.131642)\n",
      "4. Kuwait (0.114203)\n",
      "5. Semester (0.110866)\n",
      "6. section_C (0.072326)\n",
      "7. ParentSchoolSatisfaction (0.072068)\n",
      "8. English (0.052833)\n",
      "9. Science (0.050310)\n",
      "10. StudentAbsenceDays (0.028403)\n"
     ]
    }
   ],
   "source": [
    "# SMOTE feature importances\n",
    "\n",
    "names = df_clean.columns.tolist()\n",
    "importances = vola_smote_dt.feature_importances_\n",
    "indices = np.argsort(importances)[::-1]\n",
    "\n",
    "# Print the feature ranking\n",
    "print(\"SMOTE feature ranking:\")\n",
    "\n",
    "for f in range(10):\n",
    "    print(\"%d. %s (%f)\" % (f + 1, names[indices[f]], importances[indices[f]]))"
   ]
  },
  {
   "cell_type": "code",
   "execution_count": 136,
   "metadata": {},
   "outputs": [
    {
     "name": "stdout",
     "output_type": "stream",
     "text": [
      "Undersampling feature ranking:\n",
      "1. Class (0.203658)\n",
      "2. RaisedHands (0.123182)\n",
      "3. SaudiArabia (0.118209)\n",
      "4. VisitedResources (0.105104)\n",
      "5. GradeID (0.092587)\n",
      "6. Kuwait (0.091761)\n",
      "7. Science (0.073966)\n",
      "8. English (0.065522)\n",
      "9. Iraq (0.056683)\n",
      "10. StudentAbsenceDays (0.040535)\n"
     ]
    }
   ],
   "source": [
    "# Undersampling feature importances\n",
    "\n",
    "names = df_clean.columns.tolist()\n",
    "importances = vola_under_dt.feature_importances_\n",
    "indices = np.argsort(importances)[::-1]\n",
    "\n",
    "# Print the feature ranking\n",
    "print(\"Undersampling feature ranking:\")\n",
    "\n",
    "for f in range(10):\n",
    "    print(\"%d. %s (%f)\" % (f + 1, names[indices[f]], importances[indices[f]]))"
   ]
  },
  {
   "cell_type": "markdown",
   "metadata": {},
   "source": [
    "### SMOTE decision tree"
   ]
  },
  {
   "cell_type": "code",
   "execution_count": 137,
   "metadata": {
    "scrolled": false
   },
   "outputs": [
    {
     "data": {
      "image/svg+xml": [
       "<svg height=\"671pt\" viewBox=\"0.00 0.00 1889.50 671.00\" width=\"1890pt\" xmlns=\"http://www.w3.org/2000/svg\" xmlns:xlink=\"http://www.w3.org/1999/xlink\">\n",
       "<g class=\"graph\" id=\"graph0\" transform=\"scale(1 1) rotate(0) translate(4 667)\">\n",
       "<title>Tree</title>\n",
       "<polygon fill=\"#ffffff\" points=\"-4,4 -4,-667 1885.5,-667 1885.5,4 -4,4\" stroke=\"transparent\"/>\n",
       "<!-- 0 -->\n",
       "<g class=\"node\" id=\"node1\">\n",
       "<title>0</title>\n",
       "<polygon fill=\"#e58139\" fill-opacity=\"0.772549\" points=\"1290,-663 1130,-663 1130,-580 1290,-580 1290,-663\" stroke=\"#000000\"/>\n",
       "<text fill=\"#000000\" font-family=\"Times,serif\" font-size=\"14.00\" text-anchor=\"middle\" x=\"1210\" y=\"-647.8\">SaudiArabia &lt;= 0.5</text>\n",
       "<text fill=\"#000000\" font-family=\"Times,serif\" font-size=\"14.00\" text-anchor=\"middle\" x=\"1210\" y=\"-632.8\">gini = 0.314</text>\n",
       "<text fill=\"#000000\" font-family=\"Times,serif\" font-size=\"14.00\" text-anchor=\"middle\" x=\"1210\" y=\"-617.8\">samples = 480</text>\n",
       "<text fill=\"#000000\" font-family=\"Times,serif\" font-size=\"14.00\" text-anchor=\"middle\" x=\"1210\" y=\"-602.8\">value = [389, 82, 9]</text>\n",
       "<text fill=\"#000000\" font-family=\"Times,serif\" font-size=\"14.00\" text-anchor=\"middle\" x=\"1210\" y=\"-587.8\">class = 0</text>\n",
       "</g>\n",
       "<!-- 1 -->\n",
       "<g class=\"node\" id=\"node2\">\n",
       "<title>1</title>\n",
       "<polygon fill=\"#e58139\" fill-opacity=\"0.788235\" points=\"1203,-544 1045,-544 1045,-461 1203,-461 1203,-544\" stroke=\"#000000\"/>\n",
       "<text fill=\"#000000\" font-family=\"Times,serif\" font-size=\"14.00\" text-anchor=\"middle\" x=\"1124\" y=\"-528.8\">Kuwait &lt;= 0.5</text>\n",
       "<text fill=\"#000000\" font-family=\"Times,serif\" font-size=\"14.00\" text-anchor=\"middle\" x=\"1124\" y=\"-513.8\">gini = 0.296</text>\n",
       "<text fill=\"#000000\" font-family=\"Times,serif\" font-size=\"14.00\" text-anchor=\"middle\" x=\"1124\" y=\"-498.8\">samples = 469</text>\n",
       "<text fill=\"#000000\" font-family=\"Times,serif\" font-size=\"14.00\" text-anchor=\"middle\" x=\"1124\" y=\"-483.8\">value = [386, 76, 7]</text>\n",
       "<text fill=\"#000000\" font-family=\"Times,serif\" font-size=\"14.00\" text-anchor=\"middle\" x=\"1124\" y=\"-468.8\">class = 0</text>\n",
       "</g>\n",
       "<!-- 0&#45;&gt;1 -->\n",
       "<g class=\"edge\" id=\"edge1\">\n",
       "<title>0-&gt;1</title>\n",
       "<path d=\"M1179.9214,-579.8796C1173.5428,-571.0534 1166.746,-561.6485 1160.1681,-552.5466\" fill=\"none\" stroke=\"#000000\"/>\n",
       "<polygon fill=\"#000000\" points=\"1162.9012,-550.353 1154.207,-544.2981 1157.2277,-554.4532 1162.9012,-550.353\" stroke=\"#000000\"/>\n",
       "<text fill=\"#000000\" font-family=\"Times,serif\" font-size=\"14.00\" text-anchor=\"middle\" x=\"1150.2338\" y=\"-565.2803\">True</text>\n",
       "</g>\n",
       "<!-- 28 -->\n",
       "<g class=\"node\" id=\"node29\">\n",
       "<title>28</title>\n",
       "<polygon fill=\"#39e581\" fill-opacity=\"0.376471\" points=\"1361.5,-544 1230.5,-544 1230.5,-461 1361.5,-461 1361.5,-544\" stroke=\"#000000\"/>\n",
       "<text fill=\"#000000\" font-family=\"Times,serif\" font-size=\"14.00\" text-anchor=\"middle\" x=\"1296\" y=\"-528.8\">Science &lt;= 0.5</text>\n",
       "<text fill=\"#000000\" font-family=\"Times,serif\" font-size=\"14.00\" text-anchor=\"middle\" x=\"1296\" y=\"-513.8\">gini = 0.595</text>\n",
       "<text fill=\"#000000\" font-family=\"Times,serif\" font-size=\"14.00\" text-anchor=\"middle\" x=\"1296\" y=\"-498.8\">samples = 11</text>\n",
       "<text fill=\"#000000\" font-family=\"Times,serif\" font-size=\"14.00\" text-anchor=\"middle\" x=\"1296\" y=\"-483.8\">value = [3, 6, 2]</text>\n",
       "<text fill=\"#000000\" font-family=\"Times,serif\" font-size=\"14.00\" text-anchor=\"middle\" x=\"1296\" y=\"-468.8\">class = 1</text>\n",
       "</g>\n",
       "<!-- 0&#45;&gt;28 -->\n",
       "<g class=\"edge\" id=\"edge28\">\n",
       "<title>0-&gt;28</title>\n",
       "<path d=\"M1240.0786,-579.8796C1246.4572,-571.0534 1253.254,-561.6485 1259.8319,-552.5466\" fill=\"none\" stroke=\"#000000\"/>\n",
       "<polygon fill=\"#000000\" points=\"1262.7723,-554.4532 1265.793,-544.2981 1257.0988,-550.353 1262.7723,-554.4532\" stroke=\"#000000\"/>\n",
       "<text fill=\"#000000\" font-family=\"Times,serif\" font-size=\"14.00\" text-anchor=\"middle\" x=\"1269.7662\" y=\"-565.2803\">False</text>\n",
       "</g>\n",
       "<!-- 2 -->\n",
       "<g class=\"node\" id=\"node3\">\n",
       "<title>2</title>\n",
       "<polygon fill=\"#e58139\" fill-opacity=\"0.862745\" points=\"796,-425 638,-425 638,-342 796,-342 796,-425\" stroke=\"#000000\"/>\n",
       "<text fill=\"#000000\" font-family=\"Times,serif\" font-size=\"14.00\" text-anchor=\"middle\" x=\"717\" y=\"-409.8\">English &lt;= 0.5</text>\n",
       "<text fill=\"#000000\" font-family=\"Times,serif\" font-size=\"14.00\" text-anchor=\"middle\" x=\"717\" y=\"-394.8\">gini = 0.215</text>\n",
       "<text fill=\"#000000\" font-family=\"Times,serif\" font-size=\"14.00\" text-anchor=\"middle\" x=\"717\" y=\"-379.8\">samples = 290</text>\n",
       "<text fill=\"#000000\" font-family=\"Times,serif\" font-size=\"14.00\" text-anchor=\"middle\" x=\"717\" y=\"-364.8\">value = [255, 32, 3]</text>\n",
       "<text fill=\"#000000\" font-family=\"Times,serif\" font-size=\"14.00\" text-anchor=\"middle\" x=\"717\" y=\"-349.8\">class = 0</text>\n",
       "</g>\n",
       "<!-- 1&#45;&gt;2 -->\n",
       "<g class=\"edge\" id=\"edge2\">\n",
       "<title>1-&gt;2</title>\n",
       "<path d=\"M1044.5601,-479.2731C976.0673,-459.2469 877.2543,-430.3557 806.0914,-409.5488\" fill=\"none\" stroke=\"#000000\"/>\n",
       "<polygon fill=\"#000000\" points=\"806.8199,-406.1154 796.2395,-406.6683 804.8554,-412.8341 806.8199,-406.1154\" stroke=\"#000000\"/>\n",
       "</g>\n",
       "<!-- 15 -->\n",
       "<g class=\"node\" id=\"node16\">\n",
       "<title>15</title>\n",
       "<polygon fill=\"#e58139\" fill-opacity=\"0.643137\" points=\"1212,-425 1036,-425 1036,-342 1212,-342 1212,-425\" stroke=\"#000000\"/>\n",
       "<text fill=\"#000000\" font-family=\"Times,serif\" font-size=\"14.00\" text-anchor=\"middle\" x=\"1124\" y=\"-409.8\">RaisedHands &lt;= 35.5</text>\n",
       "<text fill=\"#000000\" font-family=\"Times,serif\" font-size=\"14.00\" text-anchor=\"middle\" x=\"1124\" y=\"-394.8\">gini = 0.403</text>\n",
       "<text fill=\"#000000\" font-family=\"Times,serif\" font-size=\"14.00\" text-anchor=\"middle\" x=\"1124\" y=\"-379.8\">samples = 179</text>\n",
       "<text fill=\"#000000\" font-family=\"Times,serif\" font-size=\"14.00\" text-anchor=\"middle\" x=\"1124\" y=\"-364.8\">value = [131, 44, 4]</text>\n",
       "<text fill=\"#000000\" font-family=\"Times,serif\" font-size=\"14.00\" text-anchor=\"middle\" x=\"1124\" y=\"-349.8\">class = 0</text>\n",
       "</g>\n",
       "<!-- 1&#45;&gt;15 -->\n",
       "<g class=\"edge\" id=\"edge15\">\n",
       "<title>1-&gt;15</title>\n",
       "<path d=\"M1124,-460.8796C1124,-452.6838 1124,-443.9891 1124,-435.5013\" fill=\"none\" stroke=\"#000000\"/>\n",
       "<polygon fill=\"#000000\" points=\"1127.5001,-435.298 1124,-425.2981 1120.5001,-435.2981 1127.5001,-435.298\" stroke=\"#000000\"/>\n",
       "</g>\n",
       "<!-- 3 -->\n",
       "<g class=\"node\" id=\"node4\">\n",
       "<title>3</title>\n",
       "<polygon fill=\"#e58139\" fill-opacity=\"0.890196\" points=\"528,-306 370,-306 370,-223 528,-223 528,-306\" stroke=\"#000000\"/>\n",
       "<text fill=\"#000000\" font-family=\"Times,serif\" font-size=\"14.00\" text-anchor=\"middle\" x=\"449\" y=\"-290.8\">section_C &lt;= 0.5</text>\n",
       "<text fill=\"#000000\" font-family=\"Times,serif\" font-size=\"14.00\" text-anchor=\"middle\" x=\"449\" y=\"-275.8\">gini = 0.181</text>\n",
       "<text fill=\"#000000\" font-family=\"Times,serif\" font-size=\"14.00\" text-anchor=\"middle\" x=\"449\" y=\"-260.8\">samples = 261</text>\n",
       "<text fill=\"#000000\" font-family=\"Times,serif\" font-size=\"14.00\" text-anchor=\"middle\" x=\"449\" y=\"-245.8\">value = [235, 24, 2]</text>\n",
       "<text fill=\"#000000\" font-family=\"Times,serif\" font-size=\"14.00\" text-anchor=\"middle\" x=\"449\" y=\"-230.8\">class = 0</text>\n",
       "</g>\n",
       "<!-- 2&#45;&gt;3 -->\n",
       "<g class=\"edge\" id=\"edge3\">\n",
       "<title>2-&gt;3</title>\n",
       "<path d=\"M637.6789,-348.2791C606.211,-334.3064 569.8872,-318.1775 537.5641,-303.8251\" fill=\"none\" stroke=\"#000000\"/>\n",
       "<polygon fill=\"#000000\" points=\"538.6775,-300.49 528.1175,-299.6305 535.8367,-306.8877 538.6775,-300.49\" stroke=\"#000000\"/>\n",
       "</g>\n",
       "<!-- 10 -->\n",
       "<g class=\"node\" id=\"node11\">\n",
       "<title>10</title>\n",
       "<polygon fill=\"#e58139\" fill-opacity=\"0.572549\" points=\"805,-306 629,-306 629,-223 805,-223 805,-306\" stroke=\"#000000\"/>\n",
       "<text fill=\"#000000\" font-family=\"Times,serif\" font-size=\"14.00\" text-anchor=\"middle\" x=\"717\" y=\"-290.8\">RaisedHands &lt;= 10.5</text>\n",
       "<text fill=\"#000000\" font-family=\"Times,serif\" font-size=\"14.00\" text-anchor=\"middle\" x=\"717\" y=\"-275.8\">gini = 0.447</text>\n",
       "<text fill=\"#000000\" font-family=\"Times,serif\" font-size=\"14.00\" text-anchor=\"middle\" x=\"717\" y=\"-260.8\">samples = 29</text>\n",
       "<text fill=\"#000000\" font-family=\"Times,serif\" font-size=\"14.00\" text-anchor=\"middle\" x=\"717\" y=\"-245.8\">value = [20, 8, 1]</text>\n",
       "<text fill=\"#000000\" font-family=\"Times,serif\" font-size=\"14.00\" text-anchor=\"middle\" x=\"717\" y=\"-230.8\">class = 0</text>\n",
       "</g>\n",
       "<!-- 2&#45;&gt;10 -->\n",
       "<g class=\"edge\" id=\"edge10\">\n",
       "<title>2-&gt;10</title>\n",
       "<path d=\"M717,-341.8796C717,-333.6838 717,-324.9891 717,-316.5013\" fill=\"none\" stroke=\"#000000\"/>\n",
       "<polygon fill=\"#000000\" points=\"720.5001,-316.298 717,-306.2981 713.5001,-316.2981 720.5001,-316.298\" stroke=\"#000000\"/>\n",
       "</g>\n",
       "<!-- 4 -->\n",
       "<g class=\"node\" id=\"node5\">\n",
       "<title>4</title>\n",
       "<polygon fill=\"#e58139\" fill-opacity=\"0.901961\" points=\"325,-187 167,-187 167,-104 325,-104 325,-187\" stroke=\"#000000\"/>\n",
       "<text fill=\"#000000\" font-family=\"Times,serif\" font-size=\"14.00\" text-anchor=\"middle\" x=\"246\" y=\"-171.8\">Class &lt;= 1.5</text>\n",
       "<text fill=\"#000000\" font-family=\"Times,serif\" font-size=\"14.00\" text-anchor=\"middle\" x=\"246\" y=\"-156.8\">gini = 0.168</text>\n",
       "<text fill=\"#000000\" font-family=\"Times,serif\" font-size=\"14.00\" text-anchor=\"middle\" x=\"246\" y=\"-141.8\">samples = 251</text>\n",
       "<text fill=\"#000000\" font-family=\"Times,serif\" font-size=\"14.00\" text-anchor=\"middle\" x=\"246\" y=\"-126.8\">value = [228, 21, 2]</text>\n",
       "<text fill=\"#000000\" font-family=\"Times,serif\" font-size=\"14.00\" text-anchor=\"middle\" x=\"246\" y=\"-111.8\">class = 0</text>\n",
       "</g>\n",
       "<!-- 3&#45;&gt;4 -->\n",
       "<g class=\"edge\" id=\"edge4\">\n",
       "<title>3-&gt;4</title>\n",
       "<path d=\"M378.0005,-222.8796C361.1566,-213.0056 343.0774,-202.4075 325.8683,-192.3193\" fill=\"none\" stroke=\"#000000\"/>\n",
       "<polygon fill=\"#000000\" points=\"327.3565,-189.1347 316.9595,-187.0969 323.8164,-195.1736 327.3565,-189.1347\" stroke=\"#000000\"/>\n",
       "</g>\n",
       "<!-- 7 -->\n",
       "<g class=\"node\" id=\"node8\">\n",
       "<title>7</title>\n",
       "<polygon fill=\"#e58139\" fill-opacity=\"0.572549\" points=\"514.5,-187 383.5,-187 383.5,-104 514.5,-104 514.5,-187\" stroke=\"#000000\"/>\n",
       "<text fill=\"#000000\" font-family=\"Times,serif\" font-size=\"14.00\" text-anchor=\"middle\" x=\"449\" y=\"-171.8\">Class &lt;= 1.5</text>\n",
       "<text fill=\"#000000\" font-family=\"Times,serif\" font-size=\"14.00\" text-anchor=\"middle\" x=\"449\" y=\"-156.8\">gini = 0.42</text>\n",
       "<text fill=\"#000000\" font-family=\"Times,serif\" font-size=\"14.00\" text-anchor=\"middle\" x=\"449\" y=\"-141.8\">samples = 10</text>\n",
       "<text fill=\"#000000\" font-family=\"Times,serif\" font-size=\"14.00\" text-anchor=\"middle\" x=\"449\" y=\"-126.8\">value = [7, 3, 0]</text>\n",
       "<text fill=\"#000000\" font-family=\"Times,serif\" font-size=\"14.00\" text-anchor=\"middle\" x=\"449\" y=\"-111.8\">class = 0</text>\n",
       "</g>\n",
       "<!-- 3&#45;&gt;7 -->\n",
       "<g class=\"edge\" id=\"edge7\">\n",
       "<title>3-&gt;7</title>\n",
       "<path d=\"M449,-222.8796C449,-214.6838 449,-205.9891 449,-197.5013\" fill=\"none\" stroke=\"#000000\"/>\n",
       "<polygon fill=\"#000000\" points=\"452.5001,-197.298 449,-187.2981 445.5001,-197.2981 452.5001,-197.298\" stroke=\"#000000\"/>\n",
       "</g>\n",
       "<!-- 5 -->\n",
       "<g class=\"node\" id=\"node6\">\n",
       "<title>5</title>\n",
       "<polygon fill=\"#e58139\" fill-opacity=\"0.866667\" points=\"158,-68 0,-68 0,0 158,0 158,-68\" stroke=\"#000000\"/>\n",
       "<text fill=\"#000000\" font-family=\"Times,serif\" font-size=\"14.00\" text-anchor=\"middle\" x=\"79\" y=\"-52.8\">gini = 0.213</text>\n",
       "<text fill=\"#000000\" font-family=\"Times,serif\" font-size=\"14.00\" text-anchor=\"middle\" x=\"79\" y=\"-37.8\">samples = 167</text>\n",
       "<text fill=\"#000000\" font-family=\"Times,serif\" font-size=\"14.00\" text-anchor=\"middle\" x=\"79\" y=\"-22.8\">value = [147, 18, 2]</text>\n",
       "<text fill=\"#000000\" font-family=\"Times,serif\" font-size=\"14.00\" text-anchor=\"middle\" x=\"79\" y=\"-7.8\">class = 0</text>\n",
       "</g>\n",
       "<!-- 4&#45;&gt;5 -->\n",
       "<g class=\"edge\" id=\"edge5\">\n",
       "<title>4-&gt;5</title>\n",
       "<path d=\"M183.8154,-103.9815C169.0089,-94.0957 153.2441,-83.5701 138.5585,-73.7651\" fill=\"none\" stroke=\"#000000\"/>\n",
       "<polygon fill=\"#000000\" points=\"140.3122,-70.7276 130.052,-68.0856 136.4252,-76.5493 140.3122,-70.7276\" stroke=\"#000000\"/>\n",
       "</g>\n",
       "<!-- 6 -->\n",
       "<g class=\"node\" id=\"node7\">\n",
       "<title>6</title>\n",
       "<polygon fill=\"#e58139\" fill-opacity=\"0.964706\" points=\"316,-68 176,-68 176,0 316,0 316,-68\" stroke=\"#000000\"/>\n",
       "<text fill=\"#000000\" font-family=\"Times,serif\" font-size=\"14.00\" text-anchor=\"middle\" x=\"246\" y=\"-52.8\">gini = 0.069</text>\n",
       "<text fill=\"#000000\" font-family=\"Times,serif\" font-size=\"14.00\" text-anchor=\"middle\" x=\"246\" y=\"-37.8\">samples = 84</text>\n",
       "<text fill=\"#000000\" font-family=\"Times,serif\" font-size=\"14.00\" text-anchor=\"middle\" x=\"246\" y=\"-22.8\">value = [81, 3, 0]</text>\n",
       "<text fill=\"#000000\" font-family=\"Times,serif\" font-size=\"14.00\" text-anchor=\"middle\" x=\"246\" y=\"-7.8\">class = 0</text>\n",
       "</g>\n",
       "<!-- 4&#45;&gt;6 -->\n",
       "<g class=\"edge\" id=\"edge6\">\n",
       "<title>4-&gt;6</title>\n",
       "<path d=\"M246,-103.9815C246,-95.618 246,-86.7965 246,-78.3409\" fill=\"none\" stroke=\"#000000\"/>\n",
       "<polygon fill=\"#000000\" points=\"249.5001,-78.2636 246,-68.2637 242.5001,-78.2637 249.5001,-78.2636\" stroke=\"#000000\"/>\n",
       "</g>\n",
       "<!-- 8 -->\n",
       "<g class=\"node\" id=\"node9\">\n",
       "<title>8</title>\n",
       "<polygon fill=\"#e58139\" fill-opacity=\"0.858824\" points=\"465.5,-68 334.5,-68 334.5,0 465.5,0 465.5,-68\" stroke=\"#000000\"/>\n",
       "<text fill=\"#000000\" font-family=\"Times,serif\" font-size=\"14.00\" text-anchor=\"middle\" x=\"400\" y=\"-52.8\">gini = 0.219</text>\n",
       "<text fill=\"#000000\" font-family=\"Times,serif\" font-size=\"14.00\" text-anchor=\"middle\" x=\"400\" y=\"-37.8\">samples = 8</text>\n",
       "<text fill=\"#000000\" font-family=\"Times,serif\" font-size=\"14.00\" text-anchor=\"middle\" x=\"400\" y=\"-22.8\">value = [7, 1, 0]</text>\n",
       "<text fill=\"#000000\" font-family=\"Times,serif\" font-size=\"14.00\" text-anchor=\"middle\" x=\"400\" y=\"-7.8\">class = 0</text>\n",
       "</g>\n",
       "<!-- 7&#45;&gt;8 -->\n",
       "<g class=\"edge\" id=\"edge8\">\n",
       "<title>7-&gt;8</title>\n",
       "<path d=\"M430.7542,-103.9815C426.9576,-95.3423 422.9462,-86.2144 419.1192,-77.5059\" fill=\"none\" stroke=\"#000000\"/>\n",
       "<polygon fill=\"#000000\" points=\"422.2851,-76.0105 415.0576,-68.2637 415.8767,-78.8268 422.2851,-76.0105\" stroke=\"#000000\"/>\n",
       "</g>\n",
       "<!-- 9 -->\n",
       "<g class=\"node\" id=\"node10\">\n",
       "<title>9</title>\n",
       "<polygon fill=\"#39e581\" points=\"614.5,-68 483.5,-68 483.5,0 614.5,0 614.5,-68\" stroke=\"#000000\"/>\n",
       "<text fill=\"#000000\" font-family=\"Times,serif\" font-size=\"14.00\" text-anchor=\"middle\" x=\"549\" y=\"-52.8\">gini = 0.0</text>\n",
       "<text fill=\"#000000\" font-family=\"Times,serif\" font-size=\"14.00\" text-anchor=\"middle\" x=\"549\" y=\"-37.8\">samples = 2</text>\n",
       "<text fill=\"#000000\" font-family=\"Times,serif\" font-size=\"14.00\" text-anchor=\"middle\" x=\"549\" y=\"-22.8\">value = [0, 2, 0]</text>\n",
       "<text fill=\"#000000\" font-family=\"Times,serif\" font-size=\"14.00\" text-anchor=\"middle\" x=\"549\" y=\"-7.8\">class = 1</text>\n",
       "</g>\n",
       "<!-- 7&#45;&gt;9 -->\n",
       "<g class=\"edge\" id=\"edge9\">\n",
       "<title>7-&gt;9</title>\n",
       "<path d=\"M486.2363,-103.9815C494.4791,-94.7908 503.2178,-85.0472 511.4721,-75.8436\" fill=\"none\" stroke=\"#000000\"/>\n",
       "<polygon fill=\"#000000\" points=\"514.1991,-78.0451 518.2702,-68.2637 508.9879,-73.3714 514.1991,-78.0451\" stroke=\"#000000\"/>\n",
       "</g>\n",
       "<!-- 11 -->\n",
       "<g class=\"node\" id=\"node12\">\n",
       "<title>11</title>\n",
       "<polygon fill=\"#8139e5\" points=\"687.5,-179.5 556.5,-179.5 556.5,-111.5 687.5,-111.5 687.5,-179.5\" stroke=\"#000000\"/>\n",
       "<text fill=\"#000000\" font-family=\"Times,serif\" font-size=\"14.00\" text-anchor=\"middle\" x=\"622\" y=\"-164.3\">gini = 0.0</text>\n",
       "<text fill=\"#000000\" font-family=\"Times,serif\" font-size=\"14.00\" text-anchor=\"middle\" x=\"622\" y=\"-149.3\">samples = 1</text>\n",
       "<text fill=\"#000000\" font-family=\"Times,serif\" font-size=\"14.00\" text-anchor=\"middle\" x=\"622\" y=\"-134.3\">value = [0, 0, 1]</text>\n",
       "<text fill=\"#000000\" font-family=\"Times,serif\" font-size=\"14.00\" text-anchor=\"middle\" x=\"622\" y=\"-119.3\">class = 2</text>\n",
       "</g>\n",
       "<!-- 10&#45;&gt;11 -->\n",
       "<g class=\"edge\" id=\"edge11\">\n",
       "<title>10-&gt;11</title>\n",
       "<path d=\"M683.7736,-222.8796C674.7319,-211.5536 664.9295,-199.2748 655.8534,-187.9058\" fill=\"none\" stroke=\"#000000\"/>\n",
       "<polygon fill=\"#000000\" points=\"658.3685,-185.4464 649.3943,-179.8149 652.898,-189.8137 658.3685,-185.4464\" stroke=\"#000000\"/>\n",
       "</g>\n",
       "<!-- 12 -->\n",
       "<g class=\"node\" id=\"node13\">\n",
       "<title>12</title>\n",
       "<polygon fill=\"#e58139\" fill-opacity=\"0.600000\" points=\"846,-187 706,-187 706,-104 846,-104 846,-187\" stroke=\"#000000\"/>\n",
       "<text fill=\"#000000\" font-family=\"Times,serif\" font-size=\"14.00\" text-anchor=\"middle\" x=\"776\" y=\"-171.8\">Semester &lt;= 0.5</text>\n",
       "<text fill=\"#000000\" font-family=\"Times,serif\" font-size=\"14.00\" text-anchor=\"middle\" x=\"776\" y=\"-156.8\">gini = 0.408</text>\n",
       "<text fill=\"#000000\" font-family=\"Times,serif\" font-size=\"14.00\" text-anchor=\"middle\" x=\"776\" y=\"-141.8\">samples = 28</text>\n",
       "<text fill=\"#000000\" font-family=\"Times,serif\" font-size=\"14.00\" text-anchor=\"middle\" x=\"776\" y=\"-126.8\">value = [20, 8, 0]</text>\n",
       "<text fill=\"#000000\" font-family=\"Times,serif\" font-size=\"14.00\" text-anchor=\"middle\" x=\"776\" y=\"-111.8\">class = 0</text>\n",
       "</g>\n",
       "<!-- 10&#45;&gt;12 -->\n",
       "<g class=\"edge\" id=\"edge12\">\n",
       "<title>10-&gt;12</title>\n",
       "<path d=\"M737.6353,-222.8796C741.8774,-214.3236 746.389,-205.2238 750.7721,-196.3833\" fill=\"none\" stroke=\"#000000\"/>\n",
       "<polygon fill=\"#000000\" points=\"753.9703,-197.8121 755.2766,-187.2981 747.6988,-194.7026 753.9703,-197.8121\" stroke=\"#000000\"/>\n",
       "</g>\n",
       "<!-- 13 -->\n",
       "<g class=\"node\" id=\"node14\">\n",
       "<title>13</title>\n",
       "<polygon fill=\"#e58139\" fill-opacity=\"0.831373\" points=\"773,-68 633,-68 633,0 773,0 773,-68\" stroke=\"#000000\"/>\n",
       "<text fill=\"#000000\" font-family=\"Times,serif\" font-size=\"14.00\" text-anchor=\"middle\" x=\"703\" y=\"-52.8\">gini = 0.245</text>\n",
       "<text fill=\"#000000\" font-family=\"Times,serif\" font-size=\"14.00\" text-anchor=\"middle\" x=\"703\" y=\"-37.8\">samples = 14</text>\n",
       "<text fill=\"#000000\" font-family=\"Times,serif\" font-size=\"14.00\" text-anchor=\"middle\" x=\"703\" y=\"-22.8\">value = [12, 2, 0]</text>\n",
       "<text fill=\"#000000\" font-family=\"Times,serif\" font-size=\"14.00\" text-anchor=\"middle\" x=\"703\" y=\"-7.8\">class = 0</text>\n",
       "</g>\n",
       "<!-- 12&#45;&gt;13 -->\n",
       "<g class=\"edge\" id=\"edge13\">\n",
       "<title>12-&gt;13</title>\n",
       "<path d=\"M748.8175,-103.9815C742.9808,-95.0666 736.8034,-85.6313 730.9386,-76.6734\" fill=\"none\" stroke=\"#000000\"/>\n",
       "<polygon fill=\"#000000\" points=\"733.8386,-74.7129 725.4327,-68.2637 727.9821,-78.5472 733.8386,-74.7129\" stroke=\"#000000\"/>\n",
       "</g>\n",
       "<!-- 14 -->\n",
       "<g class=\"node\" id=\"node15\">\n",
       "<title>14</title>\n",
       "<polygon fill=\"#e58139\" fill-opacity=\"0.250980\" points=\"922.5,-68 791.5,-68 791.5,0 922.5,0 922.5,-68\" stroke=\"#000000\"/>\n",
       "<text fill=\"#000000\" font-family=\"Times,serif\" font-size=\"14.00\" text-anchor=\"middle\" x=\"857\" y=\"-52.8\">gini = 0.49</text>\n",
       "<text fill=\"#000000\" font-family=\"Times,serif\" font-size=\"14.00\" text-anchor=\"middle\" x=\"857\" y=\"-37.8\">samples = 14</text>\n",
       "<text fill=\"#000000\" font-family=\"Times,serif\" font-size=\"14.00\" text-anchor=\"middle\" x=\"857\" y=\"-22.8\">value = [8, 6, 0]</text>\n",
       "<text fill=\"#000000\" font-family=\"Times,serif\" font-size=\"14.00\" text-anchor=\"middle\" x=\"857\" y=\"-7.8\">class = 0</text>\n",
       "</g>\n",
       "<!-- 12&#45;&gt;14 -->\n",
       "<g class=\"edge\" id=\"edge14\">\n",
       "<title>12-&gt;14</title>\n",
       "<path d=\"M806.1614,-103.9815C812.7045,-94.9747 819.6334,-85.4367 826.2008,-76.3965\" fill=\"none\" stroke=\"#000000\"/>\n",
       "<polygon fill=\"#000000\" points=\"829.0631,-78.4113 832.1089,-68.2637 823.3998,-74.2971 829.0631,-78.4113\" stroke=\"#000000\"/>\n",
       "</g>\n",
       "<!-- 16 -->\n",
       "<g class=\"node\" id=\"node17\">\n",
       "<title>16</title>\n",
       "<polygon fill=\"#e58139\" fill-opacity=\"0.792157\" points=\"1198.5,-306 1049.5,-306 1049.5,-223 1198.5,-223 1198.5,-306\" stroke=\"#000000\"/>\n",
       "<text fill=\"#000000\" font-family=\"Times,serif\" font-size=\"14.00\" text-anchor=\"middle\" x=\"1124\" y=\"-290.8\">Class &lt;= 1.5</text>\n",
       "<text fill=\"#000000\" font-family=\"Times,serif\" font-size=\"14.00\" text-anchor=\"middle\" x=\"1124\" y=\"-275.8\">gini = 0.299</text>\n",
       "<text fill=\"#000000\" font-family=\"Times,serif\" font-size=\"14.00\" text-anchor=\"middle\" x=\"1124\" y=\"-260.8\">samples = 102</text>\n",
       "<text fill=\"#000000\" font-family=\"Times,serif\" font-size=\"14.00\" text-anchor=\"middle\" x=\"1124\" y=\"-245.8\">value = [84, 15, 3]</text>\n",
       "<text fill=\"#000000\" font-family=\"Times,serif\" font-size=\"14.00\" text-anchor=\"middle\" x=\"1124\" y=\"-230.8\">class = 0</text>\n",
       "</g>\n",
       "<!-- 15&#45;&gt;16 -->\n",
       "<g class=\"edge\" id=\"edge16\">\n",
       "<title>15-&gt;16</title>\n",
       "<path d=\"M1124,-341.8796C1124,-333.6838 1124,-324.9891 1124,-316.5013\" fill=\"none\" stroke=\"#000000\"/>\n",
       "<polygon fill=\"#000000\" points=\"1127.5001,-316.298 1124,-306.2981 1120.5001,-316.2981 1127.5001,-316.298\" stroke=\"#000000\"/>\n",
       "</g>\n",
       "<!-- 21 -->\n",
       "<g class=\"node\" id=\"node22\">\n",
       "<title>21</title>\n",
       "<polygon fill=\"#e58139\" fill-opacity=\"0.376471\" points=\"1469.5,-306 1320.5,-306 1320.5,-223 1469.5,-223 1469.5,-306\" stroke=\"#000000\"/>\n",
       "<text fill=\"#000000\" font-family=\"Times,serif\" font-size=\"14.00\" text-anchor=\"middle\" x=\"1395\" y=\"-290.8\">Semester &lt;= 0.5</text>\n",
       "<text fill=\"#000000\" font-family=\"Times,serif\" font-size=\"14.00\" text-anchor=\"middle\" x=\"1395\" y=\"-275.8\">gini = 0.485</text>\n",
       "<text fill=\"#000000\" font-family=\"Times,serif\" font-size=\"14.00\" text-anchor=\"middle\" x=\"1395\" y=\"-260.8\">samples = 77</text>\n",
       "<text fill=\"#000000\" font-family=\"Times,serif\" font-size=\"14.00\" text-anchor=\"middle\" x=\"1395\" y=\"-245.8\">value = [47, 29, 1]</text>\n",
       "<text fill=\"#000000\" font-family=\"Times,serif\" font-size=\"14.00\" text-anchor=\"middle\" x=\"1395\" y=\"-230.8\">class = 0</text>\n",
       "</g>\n",
       "<!-- 15&#45;&gt;21 -->\n",
       "<g class=\"edge\" id=\"edge21\">\n",
       "<title>15-&gt;21</title>\n",
       "<path d=\"M1212.3606,-344.6996C1243.9957,-330.8082 1279.5471,-315.197 1310.8193,-301.465\" fill=\"none\" stroke=\"#000000\"/>\n",
       "<polygon fill=\"#000000\" points=\"1312.629,-304.4929 1320.378,-297.2676 1309.8146,-298.0836 1312.629,-304.4929\" stroke=\"#000000\"/>\n",
       "</g>\n",
       "<!-- 17 -->\n",
       "<g class=\"node\" id=\"node18\">\n",
       "<title>17</title>\n",
       "<polygon fill=\"#e58139\" fill-opacity=\"0.858824\" points=\"1138.5,-187 913.5,-187 913.5,-104 1138.5,-104 1138.5,-187\" stroke=\"#000000\"/>\n",
       "<text fill=\"#000000\" font-family=\"Times,serif\" font-size=\"14.00\" text-anchor=\"middle\" x=\"1026\" y=\"-171.8\">StudentAbsenceDays &lt;= 0.5</text>\n",
       "<text fill=\"#000000\" font-family=\"Times,serif\" font-size=\"14.00\" text-anchor=\"middle\" x=\"1026\" y=\"-156.8\">gini = 0.223</text>\n",
       "<text fill=\"#000000\" font-family=\"Times,serif\" font-size=\"14.00\" text-anchor=\"middle\" x=\"1026\" y=\"-141.8\">samples = 95</text>\n",
       "<text fill=\"#000000\" font-family=\"Times,serif\" font-size=\"14.00\" text-anchor=\"middle\" x=\"1026\" y=\"-126.8\">value = [83, 11, 1]</text>\n",
       "<text fill=\"#000000\" font-family=\"Times,serif\" font-size=\"14.00\" text-anchor=\"middle\" x=\"1026\" y=\"-111.8\">class = 0</text>\n",
       "</g>\n",
       "<!-- 16&#45;&gt;17 -->\n",
       "<g class=\"edge\" id=\"edge17\">\n",
       "<title>16-&gt;17</title>\n",
       "<path d=\"M1089.7244,-222.8796C1082.3816,-213.9633 1074.5524,-204.4565 1066.9854,-195.268\" fill=\"none\" stroke=\"#000000\"/>\n",
       "<polygon fill=\"#000000\" points=\"1069.4808,-192.7924 1060.4219,-187.2981 1064.0773,-197.2424 1069.4808,-192.7924\" stroke=\"#000000\"/>\n",
       "</g>\n",
       "<!-- 20 -->\n",
       "<g class=\"node\" id=\"node21\">\n",
       "<title>20</title>\n",
       "<polygon fill=\"#39e581\" fill-opacity=\"0.400000\" points=\"1287.5,-179.5 1156.5,-179.5 1156.5,-111.5 1287.5,-111.5 1287.5,-179.5\" stroke=\"#000000\"/>\n",
       "<text fill=\"#000000\" font-family=\"Times,serif\" font-size=\"14.00\" text-anchor=\"middle\" x=\"1222\" y=\"-164.3\">gini = 0.571</text>\n",
       "<text fill=\"#000000\" font-family=\"Times,serif\" font-size=\"14.00\" text-anchor=\"middle\" x=\"1222\" y=\"-149.3\">samples = 7</text>\n",
       "<text fill=\"#000000\" font-family=\"Times,serif\" font-size=\"14.00\" text-anchor=\"middle\" x=\"1222\" y=\"-134.3\">value = [1, 4, 2]</text>\n",
       "<text fill=\"#000000\" font-family=\"Times,serif\" font-size=\"14.00\" text-anchor=\"middle\" x=\"1222\" y=\"-119.3\">class = 1</text>\n",
       "</g>\n",
       "<!-- 16&#45;&gt;20 -->\n",
       "<g class=\"edge\" id=\"edge20\">\n",
       "<title>16-&gt;20</title>\n",
       "<path d=\"M1158.2756,-222.8796C1167.6935,-211.4436 1177.9113,-199.0363 1187.35,-187.575\" fill=\"none\" stroke=\"#000000\"/>\n",
       "<polygon fill=\"#000000\" points=\"1190.0853,-189.7592 1193.7406,-179.8149 1184.6818,-185.3093 1190.0853,-189.7592\" stroke=\"#000000\"/>\n",
       "</g>\n",
       "<!-- 18 -->\n",
       "<g class=\"node\" id=\"node19\">\n",
       "<title>18</title>\n",
       "<polygon fill=\"#e58139\" fill-opacity=\"0.725490\" points=\"1081,-68 941,-68 941,0 1081,0 1081,-68\" stroke=\"#000000\"/>\n",
       "<text fill=\"#000000\" font-family=\"Times,serif\" font-size=\"14.00\" text-anchor=\"middle\" x=\"1011\" y=\"-52.8\">gini = 0.339</text>\n",
       "<text fill=\"#000000\" font-family=\"Times,serif\" font-size=\"14.00\" text-anchor=\"middle\" x=\"1011\" y=\"-37.8\">samples = 37</text>\n",
       "<text fill=\"#000000\" font-family=\"Times,serif\" font-size=\"14.00\" text-anchor=\"middle\" x=\"1011\" y=\"-22.8\">value = [29, 8, 0]</text>\n",
       "<text fill=\"#000000\" font-family=\"Times,serif\" font-size=\"14.00\" text-anchor=\"middle\" x=\"1011\" y=\"-7.8\">class = 0</text>\n",
       "</g>\n",
       "<!-- 17&#45;&gt;18 -->\n",
       "<g class=\"edge\" id=\"edge18\">\n",
       "<title>17-&gt;18</title>\n",
       "<path d=\"M1020.4146,-103.9815C1019.2894,-95.618 1018.1027,-86.7965 1016.9651,-78.3409\" fill=\"none\" stroke=\"#000000\"/>\n",
       "<polygon fill=\"#000000\" points=\"1020.4116,-77.7077 1015.6095,-68.2637 1013.4741,-78.6411 1020.4116,-77.7077\" stroke=\"#000000\"/>\n",
       "</g>\n",
       "<!-- 19 -->\n",
       "<g class=\"node\" id=\"node20\">\n",
       "<title>19</title>\n",
       "<polygon fill=\"#e58139\" fill-opacity=\"0.925490\" points=\"1239,-68 1099,-68 1099,0 1239,0 1239,-68\" stroke=\"#000000\"/>\n",
       "<text fill=\"#000000\" font-family=\"Times,serif\" font-size=\"14.00\" text-anchor=\"middle\" x=\"1169\" y=\"-52.8\">gini = 0.13</text>\n",
       "<text fill=\"#000000\" font-family=\"Times,serif\" font-size=\"14.00\" text-anchor=\"middle\" x=\"1169\" y=\"-37.8\">samples = 58</text>\n",
       "<text fill=\"#000000\" font-family=\"Times,serif\" font-size=\"14.00\" text-anchor=\"middle\" x=\"1169\" y=\"-22.8\">value = [54, 3, 1]</text>\n",
       "<text fill=\"#000000\" font-family=\"Times,serif\" font-size=\"14.00\" text-anchor=\"middle\" x=\"1169\" y=\"-7.8\">class = 0</text>\n",
       "</g>\n",
       "<!-- 17&#45;&gt;19 -->\n",
       "<g class=\"edge\" id=\"edge19\">\n",
       "<title>17-&gt;19</title>\n",
       "<path d=\"M1079.2479,-103.9815C1091.6244,-94.3313 1104.7828,-84.0714 1117.1003,-74.4673\" fill=\"none\" stroke=\"#000000\"/>\n",
       "<polygon fill=\"#000000\" points=\"1119.3225,-77.1728 1125.0565,-68.2637 1115.0182,-71.6525 1119.3225,-77.1728\" stroke=\"#000000\"/>\n",
       "</g>\n",
       "<!-- 22 -->\n",
       "<g class=\"node\" id=\"node23\">\n",
       "<title>22</title>\n",
       "<polygon fill=\"#39e581\" fill-opacity=\"0.156863\" points=\"1469.5,-187 1320.5,-187 1320.5,-104 1469.5,-104 1469.5,-187\" stroke=\"#000000\"/>\n",
       "<text fill=\"#000000\" font-family=\"Times,serif\" font-size=\"14.00\" text-anchor=\"middle\" x=\"1395\" y=\"-171.8\">section_C &lt;= 0.5</text>\n",
       "<text fill=\"#000000\" font-family=\"Times,serif\" font-size=\"14.00\" text-anchor=\"middle\" x=\"1395\" y=\"-156.8\">gini = 0.524</text>\n",
       "<text fill=\"#000000\" font-family=\"Times,serif\" font-size=\"14.00\" text-anchor=\"middle\" x=\"1395\" y=\"-141.8\">samples = 34</text>\n",
       "<text fill=\"#000000\" font-family=\"Times,serif\" font-size=\"14.00\" text-anchor=\"middle\" x=\"1395\" y=\"-126.8\">value = [15, 18, 1]</text>\n",
       "<text fill=\"#000000\" font-family=\"Times,serif\" font-size=\"14.00\" text-anchor=\"middle\" x=\"1395\" y=\"-111.8\">class = 1</text>\n",
       "</g>\n",
       "<!-- 21&#45;&gt;22 -->\n",
       "<g class=\"edge\" id=\"edge22\">\n",
       "<title>21-&gt;22</title>\n",
       "<path d=\"M1395,-222.8796C1395,-214.6838 1395,-205.9891 1395,-197.5013\" fill=\"none\" stroke=\"#000000\"/>\n",
       "<polygon fill=\"#000000\" points=\"1398.5001,-197.298 1395,-187.2981 1391.5001,-197.2981 1398.5001,-197.298\" stroke=\"#000000\"/>\n",
       "</g>\n",
       "<!-- 25 -->\n",
       "<g class=\"node\" id=\"node26\">\n",
       "<title>25</title>\n",
       "<polygon fill=\"#e58139\" fill-opacity=\"0.654902\" points=\"1770.5,-187 1517.5,-187 1517.5,-104 1770.5,-104 1770.5,-187\" stroke=\"#000000\"/>\n",
       "<text fill=\"#000000\" font-family=\"Times,serif\" font-size=\"14.00\" text-anchor=\"middle\" x=\"1644\" y=\"-171.8\">ParentSchoolSatisfaction &lt;= 0.5</text>\n",
       "<text fill=\"#000000\" font-family=\"Times,serif\" font-size=\"14.00\" text-anchor=\"middle\" x=\"1644\" y=\"-156.8\">gini = 0.381</text>\n",
       "<text fill=\"#000000\" font-family=\"Times,serif\" font-size=\"14.00\" text-anchor=\"middle\" x=\"1644\" y=\"-141.8\">samples = 43</text>\n",
       "<text fill=\"#000000\" font-family=\"Times,serif\" font-size=\"14.00\" text-anchor=\"middle\" x=\"1644\" y=\"-126.8\">value = [32, 11, 0]</text>\n",
       "<text fill=\"#000000\" font-family=\"Times,serif\" font-size=\"14.00\" text-anchor=\"middle\" x=\"1644\" y=\"-111.8\">class = 0</text>\n",
       "</g>\n",
       "<!-- 21&#45;&gt;25 -->\n",
       "<g class=\"edge\" id=\"edge25\">\n",
       "<title>21-&gt;25</title>\n",
       "<path d=\"M1469.7082,-228.7961C1494.3116,-217.0378 1522.021,-203.7952 1547.984,-191.3871\" fill=\"none\" stroke=\"#000000\"/>\n",
       "<polygon fill=\"#000000\" points=\"1549.5733,-194.5068 1557.0867,-187.0369 1546.5549,-188.191 1549.5733,-194.5068\" stroke=\"#000000\"/>\n",
       "</g>\n",
       "<!-- 23 -->\n",
       "<g class=\"node\" id=\"node24\">\n",
       "<title>23</title>\n",
       "<polygon fill=\"#39e581\" fill-opacity=\"0.317647\" points=\"1406.5,-68 1257.5,-68 1257.5,0 1406.5,0 1406.5,-68\" stroke=\"#000000\"/>\n",
       "<text fill=\"#000000\" font-family=\"Times,serif\" font-size=\"14.00\" text-anchor=\"middle\" x=\"1332\" y=\"-52.8\">gini = 0.512</text>\n",
       "<text fill=\"#000000\" font-family=\"Times,serif\" font-size=\"14.00\" text-anchor=\"middle\" x=\"1332\" y=\"-37.8\">samples = 31</text>\n",
       "<text fill=\"#000000\" font-family=\"Times,serif\" font-size=\"14.00\" text-anchor=\"middle\" x=\"1332\" y=\"-22.8\">value = [12, 18, 1]</text>\n",
       "<text fill=\"#000000\" font-family=\"Times,serif\" font-size=\"14.00\" text-anchor=\"middle\" x=\"1332\" y=\"-7.8\">class = 1</text>\n",
       "</g>\n",
       "<!-- 22&#45;&gt;23 -->\n",
       "<g class=\"edge\" id=\"edge23\">\n",
       "<title>22-&gt;23</title>\n",
       "<path d=\"M1371.5411,-103.9815C1366.6078,-95.2504 1361.3926,-86.0202 1356.4248,-77.2281\" fill=\"none\" stroke=\"#000000\"/>\n",
       "<polygon fill=\"#000000\" points=\"1359.3263,-75.2483 1351.3597,-68.2637 1353.2319,-78.6918 1359.3263,-75.2483\" stroke=\"#000000\"/>\n",
       "</g>\n",
       "<!-- 24 -->\n",
       "<g class=\"node\" id=\"node25\">\n",
       "<title>24</title>\n",
       "<polygon fill=\"#e58139\" points=\"1555.5,-68 1424.5,-68 1424.5,0 1555.5,0 1555.5,-68\" stroke=\"#000000\"/>\n",
       "<text fill=\"#000000\" font-family=\"Times,serif\" font-size=\"14.00\" text-anchor=\"middle\" x=\"1490\" y=\"-52.8\">gini = 0.0</text>\n",
       "<text fill=\"#000000\" font-family=\"Times,serif\" font-size=\"14.00\" text-anchor=\"middle\" x=\"1490\" y=\"-37.8\">samples = 3</text>\n",
       "<text fill=\"#000000\" font-family=\"Times,serif\" font-size=\"14.00\" text-anchor=\"middle\" x=\"1490\" y=\"-22.8\">value = [3, 0, 0]</text>\n",
       "<text fill=\"#000000\" font-family=\"Times,serif\" font-size=\"14.00\" text-anchor=\"middle\" x=\"1490\" y=\"-7.8\">class = 0</text>\n",
       "</g>\n",
       "<!-- 22&#45;&gt;24 -->\n",
       "<g class=\"edge\" id=\"edge24\">\n",
       "<title>22-&gt;24</title>\n",
       "<path d=\"M1430.3745,-103.9815C1438.1268,-94.8828 1446.3409,-85.242 1454.1131,-76.1199\" fill=\"none\" stroke=\"#000000\"/>\n",
       "<polygon fill=\"#000000\" points=\"1456.9854,-78.1454 1460.8067,-68.2637 1451.6572,-73.6056 1456.9854,-78.1454\" stroke=\"#000000\"/>\n",
       "</g>\n",
       "<!-- 26 -->\n",
       "<g class=\"node\" id=\"node27\">\n",
       "<title>26</title>\n",
       "<polygon fill=\"#e58139\" fill-opacity=\"0.945098\" points=\"1714,-68 1574,-68 1574,0 1714,0 1714,-68\" stroke=\"#000000\"/>\n",
       "<text fill=\"#000000\" font-family=\"Times,serif\" font-size=\"14.00\" text-anchor=\"middle\" x=\"1644\" y=\"-52.8\">gini = 0.1</text>\n",
       "<text fill=\"#000000\" font-family=\"Times,serif\" font-size=\"14.00\" text-anchor=\"middle\" x=\"1644\" y=\"-37.8\">samples = 19</text>\n",
       "<text fill=\"#000000\" font-family=\"Times,serif\" font-size=\"14.00\" text-anchor=\"middle\" x=\"1644\" y=\"-22.8\">value = [18, 1, 0]</text>\n",
       "<text fill=\"#000000\" font-family=\"Times,serif\" font-size=\"14.00\" text-anchor=\"middle\" x=\"1644\" y=\"-7.8\">class = 0</text>\n",
       "</g>\n",
       "<!-- 25&#45;&gt;26 -->\n",
       "<g class=\"edge\" id=\"edge26\">\n",
       "<title>25-&gt;26</title>\n",
       "<path d=\"M1644,-103.9815C1644,-95.618 1644,-86.7965 1644,-78.3409\" fill=\"none\" stroke=\"#000000\"/>\n",
       "<polygon fill=\"#000000\" points=\"1647.5001,-78.2636 1644,-68.2637 1640.5001,-78.2637 1647.5001,-78.2636\" stroke=\"#000000\"/>\n",
       "</g>\n",
       "<!-- 27 -->\n",
       "<g class=\"node\" id=\"node28\">\n",
       "<title>27</title>\n",
       "<polygon fill=\"#e58139\" fill-opacity=\"0.286275\" points=\"1881.5,-68 1732.5,-68 1732.5,0 1881.5,0 1881.5,-68\" stroke=\"#000000\"/>\n",
       "<text fill=\"#000000\" font-family=\"Times,serif\" font-size=\"14.00\" text-anchor=\"middle\" x=\"1807\" y=\"-52.8\">gini = 0.486</text>\n",
       "<text fill=\"#000000\" font-family=\"Times,serif\" font-size=\"14.00\" text-anchor=\"middle\" x=\"1807\" y=\"-37.8\">samples = 24</text>\n",
       "<text fill=\"#000000\" font-family=\"Times,serif\" font-size=\"14.00\" text-anchor=\"middle\" x=\"1807\" y=\"-22.8\">value = [14, 10, 0]</text>\n",
       "<text fill=\"#000000\" font-family=\"Times,serif\" font-size=\"14.00\" text-anchor=\"middle\" x=\"1807\" y=\"-7.8\">class = 0</text>\n",
       "</g>\n",
       "<!-- 25&#45;&gt;27 -->\n",
       "<g class=\"edge\" id=\"edge27\">\n",
       "<title>25-&gt;27</title>\n",
       "<path d=\"M1704.6952,-103.9815C1719.147,-94.0957 1734.5342,-83.5701 1748.868,-73.7651\" fill=\"none\" stroke=\"#000000\"/>\n",
       "<polygon fill=\"#000000\" points=\"1750.8932,-76.6204 1757.1708,-68.0856 1746.941,-70.8428 1750.8932,-76.6204\" stroke=\"#000000\"/>\n",
       "</g>\n",
       "<!-- 29 -->\n",
       "<g class=\"node\" id=\"node30\">\n",
       "<title>29</title>\n",
       "<polygon fill=\"#39e581\" fill-opacity=\"0.713725\" points=\"1361.5,-417.5 1230.5,-417.5 1230.5,-349.5 1361.5,-349.5 1361.5,-417.5\" stroke=\"#000000\"/>\n",
       "<text fill=\"#000000\" font-family=\"Times,serif\" font-size=\"14.00\" text-anchor=\"middle\" x=\"1296\" y=\"-402.3\">gini = 0.406</text>\n",
       "<text fill=\"#000000\" font-family=\"Times,serif\" font-size=\"14.00\" text-anchor=\"middle\" x=\"1296\" y=\"-387.3\">samples = 8</text>\n",
       "<text fill=\"#000000\" font-family=\"Times,serif\" font-size=\"14.00\" text-anchor=\"middle\" x=\"1296\" y=\"-372.3\">value = [1, 6, 1]</text>\n",
       "<text fill=\"#000000\" font-family=\"Times,serif\" font-size=\"14.00\" text-anchor=\"middle\" x=\"1296\" y=\"-357.3\">class = 1</text>\n",
       "</g>\n",
       "<!-- 28&#45;&gt;29 -->\n",
       "<g class=\"edge\" id=\"edge29\">\n",
       "<title>28-&gt;29</title>\n",
       "<path d=\"M1296,-460.8796C1296,-450.2134 1296,-438.7021 1296,-427.9015\" fill=\"none\" stroke=\"#000000\"/>\n",
       "<polygon fill=\"#000000\" points=\"1299.5001,-427.8149 1296,-417.8149 1292.5001,-427.815 1299.5001,-427.8149\" stroke=\"#000000\"/>\n",
       "</g>\n",
       "<!-- 30 -->\n",
       "<g class=\"node\" id=\"node31\">\n",
       "<title>30</title>\n",
       "<polygon fill=\"#e58139\" fill-opacity=\"0.498039\" points=\"1510.5,-417.5 1379.5,-417.5 1379.5,-349.5 1510.5,-349.5 1510.5,-417.5\" stroke=\"#000000\"/>\n",
       "<text fill=\"#000000\" font-family=\"Times,serif\" font-size=\"14.00\" text-anchor=\"middle\" x=\"1445\" y=\"-402.3\">gini = 0.444</text>\n",
       "<text fill=\"#000000\" font-family=\"Times,serif\" font-size=\"14.00\" text-anchor=\"middle\" x=\"1445\" y=\"-387.3\">samples = 3</text>\n",
       "<text fill=\"#000000\" font-family=\"Times,serif\" font-size=\"14.00\" text-anchor=\"middle\" x=\"1445\" y=\"-372.3\">value = [2, 0, 1]</text>\n",
       "<text fill=\"#000000\" font-family=\"Times,serif\" font-size=\"14.00\" text-anchor=\"middle\" x=\"1445\" y=\"-357.3\">class = 0</text>\n",
       "</g>\n",
       "<!-- 28&#45;&gt;30 -->\n",
       "<g class=\"edge\" id=\"edge30\">\n",
       "<title>28-&gt;30</title>\n",
       "<path d=\"M1348.113,-460.8796C1362.9826,-449.0038 1379.164,-436.0804 1393.9683,-424.2568\" fill=\"none\" stroke=\"#000000\"/>\n",
       "<polygon fill=\"#000000\" points=\"1396.4046,-426.7904 1402.0342,-417.8149 1392.0362,-421.3207 1396.4046,-426.7904\" stroke=\"#000000\"/>\n",
       "</g>\n",
       "</g>\n",
       "</svg>"
      ],
      "text/plain": [
       "<IPython.core.display.SVG object>"
      ]
     },
     "metadata": {},
     "output_type": "display_data"
    }
   ],
   "source": [
    "from sklearn.tree import export_graphviz\n",
    "from IPython.display import SVG\n",
    "from graphviz import Source\n",
    "from IPython.display import display\n",
    "\n",
    "labels = df_clean.columns.tolist()\n",
    "\n",
    "graph = Source(export_graphviz(vola_smote_dt,\n",
    "                               out_file=None,\n",
    "                               feature_names=labels,\n",
    "                               class_names=['0', '1', '2', '3'],\n",
    "                               filled = True))\n",
    "display(SVG(graph.pipe(format='svg')))"
   ]
  },
  {
   "cell_type": "markdown",
   "metadata": {},
   "source": [
    "### Undersampling decision tree"
   ]
  },
  {
   "cell_type": "code",
   "execution_count": 138,
   "metadata": {
    "scrolled": false
   },
   "outputs": [
    {
     "data": {
      "image/svg+xml": [
       "<svg height=\"671pt\" viewBox=\"0.00 0.00 1734.00 671.00\" width=\"1734pt\" xmlns=\"http://www.w3.org/2000/svg\" xmlns:xlink=\"http://www.w3.org/1999/xlink\">\n",
       "<g class=\"graph\" id=\"graph0\" transform=\"scale(1 1) rotate(0) translate(4 667)\">\n",
       "<title>Tree</title>\n",
       "<polygon fill=\"#ffffff\" points=\"-4,4 -4,-667 1730,-667 1730,4 -4,4\" stroke=\"transparent\"/>\n",
       "<!-- 0 -->\n",
       "<g class=\"node\" id=\"node1\">\n",
       "<title>0</title>\n",
       "<polygon fill=\"#e58139\" fill-opacity=\"0.737255\" points=\"1358,-663 1191,-663 1191,-580 1358,-580 1358,-663\" stroke=\"#000000\"/>\n",
       "<text fill=\"#000000\" font-family=\"Times,serif\" font-size=\"14.00\" text-anchor=\"middle\" x=\"1274.5\" y=\"-647.8\">SaudiArabia &lt;= 0.5</text>\n",
       "<text fill=\"#000000\" font-family=\"Times,serif\" font-size=\"14.00\" text-anchor=\"middle\" x=\"1274.5\" y=\"-632.8\">gini = 0.359</text>\n",
       "<text fill=\"#000000\" font-family=\"Times,serif\" font-size=\"14.00\" text-anchor=\"middle\" x=\"1274.5\" y=\"-617.8\">samples = 480</text>\n",
       "<text fill=\"#000000\" font-family=\"Times,serif\" font-size=\"14.00\" text-anchor=\"middle\" x=\"1274.5\" y=\"-602.8\">value = [375, 81, 24]</text>\n",
       "<text fill=\"#000000\" font-family=\"Times,serif\" font-size=\"14.00\" text-anchor=\"middle\" x=\"1274.5\" y=\"-587.8\">class = 0</text>\n",
       "</g>\n",
       "<!-- 1 -->\n",
       "<g class=\"node\" id=\"node2\">\n",
       "<title>1</title>\n",
       "<polygon fill=\"#e58139\" fill-opacity=\"0.752941\" points=\"1272,-544 1105,-544 1105,-461 1272,-461 1272,-544\" stroke=\"#000000\"/>\n",
       "<text fill=\"#000000\" font-family=\"Times,serif\" font-size=\"14.00\" text-anchor=\"middle\" x=\"1188.5\" y=\"-528.8\">Kuwait &lt;= 0.5</text>\n",
       "<text fill=\"#000000\" font-family=\"Times,serif\" font-size=\"14.00\" text-anchor=\"middle\" x=\"1188.5\" y=\"-513.8\">gini = 0.343</text>\n",
       "<text fill=\"#000000\" font-family=\"Times,serif\" font-size=\"14.00\" text-anchor=\"middle\" x=\"1188.5\" y=\"-498.8\">samples = 469</text>\n",
       "<text fill=\"#000000\" font-family=\"Times,serif\" font-size=\"14.00\" text-anchor=\"middle\" x=\"1188.5\" y=\"-483.8\">value = [372, 76, 21]</text>\n",
       "<text fill=\"#000000\" font-family=\"Times,serif\" font-size=\"14.00\" text-anchor=\"middle\" x=\"1188.5\" y=\"-468.8\">class = 0</text>\n",
       "</g>\n",
       "<!-- 0&#45;&gt;1 -->\n",
       "<g class=\"edge\" id=\"edge1\">\n",
       "<title>0-&gt;1</title>\n",
       "<path d=\"M1244.4214,-579.8796C1238.0428,-571.0534 1231.246,-561.6485 1224.6681,-552.5466\" fill=\"none\" stroke=\"#000000\"/>\n",
       "<polygon fill=\"#000000\" points=\"1227.4012,-550.353 1218.707,-544.2981 1221.7277,-554.4532 1227.4012,-550.353\" stroke=\"#000000\"/>\n",
       "<text fill=\"#000000\" font-family=\"Times,serif\" font-size=\"14.00\" text-anchor=\"middle\" x=\"1214.7338\" y=\"-565.2803\">True</text>\n",
       "</g>\n",
       "<!-- 26 -->\n",
       "<g class=\"node\" id=\"node27\">\n",
       "<title>26</title>\n",
       "<polygon fill=\"#39e581\" fill-opacity=\"0.250980\" points=\"1427,-544 1294,-544 1294,-461 1427,-461 1427,-544\" stroke=\"#000000\"/>\n",
       "<text fill=\"#000000\" font-family=\"Times,serif\" font-size=\"14.00\" text-anchor=\"middle\" x=\"1360.5\" y=\"-528.8\">GradeID &lt;= 6.5</text>\n",
       "<text fill=\"#000000\" font-family=\"Times,serif\" font-size=\"14.00\" text-anchor=\"middle\" x=\"1360.5\" y=\"-513.8\">gini = 0.645</text>\n",
       "<text fill=\"#000000\" font-family=\"Times,serif\" font-size=\"14.00\" text-anchor=\"middle\" x=\"1360.5\" y=\"-498.8\">samples = 11</text>\n",
       "<text fill=\"#000000\" font-family=\"Times,serif\" font-size=\"14.00\" text-anchor=\"middle\" x=\"1360.5\" y=\"-483.8\">value = [3, 5, 3]</text>\n",
       "<text fill=\"#000000\" font-family=\"Times,serif\" font-size=\"14.00\" text-anchor=\"middle\" x=\"1360.5\" y=\"-468.8\">class = 1</text>\n",
       "</g>\n",
       "<!-- 0&#45;&gt;26 -->\n",
       "<g class=\"edge\" id=\"edge26\">\n",
       "<title>0-&gt;26</title>\n",
       "<path d=\"M1304.5786,-579.8796C1310.9572,-571.0534 1317.754,-561.6485 1324.3319,-552.5466\" fill=\"none\" stroke=\"#000000\"/>\n",
       "<polygon fill=\"#000000\" points=\"1327.2723,-554.4532 1330.293,-544.2981 1321.5988,-550.353 1327.2723,-554.4532\" stroke=\"#000000\"/>\n",
       "<text fill=\"#000000\" font-family=\"Times,serif\" font-size=\"14.00\" text-anchor=\"middle\" x=\"1334.2662\" y=\"-565.2803\">False</text>\n",
       "</g>\n",
       "<!-- 2 -->\n",
       "<g class=\"node\" id=\"node3\">\n",
       "<title>2</title>\n",
       "<polygon fill=\"#e58139\" fill-opacity=\"0.823529\" points=\"884,-425 717,-425 717,-342 884,-342 884,-425\" stroke=\"#000000\"/>\n",
       "<text fill=\"#000000\" font-family=\"Times,serif\" font-size=\"14.00\" text-anchor=\"middle\" x=\"800.5\" y=\"-409.8\">English &lt;= 0.5</text>\n",
       "<text fill=\"#000000\" font-family=\"Times,serif\" font-size=\"14.00\" text-anchor=\"middle\" x=\"800.5\" y=\"-394.8\">gini = 0.271</text>\n",
       "<text fill=\"#000000\" font-family=\"Times,serif\" font-size=\"14.00\" text-anchor=\"middle\" x=\"800.5\" y=\"-379.8\">samples = 290</text>\n",
       "<text fill=\"#000000\" font-family=\"Times,serif\" font-size=\"14.00\" text-anchor=\"middle\" x=\"800.5\" y=\"-364.8\">value = [245, 35, 10]</text>\n",
       "<text fill=\"#000000\" font-family=\"Times,serif\" font-size=\"14.00\" text-anchor=\"middle\" x=\"800.5\" y=\"-349.8\">class = 0</text>\n",
       "</g>\n",
       "<!-- 1&#45;&gt;2 -->\n",
       "<g class=\"edge\" id=\"edge2\">\n",
       "<title>1-&gt;2</title>\n",
       "<path d=\"M1104.7875,-476.8253C1042.7012,-457.7834 958.0484,-431.8202 893.7913,-412.1125\" fill=\"none\" stroke=\"#000000\"/>\n",
       "<polygon fill=\"#000000\" points=\"894.6493,-408.7148 884.0625,-409.1287 892.5967,-415.4071 894.6493,-408.7148\" stroke=\"#000000\"/>\n",
       "</g>\n",
       "<!-- 15 -->\n",
       "<g class=\"node\" id=\"node16\">\n",
       "<title>15</title>\n",
       "<polygon fill=\"#e58139\" fill-opacity=\"0.623529\" points=\"1276.5,-425 1100.5,-425 1100.5,-342 1276.5,-342 1276.5,-425\" stroke=\"#000000\"/>\n",
       "<text fill=\"#000000\" font-family=\"Times,serif\" font-size=\"14.00\" text-anchor=\"middle\" x=\"1188.5\" y=\"-409.8\">RaisedHands &lt;= 35.5</text>\n",
       "<text fill=\"#000000\" font-family=\"Times,serif\" font-size=\"14.00\" text-anchor=\"middle\" x=\"1188.5\" y=\"-394.8\">gini = 0.44</text>\n",
       "<text fill=\"#000000\" font-family=\"Times,serif\" font-size=\"14.00\" text-anchor=\"middle\" x=\"1188.5\" y=\"-379.8\">samples = 179</text>\n",
       "<text fill=\"#000000\" font-family=\"Times,serif\" font-size=\"14.00\" text-anchor=\"middle\" x=\"1188.5\" y=\"-364.8\">value = [127, 41, 11]</text>\n",
       "<text fill=\"#000000\" font-family=\"Times,serif\" font-size=\"14.00\" text-anchor=\"middle\" x=\"1188.5\" y=\"-349.8\">class = 0</text>\n",
       "</g>\n",
       "<!-- 1&#45;&gt;15 -->\n",
       "<g class=\"edge\" id=\"edge15\">\n",
       "<title>1-&gt;15</title>\n",
       "<path d=\"M1188.5,-460.8796C1188.5,-452.6838 1188.5,-443.9891 1188.5,-435.5013\" fill=\"none\" stroke=\"#000000\"/>\n",
       "<polygon fill=\"#000000\" points=\"1192.0001,-435.298 1188.5,-425.2981 1185.0001,-435.2981 1192.0001,-435.298\" stroke=\"#000000\"/>\n",
       "</g>\n",
       "<!-- 3 -->\n",
       "<g class=\"node\" id=\"node4\">\n",
       "<title>3</title>\n",
       "<polygon fill=\"#e58139\" fill-opacity=\"0.854902\" points=\"537.5,-306 379.5,-306 379.5,-223 537.5,-223 537.5,-306\" stroke=\"#000000\"/>\n",
       "<text fill=\"#000000\" font-family=\"Times,serif\" font-size=\"14.00\" text-anchor=\"middle\" x=\"458.5\" y=\"-290.8\">GradeID &lt;= 4.5</text>\n",
       "<text fill=\"#000000\" font-family=\"Times,serif\" font-size=\"14.00\" text-anchor=\"middle\" x=\"458.5\" y=\"-275.8\">gini = 0.232</text>\n",
       "<text fill=\"#000000\" font-family=\"Times,serif\" font-size=\"14.00\" text-anchor=\"middle\" x=\"458.5\" y=\"-260.8\">samples = 261</text>\n",
       "<text fill=\"#000000\" font-family=\"Times,serif\" font-size=\"14.00\" text-anchor=\"middle\" x=\"458.5\" y=\"-245.8\">value = [227, 28, 6]</text>\n",
       "<text fill=\"#000000\" font-family=\"Times,serif\" font-size=\"14.00\" text-anchor=\"middle\" x=\"458.5\" y=\"-230.8\">class = 0</text>\n",
       "</g>\n",
       "<!-- 2&#45;&gt;3 -->\n",
       "<g class=\"edge\" id=\"edge3\">\n",
       "<title>2-&gt;3</title>\n",
       "<path d=\"M716.8374,-354.3893C665.4561,-336.511 599.6941,-313.6289 547.3795,-295.4259\" fill=\"none\" stroke=\"#000000\"/>\n",
       "<polygon fill=\"#000000\" points=\"548.369,-292.0644 537.7742,-292.0837 546.0686,-298.6757 548.369,-292.0644\" stroke=\"#000000\"/>\n",
       "</g>\n",
       "<!-- 10 -->\n",
       "<g class=\"node\" id=\"node11\">\n",
       "<title>10</title>\n",
       "<polygon fill=\"#e58139\" fill-opacity=\"0.501961\" points=\"870.5,-306 730.5,-306 730.5,-223 870.5,-223 870.5,-306\" stroke=\"#000000\"/>\n",
       "<text fill=\"#000000\" font-family=\"Times,serif\" font-size=\"14.00\" text-anchor=\"middle\" x=\"800.5\" y=\"-290.8\">Iraq &lt;= 0.5</text>\n",
       "<text fill=\"#000000\" font-family=\"Times,serif\" font-size=\"14.00\" text-anchor=\"middle\" x=\"800.5\" y=\"-275.8\">gini = 0.537</text>\n",
       "<text fill=\"#000000\" font-family=\"Times,serif\" font-size=\"14.00\" text-anchor=\"middle\" x=\"800.5\" y=\"-260.8\">samples = 29</text>\n",
       "<text fill=\"#000000\" font-family=\"Times,serif\" font-size=\"14.00\" text-anchor=\"middle\" x=\"800.5\" y=\"-245.8\">value = [18, 7, 4]</text>\n",
       "<text fill=\"#000000\" font-family=\"Times,serif\" font-size=\"14.00\" text-anchor=\"middle\" x=\"800.5\" y=\"-230.8\">class = 0</text>\n",
       "</g>\n",
       "<!-- 2&#45;&gt;10 -->\n",
       "<g class=\"edge\" id=\"edge10\">\n",
       "<title>2-&gt;10</title>\n",
       "<path d=\"M800.5,-341.8796C800.5,-333.6838 800.5,-324.9891 800.5,-316.5013\" fill=\"none\" stroke=\"#000000\"/>\n",
       "<polygon fill=\"#000000\" points=\"804.0001,-316.298 800.5,-306.2981 797.0001,-316.2981 804.0001,-316.298\" stroke=\"#000000\"/>\n",
       "</g>\n",
       "<!-- 4 -->\n",
       "<g class=\"node\" id=\"node5\">\n",
       "<title>4</title>\n",
       "<polygon fill=\"#e58139\" fill-opacity=\"0.788235\" points=\"312,-187 163,-187 163,-104 312,-104 312,-187\" stroke=\"#000000\"/>\n",
       "<text fill=\"#000000\" font-family=\"Times,serif\" font-size=\"14.00\" text-anchor=\"middle\" x=\"237.5\" y=\"-171.8\">Class &lt;= 1.5</text>\n",
       "<text fill=\"#000000\" font-family=\"Times,serif\" font-size=\"14.00\" text-anchor=\"middle\" x=\"237.5\" y=\"-156.8\">gini = 0.292</text>\n",
       "<text fill=\"#000000\" font-family=\"Times,serif\" font-size=\"14.00\" text-anchor=\"middle\" x=\"237.5\" y=\"-141.8\">samples = 120</text>\n",
       "<text fill=\"#000000\" font-family=\"Times,serif\" font-size=\"14.00\" text-anchor=\"middle\" x=\"237.5\" y=\"-126.8\">value = [99, 20, 1]</text>\n",
       "<text fill=\"#000000\" font-family=\"Times,serif\" font-size=\"14.00\" text-anchor=\"middle\" x=\"237.5\" y=\"-111.8\">class = 0</text>\n",
       "</g>\n",
       "<!-- 3&#45;&gt;4 -->\n",
       "<g class=\"edge\" id=\"edge4\">\n",
       "<title>3-&gt;4</title>\n",
       "<path d=\"M381.2049,-222.8796C361.7755,-212.4176 340.8362,-201.1426 321.1135,-190.5227\" fill=\"none\" stroke=\"#000000\"/>\n",
       "<polygon fill=\"#000000\" points=\"322.6113,-187.354 312.1472,-185.6946 319.2925,-193.5173 322.6113,-187.354\" stroke=\"#000000\"/>\n",
       "</g>\n",
       "<!-- 7 -->\n",
       "<g class=\"node\" id=\"node8\">\n",
       "<title>7</title>\n",
       "<polygon fill=\"#e58139\" fill-opacity=\"0.901961\" points=\"533,-187 384,-187 384,-104 533,-104 533,-187\" stroke=\"#000000\"/>\n",
       "<text fill=\"#000000\" font-family=\"Times,serif\" font-size=\"14.00\" text-anchor=\"middle\" x=\"458.5\" y=\"-171.8\">Gender &lt;= 0.5</text>\n",
       "<text fill=\"#000000\" font-family=\"Times,serif\" font-size=\"14.00\" text-anchor=\"middle\" x=\"458.5\" y=\"-156.8\">gini = 0.171</text>\n",
       "<text fill=\"#000000\" font-family=\"Times,serif\" font-size=\"14.00\" text-anchor=\"middle\" x=\"458.5\" y=\"-141.8\">samples = 141</text>\n",
       "<text fill=\"#000000\" font-family=\"Times,serif\" font-size=\"14.00\" text-anchor=\"middle\" x=\"458.5\" y=\"-126.8\">value = [128, 8, 5]</text>\n",
       "<text fill=\"#000000\" font-family=\"Times,serif\" font-size=\"14.00\" text-anchor=\"middle\" x=\"458.5\" y=\"-111.8\">class = 0</text>\n",
       "</g>\n",
       "<!-- 3&#45;&gt;7 -->\n",
       "<g class=\"edge\" id=\"edge7\">\n",
       "<title>3-&gt;7</title>\n",
       "<path d=\"M458.5,-222.8796C458.5,-214.6838 458.5,-205.9891 458.5,-197.5013\" fill=\"none\" stroke=\"#000000\"/>\n",
       "<polygon fill=\"#000000\" points=\"462.0001,-197.298 458.5,-187.2981 455.0001,-197.2981 462.0001,-197.298\" stroke=\"#000000\"/>\n",
       "</g>\n",
       "<!-- 5 -->\n",
       "<g class=\"node\" id=\"node6\">\n",
       "<title>5</title>\n",
       "<polygon fill=\"#e58139\" fill-opacity=\"0.678431\" points=\"149,-68 0,-68 0,0 149,0 149,-68\" stroke=\"#000000\"/>\n",
       "<text fill=\"#000000\" font-family=\"Times,serif\" font-size=\"14.00\" text-anchor=\"middle\" x=\"74.5\" y=\"-52.8\">gini = 0.378</text>\n",
       "<text fill=\"#000000\" font-family=\"Times,serif\" font-size=\"14.00\" text-anchor=\"middle\" x=\"74.5\" y=\"-37.8\">samples = 81</text>\n",
       "<text fill=\"#000000\" font-family=\"Times,serif\" font-size=\"14.00\" text-anchor=\"middle\" x=\"74.5\" y=\"-22.8\">value = [61, 19, 1]</text>\n",
       "<text fill=\"#000000\" font-family=\"Times,serif\" font-size=\"14.00\" text-anchor=\"middle\" x=\"74.5\" y=\"-7.8\">class = 0</text>\n",
       "</g>\n",
       "<!-- 4&#45;&gt;5 -->\n",
       "<g class=\"edge\" id=\"edge5\">\n",
       "<title>4-&gt;5</title>\n",
       "<path d=\"M176.8048,-103.9815C162.353,-94.0957 146.9658,-83.5701 132.632,-73.7651\" fill=\"none\" stroke=\"#000000\"/>\n",
       "<polygon fill=\"#000000\" points=\"134.559,-70.8428 124.3292,-68.0856 130.6068,-76.6204 134.559,-70.8428\" stroke=\"#000000\"/>\n",
       "</g>\n",
       "<!-- 6 -->\n",
       "<g class=\"node\" id=\"node7\">\n",
       "<title>6</title>\n",
       "<polygon fill=\"#e58139\" fill-opacity=\"0.972549\" points=\"307.5,-68 167.5,-68 167.5,0 307.5,0 307.5,-68\" stroke=\"#000000\"/>\n",
       "<text fill=\"#000000\" font-family=\"Times,serif\" font-size=\"14.00\" text-anchor=\"middle\" x=\"237.5\" y=\"-52.8\">gini = 0.05</text>\n",
       "<text fill=\"#000000\" font-family=\"Times,serif\" font-size=\"14.00\" text-anchor=\"middle\" x=\"237.5\" y=\"-37.8\">samples = 39</text>\n",
       "<text fill=\"#000000\" font-family=\"Times,serif\" font-size=\"14.00\" text-anchor=\"middle\" x=\"237.5\" y=\"-22.8\">value = [38, 1, 0]</text>\n",
       "<text fill=\"#000000\" font-family=\"Times,serif\" font-size=\"14.00\" text-anchor=\"middle\" x=\"237.5\" y=\"-7.8\">class = 0</text>\n",
       "</g>\n",
       "<!-- 4&#45;&gt;6 -->\n",
       "<g class=\"edge\" id=\"edge6\">\n",
       "<title>4-&gt;6</title>\n",
       "<path d=\"M237.5,-103.9815C237.5,-95.618 237.5,-86.7965 237.5,-78.3409\" fill=\"none\" stroke=\"#000000\"/>\n",
       "<polygon fill=\"#000000\" points=\"241.0001,-78.2636 237.5,-68.2637 234.0001,-78.2637 241.0001,-78.2636\" stroke=\"#000000\"/>\n",
       "</g>\n",
       "<!-- 8 -->\n",
       "<g class=\"node\" id=\"node9\">\n",
       "<title>8</title>\n",
       "<polygon fill=\"#e58139\" points=\"465.5,-68 325.5,-68 325.5,0 465.5,0 465.5,-68\" stroke=\"#000000\"/>\n",
       "<text fill=\"#000000\" font-family=\"Times,serif\" font-size=\"14.00\" text-anchor=\"middle\" x=\"395.5\" y=\"-52.8\">gini = 0.0</text>\n",
       "<text fill=\"#000000\" font-family=\"Times,serif\" font-size=\"14.00\" text-anchor=\"middle\" x=\"395.5\" y=\"-37.8\">samples = 52</text>\n",
       "<text fill=\"#000000\" font-family=\"Times,serif\" font-size=\"14.00\" text-anchor=\"middle\" x=\"395.5\" y=\"-22.8\">value = [52, 0, 0]</text>\n",
       "<text fill=\"#000000\" font-family=\"Times,serif\" font-size=\"14.00\" text-anchor=\"middle\" x=\"395.5\" y=\"-7.8\">class = 0</text>\n",
       "</g>\n",
       "<!-- 7&#45;&gt;8 -->\n",
       "<g class=\"edge\" id=\"edge8\">\n",
       "<title>7-&gt;8</title>\n",
       "<path d=\"M435.0411,-103.9815C430.1078,-95.2504 424.8926,-86.0202 419.9248,-77.2281\" fill=\"none\" stroke=\"#000000\"/>\n",
       "<polygon fill=\"#000000\" points=\"422.8263,-75.2483 414.8597,-68.2637 416.7319,-78.6918 422.8263,-75.2483\" stroke=\"#000000\"/>\n",
       "</g>\n",
       "<!-- 9 -->\n",
       "<g class=\"node\" id=\"node10\">\n",
       "<title>9</title>\n",
       "<polygon fill=\"#e58139\" fill-opacity=\"0.839216\" points=\"623.5,-68 483.5,-68 483.5,0 623.5,0 623.5,-68\" stroke=\"#000000\"/>\n",
       "<text fill=\"#000000\" font-family=\"Times,serif\" font-size=\"14.00\" text-anchor=\"middle\" x=\"553.5\" y=\"-52.8\">gini = 0.26</text>\n",
       "<text fill=\"#000000\" font-family=\"Times,serif\" font-size=\"14.00\" text-anchor=\"middle\" x=\"553.5\" y=\"-37.8\">samples = 89</text>\n",
       "<text fill=\"#000000\" font-family=\"Times,serif\" font-size=\"14.00\" text-anchor=\"middle\" x=\"553.5\" y=\"-22.8\">value = [76, 8, 5]</text>\n",
       "<text fill=\"#000000\" font-family=\"Times,serif\" font-size=\"14.00\" text-anchor=\"middle\" x=\"553.5\" y=\"-7.8\">class = 0</text>\n",
       "</g>\n",
       "<!-- 7&#45;&gt;9 -->\n",
       "<g class=\"edge\" id=\"edge9\">\n",
       "<title>7-&gt;9</title>\n",
       "<path d=\"M493.8745,-103.9815C501.6268,-94.8828 509.8409,-85.242 517.6131,-76.1199\" fill=\"none\" stroke=\"#000000\"/>\n",
       "<polygon fill=\"#000000\" points=\"520.4854,-78.1454 524.3067,-68.2637 515.1572,-73.6056 520.4854,-78.1454\" stroke=\"#000000\"/>\n",
       "</g>\n",
       "<!-- 11 -->\n",
       "<g class=\"node\" id=\"node12\">\n",
       "<title>11</title>\n",
       "<polygon fill=\"#e58139\" fill-opacity=\"0.592157\" points=\"810.5,-187 604.5,-187 604.5,-104 810.5,-104 810.5,-187\" stroke=\"#000000\"/>\n",
       "<text fill=\"#000000\" font-family=\"Times,serif\" font-size=\"14.00\" text-anchor=\"middle\" x=\"707.5\" y=\"-171.8\">VisitedResources &lt;= 24.5</text>\n",
       "<text fill=\"#000000\" font-family=\"Times,serif\" font-size=\"14.00\" text-anchor=\"middle\" x=\"707.5\" y=\"-156.8\">gini = 0.499</text>\n",
       "<text fill=\"#000000\" font-family=\"Times,serif\" font-size=\"14.00\" text-anchor=\"middle\" x=\"707.5\" y=\"-141.8\">samples = 27</text>\n",
       "<text fill=\"#000000\" font-family=\"Times,serif\" font-size=\"14.00\" text-anchor=\"middle\" x=\"707.5\" y=\"-126.8\">value = [18, 5, 4]</text>\n",
       "<text fill=\"#000000\" font-family=\"Times,serif\" font-size=\"14.00\" text-anchor=\"middle\" x=\"707.5\" y=\"-111.8\">class = 0</text>\n",
       "</g>\n",
       "<!-- 10&#45;&gt;11 -->\n",
       "<g class=\"edge\" id=\"edge11\">\n",
       "<title>10-&gt;11</title>\n",
       "<path d=\"M767.9731,-222.8796C761.0049,-213.9633 753.5753,-204.4565 746.3944,-195.268\" fill=\"none\" stroke=\"#000000\"/>\n",
       "<polygon fill=\"#000000\" points=\"749.0812,-193.0221 740.1657,-187.2981 743.5657,-197.3326 749.0812,-193.0221\" stroke=\"#000000\"/>\n",
       "</g>\n",
       "<!-- 14 -->\n",
       "<g class=\"node\" id=\"node15\">\n",
       "<title>14</title>\n",
       "<polygon fill=\"#39e581\" points=\"960,-179.5 829,-179.5 829,-111.5 960,-111.5 960,-179.5\" stroke=\"#000000\"/>\n",
       "<text fill=\"#000000\" font-family=\"Times,serif\" font-size=\"14.00\" text-anchor=\"middle\" x=\"894.5\" y=\"-164.3\">gini = 0.0</text>\n",
       "<text fill=\"#000000\" font-family=\"Times,serif\" font-size=\"14.00\" text-anchor=\"middle\" x=\"894.5\" y=\"-149.3\">samples = 2</text>\n",
       "<text fill=\"#000000\" font-family=\"Times,serif\" font-size=\"14.00\" text-anchor=\"middle\" x=\"894.5\" y=\"-134.3\">value = [0, 2, 0]</text>\n",
       "<text fill=\"#000000\" font-family=\"Times,serif\" font-size=\"14.00\" text-anchor=\"middle\" x=\"894.5\" y=\"-119.3\">class = 1</text>\n",
       "</g>\n",
       "<!-- 10&#45;&gt;14 -->\n",
       "<g class=\"edge\" id=\"edge14\">\n",
       "<title>10-&gt;14</title>\n",
       "<path d=\"M833.3766,-222.8796C842.3232,-211.5536 852.0224,-199.2748 861.0029,-187.9058\" fill=\"none\" stroke=\"#000000\"/>\n",
       "<polygon fill=\"#000000\" points=\"863.942,-189.8316 867.3941,-179.8149 858.449,-185.4926 863.942,-189.8316\" stroke=\"#000000\"/>\n",
       "</g>\n",
       "<!-- 12 -->\n",
       "<g class=\"node\" id=\"node13\">\n",
       "<title>12</title>\n",
       "<polygon fill=\"#8139e5\" fill-opacity=\"0.333333\" points=\"773,-68 642,-68 642,0 773,0 773,-68\" stroke=\"#000000\"/>\n",
       "<text fill=\"#000000\" font-family=\"Times,serif\" font-size=\"14.00\" text-anchor=\"middle\" x=\"707.5\" y=\"-52.8\">gini = 0.48</text>\n",
       "<text fill=\"#000000\" font-family=\"Times,serif\" font-size=\"14.00\" text-anchor=\"middle\" x=\"707.5\" y=\"-37.8\">samples = 5</text>\n",
       "<text fill=\"#000000\" font-family=\"Times,serif\" font-size=\"14.00\" text-anchor=\"middle\" x=\"707.5\" y=\"-22.8\">value = [2, 0, 3]</text>\n",
       "<text fill=\"#000000\" font-family=\"Times,serif\" font-size=\"14.00\" text-anchor=\"middle\" x=\"707.5\" y=\"-7.8\">class = 2</text>\n",
       "</g>\n",
       "<!-- 11&#45;&gt;12 -->\n",
       "<g class=\"edge\" id=\"edge12\">\n",
       "<title>11-&gt;12</title>\n",
       "<path d=\"M707.5,-103.9815C707.5,-95.618 707.5,-86.7965 707.5,-78.3409\" fill=\"none\" stroke=\"#000000\"/>\n",
       "<polygon fill=\"#000000\" points=\"711.0001,-78.2636 707.5,-68.2637 704.0001,-78.2637 711.0001,-78.2636\" stroke=\"#000000\"/>\n",
       "</g>\n",
       "<!-- 13 -->\n",
       "<g class=\"node\" id=\"node14\">\n",
       "<title>13</title>\n",
       "<polygon fill=\"#e58139\" fill-opacity=\"0.647059\" points=\"931.5,-68 791.5,-68 791.5,0 931.5,0 931.5,-68\" stroke=\"#000000\"/>\n",
       "<text fill=\"#000000\" font-family=\"Times,serif\" font-size=\"14.00\" text-anchor=\"middle\" x=\"861.5\" y=\"-52.8\">gini = 0.417</text>\n",
       "<text fill=\"#000000\" font-family=\"Times,serif\" font-size=\"14.00\" text-anchor=\"middle\" x=\"861.5\" y=\"-37.8\">samples = 22</text>\n",
       "<text fill=\"#000000\" font-family=\"Times,serif\" font-size=\"14.00\" text-anchor=\"middle\" x=\"861.5\" y=\"-22.8\">value = [16, 5, 1]</text>\n",
       "<text fill=\"#000000\" font-family=\"Times,serif\" font-size=\"14.00\" text-anchor=\"middle\" x=\"861.5\" y=\"-7.8\">class = 0</text>\n",
       "</g>\n",
       "<!-- 11&#45;&gt;13 -->\n",
       "<g class=\"edge\" id=\"edge13\">\n",
       "<title>11-&gt;13</title>\n",
       "<path d=\"M764.8439,-103.9815C778.2994,-94.2394 792.6131,-83.8759 805.9867,-74.193\" fill=\"none\" stroke=\"#000000\"/>\n",
       "<polygon fill=\"#000000\" points=\"808.1289,-76.9632 814.1762,-68.2637 804.0237,-71.2933 808.1289,-76.9632\" stroke=\"#000000\"/>\n",
       "</g>\n",
       "<!-- 16 -->\n",
       "<g class=\"node\" id=\"node17\">\n",
       "<title>16</title>\n",
       "<polygon fill=\"#e58139\" fill-opacity=\"0.776471\" points=\"1263,-306 1114,-306 1114,-223 1263,-223 1263,-306\" stroke=\"#000000\"/>\n",
       "<text fill=\"#000000\" font-family=\"Times,serif\" font-size=\"14.00\" text-anchor=\"middle\" x=\"1188.5\" y=\"-290.8\">Class &lt;= 1.5</text>\n",
       "<text fill=\"#000000\" font-family=\"Times,serif\" font-size=\"14.00\" text-anchor=\"middle\" x=\"1188.5\" y=\"-275.8\">gini = 0.333</text>\n",
       "<text fill=\"#000000\" font-family=\"Times,serif\" font-size=\"14.00\" text-anchor=\"middle\" x=\"1188.5\" y=\"-260.8\">samples = 102</text>\n",
       "<text fill=\"#000000\" font-family=\"Times,serif\" font-size=\"14.00\" text-anchor=\"middle\" x=\"1188.5\" y=\"-245.8\">value = [82, 13, 7]</text>\n",
       "<text fill=\"#000000\" font-family=\"Times,serif\" font-size=\"14.00\" text-anchor=\"middle\" x=\"1188.5\" y=\"-230.8\">class = 0</text>\n",
       "</g>\n",
       "<!-- 15&#45;&gt;16 -->\n",
       "<g class=\"edge\" id=\"edge16\">\n",
       "<title>15-&gt;16</title>\n",
       "<path d=\"M1188.5,-341.8796C1188.5,-333.6838 1188.5,-324.9891 1188.5,-316.5013\" fill=\"none\" stroke=\"#000000\"/>\n",
       "<polygon fill=\"#000000\" points=\"1192.0001,-316.298 1188.5,-306.2981 1185.0001,-316.2981 1192.0001,-316.298\" stroke=\"#000000\"/>\n",
       "</g>\n",
       "<!-- 21 -->\n",
       "<g class=\"node\" id=\"node22\">\n",
       "<title>21</title>\n",
       "<polygon fill=\"#e58139\" fill-opacity=\"0.345098\" points=\"1548,-306 1399,-306 1399,-223 1548,-223 1548,-306\" stroke=\"#000000\"/>\n",
       "<text fill=\"#000000\" font-family=\"Times,serif\" font-size=\"14.00\" text-anchor=\"middle\" x=\"1473.5\" y=\"-290.8\">Science &lt;= 0.5</text>\n",
       "<text fill=\"#000000\" font-family=\"Times,serif\" font-size=\"14.00\" text-anchor=\"middle\" x=\"1473.5\" y=\"-275.8\">gini = 0.524</text>\n",
       "<text fill=\"#000000\" font-family=\"Times,serif\" font-size=\"14.00\" text-anchor=\"middle\" x=\"1473.5\" y=\"-260.8\">samples = 77</text>\n",
       "<text fill=\"#000000\" font-family=\"Times,serif\" font-size=\"14.00\" text-anchor=\"middle\" x=\"1473.5\" y=\"-245.8\">value = [45, 28, 4]</text>\n",
       "<text fill=\"#000000\" font-family=\"Times,serif\" font-size=\"14.00\" text-anchor=\"middle\" x=\"1473.5\" y=\"-230.8\">class = 0</text>\n",
       "</g>\n",
       "<!-- 15&#45;&gt;21 -->\n",
       "<g class=\"edge\" id=\"edge21\">\n",
       "<title>15-&gt;21</title>\n",
       "<path d=\"M1276.5068,-345.7874C1279.5401,-344.5068 1282.5447,-343.2413 1285.5,-342 1319.4202,-327.7531 1356.8783,-312.2625 1389.3728,-298.9018\" fill=\"none\" stroke=\"#000000\"/>\n",
       "<polygon fill=\"#000000\" points=\"1390.9231,-302.0488 1398.8424,-295.0107 1388.2625,-295.5741 1390.9231,-302.0488\" stroke=\"#000000\"/>\n",
       "</g>\n",
       "<!-- 17 -->\n",
       "<g class=\"node\" id=\"node18\">\n",
       "<title>17</title>\n",
       "<polygon fill=\"#e58139\" fill-opacity=\"0.835294\" points=\"1203,-187 978,-187 978,-104 1203,-104 1203,-187\" stroke=\"#000000\"/>\n",
       "<text fill=\"#000000\" font-family=\"Times,serif\" font-size=\"14.00\" text-anchor=\"middle\" x=\"1090.5\" y=\"-171.8\">StudentAbsenceDays &lt;= 0.5</text>\n",
       "<text fill=\"#000000\" font-family=\"Times,serif\" font-size=\"14.00\" text-anchor=\"middle\" x=\"1090.5\" y=\"-156.8\">gini = 0.261</text>\n",
       "<text fill=\"#000000\" font-family=\"Times,serif\" font-size=\"14.00\" text-anchor=\"middle\" x=\"1090.5\" y=\"-141.8\">samples = 95</text>\n",
       "<text fill=\"#000000\" font-family=\"Times,serif\" font-size=\"14.00\" text-anchor=\"middle\" x=\"1090.5\" y=\"-126.8\">value = [81, 9, 5]</text>\n",
       "<text fill=\"#000000\" font-family=\"Times,serif\" font-size=\"14.00\" text-anchor=\"middle\" x=\"1090.5\" y=\"-111.8\">class = 0</text>\n",
       "</g>\n",
       "<!-- 16&#45;&gt;17 -->\n",
       "<g class=\"edge\" id=\"edge17\">\n",
       "<title>16-&gt;17</title>\n",
       "<path d=\"M1154.2244,-222.8796C1146.8816,-213.9633 1139.0524,-204.4565 1131.4854,-195.268\" fill=\"none\" stroke=\"#000000\"/>\n",
       "<polygon fill=\"#000000\" points=\"1133.9808,-192.7924 1124.9219,-187.2981 1128.5773,-197.2424 1133.9808,-192.7924\" stroke=\"#000000\"/>\n",
       "</g>\n",
       "<!-- 20 -->\n",
       "<g class=\"node\" id=\"node21\">\n",
       "<title>20</title>\n",
       "<polygon fill=\"#39e581\" fill-opacity=\"0.400000\" points=\"1352,-179.5 1221,-179.5 1221,-111.5 1352,-111.5 1352,-179.5\" stroke=\"#000000\"/>\n",
       "<text fill=\"#000000\" font-family=\"Times,serif\" font-size=\"14.00\" text-anchor=\"middle\" x=\"1286.5\" y=\"-164.3\">gini = 0.571</text>\n",
       "<text fill=\"#000000\" font-family=\"Times,serif\" font-size=\"14.00\" text-anchor=\"middle\" x=\"1286.5\" y=\"-149.3\">samples = 7</text>\n",
       "<text fill=\"#000000\" font-family=\"Times,serif\" font-size=\"14.00\" text-anchor=\"middle\" x=\"1286.5\" y=\"-134.3\">value = [1, 4, 2]</text>\n",
       "<text fill=\"#000000\" font-family=\"Times,serif\" font-size=\"14.00\" text-anchor=\"middle\" x=\"1286.5\" y=\"-119.3\">class = 1</text>\n",
       "</g>\n",
       "<!-- 16&#45;&gt;20 -->\n",
       "<g class=\"edge\" id=\"edge20\">\n",
       "<title>16-&gt;20</title>\n",
       "<path d=\"M1222.7756,-222.8796C1232.1935,-211.4436 1242.4113,-199.0363 1251.85,-187.575\" fill=\"none\" stroke=\"#000000\"/>\n",
       "<polygon fill=\"#000000\" points=\"1254.5853,-189.7592 1258.2406,-179.8149 1249.1818,-185.3093 1254.5853,-189.7592\" stroke=\"#000000\"/>\n",
       "</g>\n",
       "<!-- 18 -->\n",
       "<g class=\"node\" id=\"node19\">\n",
       "<title>18</title>\n",
       "<polygon fill=\"#e58139\" fill-opacity=\"0.666667\" points=\"1125.5,-68 985.5,-68 985.5,0 1125.5,0 1125.5,-68\" stroke=\"#000000\"/>\n",
       "<text fill=\"#000000\" font-family=\"Times,serif\" font-size=\"14.00\" text-anchor=\"middle\" x=\"1055.5\" y=\"-52.8\">gini = 0.425</text>\n",
       "<text fill=\"#000000\" font-family=\"Times,serif\" font-size=\"14.00\" text-anchor=\"middle\" x=\"1055.5\" y=\"-37.8\">samples = 37</text>\n",
       "<text fill=\"#000000\" font-family=\"Times,serif\" font-size=\"14.00\" text-anchor=\"middle\" x=\"1055.5\" y=\"-22.8\">value = [27, 7, 3]</text>\n",
       "<text fill=\"#000000\" font-family=\"Times,serif\" font-size=\"14.00\" text-anchor=\"middle\" x=\"1055.5\" y=\"-7.8\">class = 0</text>\n",
       "</g>\n",
       "<!-- 17&#45;&gt;18 -->\n",
       "<g class=\"edge\" id=\"edge18\">\n",
       "<title>17-&gt;18</title>\n",
       "<path d=\"M1077.4673,-103.9815C1074.8131,-95.5261 1072.012,-86.6026 1069.3312,-78.0623\" fill=\"none\" stroke=\"#000000\"/>\n",
       "<polygon fill=\"#000000\" points=\"1072.5898,-76.7564 1066.2554,-68.2637 1065.9111,-78.8529 1072.5898,-76.7564\" stroke=\"#000000\"/>\n",
       "</g>\n",
       "<!-- 19 -->\n",
       "<g class=\"node\" id=\"node20\">\n",
       "<title>19</title>\n",
       "<polygon fill=\"#e58139\" fill-opacity=\"0.929412\" points=\"1283.5,-68 1143.5,-68 1143.5,0 1283.5,0 1283.5,-68\" stroke=\"#000000\"/>\n",
       "<text fill=\"#000000\" font-family=\"Times,serif\" font-size=\"14.00\" text-anchor=\"middle\" x=\"1213.5\" y=\"-52.8\">gini = 0.131</text>\n",
       "<text fill=\"#000000\" font-family=\"Times,serif\" font-size=\"14.00\" text-anchor=\"middle\" x=\"1213.5\" y=\"-37.8\">samples = 58</text>\n",
       "<text fill=\"#000000\" font-family=\"Times,serif\" font-size=\"14.00\" text-anchor=\"middle\" x=\"1213.5\" y=\"-22.8\">value = [54, 2, 2]</text>\n",
       "<text fill=\"#000000\" font-family=\"Times,serif\" font-size=\"14.00\" text-anchor=\"middle\" x=\"1213.5\" y=\"-7.8\">class = 0</text>\n",
       "</g>\n",
       "<!-- 17&#45;&gt;19 -->\n",
       "<g class=\"edge\" id=\"edge19\">\n",
       "<title>17-&gt;19</title>\n",
       "<path d=\"M1136.3007,-103.9815C1146.7434,-94.5151 1157.8333,-84.462 1168.2528,-75.0168\" fill=\"none\" stroke=\"#000000\"/>\n",
       "<polygon fill=\"#000000\" points=\"1170.6441,-77.5731 1175.7024,-68.2637 1165.9428,-72.3868 1170.6441,-77.5731\" stroke=\"#000000\"/>\n",
       "</g>\n",
       "<!-- 22 -->\n",
       "<g class=\"node\" id=\"node23\">\n",
       "<title>22</title>\n",
       "<polygon fill=\"#e58139\" fill-opacity=\"0.219608\" points=\"1576.5,-187 1370.5,-187 1370.5,-104 1576.5,-104 1576.5,-187\" stroke=\"#000000\"/>\n",
       "<text fill=\"#000000\" font-family=\"Times,serif\" font-size=\"14.00\" text-anchor=\"middle\" x=\"1473.5\" y=\"-171.8\">VisitedResources &lt;= 20.5</text>\n",
       "<text fill=\"#000000\" font-family=\"Times,serif\" font-size=\"14.00\" text-anchor=\"middle\" x=\"1473.5\" y=\"-156.8\">gini = 0.544</text>\n",
       "<text fill=\"#000000\" font-family=\"Times,serif\" font-size=\"14.00\" text-anchor=\"middle\" x=\"1473.5\" y=\"-141.8\">samples = 69</text>\n",
       "<text fill=\"#000000\" font-family=\"Times,serif\" font-size=\"14.00\" text-anchor=\"middle\" x=\"1473.5\" y=\"-126.8\">value = [37, 28, 4]</text>\n",
       "<text fill=\"#000000\" font-family=\"Times,serif\" font-size=\"14.00\" text-anchor=\"middle\" x=\"1473.5\" y=\"-111.8\">class = 0</text>\n",
       "</g>\n",
       "<!-- 21&#45;&gt;22 -->\n",
       "<g class=\"edge\" id=\"edge22\">\n",
       "<title>21-&gt;22</title>\n",
       "<path d=\"M1473.5,-222.8796C1473.5,-214.6838 1473.5,-205.9891 1473.5,-197.5013\" fill=\"none\" stroke=\"#000000\"/>\n",
       "<polygon fill=\"#000000\" points=\"1477.0001,-197.298 1473.5,-187.2981 1470.0001,-197.2981 1477.0001,-197.298\" stroke=\"#000000\"/>\n",
       "</g>\n",
       "<!-- 25 -->\n",
       "<g class=\"node\" id=\"node26\">\n",
       "<title>25</title>\n",
       "<polygon fill=\"#e58139\" points=\"1726,-179.5 1595,-179.5 1595,-111.5 1726,-111.5 1726,-179.5\" stroke=\"#000000\"/>\n",
       "<text fill=\"#000000\" font-family=\"Times,serif\" font-size=\"14.00\" text-anchor=\"middle\" x=\"1660.5\" y=\"-164.3\">gini = 0.0</text>\n",
       "<text fill=\"#000000\" font-family=\"Times,serif\" font-size=\"14.00\" text-anchor=\"middle\" x=\"1660.5\" y=\"-149.3\">samples = 8</text>\n",
       "<text fill=\"#000000\" font-family=\"Times,serif\" font-size=\"14.00\" text-anchor=\"middle\" x=\"1660.5\" y=\"-134.3\">value = [8, 0, 0]</text>\n",
       "<text fill=\"#000000\" font-family=\"Times,serif\" font-size=\"14.00\" text-anchor=\"middle\" x=\"1660.5\" y=\"-119.3\">class = 0</text>\n",
       "</g>\n",
       "<!-- 21&#45;&gt;25 -->\n",
       "<g class=\"edge\" id=\"edge25\">\n",
       "<title>21-&gt;25</title>\n",
       "<path d=\"M1538.9035,-222.8796C1558.1752,-210.6158 1579.2024,-197.2348 1598.269,-185.1015\" fill=\"none\" stroke=\"#000000\"/>\n",
       "<polygon fill=\"#000000\" points=\"1600.3205,-187.9447 1606.8781,-179.623 1596.5624,-182.039 1600.3205,-187.9447\" stroke=\"#000000\"/>\n",
       "</g>\n",
       "<!-- 23 -->\n",
       "<g class=\"node\" id=\"node24\">\n",
       "<title>23</title>\n",
       "<polygon fill=\"#39e581\" fill-opacity=\"0.666667\" points=\"1486,-68 1355,-68 1355,0 1486,0 1486,-68\" stroke=\"#000000\"/>\n",
       "<text fill=\"#000000\" font-family=\"Times,serif\" font-size=\"14.00\" text-anchor=\"middle\" x=\"1420.5\" y=\"-52.8\">gini = 0.449</text>\n",
       "<text fill=\"#000000\" font-family=\"Times,serif\" font-size=\"14.00\" text-anchor=\"middle\" x=\"1420.5\" y=\"-37.8\">samples = 7</text>\n",
       "<text fill=\"#000000\" font-family=\"Times,serif\" font-size=\"14.00\" text-anchor=\"middle\" x=\"1420.5\" y=\"-22.8\">value = [1, 5, 1]</text>\n",
       "<text fill=\"#000000\" font-family=\"Times,serif\" font-size=\"14.00\" text-anchor=\"middle\" x=\"1420.5\" y=\"-7.8\">class = 1</text>\n",
       "</g>\n",
       "<!-- 22&#45;&gt;23 -->\n",
       "<g class=\"edge\" id=\"edge23\">\n",
       "<title>22-&gt;23</title>\n",
       "<path d=\"M1453.7648,-103.9815C1449.6582,-95.3423 1445.3194,-86.2144 1441.1799,-77.5059\" fill=\"none\" stroke=\"#000000\"/>\n",
       "<polygon fill=\"#000000\" points=\"1444.2409,-75.7927 1436.7868,-68.2637 1437.9188,-78.7979 1444.2409,-75.7927\" stroke=\"#000000\"/>\n",
       "</g>\n",
       "<!-- 24 -->\n",
       "<g class=\"node\" id=\"node25\">\n",
       "<title>24</title>\n",
       "<polygon fill=\"#e58139\" fill-opacity=\"0.333333\" points=\"1653,-68 1504,-68 1504,0 1653,0 1653,-68\" stroke=\"#000000\"/>\n",
       "<text fill=\"#000000\" font-family=\"Times,serif\" font-size=\"14.00\" text-anchor=\"middle\" x=\"1578.5\" y=\"-52.8\">gini = 0.523</text>\n",
       "<text fill=\"#000000\" font-family=\"Times,serif\" font-size=\"14.00\" text-anchor=\"middle\" x=\"1578.5\" y=\"-37.8\">samples = 62</text>\n",
       "<text fill=\"#000000\" font-family=\"Times,serif\" font-size=\"14.00\" text-anchor=\"middle\" x=\"1578.5\" y=\"-22.8\">value = [36, 23, 3]</text>\n",
       "<text fill=\"#000000\" font-family=\"Times,serif\" font-size=\"14.00\" text-anchor=\"middle\" x=\"1578.5\" y=\"-7.8\">class = 0</text>\n",
       "</g>\n",
       "<!-- 22&#45;&gt;24 -->\n",
       "<g class=\"edge\" id=\"edge24\">\n",
       "<title>22-&gt;24</title>\n",
       "<path d=\"M1512.5981,-103.9815C1521.3396,-94.6989 1530.6122,-84.8522 1539.3556,-75.5677\" fill=\"none\" stroke=\"#000000\"/>\n",
       "<polygon fill=\"#000000\" points=\"1541.9261,-77.9433 1546.2338,-68.2637 1536.83,-73.1443 1541.9261,-77.9433\" stroke=\"#000000\"/>\n",
       "</g>\n",
       "<!-- 27 -->\n",
       "<g class=\"node\" id=\"node28\">\n",
       "<title>27</title>\n",
       "<polygon fill=\"#8139e5\" fill-opacity=\"0.666667\" points=\"1426,-417.5 1295,-417.5 1295,-349.5 1426,-349.5 1426,-417.5\" stroke=\"#000000\"/>\n",
       "<text fill=\"#000000\" font-family=\"Times,serif\" font-size=\"14.00\" text-anchor=\"middle\" x=\"1360.5\" y=\"-402.3\">gini = 0.375</text>\n",
       "<text fill=\"#000000\" font-family=\"Times,serif\" font-size=\"14.00\" text-anchor=\"middle\" x=\"1360.5\" y=\"-387.3\">samples = 4</text>\n",
       "<text fill=\"#000000\" font-family=\"Times,serif\" font-size=\"14.00\" text-anchor=\"middle\" x=\"1360.5\" y=\"-372.3\">value = [0, 1, 3]</text>\n",
       "<text fill=\"#000000\" font-family=\"Times,serif\" font-size=\"14.00\" text-anchor=\"middle\" x=\"1360.5\" y=\"-357.3\">class = 2</text>\n",
       "</g>\n",
       "<!-- 26&#45;&gt;27 -->\n",
       "<g class=\"edge\" id=\"edge27\">\n",
       "<title>26-&gt;27</title>\n",
       "<path d=\"M1360.5,-460.8796C1360.5,-450.2134 1360.5,-438.7021 1360.5,-427.9015\" fill=\"none\" stroke=\"#000000\"/>\n",
       "<polygon fill=\"#000000\" points=\"1364.0001,-427.8149 1360.5,-417.8149 1357.0001,-427.815 1364.0001,-427.8149\" stroke=\"#000000\"/>\n",
       "</g>\n",
       "<!-- 28 -->\n",
       "<g class=\"node\" id=\"node29\">\n",
       "<title>28</title>\n",
       "<polygon fill=\"#39e581\" fill-opacity=\"0.250980\" points=\"1575,-417.5 1444,-417.5 1444,-349.5 1575,-349.5 1575,-417.5\" stroke=\"#000000\"/>\n",
       "<text fill=\"#000000\" font-family=\"Times,serif\" font-size=\"14.00\" text-anchor=\"middle\" x=\"1509.5\" y=\"-402.3\">gini = 0.49</text>\n",
       "<text fill=\"#000000\" font-family=\"Times,serif\" font-size=\"14.00\" text-anchor=\"middle\" x=\"1509.5\" y=\"-387.3\">samples = 7</text>\n",
       "<text fill=\"#000000\" font-family=\"Times,serif\" font-size=\"14.00\" text-anchor=\"middle\" x=\"1509.5\" y=\"-372.3\">value = [3, 4, 0]</text>\n",
       "<text fill=\"#000000\" font-family=\"Times,serif\" font-size=\"14.00\" text-anchor=\"middle\" x=\"1509.5\" y=\"-357.3\">class = 1</text>\n",
       "</g>\n",
       "<!-- 26&#45;&gt;28 -->\n",
       "<g class=\"edge\" id=\"edge28\">\n",
       "<title>26-&gt;28</title>\n",
       "<path d=\"M1412.613,-460.8796C1427.4826,-449.0038 1443.664,-436.0804 1458.4683,-424.2568\" fill=\"none\" stroke=\"#000000\"/>\n",
       "<polygon fill=\"#000000\" points=\"1460.9046,-426.7904 1466.5342,-417.8149 1456.5362,-421.3207 1460.9046,-426.7904\" stroke=\"#000000\"/>\n",
       "</g>\n",
       "</g>\n",
       "</svg>"
      ],
      "text/plain": [
       "<IPython.core.display.SVG object>"
      ]
     },
     "metadata": {},
     "output_type": "display_data"
    }
   ],
   "source": [
    "from sklearn.tree import export_graphviz\n",
    "from IPython.display import SVG\n",
    "from graphviz import Source\n",
    "from IPython.display import display\n",
    "\n",
    "labels = df_clean.columns.tolist()\n",
    "\n",
    "graph = Source(export_graphviz(vola_under_dt,\n",
    "                               out_file=None,\n",
    "                               feature_names=labels,\n",
    "                               class_names=['0', '1', '2', '3'],\n",
    "                               filled = True))\n",
    "display(SVG(graph.pipe(format='svg')))"
   ]
  },
  {
   "cell_type": "code",
   "execution_count": 139,
   "metadata": {},
   "outputs": [],
   "source": [
    "export_graphviz(vola_smote_dt,\n",
    "                impurity=False,\n",
    "                filled=True,\n",
    "                feature_names=labels,\n",
    "                class_names=['0', '1', '2', '3'],\n",
    "                out_file='../MRes/images/smoteDT.dot')"
   ]
  },
  {
   "cell_type": "code",
   "execution_count": 140,
   "metadata": {},
   "outputs": [],
   "source": [
    "export_graphviz(vola_under_dt,\n",
    "                impurity=False,\n",
    "                filled=True,\n",
    "                feature_names=labels,\n",
    "                class_names=['0', '1', '2', '3'],\n",
    "                out_file='../MRes/images/underDT.dot')"
   ]
  },
  {
   "cell_type": "code",
   "execution_count": 141,
   "metadata": {},
   "outputs": [],
   "source": [
    "from sklearn.neighbors import LocalOutlierFactor\n",
    "\n",
    "lof = LocalOutlierFactor()\n",
    "y_pred = lof.fit_predict(X)\n",
    "X_scores = lof.negative_outlier_factor_"
   ]
  },
  {
   "cell_type": "code",
   "execution_count": 142,
   "metadata": {},
   "outputs": [],
   "source": [
    "df['lof_pred'] = y_pred"
   ]
  },
  {
   "cell_type": "code",
   "execution_count": 143,
   "metadata": {},
   "outputs": [
    {
     "data": {
      "text/plain": [
       " 1    431\n",
       "-1     49\n",
       "Name: lof_pred, dtype: int64"
      ]
     },
     "execution_count": 143,
     "metadata": {},
     "output_type": "execute_result"
    }
   ],
   "source": [
    "df['lof_pred'].value_counts()"
   ]
  },
  {
   "cell_type": "code",
   "execution_count": 144,
   "metadata": {},
   "outputs": [],
   "source": [
    "df.to_csv('../Datasets/academic_all_preds_new.csv', index=False)"
   ]
  },
  {
   "cell_type": "markdown",
   "metadata": {},
   "source": [
    "# Plots"
   ]
  },
  {
   "cell_type": "code",
   "execution_count": 1,
   "metadata": {},
   "outputs": [],
   "source": [
    "import pandas as pd\n",
    "import numpy as np\n",
    "import matplotlib.pyplot as plt\n",
    "import seaborn as sns\n",
    "\n",
    "%matplotlib inline\n",
    "\n",
    "sns.set_palette(sns.color_palette(\"deep\"))\n",
    "sns.set_style(\"whitegrid\")\n",
    "\n",
    "\n",
    "df = pd.read_csv('../Datasets/academic_all_preds_new.csv', header=0)\n",
    "\n",
    "df = df.replace({'Class': {0: 'Low', 1: 'Mid', 2: 'High'},\n",
    "                 'Relation': {0: 'Mother', 1: 'Father'},\n",
    "                 'Gender': {0: 'Female', 1: 'Male'}})\n",
    "\n",
    "df1 = pd.read_csv('../Datasets/originalClean.csv', header=0)\n",
    "df1 = df1.replace({'Class': {'L': 'Low', 'M': 'Mid', 'H': 'High'}})\n",
    "\n",
    "zero = df.loc[df.cat_smote == 0]\n",
    "one = df.loc[df.cat_smote == 1]\n",
    "two = df.loc[df.cat_smote == 2]\n",
    "\n",
    "c1 = sns.color_palette(\"deep\", 4)[0]\n",
    "c2 = sns.color_palette(\"deep\", 4)[1]\n",
    "c3 = sns.color_palette(\"deep\", 4)[2]\n",
    "c4 = sns.color_palette(\"deep\", 4)[3]"
   ]
  },
  {
   "cell_type": "code",
   "execution_count": 102,
   "metadata": {},
   "outputs": [
    {
     "data": {
      "image/png": "[encoded data removed]",
      "text/plain": [
       "<Figure size 1080x1080 with 9 Axes>"
      ]
     },
     "metadata": {},
     "output_type": "display_data"
    }
   ],
   "source": [
    "f, axes = plt.subplots(3, 3, figsize=(15, 15))\n",
    "sns.countplot(x=\"Gender\", data=df1, order=['Female', 'Male'], ax=axes[0, 0])\n",
    "sns.countplot(x=\"StageID\", data=df1, ax=axes[0, 1])\n",
    "axes[0, 1].set_ylabel('')\n",
    "sns.countplot(x=\"SectionID\", data=df1, ax=axes[0, 2])\n",
    "axes[0, 2].set_ylabel('')\n",
    "sns.countplot(x=\"Semester\", data=df1, ax=axes[1, 0])\n",
    "sns.countplot(x=\"Relation\", data=df1, order=['Mother', 'Father'], ax=axes[1, 1])\n",
    "axes[1, 1].set_ylabel('')\n",
    "sns.countplot(x=\"ParentAnsweringSurvey\", data=df1, order=['No', 'Yes'], ax=axes[1, 2])\n",
    "axes[1, 2].set_ylabel('')\n",
    "sns.countplot(x=\"ParentSchoolSatisfaction\", data=df1, order=['Bad', 'Good'], ax=axes[2, 0])\n",
    "sns.countplot(x=\"StudentAbsenceDays\", data=df1, ax=axes[2, 1])\n",
    "axes[2, 1].set_ylabel('')\n",
    "sns.countplot(x=\"Class\", data=df1, order=['Low', 'Mid', 'High'], ax=axes[2, 2])\n",
    "axes[2, 2].set_ylabel('')\n",
    "\n",
    "plt.savefig('../MRes/images/histograms.pdf',\n",
    "            bbox_inches=\"tight\", pad_inches=0)\n",
    "plt.show()"
   ]
  },
  {
   "cell_type": "code",
   "execution_count": 103,
   "metadata": {},
   "outputs": [
    {
     "data": {
      "image/png": "[encoded data removed]",
      "text/plain": [
       "<Figure size 720x720 with 16 Axes>"
      ]
     },
     "metadata": {},
     "output_type": "display_data"
    }
   ],
   "source": [
    "f, axes = plt.subplots(4, 4, figsize=(10, 10), sharex=True, sharey=True)\n",
    "\n",
    "sns.distplot(df[\"AnnouncementsView\"], ax=axes[0, 0], color=c4, axlabel='')\n",
    "axes[0, 0].set_ylabel('AnnouncementsView')\n",
    "sns.distplot(zero[\"AnnouncementsView\"], ax=axes[0, 1], color=c1, axlabel='')\n",
    "sns.distplot(one[\"AnnouncementsView\"], ax=axes[0, 2], color=c2, axlabel='')\n",
    "sns.distplot(two[\"AnnouncementsView\"], ax=axes[0, 3], color=c3, axlabel='')\n",
    "\n",
    "sns.distplot(df[\"Discussion\"], ax=axes[1, 0], color=c4, axlabel='')\n",
    "axes[1, 0].set_ylabel('Discussion')\n",
    "sns.distplot(zero[\"Discussion\"], ax=axes[1, 1], color=c1, axlabel='')\n",
    "sns.distplot(one[\"Discussion\"], ax=axes[1, 2], color=c2, axlabel='')\n",
    "sns.distplot(two[\"Discussion\"], ax=axes[1, 3], color=c3, axlabel='')\n",
    "\n",
    "sns.distplot(df[\"RaisedHands\"], ax=axes[2, 0], color=c4, axlabel='')\n",
    "axes[2, 0].set_ylabel('RaisedHands')\n",
    "sns.distplot(zero[\"RaisedHands\"], ax=axes[2, 1], color=c1, axlabel='')\n",
    "sns.distplot(one[\"RaisedHands\"], ax=axes[2, 2], color=c2, axlabel='')\n",
    "sns.distplot(two[\"RaisedHands\"], ax=axes[2, 3], color=c3, axlabel='')\n",
    "\n",
    "sns.distplot(df[\"VisitedResources\"], ax=axes[3, 0], color=c4, axlabel='dataset')\n",
    "axes[3, 0].set_ylabel('VisitedResources')\n",
    "sns.distplot(zero[\"VisitedResources\"], ax=axes[3, 1], color=c1, axlabel='cat_smote = 0')\n",
    "sns.distplot(one[\"VisitedResources\"], ax=axes[3, 2], color=c2, axlabel='cat_smote = 1')\n",
    "sns.distplot(two[\"VisitedResources\"], ax=axes[3, 3], color=c3, axlabel='cat_smote = 2')\n",
    "\n",
    "plt.xlim(0,100)\n",
    "plt.savefig('../MRes/images/catHist.pdf',\n",
    "            bbox_inches=\"tight\", pad_inches=0)\n",
    "plt.show()"
   ]
  },
  {
   "cell_type": "code",
   "execution_count": 2,
   "metadata": {},
   "outputs": [
    {
     "data": {
      "image/png": "[encoded data removed]",
      "text/plain": [
       "<Figure size 720x360 with 2 Axes>"
      ]
     },
     "metadata": {},
     "output_type": "display_data"
    }
   ],
   "source": [
    "sns.catplot(data=df, x=\"cat_smote\", col=\"SaudiArabia\", kind=\"count\",\n",
    "            sharey=False, aspect=1)\n",
    "plt.savefig('../MRes/images/saudiCat.pdf',\n",
    "            bbox_inches=\"tight\", pad_inches=0)\n",
    "plt.show()"
   ]
  },
  {
   "cell_type": "markdown",
   "metadata": {},
   "source": [
    "as expected, volatility is very different in saudi as compared to the rest"
   ]
  },
  {
   "cell_type": "code",
   "execution_count": 3,
   "metadata": {},
   "outputs": [
    {
     "data": {
      "image/png": "[encoded data removed]",
      "text/plain": [
       "<Figure size 720x360 with 2 Axes>"
      ]
     },
     "metadata": {},
     "output_type": "display_data"
    }
   ],
   "source": [
    "sns.catplot(data=df, x=\"Class\", col=\"SaudiArabia\", kind=\"count\",\n",
    "            sharey=False, order=['Low', 'Mid', 'High'], aspect=1)\n",
    "plt.savefig('../MRes/images/saudiClass.pdf',\n",
    "            bbox_inches=\"tight\", pad_inches=0)\n",
    "plt.show()"
   ]
  },
  {
   "cell_type": "markdown",
   "metadata": {},
   "source": [
    "Saudi also has very different distribution of classes, with most of their student being class 2!"
   ]
  },
  {
   "cell_type": "code",
   "execution_count": 4,
   "metadata": {},
   "outputs": [
    {
     "data": {
      "image/png": "[encoded data removed]",
      "text/plain": [
       "<Figure size 720x360 with 2 Axes>"
      ]
     },
     "metadata": {},
     "output_type": "display_data"
    }
   ],
   "source": [
    "sns.catplot(data=df, x=\"Relation\", col=\"SaudiArabia\", kind=\"count\",\n",
    "            sharey=False, order=['Mother', 'Father'], aspect=1)\n",
    "plt.savefig('../MRes/images/saudiRelation.pdf',\n",
    "            bbox_inches=\"tight\", pad_inches=0)\n",
    "plt.show()"
   ]
  },
  {
   "cell_type": "code",
   "execution_count": 5,
   "metadata": {},
   "outputs": [
    {
     "data": {
      "image/png": "[encoded data removed]",
      "text/plain": [
       "<Figure size 720x360 with 2 Axes>"
      ]
     },
     "metadata": {},
     "output_type": "display_data"
    }
   ],
   "source": [
    "sns.catplot(data=df, x=\"Gender\", col=\"SaudiArabia\", kind=\"count\",\n",
    "            sharey=False, order=['Female', 'Male'], aspect=1)\n",
    "plt.savefig('../MRes/images/saudiGender.pdf',\n",
    "            bbox_inches=\"tight\", pad_inches=0)\n",
    "plt.show()"
   ]
  },
  {
   "cell_type": "markdown",
   "metadata": {},
   "source": [
    "SaudiArabia has a VERY different Mother/Father ratio in who looks after child's school"
   ]
  },
  {
   "cell_type": "code",
   "execution_count": 107,
   "metadata": {},
   "outputs": [],
   "source": [
    "df3 = df[['Class',\n",
    "          'AnnouncementsView',\n",
    "          'Discussion',\n",
    "          'RaisedHands',\n",
    "          'VisitedResources']]\n",
    "\n",
    "df3 = pd.melt(df3,\n",
    "              id_vars=['Class'],\n",
    "              value_vars=['AnnouncementsView', 'Discussion', 'RaisedHands', 'VisitedResources'])\n",
    "\n",
    "df3 = df3.rename(index=str, columns={\"value\": \"count\"})"
   ]
  },
  {
   "cell_type": "code",
   "execution_count": 121,
   "metadata": {},
   "outputs": [
    {
     "data": {
      "image/png": "[encoded data removed]",
      "text/plain": [
       "<Figure size 779.125x360 with 1 Axes>"
      ]
     },
     "metadata": {},
     "output_type": "display_data"
    }
   ],
   "source": [
    "ax = sns.catplot(x=\"variable\", y=\"count\", hue=\"Class\",\n",
    "            kind=\"violin\", data=df3, aspect=2, hue_order=['Low', 'Mid', 'High'])\n",
    "ax.set(xlabel='')\n",
    "\n",
    "plt.savefig('../MRes/images/classViolin.pdf',\n",
    "            bbox_inches=\"tight\", pad_inches=0)\n",
    "plt.show()"
   ]
  },
  {
   "cell_type": "markdown",
   "metadata": {},
   "source": [
    "Violin plots show how classes have very different distributions along numerical variables, mention right/left skewed"
   ]
  },
  {
   "cell_type": "code",
   "execution_count": 109,
   "metadata": {},
   "outputs": [
    {
     "data": {
      "image/png": "[encoded data removed]",
      "text/plain": [
       "<Figure size 1080x360 with 3 Axes>"
      ]
     },
     "metadata": {},
     "output_type": "display_data"
    }
   ],
   "source": [
    "sns.catplot(data=df, x=\"Class\", col=\"cat_smote\", kind=\"count\", sharey=False, order=['Low', 'Mid', 'High'])\n",
    "plt.savefig('../MRes/images/catClass.pdf',\n",
    "            bbox_inches=\"tight\", pad_inches=0)\n",
    "plt.show()"
   ]
  },
  {
   "cell_type": "markdown",
   "metadata": {},
   "source": [
    "The ratio between Class 0 & Class 2 changes when moving away from vola 0 to vola 2. Class 2 is much more likely in vola=2"
   ]
  },
  {
   "cell_type": "code",
   "execution_count": 117,
   "metadata": {},
   "outputs": [
    {
     "data": {
      "image/png": "[encoded data removed]",
      "text/plain": [
       "<Figure size 1080x360 with 3 Axes>"
      ]
     },
     "metadata": {},
     "output_type": "display_data"
    }
   ],
   "source": [
    "sns.catplot(data=df, x=\"cat_under\", col=\"cat_smote\", kind=\"count\", sharey=False)\n",
    "plt.savefig('../MRes/images/catUnder.pdf',\n",
    "            bbox_inches=\"tight\", pad_inches=0)\n",
    "plt.show()"
   ]
  },
  {
   "cell_type": "markdown",
   "metadata": {},
   "source": [
    "small discrepancies in under vs smote volatilities"
   ]
  },
  {
   "cell_type": "code",
   "execution_count": 119,
   "metadata": {},
   "outputs": [
    {
     "data": {
      "image/png": "[encoded data removed]",
      "text/plain": [
       "<Figure size 1080x360 with 3 Axes>"
      ]
     },
     "metadata": {},
     "output_type": "display_data"
    }
   ],
   "source": [
    "sns.catplot(data=df, x=\"lof_pred\", col=\"cat_smote\", kind=\"count\", sharey=False)\n",
    "plt.savefig('../MRes/images/catLOF.pdf',\n",
    "            bbox_inches=\"tight\", pad_inches=0)\n",
    "plt.show()"
   ]
  },
  {
   "cell_type": "markdown",
   "metadata": {},
   "source": [
    "very small discrepancies with lof_pred per volatility. If anything, a little bit more outliers on the 2 category"
   ]
  },
  {
   "cell_type": "markdown",
   "metadata": {},
   "source": [
    "## Contingency tables / Chi-sq test for check correlation between lof and cat. volatility"
   ]
  },
  {
   "cell_type": "code",
   "execution_count": 9,
   "metadata": {},
   "outputs": [
    {
     "data": {
      "text/html": [
       "<div>\n",
       "<style scoped>\n",
       "    .dataframe tbody tr th:only-of-type {\n",
       "        vertical-align: middle;\n",
       "    }\n",
       "\n",
       "    .dataframe tbody tr th {\n",
       "        vertical-align: top;\n",
       "    }\n",
       "\n",
       "    .dataframe thead th {\n",
       "        text-align: right;\n",
       "    }\n",
       "</style>\n",
       "<table border=\"1\" class=\"dataframe\">\n",
       "  <thead>\n",
       "    <tr style=\"text-align: right;\">\n",
       "      <th>lof_pred</th>\n",
       "      <th>-1</th>\n",
       "      <th>1</th>\n",
       "    </tr>\n",
       "    <tr>\n",
       "      <th>cat_smote</th>\n",
       "      <th></th>\n",
       "      <th></th>\n",
       "    </tr>\n",
       "  </thead>\n",
       "  <tbody>\n",
       "    <tr>\n",
       "      <th>0</th>\n",
       "      <td>0.09</td>\n",
       "      <td>0.91</td>\n",
       "    </tr>\n",
       "    <tr>\n",
       "      <th>1</th>\n",
       "      <td>0.15</td>\n",
       "      <td>0.85</td>\n",
       "    </tr>\n",
       "    <tr>\n",
       "      <th>2</th>\n",
       "      <td>0.11</td>\n",
       "      <td>0.89</td>\n",
       "    </tr>\n",
       "  </tbody>\n",
       "</table>\n",
       "</div>"
      ],
      "text/plain": [
       "lof_pred     -1     1\n",
       "cat_smote            \n",
       "0          0.09  0.91\n",
       "1          0.15  0.85\n",
       "2          0.11  0.89"
      ]
     },
     "execution_count": 9,
     "metadata": {},
     "output_type": "execute_result"
    }
   ],
   "source": [
    "pd.crosstab(df['cat_smote'],\n",
    "            df['lof_pred'],\n",
    "            rownames=['cat_smote'],\n",
    "            colnames=['lof_pred'],\n",
    "            normalize='index').round(2)"
   ]
  },
  {
   "cell_type": "code",
   "execution_count": 22,
   "metadata": {},
   "outputs": [
    {
     "data": {
      "text/html": [
       "<div>\n",
       "<style scoped>\n",
       "    .dataframe tbody tr th:only-of-type {\n",
       "        vertical-align: middle;\n",
       "    }\n",
       "\n",
       "    .dataframe tbody tr th {\n",
       "        vertical-align: top;\n",
       "    }\n",
       "\n",
       "    .dataframe thead th {\n",
       "        text-align: right;\n",
       "    }\n",
       "</style>\n",
       "<table border=\"1\" class=\"dataframe\">\n",
       "  <thead>\n",
       "    <tr style=\"text-align: right;\">\n",
       "      <th>Class</th>\n",
       "      <th>High</th>\n",
       "      <th>Low</th>\n",
       "      <th>Mid</th>\n",
       "    </tr>\n",
       "    <tr>\n",
       "      <th>cat_smote</th>\n",
       "      <th></th>\n",
       "      <th></th>\n",
       "      <th></th>\n",
       "    </tr>\n",
       "  </thead>\n",
       "  <tbody>\n",
       "    <tr>\n",
       "      <th>0</th>\n",
       "      <td>0.28</td>\n",
       "      <td>0.28</td>\n",
       "      <td>0.43</td>\n",
       "    </tr>\n",
       "    <tr>\n",
       "      <th>1</th>\n",
       "      <td>0.35</td>\n",
       "      <td>0.18</td>\n",
       "      <td>0.46</td>\n",
       "    </tr>\n",
       "    <tr>\n",
       "      <th>2</th>\n",
       "      <td>0.33</td>\n",
       "      <td>0.22</td>\n",
       "      <td>0.44</td>\n",
       "    </tr>\n",
       "  </tbody>\n",
       "</table>\n",
       "</div>"
      ],
      "text/plain": [
       "Class      High   Low   Mid\n",
       "cat_smote                  \n",
       "0          0.28  0.28  0.43\n",
       "1          0.35  0.18  0.46\n",
       "2          0.33  0.22  0.44"
      ]
     },
     "execution_count": 22,
     "metadata": {},
     "output_type": "execute_result"
    }
   ],
   "source": [
    "pd.crosstab(df['cat_smote'],\n",
    "            df['Class'],\n",
    "            rownames=['cat_smote'],\n",
    "            colnames=['Class'],\n",
    "            normalize='index').round(2)"
   ]
  },
  {
   "cell_type": "markdown",
   "metadata": {},
   "source": [
    "## Confusion matrices for Class"
   ]
  },
  {
   "cell_type": "code",
   "execution_count": 14,
   "metadata": {},
   "outputs": [
    {
     "data": {
      "text/html": [
       "<div>\n",
       "<style scoped>\n",
       "    .dataframe tbody tr th:only-of-type {\n",
       "        vertical-align: middle;\n",
       "    }\n",
       "\n",
       "    .dataframe tbody tr th {\n",
       "        vertical-align: top;\n",
       "    }\n",
       "\n",
       "    .dataframe thead th {\n",
       "        text-align: right;\n",
       "    }\n",
       "</style>\n",
       "<table border=\"1\" class=\"dataframe\">\n",
       "  <thead>\n",
       "    <tr style=\"text-align: right;\">\n",
       "      <th>base</th>\n",
       "      <th>0.0</th>\n",
       "      <th>1.0</th>\n",
       "      <th>2.0</th>\n",
       "    </tr>\n",
       "    <tr>\n",
       "      <th>Class</th>\n",
       "      <th></th>\n",
       "      <th></th>\n",
       "      <th></th>\n",
       "    </tr>\n",
       "  </thead>\n",
       "  <tbody>\n",
       "    <tr>\n",
       "      <th>High</th>\n",
       "      <td>0</td>\n",
       "      <td>31</td>\n",
       "      <td>111</td>\n",
       "    </tr>\n",
       "    <tr>\n",
       "      <th>Low</th>\n",
       "      <td>110</td>\n",
       "      <td>17</td>\n",
       "      <td>0</td>\n",
       "    </tr>\n",
       "    <tr>\n",
       "      <th>Mid</th>\n",
       "      <td>17</td>\n",
       "      <td>169</td>\n",
       "      <td>25</td>\n",
       "    </tr>\n",
       "  </tbody>\n",
       "</table>\n",
       "</div>"
      ],
      "text/plain": [
       "base   0.0  1.0  2.0\n",
       "Class               \n",
       "High     0   31  111\n",
       "Low    110   17    0\n",
       "Mid     17  169   25"
      ]
     },
     "execution_count": 14,
     "metadata": {},
     "output_type": "execute_result"
    }
   ],
   "source": [
    "pd.crosstab(df.Class, df.base, norma)"
   ]
  },
  {
   "cell_type": "code",
   "execution_count": 45,
   "metadata": {},
   "outputs": [
    {
     "data": {
      "text/html": [
       "<div>\n",
       "<style scoped>\n",
       "    .dataframe tbody tr th:only-of-type {\n",
       "        vertical-align: middle;\n",
       "    }\n",
       "\n",
       "    .dataframe tbody tr th {\n",
       "        vertical-align: top;\n",
       "    }\n",
       "\n",
       "    .dataframe thead th {\n",
       "        text-align: right;\n",
       "    }\n",
       "</style>\n",
       "<table border=\"1\" class=\"dataframe\">\n",
       "  <thead>\n",
       "    <tr style=\"text-align: right;\">\n",
       "      <th>base</th>\n",
       "      <th>0.0</th>\n",
       "      <th>1.0</th>\n",
       "      <th>2.0</th>\n",
       "    </tr>\n",
       "    <tr>\n",
       "      <th>Class</th>\n",
       "      <th></th>\n",
       "      <th></th>\n",
       "      <th></th>\n",
       "    </tr>\n",
       "  </thead>\n",
       "  <tbody>\n",
       "    <tr>\n",
       "      <th>High</th>\n",
       "      <td>0.00</td>\n",
       "      <td>0.83</td>\n",
       "      <td>0.17</td>\n",
       "    </tr>\n",
       "    <tr>\n",
       "      <th>Low</th>\n",
       "      <td>0.00</td>\n",
       "      <td>1.00</td>\n",
       "      <td>0.00</td>\n",
       "    </tr>\n",
       "    <tr>\n",
       "      <th>Mid</th>\n",
       "      <td>0.25</td>\n",
       "      <td>0.50</td>\n",
       "      <td>0.25</td>\n",
       "    </tr>\n",
       "  </tbody>\n",
       "</table>\n",
       "</div>"
      ],
      "text/plain": [
       "base    0.0   1.0   2.0\n",
       "Class                  \n",
       "High   0.00  0.83  0.17\n",
       "Low    0.00  1.00  0.00\n",
       "Mid    0.25  0.50  0.25"
      ]
     },
     "execution_count": 45,
     "metadata": {},
     "output_type": "execute_result"
    }
   ],
   "source": [
    "pd.crosstab(df.loc[df.SaudiArabia == 1].Class, df.loc[df.SaudiArabia == 1].base, normalize='index').round(2)"
   ]
  },
  {
   "cell_type": "code",
   "execution_count": 46,
   "metadata": {},
   "outputs": [
    {
     "data": {
      "text/html": [
       "<div>\n",
       "<style scoped>\n",
       "    .dataframe tbody tr th:only-of-type {\n",
       "        vertical-align: middle;\n",
       "    }\n",
       "\n",
       "    .dataframe tbody tr th {\n",
       "        vertical-align: top;\n",
       "    }\n",
       "\n",
       "    .dataframe thead th {\n",
       "        text-align: right;\n",
       "    }\n",
       "</style>\n",
       "<table border=\"1\" class=\"dataframe\">\n",
       "  <thead>\n",
       "    <tr style=\"text-align: right;\">\n",
       "      <th>smote</th>\n",
       "      <th>0.0</th>\n",
       "      <th>1.0</th>\n",
       "      <th>2.0</th>\n",
       "    </tr>\n",
       "    <tr>\n",
       "      <th>Class</th>\n",
       "      <th></th>\n",
       "      <th></th>\n",
       "      <th></th>\n",
       "    </tr>\n",
       "  </thead>\n",
       "  <tbody>\n",
       "    <tr>\n",
       "      <th>High</th>\n",
       "      <td>0.0</td>\n",
       "      <td>0.17</td>\n",
       "      <td>0.83</td>\n",
       "    </tr>\n",
       "    <tr>\n",
       "      <th>Low</th>\n",
       "      <td>1.0</td>\n",
       "      <td>0.00</td>\n",
       "      <td>0.00</td>\n",
       "    </tr>\n",
       "    <tr>\n",
       "      <th>Mid</th>\n",
       "      <td>0.0</td>\n",
       "      <td>0.75</td>\n",
       "      <td>0.25</td>\n",
       "    </tr>\n",
       "  </tbody>\n",
       "</table>\n",
       "</div>"
      ],
      "text/plain": [
       "smote  0.0   1.0   2.0\n",
       "Class                 \n",
       "High   0.0  0.17  0.83\n",
       "Low    1.0  0.00  0.00\n",
       "Mid    0.0  0.75  0.25"
      ]
     },
     "execution_count": 46,
     "metadata": {},
     "output_type": "execute_result"
    }
   ],
   "source": [
    "pd.crosstab(df.loc[df.SaudiArabia == 1].Class, df.loc[df.SaudiArabia == 1].smote, normalize='index').round(2)"
   ]
  },
  {
   "cell_type": "code",
   "execution_count": 47,
   "metadata": {},
   "outputs": [
    {
     "data": {
      "text/html": [
       "<div>\n",
       "<style scoped>\n",
       "    .dataframe tbody tr th:only-of-type {\n",
       "        vertical-align: middle;\n",
       "    }\n",
       "\n",
       "    .dataframe tbody tr th {\n",
       "        vertical-align: top;\n",
       "    }\n",
       "\n",
       "    .dataframe thead th {\n",
       "        text-align: right;\n",
       "    }\n",
       "</style>\n",
       "<table border=\"1\" class=\"dataframe\">\n",
       "  <thead>\n",
       "    <tr style=\"text-align: right;\">\n",
       "      <th>under</th>\n",
       "      <th>0.0</th>\n",
       "      <th>1.0</th>\n",
       "      <th>2.0</th>\n",
       "    </tr>\n",
       "    <tr>\n",
       "      <th>Class</th>\n",
       "      <th></th>\n",
       "      <th></th>\n",
       "      <th></th>\n",
       "    </tr>\n",
       "  </thead>\n",
       "  <tbody>\n",
       "    <tr>\n",
       "      <th>High</th>\n",
       "      <td>0.0</td>\n",
       "      <td>0.33</td>\n",
       "      <td>0.67</td>\n",
       "    </tr>\n",
       "    <tr>\n",
       "      <th>Low</th>\n",
       "      <td>1.0</td>\n",
       "      <td>0.00</td>\n",
       "      <td>0.00</td>\n",
       "    </tr>\n",
       "    <tr>\n",
       "      <th>Mid</th>\n",
       "      <td>0.0</td>\n",
       "      <td>0.75</td>\n",
       "      <td>0.25</td>\n",
       "    </tr>\n",
       "  </tbody>\n",
       "</table>\n",
       "</div>"
      ],
      "text/plain": [
       "under  0.0   1.0   2.0\n",
       "Class                 \n",
       "High   0.0  0.33  0.67\n",
       "Low    1.0  0.00  0.00\n",
       "Mid    0.0  0.75  0.25"
      ]
     },
     "execution_count": 47,
     "metadata": {},
     "output_type": "execute_result"
    }
   ],
   "source": [
    "pd.crosstab(df.loc[df.SaudiArabia == 1].Class, df.loc[df.SaudiArabia == 1].under, normalize='index').round(2)"
   ]
  },
  {
   "cell_type": "code",
   "execution_count": 36,
   "metadata": {},
   "outputs": [
    {
     "data": {
      "text/html": [
       "<div>\n",
       "<style scoped>\n",
       "    .dataframe tbody tr th:only-of-type {\n",
       "        vertical-align: middle;\n",
       "    }\n",
       "\n",
       "    .dataframe tbody tr th {\n",
       "        vertical-align: top;\n",
       "    }\n",
       "\n",
       "    .dataframe thead th {\n",
       "        text-align: right;\n",
       "    }\n",
       "</style>\n",
       "<table border=\"1\" class=\"dataframe\">\n",
       "  <thead>\n",
       "    <tr style=\"text-align: right;\">\n",
       "      <th>smote</th>\n",
       "      <th>0.0</th>\n",
       "      <th>1.0</th>\n",
       "      <th>2.0</th>\n",
       "    </tr>\n",
       "    <tr>\n",
       "      <th>Class</th>\n",
       "      <th></th>\n",
       "      <th></th>\n",
       "      <th></th>\n",
       "    </tr>\n",
       "  </thead>\n",
       "  <tbody>\n",
       "    <tr>\n",
       "      <th>High</th>\n",
       "      <td>0</td>\n",
       "      <td>1</td>\n",
       "      <td>5</td>\n",
       "    </tr>\n",
       "    <tr>\n",
       "      <th>Low</th>\n",
       "      <td>1</td>\n",
       "      <td>0</td>\n",
       "      <td>0</td>\n",
       "    </tr>\n",
       "    <tr>\n",
       "      <th>Mid</th>\n",
       "      <td>0</td>\n",
       "      <td>3</td>\n",
       "      <td>1</td>\n",
       "    </tr>\n",
       "  </tbody>\n",
       "</table>\n",
       "</div>"
      ],
      "text/plain": [
       "smote  0.0  1.0  2.0\n",
       "Class               \n",
       "High     0    1    5\n",
       "Low      1    0    0\n",
       "Mid      0    3    1"
      ]
     },
     "execution_count": 36,
     "metadata": {},
     "output_type": "execute_result"
    }
   ],
   "source": [
    "pd.crosstab(df.loc[df.SaudiArabia == 1].Class, df.loc[df.SaudiArabia == 1].smote)"
   ]
  },
  {
   "cell_type": "code",
   "execution_count": 18,
   "metadata": {},
   "outputs": [
    {
     "data": {
      "text/html": [
       "<div>\n",
       "<style scoped>\n",
       "    .dataframe tbody tr th:only-of-type {\n",
       "        vertical-align: middle;\n",
       "    }\n",
       "\n",
       "    .dataframe tbody tr th {\n",
       "        vertical-align: top;\n",
       "    }\n",
       "\n",
       "    .dataframe thead th {\n",
       "        text-align: right;\n",
       "    }\n",
       "</style>\n",
       "<table border=\"1\" class=\"dataframe\">\n",
       "  <thead>\n",
       "    <tr style=\"text-align: right;\">\n",
       "      <th>base</th>\n",
       "      <th>0.0</th>\n",
       "      <th>1.0</th>\n",
       "      <th>2.0</th>\n",
       "    </tr>\n",
       "    <tr>\n",
       "      <th>Class</th>\n",
       "      <th></th>\n",
       "      <th></th>\n",
       "      <th></th>\n",
       "    </tr>\n",
       "  </thead>\n",
       "  <tbody>\n",
       "    <tr>\n",
       "      <th>High</th>\n",
       "      <td>0</td>\n",
       "      <td>20</td>\n",
       "      <td>47</td>\n",
       "    </tr>\n",
       "    <tr>\n",
       "      <th>Low</th>\n",
       "      <td>89</td>\n",
       "      <td>14</td>\n",
       "      <td>0</td>\n",
       "    </tr>\n",
       "    <tr>\n",
       "      <th>Mid</th>\n",
       "      <td>12</td>\n",
       "      <td>114</td>\n",
       "      <td>9</td>\n",
       "    </tr>\n",
       "  </tbody>\n",
       "</table>\n",
       "</div>"
      ],
      "text/plain": [
       "base   0.0  1.0  2.0\n",
       "Class               \n",
       "High     0   20   47\n",
       "Low     89   14    0\n",
       "Mid     12  114    9"
      ]
     },
     "execution_count": 18,
     "metadata": {},
     "output_type": "execute_result"
    }
   ],
   "source": [
    "pd.crosstab(df.loc[df.Gender == 'Male'].Class, df.loc[df.Gender == 'Male'].base)"
   ]
  },
  {
   "cell_type": "code",
   "execution_count": 23,
   "metadata": {},
   "outputs": [
    {
     "data": {
      "text/html": [
       "<div>\n",
       "<style scoped>\n",
       "    .dataframe tbody tr th:only-of-type {\n",
       "        vertical-align: middle;\n",
       "    }\n",
       "\n",
       "    .dataframe tbody tr th {\n",
       "        vertical-align: top;\n",
       "    }\n",
       "\n",
       "    .dataframe thead th {\n",
       "        text-align: right;\n",
       "    }\n",
       "</style>\n",
       "<table border=\"1\" class=\"dataframe\">\n",
       "  <thead>\n",
       "    <tr style=\"text-align: right;\">\n",
       "      <th>base</th>\n",
       "      <th>0.0</th>\n",
       "      <th>1.0</th>\n",
       "      <th>2.0</th>\n",
       "    </tr>\n",
       "    <tr>\n",
       "      <th>Class</th>\n",
       "      <th></th>\n",
       "      <th></th>\n",
       "      <th></th>\n",
       "    </tr>\n",
       "  </thead>\n",
       "  <tbody>\n",
       "    <tr>\n",
       "      <th>High</th>\n",
       "      <td>0.00</td>\n",
       "      <td>0.15</td>\n",
       "      <td>0.85</td>\n",
       "    </tr>\n",
       "    <tr>\n",
       "      <th>Low</th>\n",
       "      <td>0.88</td>\n",
       "      <td>0.12</td>\n",
       "      <td>0.00</td>\n",
       "    </tr>\n",
       "    <tr>\n",
       "      <th>Mid</th>\n",
       "      <td>0.07</td>\n",
       "      <td>0.72</td>\n",
       "      <td>0.21</td>\n",
       "    </tr>\n",
       "  </tbody>\n",
       "</table>\n",
       "</div>"
      ],
      "text/plain": [
       "base    0.0   1.0   2.0\n",
       "Class                  \n",
       "High   0.00  0.15  0.85\n",
       "Low    0.88  0.12  0.00\n",
       "Mid    0.07  0.72  0.21"
      ]
     },
     "execution_count": 23,
     "metadata": {},
     "output_type": "execute_result"
    }
   ],
   "source": [
    "pd.crosstab(df.loc[df.Gender == 'Female'].Class, df.loc[df.Gender == 'Female'].base, normalize='index').round(2)"
   ]
  },
  {
   "cell_type": "code",
   "execution_count": 24,
   "metadata": {},
   "outputs": [
    {
     "data": {
      "text/html": [
       "<div>\n",
       "<style scoped>\n",
       "    .dataframe tbody tr th:only-of-type {\n",
       "        vertical-align: middle;\n",
       "    }\n",
       "\n",
       "    .dataframe tbody tr th {\n",
       "        vertical-align: top;\n",
       "    }\n",
       "\n",
       "    .dataframe thead th {\n",
       "        text-align: right;\n",
       "    }\n",
       "</style>\n",
       "<table border=\"1\" class=\"dataframe\">\n",
       "  <thead>\n",
       "    <tr style=\"text-align: right;\">\n",
       "      <th>smote</th>\n",
       "      <th>0.0</th>\n",
       "      <th>1.0</th>\n",
       "      <th>2.0</th>\n",
       "    </tr>\n",
       "    <tr>\n",
       "      <th>Class</th>\n",
       "      <th></th>\n",
       "      <th></th>\n",
       "      <th></th>\n",
       "    </tr>\n",
       "  </thead>\n",
       "  <tbody>\n",
       "    <tr>\n",
       "      <th>High</th>\n",
       "      <td>0.0</td>\n",
       "      <td>0.04</td>\n",
       "      <td>0.96</td>\n",
       "    </tr>\n",
       "    <tr>\n",
       "      <th>Low</th>\n",
       "      <td>1.0</td>\n",
       "      <td>0.00</td>\n",
       "      <td>0.00</td>\n",
       "    </tr>\n",
       "    <tr>\n",
       "      <th>Mid</th>\n",
       "      <td>0.0</td>\n",
       "      <td>0.97</td>\n",
       "      <td>0.03</td>\n",
       "    </tr>\n",
       "  </tbody>\n",
       "</table>\n",
       "</div>"
      ],
      "text/plain": [
       "smote  0.0   1.0   2.0\n",
       "Class                 \n",
       "High   0.0  0.04  0.96\n",
       "Low    1.0  0.00  0.00\n",
       "Mid    0.0  0.97  0.03"
      ]
     },
     "execution_count": 24,
     "metadata": {},
     "output_type": "execute_result"
    }
   ],
   "source": [
    "pd.crosstab(df.loc[df.Gender == 'Female'].Class, df.loc[df.Gender == 'Female'].smote, normalize='index').round(2)"
   ]
  },
  {
   "cell_type": "code",
   "execution_count": 28,
   "metadata": {},
   "outputs": [
    {
     "data": {
      "text/html": [
       "<div>\n",
       "<style scoped>\n",
       "    .dataframe tbody tr th:only-of-type {\n",
       "        vertical-align: middle;\n",
       "    }\n",
       "\n",
       "    .dataframe tbody tr th {\n",
       "        vertical-align: top;\n",
       "    }\n",
       "\n",
       "    .dataframe thead th {\n",
       "        text-align: right;\n",
       "    }\n",
       "</style>\n",
       "<table border=\"1\" class=\"dataframe\">\n",
       "  <thead>\n",
       "    <tr style=\"text-align: right;\">\n",
       "      <th>under</th>\n",
       "      <th>0.0</th>\n",
       "      <th>1.0</th>\n",
       "      <th>2.0</th>\n",
       "    </tr>\n",
       "    <tr>\n",
       "      <th>Class</th>\n",
       "      <th></th>\n",
       "      <th></th>\n",
       "      <th></th>\n",
       "    </tr>\n",
       "  </thead>\n",
       "  <tbody>\n",
       "    <tr>\n",
       "      <th>High</th>\n",
       "      <td>0.0</td>\n",
       "      <td>0.04</td>\n",
       "      <td>0.96</td>\n",
       "    </tr>\n",
       "    <tr>\n",
       "      <th>Low</th>\n",
       "      <td>1.0</td>\n",
       "      <td>0.00</td>\n",
       "      <td>0.00</td>\n",
       "    </tr>\n",
       "    <tr>\n",
       "      <th>Mid</th>\n",
       "      <td>0.0</td>\n",
       "      <td>0.99</td>\n",
       "      <td>0.01</td>\n",
       "    </tr>\n",
       "  </tbody>\n",
       "</table>\n",
       "</div>"
      ],
      "text/plain": [
       "under  0.0   1.0   2.0\n",
       "Class                 \n",
       "High   0.0  0.04  0.96\n",
       "Low    1.0  0.00  0.00\n",
       "Mid    0.0  0.99  0.01"
      ]
     },
     "execution_count": 28,
     "metadata": {},
     "output_type": "execute_result"
    }
   ],
   "source": [
    "pd.crosstab(df.loc[df.Gender == 'Female'].Class, df.loc[df.Gender == 'Female'].under, normalize='index').round(2)"
   ]
  },
  {
   "cell_type": "code",
   "execution_count": 16,
   "metadata": {},
   "outputs": [
    {
     "data": {
      "text/html": [
       "<div>\n",
       "<style scoped>\n",
       "    .dataframe tbody tr th:only-of-type {\n",
       "        vertical-align: middle;\n",
       "    }\n",
       "\n",
       "    .dataframe tbody tr th {\n",
       "        vertical-align: top;\n",
       "    }\n",
       "\n",
       "    .dataframe thead th {\n",
       "        text-align: right;\n",
       "    }\n",
       "</style>\n",
       "<table border=\"1\" class=\"dataframe\">\n",
       "  <thead>\n",
       "    <tr style=\"text-align: right;\">\n",
       "      <th>under</th>\n",
       "      <th>0.0</th>\n",
       "      <th>1.0</th>\n",
       "      <th>2.0</th>\n",
       "    </tr>\n",
       "    <tr>\n",
       "      <th>Class</th>\n",
       "      <th></th>\n",
       "      <th></th>\n",
       "      <th></th>\n",
       "    </tr>\n",
       "  </thead>\n",
       "  <tbody>\n",
       "    <tr>\n",
       "      <th>High</th>\n",
       "      <td>0</td>\n",
       "      <td>14</td>\n",
       "      <td>128</td>\n",
       "    </tr>\n",
       "    <tr>\n",
       "      <th>Low</th>\n",
       "      <td>112</td>\n",
       "      <td>15</td>\n",
       "      <td>0</td>\n",
       "    </tr>\n",
       "    <tr>\n",
       "      <th>Mid</th>\n",
       "      <td>3</td>\n",
       "      <td>201</td>\n",
       "      <td>7</td>\n",
       "    </tr>\n",
       "  </tbody>\n",
       "</table>\n",
       "</div>"
      ],
      "text/plain": [
       "under  0.0  1.0  2.0\n",
       "Class               \n",
       "High     0   14  128\n",
       "Low    112   15    0\n",
       "Mid      3  201    7"
      ]
     },
     "execution_count": 16,
     "metadata": {},
     "output_type": "execute_result"
    }
   ],
   "source": [
    "pd.crosstab(df.Class, df.smote)"
   ]
  },
  {
   "cell_type": "code",
   "execution_count": 56,
   "metadata": {},
   "outputs": [
    {
     "data": {
      "text/html": [
       "<div>\n",
       "<style scoped>\n",
       "    .dataframe tbody tr th:only-of-type {\n",
       "        vertical-align: middle;\n",
       "    }\n",
       "\n",
       "    .dataframe tbody tr th {\n",
       "        vertical-align: top;\n",
       "    }\n",
       "\n",
       "    .dataframe thead th {\n",
       "        text-align: right;\n",
       "    }\n",
       "</style>\n",
       "<table border=\"1\" class=\"dataframe\">\n",
       "  <thead>\n",
       "    <tr style=\"text-align: right;\">\n",
       "      <th>cat_under</th>\n",
       "      <th>0</th>\n",
       "      <th>1</th>\n",
       "      <th>2</th>\n",
       "    </tr>\n",
       "    <tr>\n",
       "      <th>lof_pred</th>\n",
       "      <th></th>\n",
       "      <th></th>\n",
       "      <th></th>\n",
       "    </tr>\n",
       "  </thead>\n",
       "  <tbody>\n",
       "    <tr>\n",
       "      <th>-1</th>\n",
       "      <td>32</td>\n",
       "      <td>16</td>\n",
       "      <td>1</td>\n",
       "    </tr>\n",
       "    <tr>\n",
       "      <th>1</th>\n",
       "      <td>343</td>\n",
       "      <td>65</td>\n",
       "      <td>23</td>\n",
       "    </tr>\n",
       "  </tbody>\n",
       "</table>\n",
       "</div>"
      ],
      "text/plain": [
       "cat_under    0   1   2\n",
       "lof_pred              \n",
       "-1          32  16   1\n",
       " 1         343  65  23"
      ]
     },
     "execution_count": 56,
     "metadata": {},
     "output_type": "execute_result"
    }
   ],
   "source": [
    "pd.crosstab(df['lof_pred'],\n",
    "            df['cat_under'],\n",
    "            rownames=['lof_pred'],\n",
    "            colnames=['cat_under'])"
   ]
  },
  {
   "cell_type": "code",
   "execution_count": 11,
   "metadata": {
    "scrolled": true
   },
   "outputs": [
    {
     "data": {
      "text/html": [
       "<div>\n",
       "<style scoped>\n",
       "    .dataframe tbody tr th:only-of-type {\n",
       "        vertical-align: middle;\n",
       "    }\n",
       "\n",
       "    .dataframe tbody tr th {\n",
       "        vertical-align: top;\n",
       "    }\n",
       "\n",
       "    .dataframe thead th {\n",
       "        text-align: right;\n",
       "    }\n",
       "</style>\n",
       "<table border=\"1\" class=\"dataframe\">\n",
       "  <thead>\n",
       "    <tr style=\"text-align: right;\">\n",
       "      <th>cat_under</th>\n",
       "      <th>0</th>\n",
       "      <th>1</th>\n",
       "      <th>2</th>\n",
       "    </tr>\n",
       "    <tr>\n",
       "      <th>cat_smote</th>\n",
       "      <th></th>\n",
       "      <th></th>\n",
       "      <th></th>\n",
       "    </tr>\n",
       "  </thead>\n",
       "  <tbody>\n",
       "    <tr>\n",
       "      <th>0</th>\n",
       "      <td>0.96</td>\n",
       "      <td>0.04</td>\n",
       "      <td>0.00</td>\n",
       "    </tr>\n",
       "    <tr>\n",
       "      <th>1</th>\n",
       "      <td>0.00</td>\n",
       "      <td>0.80</td>\n",
       "      <td>0.20</td>\n",
       "    </tr>\n",
       "    <tr>\n",
       "      <th>2</th>\n",
       "      <td>0.00</td>\n",
       "      <td>0.11</td>\n",
       "      <td>0.89</td>\n",
       "    </tr>\n",
       "  </tbody>\n",
       "</table>\n",
       "</div>"
      ],
      "text/plain": [
       "cat_under     0     1     2\n",
       "cat_smote                  \n",
       "0          0.96  0.04  0.00\n",
       "1          0.00  0.80  0.20\n",
       "2          0.00  0.11  0.89"
      ]
     },
     "execution_count": 11,
     "metadata": {},
     "output_type": "execute_result"
    }
   ],
   "source": [
    "pd.crosstab(df['cat_smote'],\n",
    "            df['cat_under'],\n",
    "            colnames=['cat_under'],\n",
    "            rownames=['cat_smote'],\n",
    "            normalize='index').round(2)"
   ]
  },
  {
   "cell_type": "code",
   "execution_count": 58,
   "metadata": {},
   "outputs": [
    {
     "data": {
      "text/plain": [
       "(2.146409367723628,\n",
       " 0.3419110430269611,\n",
       " 2,\n",
       " array([[ 39.71041667,   8.37083333,   0.91875   ],\n",
       "        [349.28958333,  73.62916667,   8.08125   ]]))"
      ]
     },
     "execution_count": 58,
     "metadata": {},
     "output_type": "execute_result"
    }
   ],
   "source": [
    "from scipy.stats import chi2_contingency\n",
    "\n",
    "chi2_contingency(pd.crosstab(df['lof_pred'], df['cat_smote']))"
   ]
  },
  {
   "cell_type": "code",
   "execution_count": 60,
   "metadata": {},
   "outputs": [
    {
     "data": {
      "text/plain": [
       "(10.154049802442247,\n",
       " 0.006238441413848307,\n",
       " 2,\n",
       " array([[ 38.28125,   8.26875,   2.45   ],\n",
       "        [336.71875,  72.73125,  21.55   ]]))"
      ]
     },
     "execution_count": 60,
     "metadata": {},
     "output_type": "execute_result"
    }
   ],
   "source": [
    "chi2_contingency(pd.crosstab(df['lof_pred'], df['cat_under']))"
   ]
  },
  {
   "cell_type": "code",
   "execution_count": 62,
   "metadata": {},
   "outputs": [
    {
     "data": {
      "text/plain": [
       "(505.82718010365863,\n",
       " 3.678827193692247e-108,\n",
       " 4,\n",
       " array([[303.90625,  65.64375,  19.45   ],\n",
       "        [ 64.0625 ,  13.8375 ,   4.1    ],\n",
       "        [  7.03125,   1.51875,   0.45   ]]))"
      ]
     },
     "execution_count": 62,
     "metadata": {},
     "output_type": "execute_result"
    }
   ],
   "source": [
    "chi2_contingency(pd.crosstab(df['cat_smote'], df['cat_under']))"
   ]
  },
  {
   "cell_type": "code",
   "execution_count": 64,
   "metadata": {},
   "outputs": [
    {
     "data": {
      "text/plain": [
       "(3.937714166496092,\n",
       " 0.4145009448354867,\n",
       " 4,\n",
       " array([[115.07916667,  24.25833333,   2.6625    ],\n",
       "        [102.92291667,  21.69583333,   2.38125   ],\n",
       "        [170.99791667,  36.04583333,   3.95625   ]]))"
      ]
     },
     "execution_count": 64,
     "metadata": {},
     "output_type": "execute_result"
    }
   ],
   "source": [
    "chi2_contingency(pd.crosstab(df['Class'], df['cat_smote']))"
   ]
  },
  {
   "cell_type": "code",
   "execution_count": 66,
   "metadata": {},
   "outputs": [
    {
     "data": {
      "text/plain": [
       "(4.426095298041464,\n",
       " 0.3514008308173997,\n",
       " 4,\n",
       " array([[110.9375 ,  23.9625 ,   7.1    ],\n",
       "        [ 99.21875,  21.43125,   6.35   ],\n",
       "        [164.84375,  35.60625,  10.55   ]]))"
      ]
     },
     "execution_count": 66,
     "metadata": {},
     "output_type": "execute_result"
    }
   ],
   "source": [
    "chi2_contingency(pd.crosstab(df['Class'], df['cat_under']))"
   ]
  }
 ],
 "metadata": {
  "kernelspec": {
   "display_name": "Python 3",
   "language": "python",
   "name": "python3"
  },
  "language_info": {
   "codemirror_mode": {
    "name": "ipython",
    "version": 3
   },
   "file_extension": ".py",
   "mimetype": "text/x-python",
   "name": "python",
   "nbconvert_exporter": "python",
   "pygments_lexer": "ipython3",
   "version": "3.6.5"
  }
 },
 "nbformat": 4,
 "nbformat_minor": 2
}
